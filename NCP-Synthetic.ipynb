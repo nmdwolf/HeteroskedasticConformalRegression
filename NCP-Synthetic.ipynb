{
 "cells": [
  {
   "cell_type": "code",
   "execution_count": 1,
   "id": "95b2d996",
   "metadata": {},
   "outputs": [
    {
     "data": {
      "text/html": [
       "        <script type=\"text/javascript\">\n",
       "        window.PlotlyConfig = {MathJaxConfig: 'local'};\n",
       "        if (window.MathJax && window.MathJax.Hub && window.MathJax.Hub.Config) {window.MathJax.Hub.Config({SVG: {font: \"STIX-Web\"}});}\n",
       "        if (typeof require !== 'undefined') {\n",
       "        require.undef(\"plotly\");\n",
       "        requirejs.config({\n",
       "            paths: {\n",
       "                'plotly': ['https://cdn.plot.ly/plotly-2.20.0.min']\n",
       "            }\n",
       "        });\n",
       "        require(['plotly'], function(Plotly) {\n",
       "            window._Plotly = Plotly;\n",
       "        });\n",
       "        }\n",
       "        </script>\n",
       "        "
      ]
     },
     "metadata": {},
     "output_type": "display_data"
    }
   ],
   "source": [
    "from itertools import cycle\n",
    "import numpy as np\n",
    "import torch\n",
    "\n",
    "import matplotlib.pyplot as plt\n",
    "import plotly\n",
    "import plotly.graph_objects as go\n",
    "from plotly.subplots import make_subplots\n",
    "\n",
    "from tqdm.notebook import tqdm\n",
    "\n",
    "from CP import *\n",
    "from INIT import *\n",
    "from Logger import *\n",
    "from LoadSynthetic import *\n",
    "from Load import init\n",
    "from Load import *\n",
    "\n",
    "plotly.offline.init_notebook_mode(connected=True)\n",
    "plt.rcParams['text.usetex'] = True"
   ]
  },
  {
   "cell_type": "code",
   "execution_count": 2,
   "id": "48910cc7",
   "metadata": {},
   "outputs": [],
   "source": [
    "seeds = [13, 2, 47, 1, 15, 31, 89, 666, 3, 43, 5197, 558213, 4236, 410, 74888, 1563, 1794, 711489, 156874, 123, \\\n",
    "    744741,442262,53750,550509,751836,73427,316551,321489,264450,691340, \\\n",
    "    256212,248195,322953,469088,515349,717046,904096,600809,566875,335409, \\\n",
    "    128274,11299,40740,135231,78276,268373,148066,569507,212406,584182]\n",
    "seeds = seeds[:10]\n",
    "\n",
    "alpha = 0.1\n",
    "var_bins = 3\n",
    "\n",
    "plot_clusters = False"
   ]
  },
  {
   "cell_type": "code",
   "execution_count": 3,
   "id": "f2fa2b37",
   "metadata": {},
   "outputs": [],
   "source": [
    "class Oracle(UQModel):\n",
    "    def __init__(self, data, param = 0):\n",
    "        super().__init__(rf\"$\\sigma\\text{{-shifted ({param})}}$\" if param != 0 else r\"$\\text{Oracle}$\")\n",
    "        self.data = data\n",
    "        self.param = param\n",
    "\n",
    "    def predict(self, X, std = False, alpha = None):\n",
    "\n",
    "        if self.data[\"X_val\"].shape == X.shape and torch.any(torch.prod(self.data[\"X_val\"] == X, dim = 1)):\n",
    "            indices = torch.all(self.data[\"X_val\"] == X, dim = 1)\n",
    "            mean = self.data[\"mean_val\"][indices]\n",
    "            var = self.data[\"var_val\"][indices]\n",
    "            seed = 5\n",
    "        else:\n",
    "            indices = torch.all(self.data[\"X_test\"] == X, dim = 1)\n",
    "            mean = self.data[\"mean_test\"][indices]\n",
    "            var = self.data[\"var_test\"][indices]\n",
    "            seed = 17\n",
    "\n",
    "        np.random.seed(seed)\n",
    "        rand = np.random.normal(0, self.param, var.shape[0])\n",
    "        var = var + torch.sign(var + rand) * rand\n",
    "        sqrt = torch.sqrt(var)\n",
    "\n",
    "        if alpha:\n",
    "            z = st.norm.ppf((1 - alpha) + (alpha / 2))\n",
    "            lower = mean - z * sqrt\n",
    "            upper = mean + z * sqrt\n",
    "            return torch.stack([mean, sqrt if std else var], dim = -1), torch.stack([lower, upper], dim = -1)\n",
    "        else:\n",
    "            return torch.stack([mean, sqrt if std else var], dim = -1)\n",
    "        \n",
    "class Scaler(UQModel):\n",
    "    def __init__(self, data, param = 1):\n",
    "        super().__init__(rf\"$\\sigma\\text{{-scaled ({param})}}$\")\n",
    "        self.data = data\n",
    "        self.param = param\n",
    "\n",
    "    def predict(self, X, std = False, alpha = None):\n",
    "\n",
    "        if self.data[\"X_val\"].shape == X.shape and torch.any(torch.prod(self.data[\"X_val\"] == X, dim = 1)):\n",
    "            indices = torch.all(self.data[\"X_val\"] == X, dim = 1)\n",
    "            mean = self.data[\"mean_val\"][indices]\n",
    "            var = self.data[\"var_val\"][indices]\n",
    "        else:\n",
    "            indices = torch.all(self.data[\"X_test\"] == X, dim = 1)\n",
    "            mean = self.data[\"mean_test\"][indices]\n",
    "            var = self.data[\"var_test\"][indices]\n",
    "\n",
    "        var = var * self.param\n",
    "        sqrt = torch.sqrt(var)\n",
    "\n",
    "        if alpha:\n",
    "            z = st.norm.ppf((1 - alpha) + (alpha / 2))\n",
    "            lower = mean - z * sqrt\n",
    "            upper = mean + z * sqrt\n",
    "            return torch.stack([mean, sqrt if std else var], dim = -1), torch.stack([lower, upper], dim = -1)\n",
    "        else:\n",
    "            return torch.stack([mean, sqrt if std else var], dim = -1)\n",
    "        \n",
    "class Shifter(UQModel):\n",
    "    def __init__(self, data, param = 1, var_scale = False):\n",
    "        super().__init__(rf\"$\\mu\\text{{-shifted ({param})}}$\" if not var_scale else r\"$\\mu\\text{-shifted (}\\sigma\\text{)}$\")\n",
    "        self.data = data\n",
    "        self.param = param\n",
    "        self.var_scale = var_scale\n",
    "\n",
    "    def predict(self, X, std = False, alpha = None):\n",
    "\n",
    "        if self.data[\"X_val\"].shape == X.shape and torch.any(torch.prod(self.data[\"X_val\"] == X, dim = 1)):\n",
    "            indices = torch.all(self.data[\"X_val\"] == X, dim = 1)\n",
    "            mean = self.data[\"mean_val\"][indices]\n",
    "            var = self.data[\"var_val\"][indices]\n",
    "        else:\n",
    "            indices = torch.all(self.data[\"X_test\"] == X, dim = 1)\n",
    "            mean = self.data[\"mean_test\"][indices]\n",
    "            var = self.data[\"var_test\"][indices]\n",
    "\n",
    "        sqrt = torch.sqrt(var)\n",
    "        mean = mean + (self.param if not self.var_scale else self.param * sqrt)\n",
    "\n",
    "        if alpha:\n",
    "            z = st.norm.ppf((1 - alpha) + (alpha / 2))\n",
    "            lower = mean - z * sqrt\n",
    "            upper = mean + z * sqrt\n",
    "            return torch.stack([mean, sqrt if std else var], dim = -1), torch.stack([lower, upper], dim = -1)\n",
    "        else:\n",
    "            return torch.stack([mean, sqrt if std else var], dim = -1)\n",
    "        "
   ]
  },
  {
   "cell_type": "code",
   "execution_count": 4,
   "id": "88fac970",
   "metadata": {},
   "outputs": [],
   "source": [
    "def routine(datasource, feature_choice, seed, folder):\n",
    "\n",
    "     if feature_choice:\n",
    "          data = init(\"synth\" + datasource, seed = seed, to_torch = True)\n",
    "     else:\n",
    "          data = init(datasource, seed = seed, to_torch = True)\n",
    "\n",
    "     models = []\n",
    "     for param in [0, 1e-2, .1, 1]:\n",
    "          model = Oracle(data, param = param)\n",
    "          models.append((model.name, model))\n",
    "     models.append((Scaler(data, 5).name, Scaler(data, 5)))\n",
    "     models.append((Shifter(data).name, Shifter(data)))\n",
    "     models.append((Shifter(data, var_scale = True).name, Shifter(data, var_scale = True)))\n",
    "\n",
    "     covs_dict = {}\n",
    "     widths_dict = {}\n",
    "     r2s_dict = {}\n",
    "     \n",
    "     conditional_covs = {}\n",
    "     conditional_r2s = {}\n",
    "     conditional_widths = {}\n",
    "     conditional_scores = {}\n",
    "\n",
    "     def CP(scores):\n",
    "          scores, _ = torch.sort(scores)\n",
    "          level = min((1 + (1 / scores.shape[0])) * (1 - alpha), 1)\n",
    "          index = math.ceil(level * scores.shape[0]) - 1\n",
    "          return scores[index].item()\n",
    "\n",
    "     def save(name, r2, covs, widths):\n",
    "\n",
    "        r2s_dict[name] = r2\n",
    "        covs_dict[name] = np.mean(covs.numpy())\n",
    "        if torch.is_tensor(widths):\n",
    "            widths_dict[name] = np.mean(widths.numpy())\n",
    "        else:\n",
    "            widths_dict[name] = widths\n",
    "            \n",
    "     def save_conditional(name, r2, covs, widths):\n",
    "          \n",
    "          if name not in conditional_covs.keys():\n",
    "               conditional_r2s[name] = []\n",
    "               conditional_covs[name] = []\n",
    "               conditional_widths[name] = []\n",
    "               conditional_scores[name] = []\n",
    "               \n",
    "          conditional_covs[name].append(np.mean(covs.numpy()))\n",
    "          conditional_r2s[name].append(r2)\n",
    "          if torch.is_tensor(widths):\n",
    "               conditional_widths[name].append(np.mean(widths.numpy()))\n",
    "          else:\n",
    "               conditional_widths[name].append(widths)\n",
    "\n",
    "     # variances = []\n",
    "     # pis = []\n",
    "     with torch.no_grad():\n",
    "          for name, model in models:\n",
    "               val_preds, val_pi = model.predict(data[\"X_val\"], alpha = alpha)\n",
    "               var = np.sort(val_preds[:, 1])\n",
    "               preds, pi = model.predict(data[\"X_test\"], alpha = alpha)\n",
    "\n",
    "               splits = [-1e10]\n",
    "               for i in range(var_bins - 1):\n",
    "                    splits.append(var[(i + 1) * (len(var) // var_bins)])\n",
    "               splits.append(1e10)\n",
    "\n",
    "               r2 = r2_score(data[\"y_test\"], preds[:, 0])\n",
    "\n",
    "               test = [splits[i+1] == splits[i+2] for i in range(var_bins-1)]\n",
    "               override = True in test\n",
    "\n",
    "               mse_crit = CP(torch.abs(val_preds[:, 0] - data[\"y_val\"]))\n",
    "               int_crit = CP(torch.maximum(val_pi[:, 0] - data[\"y_val\"], data[\"y_val\"] - val_pi[:, 1]))\n",
    "               nmse_crit = CP(torch.abs(val_preds[:, 0] - data[\"y_val\"]) / torch.sqrt(val_preds[:, 1])) * torch.sqrt(preds[:, 1])\n",
    "\n",
    "               for i in range(var_bins):\n",
    "                    val_index = (val_preds[:, 1] >= splits[i]) & (val_preds[:, 1] <= splits[i + 1])\n",
    "                    test_index = (preds[:, 1] >= splits[i]) & (preds[:, 1] <= splits[i + 1])\n",
    "\n",
    "                    if override:\n",
    "                         val_index = range(val_preds.shape[0])\n",
    "                         test_index = range(preds.shape[0])\n",
    "\n",
    "                    y_test = data[\"y_test\"][test_index]\n",
    "\n",
    "                    r2_ = r2_score(y_test, preds[test_index, 0])\n",
    "                    # save_conditional(name + \"#base\", r2, (y_test >= pi[test_index, 0]) & (y_test <= pi[test_index, 1]), \\\n",
    "                    #      pi[test_index, 1] - pi[test_index, 0])\n",
    "\n",
    "                    save(name + \"#PointCP\", r2, (data[\"y_test\"] >= preds[:, 0] - mse_crit) & (data[\"y_test\"] <= preds[:, 0] + mse_crit), 2 * mse_crit)\n",
    "                    save_conditional(name + \"#mPointCP\", r2_, (y_test >= preds[test_index, 0] - mse_crit) & (y_test <= preds[test_index, 0] + mse_crit), 2 * mse_crit)\n",
    "\n",
    "                    save(name + \"#IntCP\", r2, (data[\"y_test\"] >= pi[:, 0] - int_crit) & (data[\"y_test\"] <= pi[:, 1] + int_crit), pi[:, 1] - pi[:, 0] + 2 * int_crit)\n",
    "                    save_conditional(name + \"#mIntCP\", r2_, (y_test >= pi[test_index, 0] - int_crit) & (y_test <= pi[test_index, 1] + int_crit), pi[test_index, 1] - pi[test_index, 0] + 2 * int_crit)\n",
    "\n",
    "                    save(name + \"#NCP\", r2, (data[\"y_test\"] >= preds[:, 0] - nmse_crit) & (data[\"y_test\"] <= preds[:, 0] + nmse_crit), 2 * nmse_crit)\n",
    "                    save_conditional(name + \"#mNCP\", r2_, (y_test >= preds[test_index, 0] - nmse_crit[test_index]) & (y_test <= preds[test_index, 0] + nmse_crit[test_index]), 2 * nmse_crit[test_index])\n",
    "\n",
    "                    # crit = CP(torch.abs(val_preds[val_index, 0] - data[\"y_val\"][val_index]))\n",
    "                    # save_conditional(name + \"#PointCP\", r2_, (y_test >= preds[test_index, 0] - crit) & (y_test <= preds[test_index, 0] + crit), 2 * crit)\n",
    "\n",
    "                    # crit = CP(torch.maximum(val_pi[val_index, 0] - data[\"y_val\"][val_index], data[\"y_val\"][val_index] - val_pi[val_index, 1]))\n",
    "                    # save_conditional(name + \"#IntCP\", r2_, (y_test >= pi[test_index, 0] - crit) & (y_test <= pi[test_index, 1] + crit), pi[test_index, 1] - pi[test_index, 0] + 2 * crit)\n",
    "\n",
    "                    # crit = CP(torch.abs(val_preds[val_index, 0] - data[\"y_val\"][val_index]) / torch.sqrt(val_preds[val_index, 1])) * torch.sqrt(preds[test_index, 1])\n",
    "                    # save_conditional(name + \"#NCP\", r2_, (y_test >= preds[test_index, 0] - crit) & (y_test <= preds[test_index, 0] + crit), 2 * crit)\n",
    "\n",
    "     r2s = np.stack([r2s_dict[name] for name in r2s_dict.keys()], axis = -1)\n",
    "     covs = np.stack([covs_dict[name] for name in covs_dict.keys()], axis = -1)\n",
    "     widths = np.stack([widths_dict[name] for name in covs_dict.keys()], axis = -1)\n",
    "     marginal = (r2s, covs, widths, list(covs_dict.keys()))\n",
    "\n",
    "     covs = np.zeros((len(conditional_covs.keys()), len(list(conditional_covs.items())[0][1])))\n",
    "     r2s = np.zeros_like(covs)\n",
    "     widths = np.zeros_like(covs)\n",
    "     for i, key in enumerate(conditional_covs.keys()):\n",
    "          covs[i, :] = conditional_covs[key]\n",
    "          r2s[i, :] = conditional_r2s[key]\n",
    "          widths[i, :] = conditional_widths[key]\n",
    "     conditional = (r2s, covs, widths, list(conditional_covs.keys()))\n",
    "\n",
    "     return marginal, conditional"
   ]
  },
  {
   "cell_type": "code",
   "execution_count": 5,
   "id": "a9f6869e",
   "metadata": {},
   "outputs": [
    {
     "data": {
      "application/vnd.jupyter.widget-view+json": {
       "model_id": "a8f6119424ff480facf399460d9e846f",
       "version_major": 2,
       "version_minor": 0
      },
      "text/plain": [
       "  0%|          | 0/10 [00:00<?, ?it/s]"
      ]
     },
     "metadata": {},
     "output_type": "display_data"
    },
    {
     "data": {
      "application/vnd.jupyter.widget-view+json": {
       "model_id": "141c703954ac4bdb91c9b1bbf258e21c",
       "version_major": 2,
       "version_minor": 0
      },
      "text/plain": [
       "  0%|          | 0/10 [00:00<?, ?it/s]"
      ]
     },
     "metadata": {},
     "output_type": "display_data"
    },
    {
     "data": {
      "application/vnd.jupyter.widget-view+json": {
       "model_id": "f488a18545e44d388089404964be45db",
       "version_major": 2,
       "version_minor": 0
      },
      "text/plain": [
       "  0%|          | 0/10 [00:00<?, ?it/s]"
      ]
     },
     "metadata": {},
     "output_type": "display_data"
    },
    {
     "data": {
      "application/vnd.jupyter.widget-view+json": {
       "model_id": "445b92bf2fa14d71bec384d7e7291c32",
       "version_major": 2,
       "version_minor": 0
      },
      "text/plain": [
       "  0%|          | 0/10 [00:00<?, ?it/s]"
      ]
     },
     "metadata": {},
     "output_type": "display_data"
    },
    {
     "data": {
      "application/vnd.jupyter.widget-view+json": {
       "model_id": "e0ca8918c4fd45f4a78a78678f33972b",
       "version_major": 2,
       "version_minor": 0
      },
      "text/plain": [
       "  0%|          | 0/10 [00:00<?, ?it/s]"
      ]
     },
     "metadata": {},
     "output_type": "display_data"
    }
   ],
   "source": [
    "folder = \"./PLOTS/1000/\"\n",
    "\n",
    "for combi in [(\"constant\", \"bimodal\", \"Homoskedastic\"), (\"cm\", \"normal\", \"Type 1\"), (\"parametric\", \"normal\", \"Type 2\"), (\"dim1\", \"uniform\", \"Type 3\"), (\"bimodal\", None, \"Type 4\")]:\n",
    "\n",
    "    title = combi[2]\n",
    "    var_control = .1\n",
    "\n",
    "    if combi[1] == None:\n",
    "        datasource = \"bimodal\"\n",
    "    else:\n",
    "        source = combi[0]\n",
    "        feature_choice = combi[1]\n",
    "        datasource = source + \"_\" + feature_choice + \"_\" + (\"high_coupling\" if var_control >= 1 else \"low_coupling\")\n",
    "\n",
    "    r2s_marginal = []\n",
    "    coverages_marginal = []\n",
    "    widths_marginal = []\n",
    "    columns_marginal = None\n",
    "\n",
    "    r2s_conditional = []\n",
    "    coverages_conditional = []\n",
    "    widths_conditional = []\n",
    "    columns_conditional = []\n",
    "\n",
    "    ks_names = None\n",
    "    ks = []\n",
    "        \n",
    "    for i, s in enumerate(tqdm(seeds)):\n",
    "        result, result_conditional = routine(datasource, feature_choice, s, folder)\n",
    "\n",
    "        r2s_marginal.append(result[0])\n",
    "        coverages_marginal.append(result[1])\n",
    "        widths_marginal.append(result[2])\n",
    "        columns_marginal = result[3]\n",
    "        \n",
    "        r2s_conditional.append(result_conditional[0])\n",
    "        coverages_conditional.append(result_conditional[1])\n",
    "        widths_conditional.append(result_conditional[2])\n",
    "        columns_conditional = result_conditional[3]\n",
    "\n",
    "    r2s_marginal = np.stack(r2s_marginal, axis = 0)\n",
    "    coverages_marginal = np.stack(coverages_marginal, axis = 0)\n",
    "    widths_marginal = np.stack(widths_marginal, axis = 0)\n",
    "\n",
    "    r2s_conditional = np.stack(r2s_conditional, axis = 0)\n",
    "    coverages_conditional = np.stack(coverages_conditional, axis = 0)\n",
    "    widths_conditional = np.stack(widths_conditional, axis = 0)\n",
    "\n",
    "    mergers = [\"QR\", \"QRF\", \"ClusterQR\"]\n",
    "    conditional_scores = 3\n",
    "\n",
    "    fig = make_subplots(rows = var_bins, cols = 1, subplot_titles = [\"Low variance\", \"Medium variance\", \"High variance\"])\n",
    "    fig2 = make_subplots(rows = var_bins, cols = 1, subplot_titles = [\"Low variance\", \"Medium variance\", \"High variance\"])\n",
    "    fig3 = make_subplots(rows = var_bins, cols = 1, subplot_titles = [\"Low variance\", \"Medium variance\", \"High variance\"])\n",
    "    fig_ks = make_subplots(rows = var_bins, cols = 1, subplot_titles = [\"Low - Medium\", \"Medium - High\", \"Low - High\"])\n",
    "\n",
    "    index = []\n",
    "    for j, name in enumerate(columns_conditional):\n",
    "        if name in [n + \"*#base\" for n in mergers] or(not \"*\" in name and name not in [n + \"#base\" for n in mergers]):\n",
    "            index.append(j)\n",
    "\n",
    "    columns = [columns_conditional[i].replace(\"*\", \"\") for i in index]\n",
    "    columntext = []\n",
    "    for c in columns:\n",
    "        text = c.split(\"#\")\n",
    "        columntext.append((text[0], text[1]))\n",
    "\n",
    "    r2s = r2s_conditional[:, index, :]\n",
    "    coverages = coverages_conditional[:, index, :]\n",
    "    widths = widths_conditional[:, index, :]\n",
    "\n",
    "    text = [\"\"]\n",
    "    text.extend([c[1] for c in columntext])\n",
    "    text.append(\"\")\n",
    "    vals = [-.5]\n",
    "    vals.extend(range(len(columns)))\n",
    "    vals.append(len(columns) - 0.5)\n",
    "\n",
    "    for i in range(coverages.shape[-1]):\n",
    "\n",
    "        bg_colors = cycle(plotly.colors.qualitative.Pastel2)\n",
    "\n",
    "        r2_data = pd.DataFrame(r2s[:, :, i], columns = columns)\n",
    "        cov_data = pd.DataFrame(coverages[:, :, i], columns = columns)\n",
    "        width_data = pd.DataFrame(widths[:, :, i], columns = columns)\n",
    "\n",
    "        for j, model in enumerate(columns):\n",
    "\n",
    "            if j % conditional_scores == 0:\n",
    "                colors = cycle(plotly.colors.DEFAULT_PLOTLY_COLORS)\n",
    "            color = next(colors)\n",
    "\n",
    "            fig.add_trace(go.Box(y = cov_data[model], x0 = j, line_color = color, showlegend = False), row = i + 1, col = 1)\n",
    "            fig2.add_trace(go.Violin(y = width_data[model], x0 = j, spanmode = \"hard\", line_color = color, showlegend = False), row = i + 1, col = 1)\n",
    "            fig3.add_trace(go.Violin(y = r2_data[model], x0 = j, spanmode = \"hard\", line_color = color, showlegend = False), row = i + 1, col = 1)\n",
    "\n",
    "            if j % conditional_scores == 0:\n",
    "                bg_color = next(bg_colors)\n",
    "                fig.add_vrect(x0 = j-0.5, x1 = j+(conditional_scores-0.5), fillcolor = bg_color, layer = \"below\", line_width = 0, opacity = 0.5, row = i + 1, col = 1)\n",
    "                fig2.add_vrect(x0 = j-0.5, x1 = j+(conditional_scores-0.5), fillcolor = bg_color, layer = \"below\", line_width = 0, opacity = 0.5, row = i + 1, col = 1)\n",
    "                fig3.add_vrect(x0 = j-0.5, x1 = j+(conditional_scores-0.5), fillcolor = bg_color, layer = \"below\", line_width = 0, opacity = 0.5, row = i + 1, col = 1)\n",
    "\n",
    "                if i == 0:\n",
    "                    fig.add_trace(go.Scatter(x=[None], y=[None], mode=\"markers\", name = columntext[j][0], marker = dict(size = 7, color = bg_color, symbol = 'square')), row = 1, col = 1)\n",
    "                    fig2.add_trace(go.Scatter(x=[None], y=[None], mode=\"markers\", name = columntext[j][0], marker = dict(size = 7, color = bg_color, symbol = 'square')), row = 1, col = 1)\n",
    "                    fig3.add_trace(go.Scatter(x=[None], y=[None], mode=\"markers\", name = columntext[j][0], marker = dict(size = 7, color = bg_color, symbol = 'square')), row = 1, col = 1)\n",
    "\n",
    "        fig.add_trace(go.Scatter(x = [-.5, len(columns)-.5], y = [1 - alpha, 1 - alpha], line = dict(dash = 'dot', color = \"red\"), name = \"Target coverage\", marker = {\"opacity\": 0}, showlegend = False), row = i+1, col = 1)\n",
    "\n",
    "    figparams = {\"yaxis\" + str(i+1): {\"range\": [np.floor(np.min(coverages[:, :, i]) * 10) / 10, np.ceil(np.max(coverages[:, :, i]) * 10) / 10]} for i in range(var_bins)}\n",
    "    figparams.update({\"xaxis\" + str(i+1): {\"range\": [vals[0], vals[-1]], \"tickvals\": vals, \"ticktext\": text, \"showticklabels\": False} for i in range(var_bins-1)})\n",
    "    figparams.update({\"xaxis\" + str(var_bins): {\"tickangle\": 45, \"range\": [vals[0], vals[-1]], \"tickvals\": vals, \"ticktext\": text}})\n",
    "    figparams.update(dict(font = {\"size\": 15}, title_font = {\"size\": 20}, title_x = .45, title_y = .99, width = 1000, margin = dict(l = 0, r = 0, t = 50, b = 0), title_automargin = True))\n",
    "    fig.update_layout(figparams)\n",
    "    \n",
    "    fig.update_layout(title_text = f'{title}: Conditional PI coverage')\n",
    "\n",
    "    fig.write_image(folder + datasource + \"_conditional_coverage-\" + str(alpha) + \"_synth.svg\", scale = 3)\n",
    "    fig.write_image(folder + datasource + \"_conditional_coverage-\" + str(alpha) + \"_synth.png\", scale = 3)\n",
    "\n",
    "    figparams = {\"xaxis\" + str(i+1): {\"range\": [vals[0], vals[-1]], \"tickvals\": vals, \"ticktext\": text, \"showticklabels\": False} for i in range(var_bins-1)}\n",
    "    figparams.update({\"xaxis\" + str(var_bins): {\"tickangle\": 45, \"range\": [vals[0], vals[-1]], \"tickvals\": vals, \"ticktext\": text}})\n",
    "    fig2.update_layout(figparams)\n",
    "    fig2.update_layout(title_text = f'{title}: Conditional PI width')\n",
    "\n",
    "    fig2.write_image(folder + datasource + \"_conditional_widths-\" + str(alpha) + \"_synth.svg\", scale = 3)\n",
    "    fig2.write_image(folder + datasource + \"_conditional_widths-\" + str(alpha) + \"_synth.png\", scale = 3)\n",
    "\n",
    "    fig3.update_layout(figparams)\n",
    "    fig3.update_layout(title_text = rf'$\\text{{{title}: Conditional }}R^2\\text{{-value}}$')\n",
    "\n",
    "    fig3.write_image(folder + datasource + \"_conditional_r2s-\" + str(alpha) + \"_synth.svg\", scale = 3)\n",
    "    fig3.write_image(folder + datasource + \"_conditional_r2s-\" + str(alpha) + \"_synth.png\", scale = 3)"
   ]
  },
  {
   "cell_type": "code",
   "execution_count": 37,
   "id": "38409ae6",
   "metadata": {},
   "outputs": [],
   "source": [
    "seed = 30\n",
    "x = np.arange(0, 10)\n",
    "y = 0.1 * np.arange(0, 10)\n",
    "np.random.seed(seed)\n",
    "y0 = y + np.random.normal(0, 0.1, x.shape)\n",
    "y1 = y + 2 + np.random.normal(0, 0.5, x.shape)"
   ]
  },
  {
   "cell_type": "code",
   "execution_count": 38,
   "id": "7b91b887",
   "metadata": {},
   "outputs": [],
   "source": [
    "a = np.abs(np.concatenate([y0 - y, y1 - y - 2]))\n",
    "crit = np.sort(a)[math.ceil(min((1 + (1 / a.shape[0])) * 0.8, 1) * a.shape[0]) - 1]"
   ]
  },
  {
   "cell_type": "code",
   "execution_count": 39,
   "id": "1322853d",
   "metadata": {},
   "outputs": [],
   "source": [
    "seed = 1\n",
    "x = np.arange(0, 10)\n",
    "y = 0.1 * np.arange(0, 10)\n",
    "np.random.seed(seed)\n",
    "y0 = y + np.random.normal(0, 0.1, x.shape)\n",
    "y1 = y + 2 + np.random.normal(0, 0.5, x.shape)"
   ]
  },
  {
   "cell_type": "code",
   "execution_count": 40,
   "id": "5a2f0ba5",
   "metadata": {},
   "outputs": [
    {
     "data": {
      "application/vnd.plotly.v1+json": {
       "config": {
        "plotlyServerURL": "https://plot.ly"
       },
       "data": [
        {
         "line": {
          "color": "#636EFA"
         },
         "name": "Subgroup 1",
         "type": "scatter",
         "x": [
          0,
          1,
          2,
          3,
          4,
          5,
          6,
          7,
          8,
          9
         ],
         "y": [
          0.16243453636632418,
          0.038824358634992465,
          0.14718282477365444,
          0.19270313778438297,
          0.4865407629324679,
          0.2698461303119717,
          0.7744811764216482,
          0.6238793099104898,
          0.8319039096057099,
          0.875062962452259
         ]
        },
        {
         "line": {
          "color": "#EF553B"
         },
         "name": "Subgroup 2",
         "type": "scatter",
         "x": [
          0,
          1,
          2,
          3,
          4,
          5,
          6,
          7,
          8,
          9
         ],
         "y": [
          2.7310539685224873,
          1.069929645251173,
          2.0387913979932466,
          2.107972822665792,
          2.9668847211677187,
          1.9500543663429846,
          2.5137858962247823,
          2.261070791039314,
          2.821106873357796,
          3.191407606857911
         ]
        },
        {
         "error_y": {
          "thickness": 1,
          "type": "constant",
          "value": 0.46889085504790673
         },
         "line": {
          "color": "#636EFA",
          "dash": "dash"
         },
         "mode": "lines",
         "showlegend": false,
         "type": "scatter",
         "x": [
          0,
          1,
          2,
          3,
          4,
          5,
          6,
          7,
          8,
          9
         ],
         "y": [
          0,
          0.1,
          0.2,
          0.30000000000000004,
          0.4,
          0.5,
          0.6000000000000001,
          0.7000000000000001,
          0.8,
          0.9
         ]
        },
        {
         "error_y": {
          "thickness": 1,
          "type": "constant",
          "value": 0.46889085504790673
         },
         "line": {
          "color": "#EF553B",
          "dash": "dash"
         },
         "mode": "lines",
         "showlegend": false,
         "type": "scatter",
         "x": [
          0,
          1,
          2,
          3,
          4,
          5,
          6,
          7,
          8,
          9
         ],
         "y": [
          2,
          2.1,
          2.2,
          2.3,
          2.4,
          2.5,
          2.6,
          2.7,
          2.8,
          2.9
         ]
        }
       ],
       "layout": {
        "font": {
         "size": 15
        },
        "legend": {
         "borderwidth": 1,
         "font": {
          "size": 15
         },
         "x": 0.852,
         "xanchor": "left",
         "y": 0.29,
         "yanchor": "top"
        },
        "margin": {
         "b": 0,
         "l": 0,
         "r": 0,
         "t": 0
        },
        "template": {
         "data": {
          "bar": [
           {
            "error_x": {
             "color": "#2a3f5f"
            },
            "error_y": {
             "color": "#2a3f5f"
            },
            "marker": {
             "line": {
              "color": "#E5ECF6",
              "width": 0.5
             },
             "pattern": {
              "fillmode": "overlay",
              "size": 10,
              "solidity": 0.2
             }
            },
            "type": "bar"
           }
          ],
          "barpolar": [
           {
            "marker": {
             "line": {
              "color": "#E5ECF6",
              "width": 0.5
             },
             "pattern": {
              "fillmode": "overlay",
              "size": 10,
              "solidity": 0.2
             }
            },
            "type": "barpolar"
           }
          ],
          "carpet": [
           {
            "aaxis": {
             "endlinecolor": "#2a3f5f",
             "gridcolor": "white",
             "linecolor": "white",
             "minorgridcolor": "white",
             "startlinecolor": "#2a3f5f"
            },
            "baxis": {
             "endlinecolor": "#2a3f5f",
             "gridcolor": "white",
             "linecolor": "white",
             "minorgridcolor": "white",
             "startlinecolor": "#2a3f5f"
            },
            "type": "carpet"
           }
          ],
          "choropleth": [
           {
            "colorbar": {
             "outlinewidth": 0,
             "ticks": ""
            },
            "type": "choropleth"
           }
          ],
          "contour": [
           {
            "colorbar": {
             "outlinewidth": 0,
             "ticks": ""
            },
            "colorscale": [
             [
              0,
              "#0d0887"
             ],
             [
              0.1111111111111111,
              "#46039f"
             ],
             [
              0.2222222222222222,
              "#7201a8"
             ],
             [
              0.3333333333333333,
              "#9c179e"
             ],
             [
              0.4444444444444444,
              "#bd3786"
             ],
             [
              0.5555555555555556,
              "#d8576b"
             ],
             [
              0.6666666666666666,
              "#ed7953"
             ],
             [
              0.7777777777777778,
              "#fb9f3a"
             ],
             [
              0.8888888888888888,
              "#fdca26"
             ],
             [
              1,
              "#f0f921"
             ]
            ],
            "type": "contour"
           }
          ],
          "contourcarpet": [
           {
            "colorbar": {
             "outlinewidth": 0,
             "ticks": ""
            },
            "type": "contourcarpet"
           }
          ],
          "heatmap": [
           {
            "colorbar": {
             "outlinewidth": 0,
             "ticks": ""
            },
            "colorscale": [
             [
              0,
              "#0d0887"
             ],
             [
              0.1111111111111111,
              "#46039f"
             ],
             [
              0.2222222222222222,
              "#7201a8"
             ],
             [
              0.3333333333333333,
              "#9c179e"
             ],
             [
              0.4444444444444444,
              "#bd3786"
             ],
             [
              0.5555555555555556,
              "#d8576b"
             ],
             [
              0.6666666666666666,
              "#ed7953"
             ],
             [
              0.7777777777777778,
              "#fb9f3a"
             ],
             [
              0.8888888888888888,
              "#fdca26"
             ],
             [
              1,
              "#f0f921"
             ]
            ],
            "type": "heatmap"
           }
          ],
          "heatmapgl": [
           {
            "colorbar": {
             "outlinewidth": 0,
             "ticks": ""
            },
            "colorscale": [
             [
              0,
              "#0d0887"
             ],
             [
              0.1111111111111111,
              "#46039f"
             ],
             [
              0.2222222222222222,
              "#7201a8"
             ],
             [
              0.3333333333333333,
              "#9c179e"
             ],
             [
              0.4444444444444444,
              "#bd3786"
             ],
             [
              0.5555555555555556,
              "#d8576b"
             ],
             [
              0.6666666666666666,
              "#ed7953"
             ],
             [
              0.7777777777777778,
              "#fb9f3a"
             ],
             [
              0.8888888888888888,
              "#fdca26"
             ],
             [
              1,
              "#f0f921"
             ]
            ],
            "type": "heatmapgl"
           }
          ],
          "histogram": [
           {
            "marker": {
             "pattern": {
              "fillmode": "overlay",
              "size": 10,
              "solidity": 0.2
             }
            },
            "type": "histogram"
           }
          ],
          "histogram2d": [
           {
            "colorbar": {
             "outlinewidth": 0,
             "ticks": ""
            },
            "colorscale": [
             [
              0,
              "#0d0887"
             ],
             [
              0.1111111111111111,
              "#46039f"
             ],
             [
              0.2222222222222222,
              "#7201a8"
             ],
             [
              0.3333333333333333,
              "#9c179e"
             ],
             [
              0.4444444444444444,
              "#bd3786"
             ],
             [
              0.5555555555555556,
              "#d8576b"
             ],
             [
              0.6666666666666666,
              "#ed7953"
             ],
             [
              0.7777777777777778,
              "#fb9f3a"
             ],
             [
              0.8888888888888888,
              "#fdca26"
             ],
             [
              1,
              "#f0f921"
             ]
            ],
            "type": "histogram2d"
           }
          ],
          "histogram2dcontour": [
           {
            "colorbar": {
             "outlinewidth": 0,
             "ticks": ""
            },
            "colorscale": [
             [
              0,
              "#0d0887"
             ],
             [
              0.1111111111111111,
              "#46039f"
             ],
             [
              0.2222222222222222,
              "#7201a8"
             ],
             [
              0.3333333333333333,
              "#9c179e"
             ],
             [
              0.4444444444444444,
              "#bd3786"
             ],
             [
              0.5555555555555556,
              "#d8576b"
             ],
             [
              0.6666666666666666,
              "#ed7953"
             ],
             [
              0.7777777777777778,
              "#fb9f3a"
             ],
             [
              0.8888888888888888,
              "#fdca26"
             ],
             [
              1,
              "#f0f921"
             ]
            ],
            "type": "histogram2dcontour"
           }
          ],
          "mesh3d": [
           {
            "colorbar": {
             "outlinewidth": 0,
             "ticks": ""
            },
            "type": "mesh3d"
           }
          ],
          "parcoords": [
           {
            "line": {
             "colorbar": {
              "outlinewidth": 0,
              "ticks": ""
             }
            },
            "type": "parcoords"
           }
          ],
          "pie": [
           {
            "automargin": true,
            "type": "pie"
           }
          ],
          "scatter": [
           {
            "fillpattern": {
             "fillmode": "overlay",
             "size": 10,
             "solidity": 0.2
            },
            "type": "scatter"
           }
          ],
          "scatter3d": [
           {
            "line": {
             "colorbar": {
              "outlinewidth": 0,
              "ticks": ""
             }
            },
            "marker": {
             "colorbar": {
              "outlinewidth": 0,
              "ticks": ""
             }
            },
            "type": "scatter3d"
           }
          ],
          "scattercarpet": [
           {
            "marker": {
             "colorbar": {
              "outlinewidth": 0,
              "ticks": ""
             }
            },
            "type": "scattercarpet"
           }
          ],
          "scattergeo": [
           {
            "marker": {
             "colorbar": {
              "outlinewidth": 0,
              "ticks": ""
             }
            },
            "type": "scattergeo"
           }
          ],
          "scattergl": [
           {
            "marker": {
             "colorbar": {
              "outlinewidth": 0,
              "ticks": ""
             }
            },
            "type": "scattergl"
           }
          ],
          "scattermapbox": [
           {
            "marker": {
             "colorbar": {
              "outlinewidth": 0,
              "ticks": ""
             }
            },
            "type": "scattermapbox"
           }
          ],
          "scatterpolar": [
           {
            "marker": {
             "colorbar": {
              "outlinewidth": 0,
              "ticks": ""
             }
            },
            "type": "scatterpolar"
           }
          ],
          "scatterpolargl": [
           {
            "marker": {
             "colorbar": {
              "outlinewidth": 0,
              "ticks": ""
             }
            },
            "type": "scatterpolargl"
           }
          ],
          "scatterternary": [
           {
            "marker": {
             "colorbar": {
              "outlinewidth": 0,
              "ticks": ""
             }
            },
            "type": "scatterternary"
           }
          ],
          "surface": [
           {
            "colorbar": {
             "outlinewidth": 0,
             "ticks": ""
            },
            "colorscale": [
             [
              0,
              "#0d0887"
             ],
             [
              0.1111111111111111,
              "#46039f"
             ],
             [
              0.2222222222222222,
              "#7201a8"
             ],
             [
              0.3333333333333333,
              "#9c179e"
             ],
             [
              0.4444444444444444,
              "#bd3786"
             ],
             [
              0.5555555555555556,
              "#d8576b"
             ],
             [
              0.6666666666666666,
              "#ed7953"
             ],
             [
              0.7777777777777778,
              "#fb9f3a"
             ],
             [
              0.8888888888888888,
              "#fdca26"
             ],
             [
              1,
              "#f0f921"
             ]
            ],
            "type": "surface"
           }
          ],
          "table": [
           {
            "cells": {
             "fill": {
              "color": "#EBF0F8"
             },
             "line": {
              "color": "white"
             }
            },
            "header": {
             "fill": {
              "color": "#C8D4E3"
             },
             "line": {
              "color": "white"
             }
            },
            "type": "table"
           }
          ]
         },
         "layout": {
          "annotationdefaults": {
           "arrowcolor": "#2a3f5f",
           "arrowhead": 0,
           "arrowwidth": 1
          },
          "autotypenumbers": "strict",
          "coloraxis": {
           "colorbar": {
            "outlinewidth": 0,
            "ticks": ""
           }
          },
          "colorscale": {
           "diverging": [
            [
             0,
             "#8e0152"
            ],
            [
             0.1,
             "#c51b7d"
            ],
            [
             0.2,
             "#de77ae"
            ],
            [
             0.3,
             "#f1b6da"
            ],
            [
             0.4,
             "#fde0ef"
            ],
            [
             0.5,
             "#f7f7f7"
            ],
            [
             0.6,
             "#e6f5d0"
            ],
            [
             0.7,
             "#b8e186"
            ],
            [
             0.8,
             "#7fbc41"
            ],
            [
             0.9,
             "#4d9221"
            ],
            [
             1,
             "#276419"
            ]
           ],
           "sequential": [
            [
             0,
             "#0d0887"
            ],
            [
             0.1111111111111111,
             "#46039f"
            ],
            [
             0.2222222222222222,
             "#7201a8"
            ],
            [
             0.3333333333333333,
             "#9c179e"
            ],
            [
             0.4444444444444444,
             "#bd3786"
            ],
            [
             0.5555555555555556,
             "#d8576b"
            ],
            [
             0.6666666666666666,
             "#ed7953"
            ],
            [
             0.7777777777777778,
             "#fb9f3a"
            ],
            [
             0.8888888888888888,
             "#fdca26"
            ],
            [
             1,
             "#f0f921"
            ]
           ],
           "sequentialminus": [
            [
             0,
             "#0d0887"
            ],
            [
             0.1111111111111111,
             "#46039f"
            ],
            [
             0.2222222222222222,
             "#7201a8"
            ],
            [
             0.3333333333333333,
             "#9c179e"
            ],
            [
             0.4444444444444444,
             "#bd3786"
            ],
            [
             0.5555555555555556,
             "#d8576b"
            ],
            [
             0.6666666666666666,
             "#ed7953"
            ],
            [
             0.7777777777777778,
             "#fb9f3a"
            ],
            [
             0.8888888888888888,
             "#fdca26"
            ],
            [
             1,
             "#f0f921"
            ]
           ]
          },
          "colorway": [
           "#636efa",
           "#EF553B",
           "#00cc96",
           "#ab63fa",
           "#FFA15A",
           "#19d3f3",
           "#FF6692",
           "#B6E880",
           "#FF97FF",
           "#FECB52"
          ],
          "font": {
           "color": "#2a3f5f"
          },
          "geo": {
           "bgcolor": "white",
           "lakecolor": "white",
           "landcolor": "#E5ECF6",
           "showlakes": true,
           "showland": true,
           "subunitcolor": "white"
          },
          "hoverlabel": {
           "align": "left"
          },
          "hovermode": "closest",
          "mapbox": {
           "style": "light"
          },
          "paper_bgcolor": "white",
          "plot_bgcolor": "#E5ECF6",
          "polar": {
           "angularaxis": {
            "gridcolor": "white",
            "linecolor": "white",
            "ticks": ""
           },
           "bgcolor": "#E5ECF6",
           "radialaxis": {
            "gridcolor": "white",
            "linecolor": "white",
            "ticks": ""
           }
          },
          "scene": {
           "xaxis": {
            "backgroundcolor": "#E5ECF6",
            "gridcolor": "white",
            "gridwidth": 2,
            "linecolor": "white",
            "showbackground": true,
            "ticks": "",
            "zerolinecolor": "white"
           },
           "yaxis": {
            "backgroundcolor": "#E5ECF6",
            "gridcolor": "white",
            "gridwidth": 2,
            "linecolor": "white",
            "showbackground": true,
            "ticks": "",
            "zerolinecolor": "white"
           },
           "zaxis": {
            "backgroundcolor": "#E5ECF6",
            "gridcolor": "white",
            "gridwidth": 2,
            "linecolor": "white",
            "showbackground": true,
            "ticks": "",
            "zerolinecolor": "white"
           }
          },
          "shapedefaults": {
           "line": {
            "color": "#2a3f5f"
           }
          },
          "ternary": {
           "aaxis": {
            "gridcolor": "white",
            "linecolor": "white",
            "ticks": ""
           },
           "baxis": {
            "gridcolor": "white",
            "linecolor": "white",
            "ticks": ""
           },
           "bgcolor": "#E5ECF6",
           "caxis": {
            "gridcolor": "white",
            "linecolor": "white",
            "ticks": ""
           }
          },
          "title": {
           "x": 0.05
          },
          "xaxis": {
           "automargin": true,
           "gridcolor": "white",
           "linecolor": "white",
           "ticks": "",
           "title": {
            "standoff": 15
           },
           "zerolinecolor": "white",
           "zerolinewidth": 2
          },
          "yaxis": {
           "automargin": true,
           "gridcolor": "white",
           "linecolor": "white",
           "ticks": "",
           "title": {
            "standoff": 15
           },
           "zerolinecolor": "white",
           "zerolinewidth": 2
          }
         }
        },
        "width": 1000,
        "xaxis": {
         "title": {
          "text": "$x$"
         }
        },
        "yaxis": {
         "title": {
          "text": "$y$"
         }
        }
       }
      },
      "text/html": [
       "<div>                            <div id=\"c6237d91-7b5f-463a-882f-3ad128ca1f0d\" class=\"plotly-graph-div\" style=\"height:525px; width:1000px;\"></div>            <script type=\"text/javascript\">                require([\"plotly\"], function(Plotly) {                    window.PLOTLYENV=window.PLOTLYENV || {};                                    if (document.getElementById(\"c6237d91-7b5f-463a-882f-3ad128ca1f0d\")) {                    Plotly.newPlot(                        \"c6237d91-7b5f-463a-882f-3ad128ca1f0d\",                        [{\"line\":{\"color\":\"#636EFA\"},\"name\":\"Subgroup 1\",\"x\":[0,1,2,3,4,5,6,7,8,9],\"y\":[0.16243453636632418,0.038824358634992465,0.14718282477365444,0.19270313778438297,0.4865407629324679,0.2698461303119717,0.7744811764216482,0.6238793099104898,0.8319039096057099,0.875062962452259],\"type\":\"scatter\"},{\"line\":{\"color\":\"#EF553B\"},\"name\":\"Subgroup 2\",\"x\":[0,1,2,3,4,5,6,7,8,9],\"y\":[2.7310539685224873,1.069929645251173,2.0387913979932466,2.107972822665792,2.9668847211677187,1.9500543663429846,2.5137858962247823,2.261070791039314,2.821106873357796,3.191407606857911],\"type\":\"scatter\"},{\"error_y\":{\"thickness\":1,\"type\":\"constant\",\"value\":0.46889085504790673},\"line\":{\"color\":\"#636EFA\",\"dash\":\"dash\"},\"mode\":\"lines\",\"showlegend\":false,\"x\":[0,1,2,3,4,5,6,7,8,9],\"y\":[0.0,0.1,0.2,0.30000000000000004,0.4,0.5,0.6000000000000001,0.7000000000000001,0.8,0.9],\"type\":\"scatter\"},{\"error_y\":{\"thickness\":1,\"type\":\"constant\",\"value\":0.46889085504790673},\"line\":{\"color\":\"#EF553B\",\"dash\":\"dash\"},\"mode\":\"lines\",\"showlegend\":false,\"x\":[0,1,2,3,4,5,6,7,8,9],\"y\":[2.0,2.1,2.2,2.3,2.4,2.5,2.6,2.7,2.8,2.9],\"type\":\"scatter\"}],                        {\"template\":{\"data\":{\"histogram2dcontour\":[{\"type\":\"histogram2dcontour\",\"colorbar\":{\"outlinewidth\":0,\"ticks\":\"\"},\"colorscale\":[[0.0,\"#0d0887\"],[0.1111111111111111,\"#46039f\"],[0.2222222222222222,\"#7201a8\"],[0.3333333333333333,\"#9c179e\"],[0.4444444444444444,\"#bd3786\"],[0.5555555555555556,\"#d8576b\"],[0.6666666666666666,\"#ed7953\"],[0.7777777777777778,\"#fb9f3a\"],[0.8888888888888888,\"#fdca26\"],[1.0,\"#f0f921\"]]}],\"choropleth\":[{\"type\":\"choropleth\",\"colorbar\":{\"outlinewidth\":0,\"ticks\":\"\"}}],\"histogram2d\":[{\"type\":\"histogram2d\",\"colorbar\":{\"outlinewidth\":0,\"ticks\":\"\"},\"colorscale\":[[0.0,\"#0d0887\"],[0.1111111111111111,\"#46039f\"],[0.2222222222222222,\"#7201a8\"],[0.3333333333333333,\"#9c179e\"],[0.4444444444444444,\"#bd3786\"],[0.5555555555555556,\"#d8576b\"],[0.6666666666666666,\"#ed7953\"],[0.7777777777777778,\"#fb9f3a\"],[0.8888888888888888,\"#fdca26\"],[1.0,\"#f0f921\"]]}],\"heatmap\":[{\"type\":\"heatmap\",\"colorbar\":{\"outlinewidth\":0,\"ticks\":\"\"},\"colorscale\":[[0.0,\"#0d0887\"],[0.1111111111111111,\"#46039f\"],[0.2222222222222222,\"#7201a8\"],[0.3333333333333333,\"#9c179e\"],[0.4444444444444444,\"#bd3786\"],[0.5555555555555556,\"#d8576b\"],[0.6666666666666666,\"#ed7953\"],[0.7777777777777778,\"#fb9f3a\"],[0.8888888888888888,\"#fdca26\"],[1.0,\"#f0f921\"]]}],\"heatmapgl\":[{\"type\":\"heatmapgl\",\"colorbar\":{\"outlinewidth\":0,\"ticks\":\"\"},\"colorscale\":[[0.0,\"#0d0887\"],[0.1111111111111111,\"#46039f\"],[0.2222222222222222,\"#7201a8\"],[0.3333333333333333,\"#9c179e\"],[0.4444444444444444,\"#bd3786\"],[0.5555555555555556,\"#d8576b\"],[0.6666666666666666,\"#ed7953\"],[0.7777777777777778,\"#fb9f3a\"],[0.8888888888888888,\"#fdca26\"],[1.0,\"#f0f921\"]]}],\"contourcarpet\":[{\"type\":\"contourcarpet\",\"colorbar\":{\"outlinewidth\":0,\"ticks\":\"\"}}],\"contour\":[{\"type\":\"contour\",\"colorbar\":{\"outlinewidth\":0,\"ticks\":\"\"},\"colorscale\":[[0.0,\"#0d0887\"],[0.1111111111111111,\"#46039f\"],[0.2222222222222222,\"#7201a8\"],[0.3333333333333333,\"#9c179e\"],[0.4444444444444444,\"#bd3786\"],[0.5555555555555556,\"#d8576b\"],[0.6666666666666666,\"#ed7953\"],[0.7777777777777778,\"#fb9f3a\"],[0.8888888888888888,\"#fdca26\"],[1.0,\"#f0f921\"]]}],\"surface\":[{\"type\":\"surface\",\"colorbar\":{\"outlinewidth\":0,\"ticks\":\"\"},\"colorscale\":[[0.0,\"#0d0887\"],[0.1111111111111111,\"#46039f\"],[0.2222222222222222,\"#7201a8\"],[0.3333333333333333,\"#9c179e\"],[0.4444444444444444,\"#bd3786\"],[0.5555555555555556,\"#d8576b\"],[0.6666666666666666,\"#ed7953\"],[0.7777777777777778,\"#fb9f3a\"],[0.8888888888888888,\"#fdca26\"],[1.0,\"#f0f921\"]]}],\"mesh3d\":[{\"type\":\"mesh3d\",\"colorbar\":{\"outlinewidth\":0,\"ticks\":\"\"}}],\"scatter\":[{\"fillpattern\":{\"fillmode\":\"overlay\",\"size\":10,\"solidity\":0.2},\"type\":\"scatter\"}],\"parcoords\":[{\"type\":\"parcoords\",\"line\":{\"colorbar\":{\"outlinewidth\":0,\"ticks\":\"\"}}}],\"scatterpolargl\":[{\"type\":\"scatterpolargl\",\"marker\":{\"colorbar\":{\"outlinewidth\":0,\"ticks\":\"\"}}}],\"bar\":[{\"error_x\":{\"color\":\"#2a3f5f\"},\"error_y\":{\"color\":\"#2a3f5f\"},\"marker\":{\"line\":{\"color\":\"#E5ECF6\",\"width\":0.5},\"pattern\":{\"fillmode\":\"overlay\",\"size\":10,\"solidity\":0.2}},\"type\":\"bar\"}],\"scattergeo\":[{\"type\":\"scattergeo\",\"marker\":{\"colorbar\":{\"outlinewidth\":0,\"ticks\":\"\"}}}],\"scatterpolar\":[{\"type\":\"scatterpolar\",\"marker\":{\"colorbar\":{\"outlinewidth\":0,\"ticks\":\"\"}}}],\"histogram\":[{\"marker\":{\"pattern\":{\"fillmode\":\"overlay\",\"size\":10,\"solidity\":0.2}},\"type\":\"histogram\"}],\"scattergl\":[{\"type\":\"scattergl\",\"marker\":{\"colorbar\":{\"outlinewidth\":0,\"ticks\":\"\"}}}],\"scatter3d\":[{\"type\":\"scatter3d\",\"line\":{\"colorbar\":{\"outlinewidth\":0,\"ticks\":\"\"}},\"marker\":{\"colorbar\":{\"outlinewidth\":0,\"ticks\":\"\"}}}],\"scattermapbox\":[{\"type\":\"scattermapbox\",\"marker\":{\"colorbar\":{\"outlinewidth\":0,\"ticks\":\"\"}}}],\"scatterternary\":[{\"type\":\"scatterternary\",\"marker\":{\"colorbar\":{\"outlinewidth\":0,\"ticks\":\"\"}}}],\"scattercarpet\":[{\"type\":\"scattercarpet\",\"marker\":{\"colorbar\":{\"outlinewidth\":0,\"ticks\":\"\"}}}],\"carpet\":[{\"aaxis\":{\"endlinecolor\":\"#2a3f5f\",\"gridcolor\":\"white\",\"linecolor\":\"white\",\"minorgridcolor\":\"white\",\"startlinecolor\":\"#2a3f5f\"},\"baxis\":{\"endlinecolor\":\"#2a3f5f\",\"gridcolor\":\"white\",\"linecolor\":\"white\",\"minorgridcolor\":\"white\",\"startlinecolor\":\"#2a3f5f\"},\"type\":\"carpet\"}],\"table\":[{\"cells\":{\"fill\":{\"color\":\"#EBF0F8\"},\"line\":{\"color\":\"white\"}},\"header\":{\"fill\":{\"color\":\"#C8D4E3\"},\"line\":{\"color\":\"white\"}},\"type\":\"table\"}],\"barpolar\":[{\"marker\":{\"line\":{\"color\":\"#E5ECF6\",\"width\":0.5},\"pattern\":{\"fillmode\":\"overlay\",\"size\":10,\"solidity\":0.2}},\"type\":\"barpolar\"}],\"pie\":[{\"automargin\":true,\"type\":\"pie\"}]},\"layout\":{\"autotypenumbers\":\"strict\",\"colorway\":[\"#636efa\",\"#EF553B\",\"#00cc96\",\"#ab63fa\",\"#FFA15A\",\"#19d3f3\",\"#FF6692\",\"#B6E880\",\"#FF97FF\",\"#FECB52\"],\"font\":{\"color\":\"#2a3f5f\"},\"hovermode\":\"closest\",\"hoverlabel\":{\"align\":\"left\"},\"paper_bgcolor\":\"white\",\"plot_bgcolor\":\"#E5ECF6\",\"polar\":{\"bgcolor\":\"#E5ECF6\",\"angularaxis\":{\"gridcolor\":\"white\",\"linecolor\":\"white\",\"ticks\":\"\"},\"radialaxis\":{\"gridcolor\":\"white\",\"linecolor\":\"white\",\"ticks\":\"\"}},\"ternary\":{\"bgcolor\":\"#E5ECF6\",\"aaxis\":{\"gridcolor\":\"white\",\"linecolor\":\"white\",\"ticks\":\"\"},\"baxis\":{\"gridcolor\":\"white\",\"linecolor\":\"white\",\"ticks\":\"\"},\"caxis\":{\"gridcolor\":\"white\",\"linecolor\":\"white\",\"ticks\":\"\"}},\"coloraxis\":{\"colorbar\":{\"outlinewidth\":0,\"ticks\":\"\"}},\"colorscale\":{\"sequential\":[[0.0,\"#0d0887\"],[0.1111111111111111,\"#46039f\"],[0.2222222222222222,\"#7201a8\"],[0.3333333333333333,\"#9c179e\"],[0.4444444444444444,\"#bd3786\"],[0.5555555555555556,\"#d8576b\"],[0.6666666666666666,\"#ed7953\"],[0.7777777777777778,\"#fb9f3a\"],[0.8888888888888888,\"#fdca26\"],[1.0,\"#f0f921\"]],\"sequentialminus\":[[0.0,\"#0d0887\"],[0.1111111111111111,\"#46039f\"],[0.2222222222222222,\"#7201a8\"],[0.3333333333333333,\"#9c179e\"],[0.4444444444444444,\"#bd3786\"],[0.5555555555555556,\"#d8576b\"],[0.6666666666666666,\"#ed7953\"],[0.7777777777777778,\"#fb9f3a\"],[0.8888888888888888,\"#fdca26\"],[1.0,\"#f0f921\"]],\"diverging\":[[0,\"#8e0152\"],[0.1,\"#c51b7d\"],[0.2,\"#de77ae\"],[0.3,\"#f1b6da\"],[0.4,\"#fde0ef\"],[0.5,\"#f7f7f7\"],[0.6,\"#e6f5d0\"],[0.7,\"#b8e186\"],[0.8,\"#7fbc41\"],[0.9,\"#4d9221\"],[1,\"#276419\"]]},\"xaxis\":{\"gridcolor\":\"white\",\"linecolor\":\"white\",\"ticks\":\"\",\"title\":{\"standoff\":15},\"zerolinecolor\":\"white\",\"automargin\":true,\"zerolinewidth\":2},\"yaxis\":{\"gridcolor\":\"white\",\"linecolor\":\"white\",\"ticks\":\"\",\"title\":{\"standoff\":15},\"zerolinecolor\":\"white\",\"automargin\":true,\"zerolinewidth\":2},\"scene\":{\"xaxis\":{\"backgroundcolor\":\"#E5ECF6\",\"gridcolor\":\"white\",\"linecolor\":\"white\",\"showbackground\":true,\"ticks\":\"\",\"zerolinecolor\":\"white\",\"gridwidth\":2},\"yaxis\":{\"backgroundcolor\":\"#E5ECF6\",\"gridcolor\":\"white\",\"linecolor\":\"white\",\"showbackground\":true,\"ticks\":\"\",\"zerolinecolor\":\"white\",\"gridwidth\":2},\"zaxis\":{\"backgroundcolor\":\"#E5ECF6\",\"gridcolor\":\"white\",\"linecolor\":\"white\",\"showbackground\":true,\"ticks\":\"\",\"zerolinecolor\":\"white\",\"gridwidth\":2}},\"shapedefaults\":{\"line\":{\"color\":\"#2a3f5f\"}},\"annotationdefaults\":{\"arrowcolor\":\"#2a3f5f\",\"arrowhead\":0,\"arrowwidth\":1},\"geo\":{\"bgcolor\":\"white\",\"landcolor\":\"#E5ECF6\",\"subunitcolor\":\"white\",\"showland\":true,\"showlakes\":true,\"lakecolor\":\"white\"},\"title\":{\"x\":0.05},\"mapbox\":{\"style\":\"light\"}}},\"font\":{\"size\":15},\"margin\":{\"l\":0,\"r\":0,\"t\":0,\"b\":0},\"width\":1000,\"xaxis\":{\"title\":{\"text\":\"$x$\"}},\"yaxis\":{\"title\":{\"text\":\"$y$\"}},\"legend\":{\"font\":{\"size\":15},\"yanchor\":\"top\",\"y\":0.29,\"xanchor\":\"left\",\"x\":0.852,\"borderwidth\":1}},                        {\"responsive\": true}                    ).then(function(){\n",
       "                            \n",
       "var gd = document.getElementById('c6237d91-7b5f-463a-882f-3ad128ca1f0d');\n",
       "var x = new MutationObserver(function (mutations, observer) {{\n",
       "        var display = window.getComputedStyle(gd).display;\n",
       "        if (!display || display === 'none') {{\n",
       "            console.log([gd, 'removed!']);\n",
       "            Plotly.purge(gd);\n",
       "            observer.disconnect();\n",
       "        }}\n",
       "}});\n",
       "\n",
       "// Listen for the removal of the full notebook cells\n",
       "var notebookContainer = gd.closest('#notebook-container');\n",
       "if (notebookContainer) {{\n",
       "    x.observe(notebookContainer, {childList: true});\n",
       "}}\n",
       "\n",
       "// Listen for the clearing of the current output cell\n",
       "var outputEl = gd.closest('.output');\n",
       "if (outputEl) {{\n",
       "    x.observe(outputEl, {childList: true});\n",
       "}}\n",
       "\n",
       "                        })                };                });            </script>        </div>"
      ]
     },
     "metadata": {},
     "output_type": "display_data"
    }
   ],
   "source": [
    "colors = plotly.colors.qualitative.Plotly\n",
    "\n",
    "fig = go.Figure()\n",
    "fig.add_trace(go.Scatter(x = x, y = y0, line_color = colors[0], name = \"Subgroup 1\"))\n",
    "fig.add_trace(go.Scatter(x = x, y = y1, line_color = colors[1], name = \"Subgroup 2\"))\n",
    "fig.add_trace(go.Scatter(x = x, y = y, error_y = dict(type = \"constant\", value = crit, thickness = 1), mode = \"lines\", line = {\"dash\": \"dash\", \"color\": colors[0]}, showlegend = False))\n",
    "fig.add_trace(go.Scatter(x = x, y = y + 2, error_y = dict(type = \"constant\", value = crit, thickness = 1), mode = \"lines\", line = {\"dash\": \"dash\", \"color\": colors[1]}, showlegend = False))\n",
    "\n",
    "fig.update_layout(dict(font = {\"size\": 15}, width = 1000, margin = dict(l = 0, r = 0, t = 0, b = 0), xaxis_title = r\"$x$\", yaxis_title = r\"$y$\"))\n",
    "fig.update_layout(legend = dict(yanchor=\"top\", y = 0.29, xanchor=\"left\", x = .852, font = {\"size\": 15}, borderwidth = 1))\n",
    "fig.show()\n",
    "\n",
    "fig.write_image(\"./PLOTS/Heteroskedasticity.png\", scale = 3)\n",
    "fig.write_image(\"./PLOTS/Heteroskedasticity.svg\", scale = 3)"
   ]
  },
  {
   "cell_type": "code",
   "execution_count": null,
   "id": "31d5e213",
   "metadata": {},
   "outputs": [],
   "source": []
  }
 ],
 "metadata": {
  "kernelspec": {
   "display_name": "main",
   "language": "python",
   "name": "python3"
  },
  "language_info": {
   "codemirror_mode": {
    "name": "ipython",
    "version": 3
   },
   "file_extension": ".py",
   "mimetype": "text/x-python",
   "name": "python",
   "nbconvert_exporter": "python",
   "pygments_lexer": "ipython3",
   "version": "3.10.11"
  },
  "vscode": {
   "interpreter": {
    "hash": "e8e1ad7a0b4f0e1e85e724d1a6f3e82175b01d39b686051f3ce17a1c6f9ee225"
   }
  }
 },
 "nbformat": 4,
 "nbformat_minor": 5
}
