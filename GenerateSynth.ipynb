{
 "cells": [
  {
   "cell_type": "code",
   "execution_count": 1,
   "metadata": {},
   "outputs": [],
   "source": [
    "import numpy as np\n",
    "\n",
    "from LoadSynthetic import init as init_synth\n",
    "from LoadSynthetic import *"
   ]
  },
  {
   "cell_type": "code",
   "execution_count": 2,
   "metadata": {},
   "outputs": [],
   "source": [
    "seeds = [13, 2, 47, 1, 15, 31, 89, 666, 3, 43, 5197, 558213, 4236, 410, 74888, 1563, 1794, 711489, 156874, 123, \\\n",
    "    744741,442262,53750,550509,751836,73427,316551,321489,264450,691340, \\\n",
    "    256212,248195,322953,469088,515349,717046,904096,600809,566875,335409, \\\n",
    "    128274,11299,40740,135231,78276,268373,148066,569507,212406,584182]\n",
    "path = \"C:/Users/nmdwolf/OneDrive - UGent/Documents/University/PhD/DATA/SYNTHETIC\"\n",
    "\n",
    "var_dim = 0\n",
    "\n",
    "# for datasource in [\"mean\", \"dim1\", \"constant\", \"cm\", \"parametric\"]:\n",
    "#     for feature_choice in [\"uniform\", \"normal\", \"bimodal\"]:\n",
    "#         for var_control in [.1, 1]:\n",
    "\n",
    "#             sampler = ConditionalNormal(*getStatistics(datasource, var_control))\n",
    "#             mean_func, var_func = sampler.getFunctions()\n",
    "#             features = 10\n",
    "#             data_params = {\"size\": 1000, \"dim\": features, \"lambda\": var_control, \"var_dim\": var_dim, \"high\": 10, \"low\": 0}\n",
    "#             extra = \"high_coupling\" if data_params[\"lambda\"] >= 1 else \"low_coupling\"\n",
    "\n",
    "#             for seed in seeds:\n",
    "#                 data = init_synth(feature_choice, sampler, seed = seed, params = data_params, to_torch = True)\n",
    "#                 np.save(path + \"/\" + datasource + \"_\" + feature_choice + \"_\" + extra + \"_\" + str(seed) + \"_X.npy\", data[\"X\"])\n",
    "#                 np.save(path + \"/\" + datasource + \"_\" + feature_choice + \"_\" + extra + \"_\" + str(seed) + \"_y.npy\", data[\"y\"])\n",
    "#                 np.save(path + \"/\" + datasource + \"_\" + feature_choice + \"_\" + extra + \"_\" + str(seed) + \"_mean.npy\", data[\"mean\"])\n",
    "#                 np.save(path + \"/\" + datasource + \"_\" + feature_choice + \"_\" + extra + \"_\" + str(seed) + \"_var.npy\", data[\"var\"])\n",
    "\n",
    "datasource = \"mean\"\n",
    "feature_choice = \"normal\"\n",
    "var_control = .1\n",
    "sampler = ConditionalBimodal(*getStatistics(datasource, var_control), spread = 2)\n",
    "mean_func, var_func = sampler.getFunctions()\n",
    "features = 10\n",
    "data_params = {\"size\": 1000, \"dim\": features, \"lambda\": var_control, \"var_dim\": var_dim, \"high\": 10, \"low\": 0}\n",
    "extra = \"high_coupling\" if data_params[\"lambda\"] >= 1 else \"low_coupling\"\n",
    "\n",
    "for seed in seeds:\n",
    "    data = init_synth(\"normal\", sampler, seed = seed, params = data_params, to_torch = True)\n",
    "    np.save(path + \"/bimodal_\" + str(seed) + \"_X.npy\", data[\"X\"])\n",
    "    np.save(path + \"/bimodal_\" + str(seed) + \"_y.npy\", data[\"y\"])\n",
    "    np.save(path + \"/bimodal_\" + str(seed) + \"_mean.npy\", data[\"mean\"])\n",
    "    np.save(path + \"/bimodal_\" + str(seed) + \"_var.npy\", data[\"var\"])"
   ]
  }
 ],
 "metadata": {
  "kernelspec": {
   "display_name": "main",
   "language": "python",
   "name": "python3"
  },
  "language_info": {
   "codemirror_mode": {
    "name": "ipython",
    "version": 3
   },
   "file_extension": ".py",
   "mimetype": "text/x-python",
   "name": "python",
   "nbconvert_exporter": "python",
   "pygments_lexer": "ipython3",
   "version": "3.10.11"
  },
  "orig_nbformat": 4
 },
 "nbformat": 4,
 "nbformat_minor": 2
}
