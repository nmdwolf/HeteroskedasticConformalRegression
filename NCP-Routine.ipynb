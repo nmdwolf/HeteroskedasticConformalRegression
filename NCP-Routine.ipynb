{
 "cells": [
  {
   "cell_type": "code",
   "execution_count": 1,
   "id": "95b2d996",
   "metadata": {},
   "outputs": [
    {
     "ename": "KeyboardInterrupt",
     "evalue": "",
     "output_type": "error",
     "traceback": [
      "\u001b[1;31m---------------------------------------------------------------------------\u001b[0m",
      "\u001b[1;31mKeyboardInterrupt\u001b[0m                         Traceback (most recent call last)",
      "Cell \u001b[1;32mIn[1], line 7\u001b[0m\n\u001b[0;32m      5\u001b[0m \u001b[39mimport\u001b[39;00m \u001b[39mpandas\u001b[39;00m \u001b[39mas\u001b[39;00m \u001b[39mpd\u001b[39;00m\n\u001b[0;32m      6\u001b[0m \u001b[39mfrom\u001b[39;00m \u001b[39mscipy\u001b[39;00m\u001b[39m.\u001b[39;00m\u001b[39moptimize\u001b[39;00m \u001b[39mimport\u001b[39;00m minimize_scalar \u001b[39mas\u001b[39;00m minimize\n\u001b[1;32m----> 7\u001b[0m \u001b[39mimport\u001b[39;00m \u001b[39mstatsmodels\u001b[39;00m\u001b[39m.\u001b[39;00m\u001b[39mapi\u001b[39;00m \u001b[39mas\u001b[39;00m \u001b[39msm\u001b[39;00m\n\u001b[0;32m      8\u001b[0m \u001b[39mfrom\u001b[39;00m \u001b[39mstatsmodels\u001b[39;00m\u001b[39m.\u001b[39;00m\u001b[39mstats\u001b[39;00m\u001b[39m.\u001b[39;00m\u001b[39mdiagnostic\u001b[39;00m \u001b[39mimport\u001b[39;00m het_white \u001b[39mas\u001b[39;00m white_test\n\u001b[0;32m     10\u001b[0m \u001b[39mimport\u001b[39;00m \u001b[39mmatplotlib\u001b[39;00m\u001b[39m.\u001b[39;00m\u001b[39mpyplot\u001b[39;00m \u001b[39mas\u001b[39;00m \u001b[39mplt\u001b[39;00m\n",
      "File \u001b[1;32mc:\\Users\\nmdwolf\\Anaconda3\\envs\\main\\lib\\site-packages\\statsmodels\\api.py:72\u001b[0m\n\u001b[0;32m      1\u001b[0m \u001b[39m# -*- coding: utf-8 -*-\u001b[39;00m\n\u001b[0;32m      3\u001b[0m __all__ \u001b[39m=\u001b[39m [\n\u001b[0;32m      4\u001b[0m     \u001b[39m\"\u001b[39m\u001b[39mBayesGaussMI\u001b[39m\u001b[39m\"\u001b[39m,\n\u001b[0;32m      5\u001b[0m     \u001b[39m\"\u001b[39m\u001b[39mBinomialBayesMixedGLM\u001b[39m\u001b[39m\"\u001b[39m,\n\u001b[1;32m   (...)\u001b[0m\n\u001b[0;32m     68\u001b[0m     \u001b[39m\"\u001b[39m\u001b[39mwebdoc\u001b[39m\u001b[39m\"\u001b[39m,\n\u001b[0;32m     69\u001b[0m ]\n\u001b[1;32m---> 72\u001b[0m \u001b[39mfrom\u001b[39;00m \u001b[39m.\u001b[39;00m \u001b[39mimport\u001b[39;00m datasets, distributions, iolib, regression, robust, tools\n\u001b[0;32m     73\u001b[0m \u001b[39mfrom\u001b[39;00m \u001b[39m.\u001b[39;00m\u001b[39m__init__\u001b[39;00m \u001b[39mimport\u001b[39;00m test\n\u001b[0;32m     74\u001b[0m \u001b[39mfrom\u001b[39;00m \u001b[39m.\u001b[39;00m\u001b[39mdiscrete\u001b[39;00m\u001b[39m.\u001b[39;00m\u001b[39mcount_model\u001b[39;00m \u001b[39mimport\u001b[39;00m (\n\u001b[0;32m     75\u001b[0m     ZeroInflatedGeneralizedPoisson,\n\u001b[0;32m     76\u001b[0m     ZeroInflatedNegativeBinomialP,\n\u001b[0;32m     77\u001b[0m     ZeroInflatedPoisson,\n\u001b[0;32m     78\u001b[0m )\n",
      "File \u001b[1;32mc:\\Users\\nmdwolf\\Anaconda3\\envs\\main\\lib\\site-packages\\statsmodels\\distributions\\__init__.py:3\u001b[0m\n\u001b[0;32m      1\u001b[0m \u001b[39mfrom\u001b[39;00m \u001b[39mstatsmodels\u001b[39;00m\u001b[39m.\u001b[39;00m\u001b[39mtools\u001b[39;00m\u001b[39m.\u001b[39;00m\u001b[39m_testing\u001b[39;00m \u001b[39mimport\u001b[39;00m PytestTester\n\u001b[0;32m      2\u001b[0m \u001b[39mfrom\u001b[39;00m \u001b[39m.\u001b[39;00m\u001b[39mempirical_distribution\u001b[39;00m \u001b[39mimport\u001b[39;00m ECDF, monotone_fn_inverter, StepFunction\n\u001b[1;32m----> 3\u001b[0m \u001b[39mfrom\u001b[39;00m \u001b[39m.\u001b[39;00m\u001b[39medgeworth\u001b[39;00m \u001b[39mimport\u001b[39;00m ExpandedNormal\n\u001b[0;32m      4\u001b[0m \u001b[39mfrom\u001b[39;00m \u001b[39m.\u001b[39;00m\u001b[39mdiscrete\u001b[39;00m \u001b[39mimport\u001b[39;00m genpoisson_p, zipoisson, zigenpoisson, zinegbin\n\u001b[0;32m      6\u001b[0m __all__ \u001b[39m=\u001b[39m [\u001b[39m'\u001b[39m\u001b[39mtest\u001b[39m\u001b[39m'\u001b[39m, \u001b[39m'\u001b[39m\u001b[39mECDF\u001b[39m\u001b[39m'\u001b[39m, \u001b[39m'\u001b[39m\u001b[39mmonotone_fn_inverter\u001b[39m\u001b[39m'\u001b[39m, \u001b[39m'\u001b[39m\u001b[39mStepFunction\u001b[39m\u001b[39m'\u001b[39m,\n\u001b[0;32m      7\u001b[0m            \u001b[39m'\u001b[39m\u001b[39mExpandedNormal\u001b[39m\u001b[39m'\u001b[39m, \u001b[39m'\u001b[39m\u001b[39mgenpoisson_p\u001b[39m\u001b[39m'\u001b[39m, \u001b[39m'\u001b[39m\u001b[39mzigenpoisson\u001b[39m\u001b[39m'\u001b[39m, \u001b[39m'\u001b[39m\u001b[39mzinegbin\u001b[39m\u001b[39m'\u001b[39m,\n\u001b[0;32m      8\u001b[0m            \u001b[39m'\u001b[39m\u001b[39mzipoisson\u001b[39m\u001b[39m'\u001b[39m]\n",
      "File \u001b[1;32mc:\\Users\\nmdwolf\\Anaconda3\\envs\\main\\lib\\site-packages\\statsmodels\\distributions\\edgeworth.py:7\u001b[0m\n\u001b[0;32m      5\u001b[0m \u001b[39mfrom\u001b[39;00m \u001b[39mnumpy\u001b[39;00m\u001b[39m.\u001b[39;00m\u001b[39mpolynomial\u001b[39;00m\u001b[39m.\u001b[39;00m\u001b[39mhermite_e\u001b[39;00m \u001b[39mimport\u001b[39;00m HermiteE\n\u001b[0;32m      6\u001b[0m \u001b[39mfrom\u001b[39;00m \u001b[39mscipy\u001b[39;00m\u001b[39m.\u001b[39;00m\u001b[39mspecial\u001b[39;00m \u001b[39mimport\u001b[39;00m factorial\n\u001b[1;32m----> 7\u001b[0m \u001b[39mfrom\u001b[39;00m \u001b[39mscipy\u001b[39;00m\u001b[39m.\u001b[39;00m\u001b[39mstats\u001b[39;00m \u001b[39mimport\u001b[39;00m rv_continuous\n\u001b[0;32m      8\u001b[0m \u001b[39mimport\u001b[39;00m \u001b[39mscipy\u001b[39;00m\u001b[39m.\u001b[39;00m\u001b[39mspecial\u001b[39;00m \u001b[39mas\u001b[39;00m \u001b[39mspecial\u001b[39;00m\n\u001b[0;32m     10\u001b[0m \u001b[39m# TODO:\u001b[39;00m\n\u001b[0;32m     11\u001b[0m \u001b[39m# * actually solve (31) of Blinnikov & Moessner\u001b[39;00m\n\u001b[0;32m     12\u001b[0m \u001b[39m# * numerical stability: multiply factorials in logspace?\u001b[39;00m\n\u001b[0;32m     13\u001b[0m \u001b[39m# * ppf & friends: Cornish & Fisher series, or tabulate/solve\u001b[39;00m\n",
      "File \u001b[1;32mc:\\Users\\nmdwolf\\Anaconda3\\envs\\main\\lib\\site-packages\\scipy\\stats\\__init__.py:485\u001b[0m\n\u001b[0;32m      1\u001b[0m \u001b[39m\"\"\"\u001b[39;00m\n\u001b[0;32m      2\u001b[0m \u001b[39m.. _statsrefmanual:\u001b[39;00m\n\u001b[0;32m      3\u001b[0m \n\u001b[1;32m   (...)\u001b[0m\n\u001b[0;32m    480\u001b[0m \n\u001b[0;32m    481\u001b[0m \u001b[39m\"\"\"\u001b[39;00m\n\u001b[0;32m    483\u001b[0m \u001b[39mfrom\u001b[39;00m \u001b[39m.\u001b[39;00m\u001b[39m_warnings_errors\u001b[39;00m \u001b[39mimport\u001b[39;00m (ConstantInputWarning, NearConstantInputWarning,\n\u001b[0;32m    484\u001b[0m                                DegenerateDataWarning, FitError)\n\u001b[1;32m--> 485\u001b[0m \u001b[39mfrom\u001b[39;00m \u001b[39m.\u001b[39;00m\u001b[39m_stats_py\u001b[39;00m \u001b[39mimport\u001b[39;00m \u001b[39m*\u001b[39m\n\u001b[0;32m    486\u001b[0m \u001b[39mfrom\u001b[39;00m \u001b[39m.\u001b[39;00m\u001b[39m_variation\u001b[39;00m \u001b[39mimport\u001b[39;00m variation\n\u001b[0;32m    487\u001b[0m \u001b[39mfrom\u001b[39;00m \u001b[39m.\u001b[39;00m\u001b[39mdistributions\u001b[39;00m \u001b[39mimport\u001b[39;00m \u001b[39m*\u001b[39m\n",
      "File \u001b[1;32mc:\\Users\\nmdwolf\\Anaconda3\\envs\\main\\lib\\site-packages\\scipy\\stats\\_stats_py.py:46\u001b[0m\n\u001b[0;32m     44\u001b[0m \u001b[39mimport\u001b[39;00m \u001b[39mscipy\u001b[39;00m\u001b[39m.\u001b[39;00m\u001b[39mspecial\u001b[39;00m \u001b[39mas\u001b[39;00m \u001b[39mspecial\u001b[39;00m\n\u001b[0;32m     45\u001b[0m \u001b[39mfrom\u001b[39;00m \u001b[39mscipy\u001b[39;00m \u001b[39mimport\u001b[39;00m linalg\n\u001b[1;32m---> 46\u001b[0m \u001b[39mfrom\u001b[39;00m \u001b[39m.\u001b[39;00m \u001b[39mimport\u001b[39;00m distributions\n\u001b[0;32m     47\u001b[0m \u001b[39mfrom\u001b[39;00m \u001b[39m.\u001b[39;00m \u001b[39mimport\u001b[39;00m _mstats_basic \u001b[39mas\u001b[39;00m mstats_basic\n\u001b[0;32m     48\u001b[0m \u001b[39mfrom\u001b[39;00m \u001b[39m.\u001b[39;00m\u001b[39m_stats_mstats_common\u001b[39;00m \u001b[39mimport\u001b[39;00m (_find_repeats, linregress, theilslopes,\n\u001b[0;32m     49\u001b[0m                                    siegelslopes)\n",
      "File \u001b[1;32mc:\\Users\\nmdwolf\\Anaconda3\\envs\\main\\lib\\site-packages\\scipy\\stats\\distributions.py:8\u001b[0m\n\u001b[0;32m      1\u001b[0m \u001b[39m#\u001b[39;00m\n\u001b[0;32m      2\u001b[0m \u001b[39m# Author:  Travis Oliphant  2002-2011 with contributions from\u001b[39;00m\n\u001b[0;32m      3\u001b[0m \u001b[39m#          SciPy Developers 2004-2011\u001b[39;00m\n\u001b[1;32m   (...)\u001b[0m\n\u001b[0;32m      6\u001b[0m \u001b[39m#       instead of `git blame -Lxxx,+x`.\u001b[39;00m\n\u001b[0;32m      7\u001b[0m \u001b[39m#\u001b[39;00m\n\u001b[1;32m----> 8\u001b[0m \u001b[39mfrom\u001b[39;00m \u001b[39m.\u001b[39;00m\u001b[39m_distn_infrastructure\u001b[39;00m \u001b[39mimport\u001b[39;00m (rv_discrete, rv_continuous, rv_frozen)\n\u001b[0;32m     10\u001b[0m \u001b[39mfrom\u001b[39;00m \u001b[39m.\u001b[39;00m \u001b[39mimport\u001b[39;00m _continuous_distns\n\u001b[0;32m     11\u001b[0m \u001b[39mfrom\u001b[39;00m \u001b[39m.\u001b[39;00m \u001b[39mimport\u001b[39;00m _discrete_distns\n",
      "File \u001b[1;32mc:\\Users\\nmdwolf\\Anaconda3\\envs\\main\\lib\\site-packages\\scipy\\stats\\_distn_infrastructure.py:25\u001b[0m\n\u001b[0;32m     22\u001b[0m \u001b[39mfrom\u001b[39;00m \u001b[39mscipy\u001b[39;00m \u001b[39mimport\u001b[39;00m optimize\n\u001b[0;32m     24\u001b[0m \u001b[39m# for functions of continuous distributions (e.g. moments, entropy, cdf)\u001b[39;00m\n\u001b[1;32m---> 25\u001b[0m \u001b[39mfrom\u001b[39;00m \u001b[39mscipy\u001b[39;00m \u001b[39mimport\u001b[39;00m integrate\n\u001b[0;32m     27\u001b[0m \u001b[39m# to approximate the pdf of a continuous distribution given its cdf\u001b[39;00m\n\u001b[0;32m     28\u001b[0m \u001b[39mfrom\u001b[39;00m \u001b[39mscipy\u001b[39;00m\u001b[39m.\u001b[39;00m\u001b[39m_lib\u001b[39;00m\u001b[39m.\u001b[39;00m\u001b[39m_finite_differences\u001b[39;00m \u001b[39mimport\u001b[39;00m _derivative\n",
      "File \u001b[1;32m<frozen importlib._bootstrap>:1075\u001b[0m, in \u001b[0;36m_handle_fromlist\u001b[1;34m(module, fromlist, import_, recursive)\u001b[0m\n",
      "File \u001b[1;32mc:\\Users\\nmdwolf\\Anaconda3\\envs\\main\\lib\\site-packages\\scipy\\__init__.py:200\u001b[0m, in \u001b[0;36m__getattr__\u001b[1;34m(name)\u001b[0m\n\u001b[0;32m    198\u001b[0m \u001b[39mdef\u001b[39;00m \u001b[39m__getattr__\u001b[39m(name):\n\u001b[0;32m    199\u001b[0m     \u001b[39mif\u001b[39;00m name \u001b[39min\u001b[39;00m submodules:\n\u001b[1;32m--> 200\u001b[0m         \u001b[39mreturn\u001b[39;00m _importlib\u001b[39m.\u001b[39;49mimport_module(\u001b[39mf\u001b[39;49m\u001b[39m'\u001b[39;49m\u001b[39mscipy.\u001b[39;49m\u001b[39m{\u001b[39;49;00mname\u001b[39m}\u001b[39;49;00m\u001b[39m'\u001b[39;49m)\n\u001b[0;32m    201\u001b[0m     \u001b[39melse\u001b[39;00m:\n\u001b[0;32m    202\u001b[0m         \u001b[39mtry\u001b[39;00m:\n",
      "File \u001b[1;32mc:\\Users\\nmdwolf\\Anaconda3\\envs\\main\\lib\\importlib\\__init__.py:126\u001b[0m, in \u001b[0;36mimport_module\u001b[1;34m(name, package)\u001b[0m\n\u001b[0;32m    124\u001b[0m             \u001b[39mbreak\u001b[39;00m\n\u001b[0;32m    125\u001b[0m         level \u001b[39m+\u001b[39m\u001b[39m=\u001b[39m \u001b[39m1\u001b[39m\n\u001b[1;32m--> 126\u001b[0m \u001b[39mreturn\u001b[39;00m _bootstrap\u001b[39m.\u001b[39;49m_gcd_import(name[level:], package, level)\n",
      "File \u001b[1;32mc:\\Users\\nmdwolf\\Anaconda3\\envs\\main\\lib\\site-packages\\scipy\\integrate\\__init__.py:94\u001b[0m\n\u001b[0;32m     92\u001b[0m \u001b[39mfrom\u001b[39;00m \u001b[39m.\u001b[39;00m\u001b[39m_odepack_py\u001b[39;00m \u001b[39mimport\u001b[39;00m \u001b[39m*\u001b[39m\n\u001b[0;32m     93\u001b[0m \u001b[39mfrom\u001b[39;00m \u001b[39m.\u001b[39;00m\u001b[39m_quadpack_py\u001b[39;00m \u001b[39mimport\u001b[39;00m \u001b[39m*\u001b[39m\n\u001b[1;32m---> 94\u001b[0m \u001b[39mfrom\u001b[39;00m \u001b[39m.\u001b[39;00m\u001b[39m_ode\u001b[39;00m \u001b[39mimport\u001b[39;00m \u001b[39m*\u001b[39m\n\u001b[0;32m     95\u001b[0m \u001b[39mfrom\u001b[39;00m \u001b[39m.\u001b[39;00m\u001b[39m_bvp\u001b[39;00m \u001b[39mimport\u001b[39;00m solve_bvp\n\u001b[0;32m     96\u001b[0m \u001b[39mfrom\u001b[39;00m \u001b[39m.\u001b[39;00m\u001b[39m_ivp\u001b[39;00m \u001b[39mimport\u001b[39;00m (solve_ivp, OdeSolution, DenseOutput,\n\u001b[0;32m     97\u001b[0m                    OdeSolver, RK23, RK45, DOP853, Radau, BDF, LSODA)\n",
      "File \u001b[1;32mc:\\Users\\nmdwolf\\Anaconda3\\envs\\main\\lib\\site-packages\\scipy\\integrate\\_ode.py:90\u001b[0m\n\u001b[0;32m     88\u001b[0m \u001b[39mfrom\u001b[39;00m \u001b[39m.\u001b[39;00m \u001b[39mimport\u001b[39;00m _vode\n\u001b[0;32m     89\u001b[0m \u001b[39mfrom\u001b[39;00m \u001b[39m.\u001b[39;00m \u001b[39mimport\u001b[39;00m _dop\n\u001b[1;32m---> 90\u001b[0m \u001b[39mfrom\u001b[39;00m \u001b[39m.\u001b[39;00m \u001b[39mimport\u001b[39;00m _lsoda\n\u001b[0;32m     93\u001b[0m _dop_int_dtype \u001b[39m=\u001b[39m _dop\u001b[39m.\u001b[39mtypes\u001b[39m.\u001b[39mintvar\u001b[39m.\u001b[39mdtype\n\u001b[0;32m     94\u001b[0m _vode_int_dtype \u001b[39m=\u001b[39m _vode\u001b[39m.\u001b[39mtypes\u001b[39m.\u001b[39mintvar\u001b[39m.\u001b[39mdtype\n",
      "\u001b[1;31mKeyboardInterrupt\u001b[0m: "
     ]
    }
   ],
   "source": [
    "from itertools import cycle\n",
    "\n",
    "import numpy as np\n",
    "import pandas as pd\n",
    "\n",
    "import matplotlib.pyplot as plt\n",
    "import plotly\n",
    "import plotly.graph_objects as go\n",
    "from plotly.subplots import make_subplots\n",
    "\n",
    "from tqdm.notebook import tqdm\n",
    "\n",
    "from CP import *\n",
    "from INIT import *\n",
    "from Logger import *\n",
    "from QRF import QRF\n",
    "from QR import QR\n",
    "from Load import init as init_real\n",
    "from Load import *\n",
    "from L2MVE import L2MVE\n",
    "from MV import MV\n",
    "\n",
    "plotly.offline.init_notebook_mode(connected=True)\n",
    "plt.rcParams['text.usetex'] = True"
   ]
  },
  {
   "cell_type": "code",
   "execution_count": null,
   "id": "48910cc7",
   "metadata": {},
   "outputs": [],
   "source": [
    "dim = 64\n",
    "drop = 0.2\n",
    "batch = 64\n",
    "epochs = 300\n",
    "layers = 3\n",
    "rate = 5e-4\n",
    "decay = 1e-6\n",
    "target = \"cpu\"\n",
    "act = \"ReLU\"\n",
    "\n",
    "seeds = [13, 2, 47, 1, 15, 31, 89, 666, 3, 43, 5197, 558213, 4236, 410, 74888, 1563, 1794, 711489, 156874, 123, \\\n",
    "    744741,442262,53750,550509,751836,73427,316551,321489,264450,691340, \\\n",
    "    256212,248195,322953,469088,515349,717046,904096,600809,566875,335409, \\\n",
    "    128274,11299,40740,135231,78276,268373,148066,569507,212406,584182]\n",
    "seeds = seeds[:10]\n",
    "\n",
    "alpha = 0.1\n",
    "var_bins = 3\n",
    "var_dim = 0\n",
    "var_control = 1\n",
    "\n",
    "plot_clusters = False\n",
    "\n",
    "datasource = \"mean\"\n",
    "feature_choice = \"uniform\"\n",
    "sampler = ConditionalNormal(*getStatistics(datasource, var_control))\n",
    "mean_func, var_func = sampler.getFunctions()\n",
    "features = 10\n",
    "model_params = {\"act\": act, \"hidden_dim\": dim, \"drop\": drop, \"rate\": rate, \"epochs\": epochs, \"hidden_layers\": layers, \"batch\": batch, \"verbose\": False, \"decay\": decay}\n",
    "data_params = {\"size\": 1000, \"dim\": features, \"lambda\": var_control, \"var_dim\": var_dim, \"high\": 10, \"low\": 0}\n",
    "extra = \"high_coupling\" if data_params[\"lambda\"] >= 1 else \"low_coupling\"\n",
    "\n",
    "# datasource = \"crime2\"\n",
    "# feature_choice = None\n",
    "\n",
    "if feature_choice:\n",
    "    datasource += \"_\" + sampler.description() + \"_\" + extra\n",
    "    folder = \"./PLOTS/\" + str(data_params[\"size\"]) + \"/\" + feature_choice + \"/DIM\" + str(features) + \"/\"\n",
    "else:\n",
    "    folder = \"./PLOTS/REAL/\"\n",
    "\n",
    "with open(folder + datasource + \"-settings.txt\", \"w\") as file:\n",
    "    file.write(\"Data: \" + str(data_params))\n",
    "    file.write(\"\\n\\n\")\n",
    "    file.write(\"Model: \" + str(model_params))"
   ]
  },
  {
   "cell_type": "code",
   "execution_count": null,
   "id": "88fac970",
   "metadata": {},
   "outputs": [],
   "source": [
    "def routine(datasource, feature_choice, seed, data_params, model_params):\n",
    "\n",
    "     if feature_choice:\n",
    "          data = init_real(\"synth\" + datasource, seed = seed, to_torch = True)\n",
    "     else:\n",
    "          data = init_real(datasource, seed = seed, to_torch = True)\n",
    "\n",
    "\n",
    "     logger = Logger(data, folder, datasource, seed, var_bins = var_bins, alpha = alpha, synthetic = feature_choice != None)\n",
    "\n",
    "\n",
    "     qr = QR(input = data[\"X_train\"].shape[1], alpha = alpha, params = model_params)\n",
    "     qr.train(data[\"X_train\"], data[\"y_train\"], MinibatchSampler(batch), target = target, epochs = epochs)\n",
    "     qr2 = QR(input = data[\"X_train\"].shape[1], alpha = 2 * alpha, params = model_params)\n",
    "     qr2.train(data[\"X_train\"], data[\"y_train\"], MinibatchSampler(batch), target = target, epochs = epochs)\n",
    "\n",
    "     qrf = QRF(alpha = alpha, params = model_params)\n",
    "     qrf.train(data[\"X_train\"], data[\"y_train\"], MinibatchSampler(batch), target = target)\n",
    "     qrf2 = QRF(alpha = 2 * alpha, params = model_params)\n",
    "     qrf2.train(data[\"X_train\"], data[\"y_train\"], MinibatchSampler(batch), target = target)\n",
    "\n",
    "     mv = MV(input = data[\"X_train\"].shape[1], params = model_params)\n",
    "     mv.train(data[\"X_train\"], data[\"y_train\"], MinibatchSampler(batch), target = target, epochs = epochs)\n",
    "     \n",
    "     kg = L2MVE(input = data[\"X_train\"].shape[1], params = model_params)\n",
    "     kg.train(data[\"X_train\"], data[\"y_train\"], MinibatchSampler(batch), target = target, epochs = epochs)\n",
    "\n",
    "     logger.register(qr, \"QR*\")\n",
    "     logger.register(qr2, \"QR\")\n",
    "     logger.register(qrf, \"QRF*\")\n",
    "     logger.register(qrf2, \"QRF\")\n",
    "\n",
    "     logger.register(mv)\n",
    "     logger.register(kg)\n",
    "     \n",
    "     logger.run()\n",
    "     return logger"
   ]
  },
  {
   "cell_type": "code",
   "execution_count": null,
   "id": "2d70530e",
   "metadata": {},
   "outputs": [
    {
     "data": {
      "application/vnd.jupyter.widget-view+json": {
       "model_id": "f8c2347d0f064c838bc592604dc79d7d",
       "version_major": 2,
       "version_minor": 0
      },
      "text/plain": [
       "  0%|          | 0/10 [00:00<?, ?it/s]"
      ]
     },
     "metadata": {},
     "output_type": "display_data"
    }
   ],
   "source": [
    "r2s_marginal = []\n",
    "coverages_marginal = []\n",
    "widths_marginal = []\n",
    "columns_marginal = None\n",
    "\n",
    "r2s_conditional = []\n",
    "coverages_conditional = []\n",
    "widths_conditional = []\n",
    "columns_conditional = []\n",
    "\n",
    "ks_names = None\n",
    "ks = []\n",
    "    \n",
    "for i, s in enumerate(tqdm(seeds)):\n",
    "    logger = routine(datasource, feature_choice, s, data_params, model_params)\n",
    "    \n",
    "    result = logger.to_array()\n",
    "    result_conditional = logger.to_array_conditional()\n",
    "\n",
    "    r2s_marginal.append(result[0])\n",
    "    coverages_marginal.append(result[1])\n",
    "    widths_marginal.append(result[2])\n",
    "    columns_marginal = result[3]\n",
    "    \n",
    "    r2s_conditional.append(result_conditional[0])\n",
    "    coverages_conditional.append(result_conditional[1])\n",
    "    widths_conditional.append(result_conditional[2])\n",
    "    columns_conditional = result_conditional[3]\n",
    "\n",
    "    ks_values, ks_names = logger.run_KS()\n",
    "    ks.append(ks_values)\n",
    "\n",
    "r2s_marginal = np.stack(r2s_marginal, axis = 0)\n",
    "coverages_marginal = np.stack(coverages_marginal, axis = 0)\n",
    "widths_marginal = np.stack(widths_marginal, axis = 0)\n",
    "\n",
    "r2s_conditional = np.stack(r2s_conditional, axis = 0)\n",
    "coverages_conditional = np.stack(coverages_conditional, axis = 0)\n",
    "widths_conditional = np.stack(widths_conditional, axis = 0)\n",
    "ks = np.stack(ks, axis = 0)"
   ]
  },
  {
   "cell_type": "code",
   "execution_count": null,
   "id": "a9f6869e",
   "metadata": {},
   "outputs": [
    {
     "data": {
      "application/vnd.plotly.v1+json": {
       "config": {
        "plotlyServerURL": "https://plot.ly"
       },
       "data": [
        {
         "line": {
          "color": "rgb(31, 119, 180)"
         },
         "showlegend": false,
         "spanmode": "hard",
         "type": "violin",
         "x0": 0,
         "y": [
          0.823,
          0.84,
          0.793,
          0.832,
          0.808,
          0.839,
          0.799,
          0.806,
          0.824,
          0.818
         ]
        },
        {
         "marker": {
          "color": "rgb(179,226,205)",
          "size": 7,
          "symbol": "square"
         },
         "mode": "markers",
         "name": "QR",
         "type": "scatter",
         "x": [
          null
         ],
         "y": [
          null
         ]
        },
        {
         "line": {
          "color": "rgb(255, 127, 14)"
         },
         "showlegend": false,
         "spanmode": "hard",
         "type": "violin",
         "x0": 1,
         "y": [
          0.916,
          0.911,
          0.878,
          0.906,
          0.885,
          0.901,
          0.882,
          0.885,
          0.894,
          0.902
         ]
        },
        {
         "line": {
          "color": "rgb(44, 160, 44)"
         },
         "showlegend": false,
         "spanmode": "hard",
         "type": "violin",
         "x0": 2,
         "y": [
          0.915,
          0.91,
          0.883,
          0.912,
          0.89,
          0.898,
          0.876,
          0.881,
          0.892,
          0.899
         ]
        },
        {
         "line": {
          "color": "rgb(214, 39, 40)"
         },
         "showlegend": false,
         "spanmode": "hard",
         "type": "violin",
         "x0": 3,
         "y": [
          0.923,
          0.903,
          0.885,
          0.911,
          0.892,
          0.897,
          0.875,
          0.879,
          0.893,
          0.9
         ]
        },
        {
         "line": {
          "color": "rgb(31, 119, 180)"
         },
         "showlegend": false,
         "spanmode": "hard",
         "type": "violin",
         "x0": 4,
         "y": [
          0.924,
          0.924,
          0.885,
          0.928,
          0.908,
          0.911,
          0.907,
          0.896,
          0.918,
          0.918
         ]
        },
        {
         "marker": {
          "color": "rgb(253,205,172)",
          "size": 7,
          "symbol": "square"
         },
         "mode": "markers",
         "name": "QRF",
         "type": "scatter",
         "x": [
          null
         ],
         "y": [
          null
         ]
        },
        {
         "line": {
          "color": "rgb(255, 127, 14)"
         },
         "showlegend": false,
         "spanmode": "hard",
         "type": "violin",
         "x0": 5,
         "y": [
          0.915,
          0.903,
          0.886,
          0.902,
          0.898,
          0.902,
          0.904,
          0.897,
          0.879,
          0.906
         ]
        },
        {
         "line": {
          "color": "rgb(44, 160, 44)"
         },
         "showlegend": false,
         "spanmode": "hard",
         "type": "violin",
         "x0": 6,
         "y": [
          0.913,
          0.9,
          0.885,
          0.898,
          0.889,
          0.902,
          0.896,
          0.901,
          0.881,
          0.909
         ]
        },
        {
         "line": {
          "color": "rgb(214, 39, 40)"
         },
         "showlegend": false,
         "spanmode": "hard",
         "type": "violin",
         "x0": 7,
         "y": [
          0.919,
          0.894,
          0.889,
          0.906,
          0.894,
          0.9,
          0.894,
          0.892,
          0.884,
          0.902
         ]
        },
        {
         "line": {
          "color": "rgb(31, 119, 180)"
         },
         "showlegend": false,
         "spanmode": "hard",
         "type": "violin",
         "x0": 8,
         "y": [
          0.813,
          0.829,
          0.788,
          0.842,
          0.784,
          0.824,
          0.803,
          0.802,
          0.814,
          0.825
         ]
        },
        {
         "marker": {
          "color": "rgb(203,213,232)",
          "size": 7,
          "symbol": "square"
         },
         "mode": "markers",
         "name": "MV",
         "type": "scatter",
         "x": [
          null
         ],
         "y": [
          null
         ]
        },
        {
         "line": {
          "color": "rgb(255, 127, 14)"
         },
         "showlegend": false,
         "spanmode": "hard",
         "type": "violin",
         "x0": 9,
         "y": [
          0.899,
          0.914,
          0.887,
          0.899,
          0.893,
          0.892,
          0.885,
          0.891,
          0.885,
          0.904
         ]
        },
        {
         "line": {
          "color": "rgb(44, 160, 44)"
         },
         "showlegend": false,
         "spanmode": "hard",
         "type": "violin",
         "x0": 10,
         "y": [
          0.901,
          0.903,
          0.89,
          0.902,
          0.897,
          0.892,
          0.892,
          0.884,
          0.889,
          0.9
         ]
        },
        {
         "line": {
          "color": "rgb(214, 39, 40)"
         },
         "showlegend": false,
         "spanmode": "hard",
         "type": "violin",
         "x0": 11,
         "y": [
          0.902,
          0.902,
          0.892,
          0.903,
          0.901,
          0.887,
          0.893,
          0.888,
          0.893,
          0.903
         ]
        },
        {
         "line": {
          "color": "rgb(31, 119, 180)"
         },
         "showlegend": false,
         "spanmode": "hard",
         "type": "violin",
         "x0": 12,
         "y": [
          0.859,
          0.867,
          0.838,
          0.877,
          0.851,
          0.855,
          0.841,
          0.837,
          0.872,
          0.873
         ]
        },
        {
         "marker": {
          "color": "rgb(244,202,228)",
          "size": 7,
          "symbol": "square"
         },
         "mode": "markers",
         "name": "MVE",
         "type": "scatter",
         "x": [
          null
         ],
         "y": [
          null
         ]
        },
        {
         "line": {
          "color": "rgb(255, 127, 14)"
         },
         "showlegend": false,
         "spanmode": "hard",
         "type": "violin",
         "x0": 13,
         "y": [
          0.902,
          0.913,
          0.892,
          0.901,
          0.891,
          0.891,
          0.879,
          0.883,
          0.886,
          0.893
         ]
        },
        {
         "line": {
          "color": "rgb(44, 160, 44)"
         },
         "showlegend": false,
         "spanmode": "hard",
         "type": "violin",
         "x0": 14,
         "y": [
          0.902,
          0.908,
          0.887,
          0.896,
          0.883,
          0.886,
          0.878,
          0.888,
          0.899,
          0.89
         ]
        },
        {
         "line": {
          "color": "rgb(214, 39, 40)"
         },
         "showlegend": false,
         "spanmode": "hard",
         "type": "violin",
         "x0": 15,
         "y": [
          0.908,
          0.907,
          0.888,
          0.898,
          0.884,
          0.888,
          0.878,
          0.886,
          0.897,
          0.889
         ]
        },
        {
         "line": {
          "color": "red",
          "dash": "dot"
         },
         "marker": {
          "opacity": 0
         },
         "name": "Target coverage",
         "showlegend": false,
         "type": "scatter",
         "x": [
          -0.5,
          15.5
         ],
         "y": [
          0.9,
          0.9
         ]
        }
       ],
       "layout": {
        "height": 750,
        "margin": {
         "b": 0,
         "l": 0,
         "r": 0,
         "t": 70
        },
        "shapes": [
         {
          "fillcolor": "rgb(179,226,205)",
          "layer": "below",
          "line": {
           "width": 0
          },
          "name": "QR-base",
          "opacity": 0.5,
          "type": "rect",
          "x0": -0.5,
          "x1": 3.5,
          "xref": "x",
          "y0": 0,
          "y1": 1,
          "yref": "y domain"
         },
         {
          "fillcolor": "rgb(253,205,172)",
          "layer": "below",
          "line": {
           "width": 0
          },
          "name": "QRF-base",
          "opacity": 0.5,
          "type": "rect",
          "x0": 3.5,
          "x1": 7.5,
          "xref": "x",
          "y0": 0,
          "y1": 1,
          "yref": "y domain"
         },
         {
          "fillcolor": "rgb(203,213,232)",
          "layer": "below",
          "line": {
           "width": 0
          },
          "name": "MV-base",
          "opacity": 0.5,
          "type": "rect",
          "x0": 7.5,
          "x1": 11.5,
          "xref": "x",
          "y0": 0,
          "y1": 1,
          "yref": "y domain"
         },
         {
          "fillcolor": "rgb(244,202,228)",
          "layer": "below",
          "line": {
           "width": 0
          },
          "name": "MVE-base",
          "opacity": 0.5,
          "type": "rect",
          "x0": 11.5,
          "x1": 15.5,
          "xref": "x",
          "y0": 0,
          "y1": 1,
          "yref": "y domain"
         }
        ],
        "template": {
         "data": {
          "bar": [
           {
            "error_x": {
             "color": "#2a3f5f"
            },
            "error_y": {
             "color": "#2a3f5f"
            },
            "marker": {
             "line": {
              "color": "#E5ECF6",
              "width": 0.5
             },
             "pattern": {
              "fillmode": "overlay",
              "size": 10,
              "solidity": 0.2
             }
            },
            "type": "bar"
           }
          ],
          "barpolar": [
           {
            "marker": {
             "line": {
              "color": "#E5ECF6",
              "width": 0.5
             },
             "pattern": {
              "fillmode": "overlay",
              "size": 10,
              "solidity": 0.2
             }
            },
            "type": "barpolar"
           }
          ],
          "carpet": [
           {
            "aaxis": {
             "endlinecolor": "#2a3f5f",
             "gridcolor": "white",
             "linecolor": "white",
             "minorgridcolor": "white",
             "startlinecolor": "#2a3f5f"
            },
            "baxis": {
             "endlinecolor": "#2a3f5f",
             "gridcolor": "white",
             "linecolor": "white",
             "minorgridcolor": "white",
             "startlinecolor": "#2a3f5f"
            },
            "type": "carpet"
           }
          ],
          "choropleth": [
           {
            "colorbar": {
             "outlinewidth": 0,
             "ticks": ""
            },
            "type": "choropleth"
           }
          ],
          "contour": [
           {
            "colorbar": {
             "outlinewidth": 0,
             "ticks": ""
            },
            "colorscale": [
             [
              0,
              "#0d0887"
             ],
             [
              0.1111111111111111,
              "#46039f"
             ],
             [
              0.2222222222222222,
              "#7201a8"
             ],
             [
              0.3333333333333333,
              "#9c179e"
             ],
             [
              0.4444444444444444,
              "#bd3786"
             ],
             [
              0.5555555555555556,
              "#d8576b"
             ],
             [
              0.6666666666666666,
              "#ed7953"
             ],
             [
              0.7777777777777778,
              "#fb9f3a"
             ],
             [
              0.8888888888888888,
              "#fdca26"
             ],
             [
              1,
              "#f0f921"
             ]
            ],
            "type": "contour"
           }
          ],
          "contourcarpet": [
           {
            "colorbar": {
             "outlinewidth": 0,
             "ticks": ""
            },
            "type": "contourcarpet"
           }
          ],
          "heatmap": [
           {
            "colorbar": {
             "outlinewidth": 0,
             "ticks": ""
            },
            "colorscale": [
             [
              0,
              "#0d0887"
             ],
             [
              0.1111111111111111,
              "#46039f"
             ],
             [
              0.2222222222222222,
              "#7201a8"
             ],
             [
              0.3333333333333333,
              "#9c179e"
             ],
             [
              0.4444444444444444,
              "#bd3786"
             ],
             [
              0.5555555555555556,
              "#d8576b"
             ],
             [
              0.6666666666666666,
              "#ed7953"
             ],
             [
              0.7777777777777778,
              "#fb9f3a"
             ],
             [
              0.8888888888888888,
              "#fdca26"
             ],
             [
              1,
              "#f0f921"
             ]
            ],
            "type": "heatmap"
           }
          ],
          "heatmapgl": [
           {
            "colorbar": {
             "outlinewidth": 0,
             "ticks": ""
            },
            "colorscale": [
             [
              0,
              "#0d0887"
             ],
             [
              0.1111111111111111,
              "#46039f"
             ],
             [
              0.2222222222222222,
              "#7201a8"
             ],
             [
              0.3333333333333333,
              "#9c179e"
             ],
             [
              0.4444444444444444,
              "#bd3786"
             ],
             [
              0.5555555555555556,
              "#d8576b"
             ],
             [
              0.6666666666666666,
              "#ed7953"
             ],
             [
              0.7777777777777778,
              "#fb9f3a"
             ],
             [
              0.8888888888888888,
              "#fdca26"
             ],
             [
              1,
              "#f0f921"
             ]
            ],
            "type": "heatmapgl"
           }
          ],
          "histogram": [
           {
            "marker": {
             "pattern": {
              "fillmode": "overlay",
              "size": 10,
              "solidity": 0.2
             }
            },
            "type": "histogram"
           }
          ],
          "histogram2d": [
           {
            "colorbar": {
             "outlinewidth": 0,
             "ticks": ""
            },
            "colorscale": [
             [
              0,
              "#0d0887"
             ],
             [
              0.1111111111111111,
              "#46039f"
             ],
             [
              0.2222222222222222,
              "#7201a8"
             ],
             [
              0.3333333333333333,
              "#9c179e"
             ],
             [
              0.4444444444444444,
              "#bd3786"
             ],
             [
              0.5555555555555556,
              "#d8576b"
             ],
             [
              0.6666666666666666,
              "#ed7953"
             ],
             [
              0.7777777777777778,
              "#fb9f3a"
             ],
             [
              0.8888888888888888,
              "#fdca26"
             ],
             [
              1,
              "#f0f921"
             ]
            ],
            "type": "histogram2d"
           }
          ],
          "histogram2dcontour": [
           {
            "colorbar": {
             "outlinewidth": 0,
             "ticks": ""
            },
            "colorscale": [
             [
              0,
              "#0d0887"
             ],
             [
              0.1111111111111111,
              "#46039f"
             ],
             [
              0.2222222222222222,
              "#7201a8"
             ],
             [
              0.3333333333333333,
              "#9c179e"
             ],
             [
              0.4444444444444444,
              "#bd3786"
             ],
             [
              0.5555555555555556,
              "#d8576b"
             ],
             [
              0.6666666666666666,
              "#ed7953"
             ],
             [
              0.7777777777777778,
              "#fb9f3a"
             ],
             [
              0.8888888888888888,
              "#fdca26"
             ],
             [
              1,
              "#f0f921"
             ]
            ],
            "type": "histogram2dcontour"
           }
          ],
          "mesh3d": [
           {
            "colorbar": {
             "outlinewidth": 0,
             "ticks": ""
            },
            "type": "mesh3d"
           }
          ],
          "parcoords": [
           {
            "line": {
             "colorbar": {
              "outlinewidth": 0,
              "ticks": ""
             }
            },
            "type": "parcoords"
           }
          ],
          "pie": [
           {
            "automargin": true,
            "type": "pie"
           }
          ],
          "scatter": [
           {
            "fillpattern": {
             "fillmode": "overlay",
             "size": 10,
             "solidity": 0.2
            },
            "type": "scatter"
           }
          ],
          "scatter3d": [
           {
            "line": {
             "colorbar": {
              "outlinewidth": 0,
              "ticks": ""
             }
            },
            "marker": {
             "colorbar": {
              "outlinewidth": 0,
              "ticks": ""
             }
            },
            "type": "scatter3d"
           }
          ],
          "scattercarpet": [
           {
            "marker": {
             "colorbar": {
              "outlinewidth": 0,
              "ticks": ""
             }
            },
            "type": "scattercarpet"
           }
          ],
          "scattergeo": [
           {
            "marker": {
             "colorbar": {
              "outlinewidth": 0,
              "ticks": ""
             }
            },
            "type": "scattergeo"
           }
          ],
          "scattergl": [
           {
            "marker": {
             "colorbar": {
              "outlinewidth": 0,
              "ticks": ""
             }
            },
            "type": "scattergl"
           }
          ],
          "scattermapbox": [
           {
            "marker": {
             "colorbar": {
              "outlinewidth": 0,
              "ticks": ""
             }
            },
            "type": "scattermapbox"
           }
          ],
          "scatterpolar": [
           {
            "marker": {
             "colorbar": {
              "outlinewidth": 0,
              "ticks": ""
             }
            },
            "type": "scatterpolar"
           }
          ],
          "scatterpolargl": [
           {
            "marker": {
             "colorbar": {
              "outlinewidth": 0,
              "ticks": ""
             }
            },
            "type": "scatterpolargl"
           }
          ],
          "scatterternary": [
           {
            "marker": {
             "colorbar": {
              "outlinewidth": 0,
              "ticks": ""
             }
            },
            "type": "scatterternary"
           }
          ],
          "surface": [
           {
            "colorbar": {
             "outlinewidth": 0,
             "ticks": ""
            },
            "colorscale": [
             [
              0,
              "#0d0887"
             ],
             [
              0.1111111111111111,
              "#46039f"
             ],
             [
              0.2222222222222222,
              "#7201a8"
             ],
             [
              0.3333333333333333,
              "#9c179e"
             ],
             [
              0.4444444444444444,
              "#bd3786"
             ],
             [
              0.5555555555555556,
              "#d8576b"
             ],
             [
              0.6666666666666666,
              "#ed7953"
             ],
             [
              0.7777777777777778,
              "#fb9f3a"
             ],
             [
              0.8888888888888888,
              "#fdca26"
             ],
             [
              1,
              "#f0f921"
             ]
            ],
            "type": "surface"
           }
          ],
          "table": [
           {
            "cells": {
             "fill": {
              "color": "#EBF0F8"
             },
             "line": {
              "color": "white"
             }
            },
            "header": {
             "fill": {
              "color": "#C8D4E3"
             },
             "line": {
              "color": "white"
             }
            },
            "type": "table"
           }
          ]
         },
         "layout": {
          "annotationdefaults": {
           "arrowcolor": "#2a3f5f",
           "arrowhead": 0,
           "arrowwidth": 1
          },
          "autotypenumbers": "strict",
          "coloraxis": {
           "colorbar": {
            "outlinewidth": 0,
            "ticks": ""
           }
          },
          "colorscale": {
           "diverging": [
            [
             0,
             "#8e0152"
            ],
            [
             0.1,
             "#c51b7d"
            ],
            [
             0.2,
             "#de77ae"
            ],
            [
             0.3,
             "#f1b6da"
            ],
            [
             0.4,
             "#fde0ef"
            ],
            [
             0.5,
             "#f7f7f7"
            ],
            [
             0.6,
             "#e6f5d0"
            ],
            [
             0.7,
             "#b8e186"
            ],
            [
             0.8,
             "#7fbc41"
            ],
            [
             0.9,
             "#4d9221"
            ],
            [
             1,
             "#276419"
            ]
           ],
           "sequential": [
            [
             0,
             "#0d0887"
            ],
            [
             0.1111111111111111,
             "#46039f"
            ],
            [
             0.2222222222222222,
             "#7201a8"
            ],
            [
             0.3333333333333333,
             "#9c179e"
            ],
            [
             0.4444444444444444,
             "#bd3786"
            ],
            [
             0.5555555555555556,
             "#d8576b"
            ],
            [
             0.6666666666666666,
             "#ed7953"
            ],
            [
             0.7777777777777778,
             "#fb9f3a"
            ],
            [
             0.8888888888888888,
             "#fdca26"
            ],
            [
             1,
             "#f0f921"
            ]
           ],
           "sequentialminus": [
            [
             0,
             "#0d0887"
            ],
            [
             0.1111111111111111,
             "#46039f"
            ],
            [
             0.2222222222222222,
             "#7201a8"
            ],
            [
             0.3333333333333333,
             "#9c179e"
            ],
            [
             0.4444444444444444,
             "#bd3786"
            ],
            [
             0.5555555555555556,
             "#d8576b"
            ],
            [
             0.6666666666666666,
             "#ed7953"
            ],
            [
             0.7777777777777778,
             "#fb9f3a"
            ],
            [
             0.8888888888888888,
             "#fdca26"
            ],
            [
             1,
             "#f0f921"
            ]
           ]
          },
          "colorway": [
           "#636efa",
           "#EF553B",
           "#00cc96",
           "#ab63fa",
           "#FFA15A",
           "#19d3f3",
           "#FF6692",
           "#B6E880",
           "#FF97FF",
           "#FECB52"
          ],
          "font": {
           "color": "#2a3f5f"
          },
          "geo": {
           "bgcolor": "white",
           "lakecolor": "white",
           "landcolor": "#E5ECF6",
           "showlakes": true,
           "showland": true,
           "subunitcolor": "white"
          },
          "hoverlabel": {
           "align": "left"
          },
          "hovermode": "closest",
          "mapbox": {
           "style": "light"
          },
          "paper_bgcolor": "white",
          "plot_bgcolor": "#E5ECF6",
          "polar": {
           "angularaxis": {
            "gridcolor": "white",
            "linecolor": "white",
            "ticks": ""
           },
           "bgcolor": "#E5ECF6",
           "radialaxis": {
            "gridcolor": "white",
            "linecolor": "white",
            "ticks": ""
           }
          },
          "scene": {
           "xaxis": {
            "backgroundcolor": "#E5ECF6",
            "gridcolor": "white",
            "gridwidth": 2,
            "linecolor": "white",
            "showbackground": true,
            "ticks": "",
            "zerolinecolor": "white"
           },
           "yaxis": {
            "backgroundcolor": "#E5ECF6",
            "gridcolor": "white",
            "gridwidth": 2,
            "linecolor": "white",
            "showbackground": true,
            "ticks": "",
            "zerolinecolor": "white"
           },
           "zaxis": {
            "backgroundcolor": "#E5ECF6",
            "gridcolor": "white",
            "gridwidth": 2,
            "linecolor": "white",
            "showbackground": true,
            "ticks": "",
            "zerolinecolor": "white"
           }
          },
          "shapedefaults": {
           "line": {
            "color": "#2a3f5f"
           }
          },
          "ternary": {
           "aaxis": {
            "gridcolor": "white",
            "linecolor": "white",
            "ticks": ""
           },
           "baxis": {
            "gridcolor": "white",
            "linecolor": "white",
            "ticks": ""
           },
           "bgcolor": "#E5ECF6",
           "caxis": {
            "gridcolor": "white",
            "linecolor": "white",
            "ticks": ""
           }
          },
          "title": {
           "x": 0.05
          },
          "xaxis": {
           "automargin": true,
           "gridcolor": "white",
           "linecolor": "white",
           "ticks": "",
           "title": {
            "standoff": 15
           },
           "zerolinecolor": "white",
           "zerolinewidth": 2
          },
          "yaxis": {
           "automargin": true,
           "gridcolor": "white",
           "linecolor": "white",
           "ticks": "",
           "title": {
            "standoff": 15
           },
           "zerolinecolor": "white",
           "zerolinewidth": 2
          }
         }
        },
        "title": {
         "text": "$\\text{PI coverage (}\\alpha=0.1\\text{)}$"
        },
        "width": 750,
        "xaxis": {
         "range": [
          -0.5,
          15.5
         ],
         "tickangle": 45,
         "ticktext": [
          "",
          "base",
          "PointCP",
          "IntCP",
          "NCP",
          "base",
          "PointCP",
          "IntCP",
          "NCP",
          "base",
          "PointCP",
          "IntCP",
          "NCP",
          "base",
          "PointCP",
          "IntCP",
          "NCP",
          ""
         ],
         "tickvals": [
          -0.5,
          0,
          1,
          2,
          3,
          4,
          5,
          6,
          7,
          8,
          9,
          10,
          11,
          12,
          13,
          14,
          15,
          15.5
         ]
        },
        "yaxis": {
         "range": [
          0.7,
          1
         ]
        }
       }
      },
      "text/html": [
       "<div>                            <div id=\"a9cabe0d-1d3d-4f4c-9688-2f24cf83acf7\" class=\"plotly-graph-div\" style=\"height:750px; width:750px;\"></div>            <script type=\"text/javascript\">                require([\"plotly\"], function(Plotly) {                    window.PLOTLYENV=window.PLOTLYENV || {};                                    if (document.getElementById(\"a9cabe0d-1d3d-4f4c-9688-2f24cf83acf7\")) {                    Plotly.newPlot(                        \"a9cabe0d-1d3d-4f4c-9688-2f24cf83acf7\",                        [{\"line\":{\"color\":\"rgb(31, 119, 180)\"},\"showlegend\":false,\"spanmode\":\"hard\",\"x0\":0,\"y\":[0.823,0.84,0.793,0.832,0.808,0.839,0.799,0.806,0.824,0.818],\"type\":\"violin\"},{\"marker\":{\"color\":\"rgb(179,226,205)\",\"size\":7,\"symbol\":\"square\"},\"mode\":\"markers\",\"name\":\"QR\",\"x\":[null],\"y\":[null],\"type\":\"scatter\"},{\"line\":{\"color\":\"rgb(255, 127, 14)\"},\"showlegend\":false,\"spanmode\":\"hard\",\"x0\":1,\"y\":[0.916,0.911,0.878,0.906,0.885,0.901,0.882,0.885,0.894,0.902],\"type\":\"violin\"},{\"line\":{\"color\":\"rgb(44, 160, 44)\"},\"showlegend\":false,\"spanmode\":\"hard\",\"x0\":2,\"y\":[0.915,0.91,0.883,0.912,0.89,0.898,0.876,0.881,0.892,0.899],\"type\":\"violin\"},{\"line\":{\"color\":\"rgb(214, 39, 40)\"},\"showlegend\":false,\"spanmode\":\"hard\",\"x0\":3,\"y\":[0.923,0.903,0.885,0.911,0.892,0.897,0.875,0.879,0.893,0.9],\"type\":\"violin\"},{\"line\":{\"color\":\"rgb(31, 119, 180)\"},\"showlegend\":false,\"spanmode\":\"hard\",\"x0\":4,\"y\":[0.924,0.924,0.885,0.928,0.908,0.911,0.907,0.896,0.918,0.918],\"type\":\"violin\"},{\"marker\":{\"color\":\"rgb(253,205,172)\",\"size\":7,\"symbol\":\"square\"},\"mode\":\"markers\",\"name\":\"QRF\",\"x\":[null],\"y\":[null],\"type\":\"scatter\"},{\"line\":{\"color\":\"rgb(255, 127, 14)\"},\"showlegend\":false,\"spanmode\":\"hard\",\"x0\":5,\"y\":[0.915,0.903,0.886,0.902,0.898,0.902,0.904,0.897,0.879,0.906],\"type\":\"violin\"},{\"line\":{\"color\":\"rgb(44, 160, 44)\"},\"showlegend\":false,\"spanmode\":\"hard\",\"x0\":6,\"y\":[0.913,0.9,0.885,0.898,0.889,0.902,0.896,0.901,0.881,0.909],\"type\":\"violin\"},{\"line\":{\"color\":\"rgb(214, 39, 40)\"},\"showlegend\":false,\"spanmode\":\"hard\",\"x0\":7,\"y\":[0.919,0.894,0.889,0.906,0.894,0.9,0.894,0.892,0.884,0.902],\"type\":\"violin\"},{\"line\":{\"color\":\"rgb(31, 119, 180)\"},\"showlegend\":false,\"spanmode\":\"hard\",\"x0\":8,\"y\":[0.813,0.829,0.788,0.842,0.784,0.824,0.803,0.802,0.814,0.825],\"type\":\"violin\"},{\"marker\":{\"color\":\"rgb(203,213,232)\",\"size\":7,\"symbol\":\"square\"},\"mode\":\"markers\",\"name\":\"MV\",\"x\":[null],\"y\":[null],\"type\":\"scatter\"},{\"line\":{\"color\":\"rgb(255, 127, 14)\"},\"showlegend\":false,\"spanmode\":\"hard\",\"x0\":9,\"y\":[0.899,0.914,0.887,0.899,0.893,0.892,0.885,0.891,0.885,0.904],\"type\":\"violin\"},{\"line\":{\"color\":\"rgb(44, 160, 44)\"},\"showlegend\":false,\"spanmode\":\"hard\",\"x0\":10,\"y\":[0.901,0.903,0.89,0.902,0.897,0.892,0.892,0.884,0.889,0.9],\"type\":\"violin\"},{\"line\":{\"color\":\"rgb(214, 39, 40)\"},\"showlegend\":false,\"spanmode\":\"hard\",\"x0\":11,\"y\":[0.902,0.902,0.892,0.903,0.901,0.887,0.893,0.888,0.893,0.903],\"type\":\"violin\"},{\"line\":{\"color\":\"rgb(31, 119, 180)\"},\"showlegend\":false,\"spanmode\":\"hard\",\"x0\":12,\"y\":[0.859,0.867,0.838,0.877,0.851,0.855,0.841,0.837,0.872,0.873],\"type\":\"violin\"},{\"marker\":{\"color\":\"rgb(244,202,228)\",\"size\":7,\"symbol\":\"square\"},\"mode\":\"markers\",\"name\":\"MVE\",\"x\":[null],\"y\":[null],\"type\":\"scatter\"},{\"line\":{\"color\":\"rgb(255, 127, 14)\"},\"showlegend\":false,\"spanmode\":\"hard\",\"x0\":13,\"y\":[0.902,0.913,0.892,0.901,0.891,0.891,0.879,0.883,0.886,0.893],\"type\":\"violin\"},{\"line\":{\"color\":\"rgb(44, 160, 44)\"},\"showlegend\":false,\"spanmode\":\"hard\",\"x0\":14,\"y\":[0.902,0.908,0.887,0.896,0.883,0.886,0.878,0.888,0.899,0.89],\"type\":\"violin\"},{\"line\":{\"color\":\"rgb(214, 39, 40)\"},\"showlegend\":false,\"spanmode\":\"hard\",\"x0\":15,\"y\":[0.908,0.907,0.888,0.898,0.884,0.888,0.878,0.886,0.897,0.889],\"type\":\"violin\"},{\"line\":{\"color\":\"red\",\"dash\":\"dot\"},\"marker\":{\"opacity\":0},\"name\":\"Target coverage\",\"showlegend\":false,\"x\":[-0.5,15.5],\"y\":[0.9,0.9],\"type\":\"scatter\"}],                        {\"height\":750,\"template\":{\"data\":{\"histogram2dcontour\":[{\"type\":\"histogram2dcontour\",\"colorbar\":{\"outlinewidth\":0,\"ticks\":\"\"},\"colorscale\":[[0.0,\"#0d0887\"],[0.1111111111111111,\"#46039f\"],[0.2222222222222222,\"#7201a8\"],[0.3333333333333333,\"#9c179e\"],[0.4444444444444444,\"#bd3786\"],[0.5555555555555556,\"#d8576b\"],[0.6666666666666666,\"#ed7953\"],[0.7777777777777778,\"#fb9f3a\"],[0.8888888888888888,\"#fdca26\"],[1.0,\"#f0f921\"]]}],\"choropleth\":[{\"type\":\"choropleth\",\"colorbar\":{\"outlinewidth\":0,\"ticks\":\"\"}}],\"histogram2d\":[{\"type\":\"histogram2d\",\"colorbar\":{\"outlinewidth\":0,\"ticks\":\"\"},\"colorscale\":[[0.0,\"#0d0887\"],[0.1111111111111111,\"#46039f\"],[0.2222222222222222,\"#7201a8\"],[0.3333333333333333,\"#9c179e\"],[0.4444444444444444,\"#bd3786\"],[0.5555555555555556,\"#d8576b\"],[0.6666666666666666,\"#ed7953\"],[0.7777777777777778,\"#fb9f3a\"],[0.8888888888888888,\"#fdca26\"],[1.0,\"#f0f921\"]]}],\"heatmap\":[{\"type\":\"heatmap\",\"colorbar\":{\"outlinewidth\":0,\"ticks\":\"\"},\"colorscale\":[[0.0,\"#0d0887\"],[0.1111111111111111,\"#46039f\"],[0.2222222222222222,\"#7201a8\"],[0.3333333333333333,\"#9c179e\"],[0.4444444444444444,\"#bd3786\"],[0.5555555555555556,\"#d8576b\"],[0.6666666666666666,\"#ed7953\"],[0.7777777777777778,\"#fb9f3a\"],[0.8888888888888888,\"#fdca26\"],[1.0,\"#f0f921\"]]}],\"heatmapgl\":[{\"type\":\"heatmapgl\",\"colorbar\":{\"outlinewidth\":0,\"ticks\":\"\"},\"colorscale\":[[0.0,\"#0d0887\"],[0.1111111111111111,\"#46039f\"],[0.2222222222222222,\"#7201a8\"],[0.3333333333333333,\"#9c179e\"],[0.4444444444444444,\"#bd3786\"],[0.5555555555555556,\"#d8576b\"],[0.6666666666666666,\"#ed7953\"],[0.7777777777777778,\"#fb9f3a\"],[0.8888888888888888,\"#fdca26\"],[1.0,\"#f0f921\"]]}],\"contourcarpet\":[{\"type\":\"contourcarpet\",\"colorbar\":{\"outlinewidth\":0,\"ticks\":\"\"}}],\"contour\":[{\"type\":\"contour\",\"colorbar\":{\"outlinewidth\":0,\"ticks\":\"\"},\"colorscale\":[[0.0,\"#0d0887\"],[0.1111111111111111,\"#46039f\"],[0.2222222222222222,\"#7201a8\"],[0.3333333333333333,\"#9c179e\"],[0.4444444444444444,\"#bd3786\"],[0.5555555555555556,\"#d8576b\"],[0.6666666666666666,\"#ed7953\"],[0.7777777777777778,\"#fb9f3a\"],[0.8888888888888888,\"#fdca26\"],[1.0,\"#f0f921\"]]}],\"surface\":[{\"type\":\"surface\",\"colorbar\":{\"outlinewidth\":0,\"ticks\":\"\"},\"colorscale\":[[0.0,\"#0d0887\"],[0.1111111111111111,\"#46039f\"],[0.2222222222222222,\"#7201a8\"],[0.3333333333333333,\"#9c179e\"],[0.4444444444444444,\"#bd3786\"],[0.5555555555555556,\"#d8576b\"],[0.6666666666666666,\"#ed7953\"],[0.7777777777777778,\"#fb9f3a\"],[0.8888888888888888,\"#fdca26\"],[1.0,\"#f0f921\"]]}],\"mesh3d\":[{\"type\":\"mesh3d\",\"colorbar\":{\"outlinewidth\":0,\"ticks\":\"\"}}],\"scatter\":[{\"fillpattern\":{\"fillmode\":\"overlay\",\"size\":10,\"solidity\":0.2},\"type\":\"scatter\"}],\"parcoords\":[{\"type\":\"parcoords\",\"line\":{\"colorbar\":{\"outlinewidth\":0,\"ticks\":\"\"}}}],\"scatterpolargl\":[{\"type\":\"scatterpolargl\",\"marker\":{\"colorbar\":{\"outlinewidth\":0,\"ticks\":\"\"}}}],\"bar\":[{\"error_x\":{\"color\":\"#2a3f5f\"},\"error_y\":{\"color\":\"#2a3f5f\"},\"marker\":{\"line\":{\"color\":\"#E5ECF6\",\"width\":0.5},\"pattern\":{\"fillmode\":\"overlay\",\"size\":10,\"solidity\":0.2}},\"type\":\"bar\"}],\"scattergeo\":[{\"type\":\"scattergeo\",\"marker\":{\"colorbar\":{\"outlinewidth\":0,\"ticks\":\"\"}}}],\"scatterpolar\":[{\"type\":\"scatterpolar\",\"marker\":{\"colorbar\":{\"outlinewidth\":0,\"ticks\":\"\"}}}],\"histogram\":[{\"marker\":{\"pattern\":{\"fillmode\":\"overlay\",\"size\":10,\"solidity\":0.2}},\"type\":\"histogram\"}],\"scattergl\":[{\"type\":\"scattergl\",\"marker\":{\"colorbar\":{\"outlinewidth\":0,\"ticks\":\"\"}}}],\"scatter3d\":[{\"type\":\"scatter3d\",\"line\":{\"colorbar\":{\"outlinewidth\":0,\"ticks\":\"\"}},\"marker\":{\"colorbar\":{\"outlinewidth\":0,\"ticks\":\"\"}}}],\"scattermapbox\":[{\"type\":\"scattermapbox\",\"marker\":{\"colorbar\":{\"outlinewidth\":0,\"ticks\":\"\"}}}],\"scatterternary\":[{\"type\":\"scatterternary\",\"marker\":{\"colorbar\":{\"outlinewidth\":0,\"ticks\":\"\"}}}],\"scattercarpet\":[{\"type\":\"scattercarpet\",\"marker\":{\"colorbar\":{\"outlinewidth\":0,\"ticks\":\"\"}}}],\"carpet\":[{\"aaxis\":{\"endlinecolor\":\"#2a3f5f\",\"gridcolor\":\"white\",\"linecolor\":\"white\",\"minorgridcolor\":\"white\",\"startlinecolor\":\"#2a3f5f\"},\"baxis\":{\"endlinecolor\":\"#2a3f5f\",\"gridcolor\":\"white\",\"linecolor\":\"white\",\"minorgridcolor\":\"white\",\"startlinecolor\":\"#2a3f5f\"},\"type\":\"carpet\"}],\"table\":[{\"cells\":{\"fill\":{\"color\":\"#EBF0F8\"},\"line\":{\"color\":\"white\"}},\"header\":{\"fill\":{\"color\":\"#C8D4E3\"},\"line\":{\"color\":\"white\"}},\"type\":\"table\"}],\"barpolar\":[{\"marker\":{\"line\":{\"color\":\"#E5ECF6\",\"width\":0.5},\"pattern\":{\"fillmode\":\"overlay\",\"size\":10,\"solidity\":0.2}},\"type\":\"barpolar\"}],\"pie\":[{\"automargin\":true,\"type\":\"pie\"}]},\"layout\":{\"autotypenumbers\":\"strict\",\"colorway\":[\"#636efa\",\"#EF553B\",\"#00cc96\",\"#ab63fa\",\"#FFA15A\",\"#19d3f3\",\"#FF6692\",\"#B6E880\",\"#FF97FF\",\"#FECB52\"],\"font\":{\"color\":\"#2a3f5f\"},\"hovermode\":\"closest\",\"hoverlabel\":{\"align\":\"left\"},\"paper_bgcolor\":\"white\",\"plot_bgcolor\":\"#E5ECF6\",\"polar\":{\"bgcolor\":\"#E5ECF6\",\"angularaxis\":{\"gridcolor\":\"white\",\"linecolor\":\"white\",\"ticks\":\"\"},\"radialaxis\":{\"gridcolor\":\"white\",\"linecolor\":\"white\",\"ticks\":\"\"}},\"ternary\":{\"bgcolor\":\"#E5ECF6\",\"aaxis\":{\"gridcolor\":\"white\",\"linecolor\":\"white\",\"ticks\":\"\"},\"baxis\":{\"gridcolor\":\"white\",\"linecolor\":\"white\",\"ticks\":\"\"},\"caxis\":{\"gridcolor\":\"white\",\"linecolor\":\"white\",\"ticks\":\"\"}},\"coloraxis\":{\"colorbar\":{\"outlinewidth\":0,\"ticks\":\"\"}},\"colorscale\":{\"sequential\":[[0.0,\"#0d0887\"],[0.1111111111111111,\"#46039f\"],[0.2222222222222222,\"#7201a8\"],[0.3333333333333333,\"#9c179e\"],[0.4444444444444444,\"#bd3786\"],[0.5555555555555556,\"#d8576b\"],[0.6666666666666666,\"#ed7953\"],[0.7777777777777778,\"#fb9f3a\"],[0.8888888888888888,\"#fdca26\"],[1.0,\"#f0f921\"]],\"sequentialminus\":[[0.0,\"#0d0887\"],[0.1111111111111111,\"#46039f\"],[0.2222222222222222,\"#7201a8\"],[0.3333333333333333,\"#9c179e\"],[0.4444444444444444,\"#bd3786\"],[0.5555555555555556,\"#d8576b\"],[0.6666666666666666,\"#ed7953\"],[0.7777777777777778,\"#fb9f3a\"],[0.8888888888888888,\"#fdca26\"],[1.0,\"#f0f921\"]],\"diverging\":[[0,\"#8e0152\"],[0.1,\"#c51b7d\"],[0.2,\"#de77ae\"],[0.3,\"#f1b6da\"],[0.4,\"#fde0ef\"],[0.5,\"#f7f7f7\"],[0.6,\"#e6f5d0\"],[0.7,\"#b8e186\"],[0.8,\"#7fbc41\"],[0.9,\"#4d9221\"],[1,\"#276419\"]]},\"xaxis\":{\"gridcolor\":\"white\",\"linecolor\":\"white\",\"ticks\":\"\",\"title\":{\"standoff\":15},\"zerolinecolor\":\"white\",\"automargin\":true,\"zerolinewidth\":2},\"yaxis\":{\"gridcolor\":\"white\",\"linecolor\":\"white\",\"ticks\":\"\",\"title\":{\"standoff\":15},\"zerolinecolor\":\"white\",\"automargin\":true,\"zerolinewidth\":2},\"scene\":{\"xaxis\":{\"backgroundcolor\":\"#E5ECF6\",\"gridcolor\":\"white\",\"linecolor\":\"white\",\"showbackground\":true,\"ticks\":\"\",\"zerolinecolor\":\"white\",\"gridwidth\":2},\"yaxis\":{\"backgroundcolor\":\"#E5ECF6\",\"gridcolor\":\"white\",\"linecolor\":\"white\",\"showbackground\":true,\"ticks\":\"\",\"zerolinecolor\":\"white\",\"gridwidth\":2},\"zaxis\":{\"backgroundcolor\":\"#E5ECF6\",\"gridcolor\":\"white\",\"linecolor\":\"white\",\"showbackground\":true,\"ticks\":\"\",\"zerolinecolor\":\"white\",\"gridwidth\":2}},\"shapedefaults\":{\"line\":{\"color\":\"#2a3f5f\"}},\"annotationdefaults\":{\"arrowcolor\":\"#2a3f5f\",\"arrowhead\":0,\"arrowwidth\":1},\"geo\":{\"bgcolor\":\"white\",\"landcolor\":\"#E5ECF6\",\"subunitcolor\":\"white\",\"showland\":true,\"showlakes\":true,\"lakecolor\":\"white\"},\"title\":{\"x\":0.05},\"mapbox\":{\"style\":\"light\"}}},\"yaxis\":{\"range\":[0.7,1.0]},\"shapes\":[{\"fillcolor\":\"rgb(179,226,205)\",\"layer\":\"below\",\"line\":{\"width\":0},\"name\":\"QR-base\",\"opacity\":0.5,\"type\":\"rect\",\"x0\":-0.5,\"x1\":3.5,\"xref\":\"x\",\"y0\":0,\"y1\":1,\"yref\":\"y domain\"},{\"fillcolor\":\"rgb(253,205,172)\",\"layer\":\"below\",\"line\":{\"width\":0},\"name\":\"QRF-base\",\"opacity\":0.5,\"type\":\"rect\",\"x0\":3.5,\"x1\":7.5,\"xref\":\"x\",\"y0\":0,\"y1\":1,\"yref\":\"y domain\"},{\"fillcolor\":\"rgb(203,213,232)\",\"layer\":\"below\",\"line\":{\"width\":0},\"name\":\"MV-base\",\"opacity\":0.5,\"type\":\"rect\",\"x0\":7.5,\"x1\":11.5,\"xref\":\"x\",\"y0\":0,\"y1\":1,\"yref\":\"y domain\"},{\"fillcolor\":\"rgb(244,202,228)\",\"layer\":\"below\",\"line\":{\"width\":0},\"name\":\"MVE-base\",\"opacity\":0.5,\"type\":\"rect\",\"x0\":11.5,\"x1\":15.5,\"xref\":\"x\",\"y0\":0,\"y1\":1,\"yref\":\"y domain\"}],\"margin\":{\"l\":0,\"r\":0,\"t\":70,\"b\":0},\"width\":750,\"title\":{\"text\":\"$\\\\text{PI coverage (}\\\\alpha=0.1\\\\text{)}$\"},\"xaxis\":{\"range\":[-0.5,15.5],\"tickangle\":45,\"tickvals\":[-0.5,0,1,2,3,4,5,6,7,8,9,10,11,12,13,14,15,15.5],\"ticktext\":[\"\",\"base\",\"PointCP\",\"IntCP\",\"NCP\",\"base\",\"PointCP\",\"IntCP\",\"NCP\",\"base\",\"PointCP\",\"IntCP\",\"NCP\",\"base\",\"PointCP\",\"IntCP\",\"NCP\",\"\"]}},                        {\"responsive\": true}                    ).then(function(){\n",
       "                            \n",
       "var gd = document.getElementById('a9cabe0d-1d3d-4f4c-9688-2f24cf83acf7');\n",
       "var x = new MutationObserver(function (mutations, observer) {{\n",
       "        var display = window.getComputedStyle(gd).display;\n",
       "        if (!display || display === 'none') {{\n",
       "            console.log([gd, 'removed!']);\n",
       "            Plotly.purge(gd);\n",
       "            observer.disconnect();\n",
       "        }}\n",
       "}});\n",
       "\n",
       "// Listen for the removal of the full notebook cells\n",
       "var notebookContainer = gd.closest('#notebook-container');\n",
       "if (notebookContainer) {{\n",
       "    x.observe(notebookContainer, {childList: true});\n",
       "}}\n",
       "\n",
       "// Listen for the clearing of the current output cell\n",
       "var outputEl = gd.closest('.output');\n",
       "if (outputEl) {{\n",
       "    x.observe(outputEl, {childList: true});\n",
       "}}\n",
       "\n",
       "                        })                };                });            </script>        </div>"
      ]
     },
     "metadata": {},
     "output_type": "display_data"
    },
    {
     "data": {
      "application/vnd.plotly.v1+json": {
       "config": {
        "plotlyServerURL": "https://plot.ly"
       },
       "data": [
        {
         "line": {
          "color": "rgb(31, 119, 180)"
         },
         "showlegend": false,
         "spanmode": "hard",
         "type": "violin",
         "x0": 0,
         "y": [
          2.464708089828491,
          2.3559372425079346,
          2.417787790298462,
          2.3421425819396973,
          2.4273288249969482,
          2.4058666229248047,
          2.3701648712158203,
          2.381812810897827,
          2.3094871044158936,
          2.347914934158325
         ]
        },
        {
         "marker": {
          "color": "rgb(179,226,205)",
          "size": 7,
          "symbol": "square"
         },
         "mode": "markers",
         "name": "QR",
         "type": "scatter",
         "x": [
          null
         ],
         "y": [
          null
         ]
        },
        {
         "line": {
          "color": "rgb(255, 127, 14)"
         },
         "showlegend": false,
         "spanmode": "hard",
         "type": "violin",
         "x0": 1,
         "y": [
          3.153557538986206,
          2.89947772026062,
          3.038336753845215,
          2.8525593280792236,
          3.025372266769409,
          2.8583028316497803,
          2.8807058334350586,
          3.0564608573913574,
          2.795048713684082,
          2.947338104248047
         ]
        },
        {
         "line": {
          "color": "rgb(44, 160, 44)"
         },
         "showlegend": false,
         "spanmode": "hard",
         "type": "violin",
         "x0": 2,
         "y": [
          3.1000478267669678,
          2.8889353275299072,
          3.0516703128814697,
          2.842003583908081,
          3.0582144260406494,
          2.853694200515747,
          2.8640151023864746,
          3.0000576972961426,
          2.7927074432373047,
          2.9371304512023926
         ]
        },
        {
         "line": {
          "color": "rgb(214, 39, 40)"
         },
         "showlegend": false,
         "spanmode": "hard",
         "type": "violin",
         "x0": 3,
         "y": [
          3.2075273990631104,
          2.910160541534424,
          3.0815131664276123,
          2.860440492630005,
          3.0861010551452637,
          2.875606060028076,
          2.884601354598999,
          3.0396690368652344,
          2.820230007171631,
          2.934727430343628
         ]
        },
        {
         "line": {
          "color": "rgb(31, 119, 180)"
         },
         "showlegend": false,
         "spanmode": "hard",
         "type": "violin",
         "x0": 4,
         "y": [
          3.1301249843269585,
          3.091075805959105,
          3.0630500399440526,
          3.085516168043017,
          3.1356173245161774,
          3.0867880521982904,
          3.0491735562115903,
          3.0611695229202507,
          3.1105082112669944,
          3.061337025216221
         ]
        },
        {
         "marker": {
          "color": "rgb(253,205,172)",
          "size": 7,
          "symbol": "square"
         },
         "mode": "markers",
         "name": "QRF",
         "type": "scatter",
         "x": [
          null
         ],
         "y": [
          null
         ]
        },
        {
         "line": {
          "color": "rgb(255, 127, 14)"
         },
         "showlegend": false,
         "spanmode": "hard",
         "type": "violin",
         "x0": 5,
         "y": [
          3.0184794068336487,
          2.847674012184143,
          3.056888982653618,
          2.8149326145648956,
          3.007789060473442,
          2.9307109713554382,
          2.9865419194102287,
          2.972840428352356,
          2.751163601875305,
          3.002892881631851
         ]
        },
        {
         "line": {
          "color": "rgb(44, 160, 44)"
         },
         "showlegend": false,
         "spanmode": "hard",
         "type": "violin",
         "x0": 6,
         "y": [
          3.0341459975868466,
          2.799853554996848,
          3.053129494419694,
          2.807764701747894,
          2.947242731115222,
          2.927489699780941,
          2.957344479042292,
          3.014014521735907,
          2.7839966323286296,
          2.93661594954133
         ]
        },
        {
         "line": {
          "color": "rgb(214, 39, 40)"
         },
         "showlegend": false,
         "spanmode": "hard",
         "type": "violin",
         "x0": 7,
         "y": [
          3.055364723047218,
          2.7883886875045447,
          3.107363215707228,
          2.8483454575230778,
          2.9880421360239553,
          2.915554491089176,
          2.9453876183945584,
          2.938698275747435,
          2.7782504173304905,
          2.927850623842588
         ]
        },
        {
         "line": {
          "color": "rgb(31, 119, 180)"
         },
         "showlegend": false,
         "spanmode": "hard",
         "type": "violin",
         "x0": 8,
         "y": [
          2.4452974796295166,
          2.3674843311309814,
          2.4192018508911133,
          2.3961212635040283,
          2.3368372917175293,
          2.418977975845337,
          2.38724946975708,
          2.360750436782837,
          2.411468982696533,
          2.477027416229248
         ]
        },
        {
         "marker": {
          "color": "rgb(203,213,232)",
          "size": 7,
          "symbol": "square"
         },
         "mode": "markers",
         "name": "MV",
         "type": "scatter",
         "x": [
          null
         ],
         "y": [
          null
         ]
        },
        {
         "line": {
          "color": "rgb(255, 127, 14)"
         },
         "showlegend": false,
         "spanmode": "hard",
         "type": "violin",
         "x0": 9,
         "y": [
          3.0364301204681396,
          2.9787075519561768,
          3.051974058151245,
          2.803889751434326,
          3.0877151489257812,
          2.8337361812591553,
          2.8735711574554443,
          3.0157203674316406,
          2.791079044342041,
          2.9146552085876465
         ]
        },
        {
         "line": {
          "color": "rgb(44, 160, 44)"
         },
         "showlegend": false,
         "spanmode": "hard",
         "type": "violin",
         "x0": 10,
         "y": [
          3.074493408203125,
          2.9176294803619385,
          3.0666284561157227,
          2.825225591659546,
          3.1242454051971436,
          2.89225435256958,
          2.9103100299835205,
          3.022517204284668,
          2.8586912155151367,
          2.9255592823028564
         ]
        },
        {
         "line": {
          "color": "rgb(214, 39, 40)"
         },
         "showlegend": false,
         "spanmode": "hard",
         "type": "violin",
         "x0": 11,
         "y": [
          3.118104934692383,
          2.9213476181030273,
          3.1101436614990234,
          2.8555781841278076,
          3.1639838218688965,
          2.8895528316497803,
          2.9166810512542725,
          3.038787603378296,
          2.886751651763916,
          2.941326856613159
         ]
        },
        {
         "line": {
          "color": "rgb(31, 119, 180)"
         },
         "showlegend": false,
         "spanmode": "hard",
         "type": "violin",
         "x0": 12,
         "y": [
          2.6872498989105225,
          2.597691535949707,
          2.6553707122802734,
          2.6675257682800293,
          2.697927236557007,
          2.647111177444458,
          2.589482307434082,
          2.6108663082122803,
          2.642585039138794,
          2.6858279705047607
         ]
        },
        {
         "marker": {
          "color": "rgb(244,202,228)",
          "size": 7,
          "symbol": "square"
         },
         "mode": "markers",
         "name": "MVE",
         "type": "scatter",
         "x": [
          null
         ],
         "y": [
          null
         ]
        },
        {
         "line": {
          "color": "rgb(255, 127, 14)"
         },
         "showlegend": false,
         "spanmode": "hard",
         "type": "violin",
         "x0": 13,
         "y": [
          3.066343307495117,
          2.8767120838165283,
          3.0103654861450195,
          2.755826950073242,
          3.0329959392547607,
          2.8294293880462646,
          2.8362843990325928,
          2.988278388977051,
          2.76806378364563,
          2.854647397994995
         ]
        },
        {
         "line": {
          "color": "rgb(44, 160, 44)"
         },
         "showlegend": false,
         "spanmode": "hard",
         "type": "violin",
         "x0": 14,
         "y": [
          3.0568840503692627,
          2.860232353210449,
          3.034168004989624,
          2.7729785442352295,
          3.0238735675811768,
          2.8586502075195312,
          2.8198344707489014,
          3.033806562423706,
          2.8053836822509766,
          2.859273910522461
         ]
        },
        {
         "line": {
          "color": "rgb(214, 39, 40)"
         },
         "showlegend": false,
         "spanmode": "hard",
         "type": "violin",
         "x0": 15,
         "y": [
          3.0727198123931885,
          2.866697072982788,
          3.0413315296173096,
          2.78568434715271,
          3.0523955821990967,
          2.8613944053649902,
          2.8238935470581055,
          3.0475409030914307,
          2.8056905269622803,
          2.8516435623168945
         ]
        }
       ],
       "layout": {
        "height": 750,
        "margin": {
         "b": 0,
         "l": 0,
         "r": 0,
         "t": 70
        },
        "shapes": [
         {
          "fillcolor": "rgb(179,226,205)",
          "layer": "below",
          "line": {
           "width": 0
          },
          "opacity": 0.5,
          "type": "rect",
          "x0": -0.5,
          "x1": 3.5,
          "xref": "x",
          "y0": 0,
          "y1": 1,
          "yref": "y domain"
         },
         {
          "fillcolor": "rgb(253,205,172)",
          "layer": "below",
          "line": {
           "width": 0
          },
          "opacity": 0.5,
          "type": "rect",
          "x0": 3.5,
          "x1": 7.5,
          "xref": "x",
          "y0": 0,
          "y1": 1,
          "yref": "y domain"
         },
         {
          "fillcolor": "rgb(203,213,232)",
          "layer": "below",
          "line": {
           "width": 0
          },
          "opacity": 0.5,
          "type": "rect",
          "x0": 7.5,
          "x1": 11.5,
          "xref": "x",
          "y0": 0,
          "y1": 1,
          "yref": "y domain"
         },
         {
          "fillcolor": "rgb(244,202,228)",
          "layer": "below",
          "line": {
           "width": 0
          },
          "opacity": 0.5,
          "type": "rect",
          "x0": 11.5,
          "x1": 15.5,
          "xref": "x",
          "y0": 0,
          "y1": 1,
          "yref": "y domain"
         }
        ],
        "template": {
         "data": {
          "bar": [
           {
            "error_x": {
             "color": "#2a3f5f"
            },
            "error_y": {
             "color": "#2a3f5f"
            },
            "marker": {
             "line": {
              "color": "#E5ECF6",
              "width": 0.5
             },
             "pattern": {
              "fillmode": "overlay",
              "size": 10,
              "solidity": 0.2
             }
            },
            "type": "bar"
           }
          ],
          "barpolar": [
           {
            "marker": {
             "line": {
              "color": "#E5ECF6",
              "width": 0.5
             },
             "pattern": {
              "fillmode": "overlay",
              "size": 10,
              "solidity": 0.2
             }
            },
            "type": "barpolar"
           }
          ],
          "carpet": [
           {
            "aaxis": {
             "endlinecolor": "#2a3f5f",
             "gridcolor": "white",
             "linecolor": "white",
             "minorgridcolor": "white",
             "startlinecolor": "#2a3f5f"
            },
            "baxis": {
             "endlinecolor": "#2a3f5f",
             "gridcolor": "white",
             "linecolor": "white",
             "minorgridcolor": "white",
             "startlinecolor": "#2a3f5f"
            },
            "type": "carpet"
           }
          ],
          "choropleth": [
           {
            "colorbar": {
             "outlinewidth": 0,
             "ticks": ""
            },
            "type": "choropleth"
           }
          ],
          "contour": [
           {
            "colorbar": {
             "outlinewidth": 0,
             "ticks": ""
            },
            "colorscale": [
             [
              0,
              "#0d0887"
             ],
             [
              0.1111111111111111,
              "#46039f"
             ],
             [
              0.2222222222222222,
              "#7201a8"
             ],
             [
              0.3333333333333333,
              "#9c179e"
             ],
             [
              0.4444444444444444,
              "#bd3786"
             ],
             [
              0.5555555555555556,
              "#d8576b"
             ],
             [
              0.6666666666666666,
              "#ed7953"
             ],
             [
              0.7777777777777778,
              "#fb9f3a"
             ],
             [
              0.8888888888888888,
              "#fdca26"
             ],
             [
              1,
              "#f0f921"
             ]
            ],
            "type": "contour"
           }
          ],
          "contourcarpet": [
           {
            "colorbar": {
             "outlinewidth": 0,
             "ticks": ""
            },
            "type": "contourcarpet"
           }
          ],
          "heatmap": [
           {
            "colorbar": {
             "outlinewidth": 0,
             "ticks": ""
            },
            "colorscale": [
             [
              0,
              "#0d0887"
             ],
             [
              0.1111111111111111,
              "#46039f"
             ],
             [
              0.2222222222222222,
              "#7201a8"
             ],
             [
              0.3333333333333333,
              "#9c179e"
             ],
             [
              0.4444444444444444,
              "#bd3786"
             ],
             [
              0.5555555555555556,
              "#d8576b"
             ],
             [
              0.6666666666666666,
              "#ed7953"
             ],
             [
              0.7777777777777778,
              "#fb9f3a"
             ],
             [
              0.8888888888888888,
              "#fdca26"
             ],
             [
              1,
              "#f0f921"
             ]
            ],
            "type": "heatmap"
           }
          ],
          "heatmapgl": [
           {
            "colorbar": {
             "outlinewidth": 0,
             "ticks": ""
            },
            "colorscale": [
             [
              0,
              "#0d0887"
             ],
             [
              0.1111111111111111,
              "#46039f"
             ],
             [
              0.2222222222222222,
              "#7201a8"
             ],
             [
              0.3333333333333333,
              "#9c179e"
             ],
             [
              0.4444444444444444,
              "#bd3786"
             ],
             [
              0.5555555555555556,
              "#d8576b"
             ],
             [
              0.6666666666666666,
              "#ed7953"
             ],
             [
              0.7777777777777778,
              "#fb9f3a"
             ],
             [
              0.8888888888888888,
              "#fdca26"
             ],
             [
              1,
              "#f0f921"
             ]
            ],
            "type": "heatmapgl"
           }
          ],
          "histogram": [
           {
            "marker": {
             "pattern": {
              "fillmode": "overlay",
              "size": 10,
              "solidity": 0.2
             }
            },
            "type": "histogram"
           }
          ],
          "histogram2d": [
           {
            "colorbar": {
             "outlinewidth": 0,
             "ticks": ""
            },
            "colorscale": [
             [
              0,
              "#0d0887"
             ],
             [
              0.1111111111111111,
              "#46039f"
             ],
             [
              0.2222222222222222,
              "#7201a8"
             ],
             [
              0.3333333333333333,
              "#9c179e"
             ],
             [
              0.4444444444444444,
              "#bd3786"
             ],
             [
              0.5555555555555556,
              "#d8576b"
             ],
             [
              0.6666666666666666,
              "#ed7953"
             ],
             [
              0.7777777777777778,
              "#fb9f3a"
             ],
             [
              0.8888888888888888,
              "#fdca26"
             ],
             [
              1,
              "#f0f921"
             ]
            ],
            "type": "histogram2d"
           }
          ],
          "histogram2dcontour": [
           {
            "colorbar": {
             "outlinewidth": 0,
             "ticks": ""
            },
            "colorscale": [
             [
              0,
              "#0d0887"
             ],
             [
              0.1111111111111111,
              "#46039f"
             ],
             [
              0.2222222222222222,
              "#7201a8"
             ],
             [
              0.3333333333333333,
              "#9c179e"
             ],
             [
              0.4444444444444444,
              "#bd3786"
             ],
             [
              0.5555555555555556,
              "#d8576b"
             ],
             [
              0.6666666666666666,
              "#ed7953"
             ],
             [
              0.7777777777777778,
              "#fb9f3a"
             ],
             [
              0.8888888888888888,
              "#fdca26"
             ],
             [
              1,
              "#f0f921"
             ]
            ],
            "type": "histogram2dcontour"
           }
          ],
          "mesh3d": [
           {
            "colorbar": {
             "outlinewidth": 0,
             "ticks": ""
            },
            "type": "mesh3d"
           }
          ],
          "parcoords": [
           {
            "line": {
             "colorbar": {
              "outlinewidth": 0,
              "ticks": ""
             }
            },
            "type": "parcoords"
           }
          ],
          "pie": [
           {
            "automargin": true,
            "type": "pie"
           }
          ],
          "scatter": [
           {
            "fillpattern": {
             "fillmode": "overlay",
             "size": 10,
             "solidity": 0.2
            },
            "type": "scatter"
           }
          ],
          "scatter3d": [
           {
            "line": {
             "colorbar": {
              "outlinewidth": 0,
              "ticks": ""
             }
            },
            "marker": {
             "colorbar": {
              "outlinewidth": 0,
              "ticks": ""
             }
            },
            "type": "scatter3d"
           }
          ],
          "scattercarpet": [
           {
            "marker": {
             "colorbar": {
              "outlinewidth": 0,
              "ticks": ""
             }
            },
            "type": "scattercarpet"
           }
          ],
          "scattergeo": [
           {
            "marker": {
             "colorbar": {
              "outlinewidth": 0,
              "ticks": ""
             }
            },
            "type": "scattergeo"
           }
          ],
          "scattergl": [
           {
            "marker": {
             "colorbar": {
              "outlinewidth": 0,
              "ticks": ""
             }
            },
            "type": "scattergl"
           }
          ],
          "scattermapbox": [
           {
            "marker": {
             "colorbar": {
              "outlinewidth": 0,
              "ticks": ""
             }
            },
            "type": "scattermapbox"
           }
          ],
          "scatterpolar": [
           {
            "marker": {
             "colorbar": {
              "outlinewidth": 0,
              "ticks": ""
             }
            },
            "type": "scatterpolar"
           }
          ],
          "scatterpolargl": [
           {
            "marker": {
             "colorbar": {
              "outlinewidth": 0,
              "ticks": ""
             }
            },
            "type": "scatterpolargl"
           }
          ],
          "scatterternary": [
           {
            "marker": {
             "colorbar": {
              "outlinewidth": 0,
              "ticks": ""
             }
            },
            "type": "scatterternary"
           }
          ],
          "surface": [
           {
            "colorbar": {
             "outlinewidth": 0,
             "ticks": ""
            },
            "colorscale": [
             [
              0,
              "#0d0887"
             ],
             [
              0.1111111111111111,
              "#46039f"
             ],
             [
              0.2222222222222222,
              "#7201a8"
             ],
             [
              0.3333333333333333,
              "#9c179e"
             ],
             [
              0.4444444444444444,
              "#bd3786"
             ],
             [
              0.5555555555555556,
              "#d8576b"
             ],
             [
              0.6666666666666666,
              "#ed7953"
             ],
             [
              0.7777777777777778,
              "#fb9f3a"
             ],
             [
              0.8888888888888888,
              "#fdca26"
             ],
             [
              1,
              "#f0f921"
             ]
            ],
            "type": "surface"
           }
          ],
          "table": [
           {
            "cells": {
             "fill": {
              "color": "#EBF0F8"
             },
             "line": {
              "color": "white"
             }
            },
            "header": {
             "fill": {
              "color": "#C8D4E3"
             },
             "line": {
              "color": "white"
             }
            },
            "type": "table"
           }
          ]
         },
         "layout": {
          "annotationdefaults": {
           "arrowcolor": "#2a3f5f",
           "arrowhead": 0,
           "arrowwidth": 1
          },
          "autotypenumbers": "strict",
          "coloraxis": {
           "colorbar": {
            "outlinewidth": 0,
            "ticks": ""
           }
          },
          "colorscale": {
           "diverging": [
            [
             0,
             "#8e0152"
            ],
            [
             0.1,
             "#c51b7d"
            ],
            [
             0.2,
             "#de77ae"
            ],
            [
             0.3,
             "#f1b6da"
            ],
            [
             0.4,
             "#fde0ef"
            ],
            [
             0.5,
             "#f7f7f7"
            ],
            [
             0.6,
             "#e6f5d0"
            ],
            [
             0.7,
             "#b8e186"
            ],
            [
             0.8,
             "#7fbc41"
            ],
            [
             0.9,
             "#4d9221"
            ],
            [
             1,
             "#276419"
            ]
           ],
           "sequential": [
            [
             0,
             "#0d0887"
            ],
            [
             0.1111111111111111,
             "#46039f"
            ],
            [
             0.2222222222222222,
             "#7201a8"
            ],
            [
             0.3333333333333333,
             "#9c179e"
            ],
            [
             0.4444444444444444,
             "#bd3786"
            ],
            [
             0.5555555555555556,
             "#d8576b"
            ],
            [
             0.6666666666666666,
             "#ed7953"
            ],
            [
             0.7777777777777778,
             "#fb9f3a"
            ],
            [
             0.8888888888888888,
             "#fdca26"
            ],
            [
             1,
             "#f0f921"
            ]
           ],
           "sequentialminus": [
            [
             0,
             "#0d0887"
            ],
            [
             0.1111111111111111,
             "#46039f"
            ],
            [
             0.2222222222222222,
             "#7201a8"
            ],
            [
             0.3333333333333333,
             "#9c179e"
            ],
            [
             0.4444444444444444,
             "#bd3786"
            ],
            [
             0.5555555555555556,
             "#d8576b"
            ],
            [
             0.6666666666666666,
             "#ed7953"
            ],
            [
             0.7777777777777778,
             "#fb9f3a"
            ],
            [
             0.8888888888888888,
             "#fdca26"
            ],
            [
             1,
             "#f0f921"
            ]
           ]
          },
          "colorway": [
           "#636efa",
           "#EF553B",
           "#00cc96",
           "#ab63fa",
           "#FFA15A",
           "#19d3f3",
           "#FF6692",
           "#B6E880",
           "#FF97FF",
           "#FECB52"
          ],
          "font": {
           "color": "#2a3f5f"
          },
          "geo": {
           "bgcolor": "white",
           "lakecolor": "white",
           "landcolor": "#E5ECF6",
           "showlakes": true,
           "showland": true,
           "subunitcolor": "white"
          },
          "hoverlabel": {
           "align": "left"
          },
          "hovermode": "closest",
          "mapbox": {
           "style": "light"
          },
          "paper_bgcolor": "white",
          "plot_bgcolor": "#E5ECF6",
          "polar": {
           "angularaxis": {
            "gridcolor": "white",
            "linecolor": "white",
            "ticks": ""
           },
           "bgcolor": "#E5ECF6",
           "radialaxis": {
            "gridcolor": "white",
            "linecolor": "white",
            "ticks": ""
           }
          },
          "scene": {
           "xaxis": {
            "backgroundcolor": "#E5ECF6",
            "gridcolor": "white",
            "gridwidth": 2,
            "linecolor": "white",
            "showbackground": true,
            "ticks": "",
            "zerolinecolor": "white"
           },
           "yaxis": {
            "backgroundcolor": "#E5ECF6",
            "gridcolor": "white",
            "gridwidth": 2,
            "linecolor": "white",
            "showbackground": true,
            "ticks": "",
            "zerolinecolor": "white"
           },
           "zaxis": {
            "backgroundcolor": "#E5ECF6",
            "gridcolor": "white",
            "gridwidth": 2,
            "linecolor": "white",
            "showbackground": true,
            "ticks": "",
            "zerolinecolor": "white"
           }
          },
          "shapedefaults": {
           "line": {
            "color": "#2a3f5f"
           }
          },
          "ternary": {
           "aaxis": {
            "gridcolor": "white",
            "linecolor": "white",
            "ticks": ""
           },
           "baxis": {
            "gridcolor": "white",
            "linecolor": "white",
            "ticks": ""
           },
           "bgcolor": "#E5ECF6",
           "caxis": {
            "gridcolor": "white",
            "linecolor": "white",
            "ticks": ""
           }
          },
          "title": {
           "x": 0.05
          },
          "xaxis": {
           "automargin": true,
           "gridcolor": "white",
           "linecolor": "white",
           "ticks": "",
           "title": {
            "standoff": 15
           },
           "zerolinecolor": "white",
           "zerolinewidth": 2
          },
          "yaxis": {
           "automargin": true,
           "gridcolor": "white",
           "linecolor": "white",
           "ticks": "",
           "title": {
            "standoff": 15
           },
           "zerolinecolor": "white",
           "zerolinewidth": 2
          }
         }
        },
        "title": {
         "text": "$\\text{PI width (}\\alpha=0.1\\text{)}$"
        },
        "width": 750,
        "xaxis": {
         "range": [
          -0.5,
          15.5
         ],
         "tickangle": 45,
         "ticktext": [
          "",
          "base",
          "PointCP",
          "IntCP",
          "NCP",
          "base",
          "PointCP",
          "IntCP",
          "NCP",
          "base",
          "PointCP",
          "IntCP",
          "NCP",
          "base",
          "PointCP",
          "IntCP",
          "NCP",
          ""
         ],
         "tickvals": [
          -0.5,
          0,
          1,
          2,
          3,
          4,
          5,
          6,
          7,
          8,
          9,
          10,
          11,
          12,
          13,
          14,
          15,
          15.5
         ]
        }
       }
      },
      "text/html": [
       "<div>                            <div id=\"ceac90bf-229b-444a-acef-513e7dbc8255\" class=\"plotly-graph-div\" style=\"height:750px; width:750px;\"></div>            <script type=\"text/javascript\">                require([\"plotly\"], function(Plotly) {                    window.PLOTLYENV=window.PLOTLYENV || {};                                    if (document.getElementById(\"ceac90bf-229b-444a-acef-513e7dbc8255\")) {                    Plotly.newPlot(                        \"ceac90bf-229b-444a-acef-513e7dbc8255\",                        [{\"line\":{\"color\":\"rgb(31, 119, 180)\"},\"showlegend\":false,\"spanmode\":\"hard\",\"x0\":0,\"y\":[2.464708089828491,2.3559372425079346,2.417787790298462,2.3421425819396973,2.4273288249969482,2.4058666229248047,2.3701648712158203,2.381812810897827,2.3094871044158936,2.347914934158325],\"type\":\"violin\"},{\"marker\":{\"color\":\"rgb(179,226,205)\",\"size\":7,\"symbol\":\"square\"},\"mode\":\"markers\",\"name\":\"QR\",\"x\":[null],\"y\":[null],\"type\":\"scatter\"},{\"line\":{\"color\":\"rgb(255, 127, 14)\"},\"showlegend\":false,\"spanmode\":\"hard\",\"x0\":1,\"y\":[3.153557538986206,2.89947772026062,3.038336753845215,2.8525593280792236,3.025372266769409,2.8583028316497803,2.8807058334350586,3.0564608573913574,2.795048713684082,2.947338104248047],\"type\":\"violin\"},{\"line\":{\"color\":\"rgb(44, 160, 44)\"},\"showlegend\":false,\"spanmode\":\"hard\",\"x0\":2,\"y\":[3.1000478267669678,2.8889353275299072,3.0516703128814697,2.842003583908081,3.0582144260406494,2.853694200515747,2.8640151023864746,3.0000576972961426,2.7927074432373047,2.9371304512023926],\"type\":\"violin\"},{\"line\":{\"color\":\"rgb(214, 39, 40)\"},\"showlegend\":false,\"spanmode\":\"hard\",\"x0\":3,\"y\":[3.2075273990631104,2.910160541534424,3.0815131664276123,2.860440492630005,3.0861010551452637,2.875606060028076,2.884601354598999,3.0396690368652344,2.820230007171631,2.934727430343628],\"type\":\"violin\"},{\"line\":{\"color\":\"rgb(31, 119, 180)\"},\"showlegend\":false,\"spanmode\":\"hard\",\"x0\":4,\"y\":[3.1301249843269585,3.091075805959105,3.0630500399440526,3.085516168043017,3.1356173245161774,3.0867880521982904,3.0491735562115903,3.0611695229202507,3.1105082112669944,3.061337025216221],\"type\":\"violin\"},{\"marker\":{\"color\":\"rgb(253,205,172)\",\"size\":7,\"symbol\":\"square\"},\"mode\":\"markers\",\"name\":\"QRF\",\"x\":[null],\"y\":[null],\"type\":\"scatter\"},{\"line\":{\"color\":\"rgb(255, 127, 14)\"},\"showlegend\":false,\"spanmode\":\"hard\",\"x0\":5,\"y\":[3.0184794068336487,2.847674012184143,3.056888982653618,2.8149326145648956,3.007789060473442,2.9307109713554382,2.9865419194102287,2.972840428352356,2.751163601875305,3.002892881631851],\"type\":\"violin\"},{\"line\":{\"color\":\"rgb(44, 160, 44)\"},\"showlegend\":false,\"spanmode\":\"hard\",\"x0\":6,\"y\":[3.0341459975868466,2.799853554996848,3.053129494419694,2.807764701747894,2.947242731115222,2.927489699780941,2.957344479042292,3.014014521735907,2.7839966323286296,2.93661594954133],\"type\":\"violin\"},{\"line\":{\"color\":\"rgb(214, 39, 40)\"},\"showlegend\":false,\"spanmode\":\"hard\",\"x0\":7,\"y\":[3.055364723047218,2.7883886875045447,3.107363215707228,2.8483454575230778,2.9880421360239553,2.915554491089176,2.9453876183945584,2.938698275747435,2.7782504173304905,2.927850623842588],\"type\":\"violin\"},{\"line\":{\"color\":\"rgb(31, 119, 180)\"},\"showlegend\":false,\"spanmode\":\"hard\",\"x0\":8,\"y\":[2.4452974796295166,2.3674843311309814,2.4192018508911133,2.3961212635040283,2.3368372917175293,2.418977975845337,2.38724946975708,2.360750436782837,2.411468982696533,2.477027416229248],\"type\":\"violin\"},{\"marker\":{\"color\":\"rgb(203,213,232)\",\"size\":7,\"symbol\":\"square\"},\"mode\":\"markers\",\"name\":\"MV\",\"x\":[null],\"y\":[null],\"type\":\"scatter\"},{\"line\":{\"color\":\"rgb(255, 127, 14)\"},\"showlegend\":false,\"spanmode\":\"hard\",\"x0\":9,\"y\":[3.0364301204681396,2.9787075519561768,3.051974058151245,2.803889751434326,3.0877151489257812,2.8337361812591553,2.8735711574554443,3.0157203674316406,2.791079044342041,2.9146552085876465],\"type\":\"violin\"},{\"line\":{\"color\":\"rgb(44, 160, 44)\"},\"showlegend\":false,\"spanmode\":\"hard\",\"x0\":10,\"y\":[3.074493408203125,2.9176294803619385,3.0666284561157227,2.825225591659546,3.1242454051971436,2.89225435256958,2.9103100299835205,3.022517204284668,2.8586912155151367,2.9255592823028564],\"type\":\"violin\"},{\"line\":{\"color\":\"rgb(214, 39, 40)\"},\"showlegend\":false,\"spanmode\":\"hard\",\"x0\":11,\"y\":[3.118104934692383,2.9213476181030273,3.1101436614990234,2.8555781841278076,3.1639838218688965,2.8895528316497803,2.9166810512542725,3.038787603378296,2.886751651763916,2.941326856613159],\"type\":\"violin\"},{\"line\":{\"color\":\"rgb(31, 119, 180)\"},\"showlegend\":false,\"spanmode\":\"hard\",\"x0\":12,\"y\":[2.6872498989105225,2.597691535949707,2.6553707122802734,2.6675257682800293,2.697927236557007,2.647111177444458,2.589482307434082,2.6108663082122803,2.642585039138794,2.6858279705047607],\"type\":\"violin\"},{\"marker\":{\"color\":\"rgb(244,202,228)\",\"size\":7,\"symbol\":\"square\"},\"mode\":\"markers\",\"name\":\"MVE\",\"x\":[null],\"y\":[null],\"type\":\"scatter\"},{\"line\":{\"color\":\"rgb(255, 127, 14)\"},\"showlegend\":false,\"spanmode\":\"hard\",\"x0\":13,\"y\":[3.066343307495117,2.8767120838165283,3.0103654861450195,2.755826950073242,3.0329959392547607,2.8294293880462646,2.8362843990325928,2.988278388977051,2.76806378364563,2.854647397994995],\"type\":\"violin\"},{\"line\":{\"color\":\"rgb(44, 160, 44)\"},\"showlegend\":false,\"spanmode\":\"hard\",\"x0\":14,\"y\":[3.0568840503692627,2.860232353210449,3.034168004989624,2.7729785442352295,3.0238735675811768,2.8586502075195312,2.8198344707489014,3.033806562423706,2.8053836822509766,2.859273910522461],\"type\":\"violin\"},{\"line\":{\"color\":\"rgb(214, 39, 40)\"},\"showlegend\":false,\"spanmode\":\"hard\",\"x0\":15,\"y\":[3.0727198123931885,2.866697072982788,3.0413315296173096,2.78568434715271,3.0523955821990967,2.8613944053649902,2.8238935470581055,3.0475409030914307,2.8056905269622803,2.8516435623168945],\"type\":\"violin\"}],                        {\"height\":750,\"template\":{\"data\":{\"histogram2dcontour\":[{\"type\":\"histogram2dcontour\",\"colorbar\":{\"outlinewidth\":0,\"ticks\":\"\"},\"colorscale\":[[0.0,\"#0d0887\"],[0.1111111111111111,\"#46039f\"],[0.2222222222222222,\"#7201a8\"],[0.3333333333333333,\"#9c179e\"],[0.4444444444444444,\"#bd3786\"],[0.5555555555555556,\"#d8576b\"],[0.6666666666666666,\"#ed7953\"],[0.7777777777777778,\"#fb9f3a\"],[0.8888888888888888,\"#fdca26\"],[1.0,\"#f0f921\"]]}],\"choropleth\":[{\"type\":\"choropleth\",\"colorbar\":{\"outlinewidth\":0,\"ticks\":\"\"}}],\"histogram2d\":[{\"type\":\"histogram2d\",\"colorbar\":{\"outlinewidth\":0,\"ticks\":\"\"},\"colorscale\":[[0.0,\"#0d0887\"],[0.1111111111111111,\"#46039f\"],[0.2222222222222222,\"#7201a8\"],[0.3333333333333333,\"#9c179e\"],[0.4444444444444444,\"#bd3786\"],[0.5555555555555556,\"#d8576b\"],[0.6666666666666666,\"#ed7953\"],[0.7777777777777778,\"#fb9f3a\"],[0.8888888888888888,\"#fdca26\"],[1.0,\"#f0f921\"]]}],\"heatmap\":[{\"type\":\"heatmap\",\"colorbar\":{\"outlinewidth\":0,\"ticks\":\"\"},\"colorscale\":[[0.0,\"#0d0887\"],[0.1111111111111111,\"#46039f\"],[0.2222222222222222,\"#7201a8\"],[0.3333333333333333,\"#9c179e\"],[0.4444444444444444,\"#bd3786\"],[0.5555555555555556,\"#d8576b\"],[0.6666666666666666,\"#ed7953\"],[0.7777777777777778,\"#fb9f3a\"],[0.8888888888888888,\"#fdca26\"],[1.0,\"#f0f921\"]]}],\"heatmapgl\":[{\"type\":\"heatmapgl\",\"colorbar\":{\"outlinewidth\":0,\"ticks\":\"\"},\"colorscale\":[[0.0,\"#0d0887\"],[0.1111111111111111,\"#46039f\"],[0.2222222222222222,\"#7201a8\"],[0.3333333333333333,\"#9c179e\"],[0.4444444444444444,\"#bd3786\"],[0.5555555555555556,\"#d8576b\"],[0.6666666666666666,\"#ed7953\"],[0.7777777777777778,\"#fb9f3a\"],[0.8888888888888888,\"#fdca26\"],[1.0,\"#f0f921\"]]}],\"contourcarpet\":[{\"type\":\"contourcarpet\",\"colorbar\":{\"outlinewidth\":0,\"ticks\":\"\"}}],\"contour\":[{\"type\":\"contour\",\"colorbar\":{\"outlinewidth\":0,\"ticks\":\"\"},\"colorscale\":[[0.0,\"#0d0887\"],[0.1111111111111111,\"#46039f\"],[0.2222222222222222,\"#7201a8\"],[0.3333333333333333,\"#9c179e\"],[0.4444444444444444,\"#bd3786\"],[0.5555555555555556,\"#d8576b\"],[0.6666666666666666,\"#ed7953\"],[0.7777777777777778,\"#fb9f3a\"],[0.8888888888888888,\"#fdca26\"],[1.0,\"#f0f921\"]]}],\"surface\":[{\"type\":\"surface\",\"colorbar\":{\"outlinewidth\":0,\"ticks\":\"\"},\"colorscale\":[[0.0,\"#0d0887\"],[0.1111111111111111,\"#46039f\"],[0.2222222222222222,\"#7201a8\"],[0.3333333333333333,\"#9c179e\"],[0.4444444444444444,\"#bd3786\"],[0.5555555555555556,\"#d8576b\"],[0.6666666666666666,\"#ed7953\"],[0.7777777777777778,\"#fb9f3a\"],[0.8888888888888888,\"#fdca26\"],[1.0,\"#f0f921\"]]}],\"mesh3d\":[{\"type\":\"mesh3d\",\"colorbar\":{\"outlinewidth\":0,\"ticks\":\"\"}}],\"scatter\":[{\"fillpattern\":{\"fillmode\":\"overlay\",\"size\":10,\"solidity\":0.2},\"type\":\"scatter\"}],\"parcoords\":[{\"type\":\"parcoords\",\"line\":{\"colorbar\":{\"outlinewidth\":0,\"ticks\":\"\"}}}],\"scatterpolargl\":[{\"type\":\"scatterpolargl\",\"marker\":{\"colorbar\":{\"outlinewidth\":0,\"ticks\":\"\"}}}],\"bar\":[{\"error_x\":{\"color\":\"#2a3f5f\"},\"error_y\":{\"color\":\"#2a3f5f\"},\"marker\":{\"line\":{\"color\":\"#E5ECF6\",\"width\":0.5},\"pattern\":{\"fillmode\":\"overlay\",\"size\":10,\"solidity\":0.2}},\"type\":\"bar\"}],\"scattergeo\":[{\"type\":\"scattergeo\",\"marker\":{\"colorbar\":{\"outlinewidth\":0,\"ticks\":\"\"}}}],\"scatterpolar\":[{\"type\":\"scatterpolar\",\"marker\":{\"colorbar\":{\"outlinewidth\":0,\"ticks\":\"\"}}}],\"histogram\":[{\"marker\":{\"pattern\":{\"fillmode\":\"overlay\",\"size\":10,\"solidity\":0.2}},\"type\":\"histogram\"}],\"scattergl\":[{\"type\":\"scattergl\",\"marker\":{\"colorbar\":{\"outlinewidth\":0,\"ticks\":\"\"}}}],\"scatter3d\":[{\"type\":\"scatter3d\",\"line\":{\"colorbar\":{\"outlinewidth\":0,\"ticks\":\"\"}},\"marker\":{\"colorbar\":{\"outlinewidth\":0,\"ticks\":\"\"}}}],\"scattermapbox\":[{\"type\":\"scattermapbox\",\"marker\":{\"colorbar\":{\"outlinewidth\":0,\"ticks\":\"\"}}}],\"scatterternary\":[{\"type\":\"scatterternary\",\"marker\":{\"colorbar\":{\"outlinewidth\":0,\"ticks\":\"\"}}}],\"scattercarpet\":[{\"type\":\"scattercarpet\",\"marker\":{\"colorbar\":{\"outlinewidth\":0,\"ticks\":\"\"}}}],\"carpet\":[{\"aaxis\":{\"endlinecolor\":\"#2a3f5f\",\"gridcolor\":\"white\",\"linecolor\":\"white\",\"minorgridcolor\":\"white\",\"startlinecolor\":\"#2a3f5f\"},\"baxis\":{\"endlinecolor\":\"#2a3f5f\",\"gridcolor\":\"white\",\"linecolor\":\"white\",\"minorgridcolor\":\"white\",\"startlinecolor\":\"#2a3f5f\"},\"type\":\"carpet\"}],\"table\":[{\"cells\":{\"fill\":{\"color\":\"#EBF0F8\"},\"line\":{\"color\":\"white\"}},\"header\":{\"fill\":{\"color\":\"#C8D4E3\"},\"line\":{\"color\":\"white\"}},\"type\":\"table\"}],\"barpolar\":[{\"marker\":{\"line\":{\"color\":\"#E5ECF6\",\"width\":0.5},\"pattern\":{\"fillmode\":\"overlay\",\"size\":10,\"solidity\":0.2}},\"type\":\"barpolar\"}],\"pie\":[{\"automargin\":true,\"type\":\"pie\"}]},\"layout\":{\"autotypenumbers\":\"strict\",\"colorway\":[\"#636efa\",\"#EF553B\",\"#00cc96\",\"#ab63fa\",\"#FFA15A\",\"#19d3f3\",\"#FF6692\",\"#B6E880\",\"#FF97FF\",\"#FECB52\"],\"font\":{\"color\":\"#2a3f5f\"},\"hovermode\":\"closest\",\"hoverlabel\":{\"align\":\"left\"},\"paper_bgcolor\":\"white\",\"plot_bgcolor\":\"#E5ECF6\",\"polar\":{\"bgcolor\":\"#E5ECF6\",\"angularaxis\":{\"gridcolor\":\"white\",\"linecolor\":\"white\",\"ticks\":\"\"},\"radialaxis\":{\"gridcolor\":\"white\",\"linecolor\":\"white\",\"ticks\":\"\"}},\"ternary\":{\"bgcolor\":\"#E5ECF6\",\"aaxis\":{\"gridcolor\":\"white\",\"linecolor\":\"white\",\"ticks\":\"\"},\"baxis\":{\"gridcolor\":\"white\",\"linecolor\":\"white\",\"ticks\":\"\"},\"caxis\":{\"gridcolor\":\"white\",\"linecolor\":\"white\",\"ticks\":\"\"}},\"coloraxis\":{\"colorbar\":{\"outlinewidth\":0,\"ticks\":\"\"}},\"colorscale\":{\"sequential\":[[0.0,\"#0d0887\"],[0.1111111111111111,\"#46039f\"],[0.2222222222222222,\"#7201a8\"],[0.3333333333333333,\"#9c179e\"],[0.4444444444444444,\"#bd3786\"],[0.5555555555555556,\"#d8576b\"],[0.6666666666666666,\"#ed7953\"],[0.7777777777777778,\"#fb9f3a\"],[0.8888888888888888,\"#fdca26\"],[1.0,\"#f0f921\"]],\"sequentialminus\":[[0.0,\"#0d0887\"],[0.1111111111111111,\"#46039f\"],[0.2222222222222222,\"#7201a8\"],[0.3333333333333333,\"#9c179e\"],[0.4444444444444444,\"#bd3786\"],[0.5555555555555556,\"#d8576b\"],[0.6666666666666666,\"#ed7953\"],[0.7777777777777778,\"#fb9f3a\"],[0.8888888888888888,\"#fdca26\"],[1.0,\"#f0f921\"]],\"diverging\":[[0,\"#8e0152\"],[0.1,\"#c51b7d\"],[0.2,\"#de77ae\"],[0.3,\"#f1b6da\"],[0.4,\"#fde0ef\"],[0.5,\"#f7f7f7\"],[0.6,\"#e6f5d0\"],[0.7,\"#b8e186\"],[0.8,\"#7fbc41\"],[0.9,\"#4d9221\"],[1,\"#276419\"]]},\"xaxis\":{\"gridcolor\":\"white\",\"linecolor\":\"white\",\"ticks\":\"\",\"title\":{\"standoff\":15},\"zerolinecolor\":\"white\",\"automargin\":true,\"zerolinewidth\":2},\"yaxis\":{\"gridcolor\":\"white\",\"linecolor\":\"white\",\"ticks\":\"\",\"title\":{\"standoff\":15},\"zerolinecolor\":\"white\",\"automargin\":true,\"zerolinewidth\":2},\"scene\":{\"xaxis\":{\"backgroundcolor\":\"#E5ECF6\",\"gridcolor\":\"white\",\"linecolor\":\"white\",\"showbackground\":true,\"ticks\":\"\",\"zerolinecolor\":\"white\",\"gridwidth\":2},\"yaxis\":{\"backgroundcolor\":\"#E5ECF6\",\"gridcolor\":\"white\",\"linecolor\":\"white\",\"showbackground\":true,\"ticks\":\"\",\"zerolinecolor\":\"white\",\"gridwidth\":2},\"zaxis\":{\"backgroundcolor\":\"#E5ECF6\",\"gridcolor\":\"white\",\"linecolor\":\"white\",\"showbackground\":true,\"ticks\":\"\",\"zerolinecolor\":\"white\",\"gridwidth\":2}},\"shapedefaults\":{\"line\":{\"color\":\"#2a3f5f\"}},\"annotationdefaults\":{\"arrowcolor\":\"#2a3f5f\",\"arrowhead\":0,\"arrowwidth\":1},\"geo\":{\"bgcolor\":\"white\",\"landcolor\":\"#E5ECF6\",\"subunitcolor\":\"white\",\"showland\":true,\"showlakes\":true,\"lakecolor\":\"white\"},\"title\":{\"x\":0.05},\"mapbox\":{\"style\":\"light\"}}},\"shapes\":[{\"fillcolor\":\"rgb(179,226,205)\",\"layer\":\"below\",\"line\":{\"width\":0},\"opacity\":0.5,\"type\":\"rect\",\"x0\":-0.5,\"x1\":3.5,\"xref\":\"x\",\"y0\":0,\"y1\":1,\"yref\":\"y domain\"},{\"fillcolor\":\"rgb(253,205,172)\",\"layer\":\"below\",\"line\":{\"width\":0},\"opacity\":0.5,\"type\":\"rect\",\"x0\":3.5,\"x1\":7.5,\"xref\":\"x\",\"y0\":0,\"y1\":1,\"yref\":\"y domain\"},{\"fillcolor\":\"rgb(203,213,232)\",\"layer\":\"below\",\"line\":{\"width\":0},\"opacity\":0.5,\"type\":\"rect\",\"x0\":7.5,\"x1\":11.5,\"xref\":\"x\",\"y0\":0,\"y1\":1,\"yref\":\"y domain\"},{\"fillcolor\":\"rgb(244,202,228)\",\"layer\":\"below\",\"line\":{\"width\":0},\"opacity\":0.5,\"type\":\"rect\",\"x0\":11.5,\"x1\":15.5,\"xref\":\"x\",\"y0\":0,\"y1\":1,\"yref\":\"y domain\"}],\"margin\":{\"l\":0,\"r\":0,\"t\":70,\"b\":0},\"width\":750,\"title\":{\"text\":\"$\\\\text{PI width (}\\\\alpha=0.1\\\\text{)}$\"},\"xaxis\":{\"range\":[-0.5,15.5],\"tickangle\":45,\"tickvals\":[-0.5,0,1,2,3,4,5,6,7,8,9,10,11,12,13,14,15,15.5],\"ticktext\":[\"\",\"base\",\"PointCP\",\"IntCP\",\"NCP\",\"base\",\"PointCP\",\"IntCP\",\"NCP\",\"base\",\"PointCP\",\"IntCP\",\"NCP\",\"base\",\"PointCP\",\"IntCP\",\"NCP\",\"\"]}},                        {\"responsive\": true}                    ).then(function(){\n",
       "                            \n",
       "var gd = document.getElementById('ceac90bf-229b-444a-acef-513e7dbc8255');\n",
       "var x = new MutationObserver(function (mutations, observer) {{\n",
       "        var display = window.getComputedStyle(gd).display;\n",
       "        if (!display || display === 'none') {{\n",
       "            console.log([gd, 'removed!']);\n",
       "            Plotly.purge(gd);\n",
       "            observer.disconnect();\n",
       "        }}\n",
       "}});\n",
       "\n",
       "// Listen for the removal of the full notebook cells\n",
       "var notebookContainer = gd.closest('#notebook-container');\n",
       "if (notebookContainer) {{\n",
       "    x.observe(notebookContainer, {childList: true});\n",
       "}}\n",
       "\n",
       "// Listen for the clearing of the current output cell\n",
       "var outputEl = gd.closest('.output');\n",
       "if (outputEl) {{\n",
       "    x.observe(outputEl, {childList: true});\n",
       "}}\n",
       "\n",
       "                        })                };                });            </script>        </div>"
      ]
     },
     "metadata": {},
     "output_type": "display_data"
    },
    {
     "data": {
      "application/vnd.plotly.v1+json": {
       "config": {
        "plotlyServerURL": "https://plot.ly"
       },
       "data": [
        {
         "marker": {
          "color": "rgb(31, 119, 180)",
          "size": 7,
          "symbol": "square"
         },
         "mode": "markers",
         "name": "QR",
         "type": "scatter",
         "x": [
          null
         ],
         "y": [
          null
         ]
        },
        {
         "line": {
          "color": "rgb(31, 119, 180)"
         },
         "showlegend": false,
         "spanmode": "hard",
         "type": "violin",
         "x0": 0,
         "y": [
          0.13689124220472182,
          0.20507433404884978,
          0.2274551402322864,
          0.2221773003692198,
          0.1534925268262768,
          0.1961971448778994,
          0.18611512071916136,
          0.22305115302741574,
          0.19366879244653734,
          0.17776048361038155
         ]
        },
        {
         "marker": {
          "color": "rgb(255, 127, 14)",
          "size": 7,
          "symbol": "square"
         },
         "mode": "markers",
         "name": "QRF",
         "type": "scatter",
         "x": [
          null
         ],
         "y": [
          null
         ]
        },
        {
         "line": {
          "color": "rgb(255, 127, 14)"
         },
         "showlegend": false,
         "spanmode": "hard",
         "type": "violin",
         "x0": 4,
         "y": [
          0.16499145539366045,
          0.20187978193575806,
          0.18922306263426114,
          0.20138046931432663,
          0.16237495828358828,
          0.17310205061851958,
          0.1717958147533598,
          0.20018583887665897,
          0.18856213556112467,
          0.18012855103659042
         ]
        },
        {
         "marker": {
          "color": "rgb(44, 160, 44)",
          "size": 7,
          "symbol": "square"
         },
         "mode": "markers",
         "name": "MV",
         "type": "scatter",
         "x": [
          null
         ],
         "y": [
          null
         ]
        },
        {
         "line": {
          "color": "rgb(44, 160, 44)"
         },
         "showlegend": false,
         "spanmode": "hard",
         "type": "violin",
         "x0": 8,
         "y": [
          0.13431588213580903,
          0.19432337807377587,
          0.21470281319250417,
          0.21772707188845342,
          0.14094525855768736,
          0.19654713772996668,
          0.1649586272506176,
          0.207077604814507,
          0.16694468113079441,
          0.18144055572361484
         ]
        },
        {
         "marker": {
          "color": "rgb(214, 39, 40)",
          "size": 7,
          "symbol": "square"
         },
         "mode": "markers",
         "name": "MVE",
         "type": "scatter",
         "x": [
          null
         ],
         "y": [
          null
         ]
        },
        {
         "line": {
          "color": "rgb(214, 39, 40)"
         },
         "showlegend": false,
         "spanmode": "hard",
         "type": "violin",
         "x0": 12,
         "y": [
          0.14365568249498206,
          0.2168921749037932,
          0.2275871239207451,
          0.23560830537685484,
          0.154271737105649,
          0.17512653430916747,
          0.15942380759753527,
          0.2158850990016815,
          0.2056553844461635,
          0.1806491147069268
         ]
        }
       ],
       "layout": {
        "height": 750,
        "margin": {
         "b": 0,
         "l": 0,
         "r": 0,
         "t": 70
        },
        "template": {
         "data": {
          "bar": [
           {
            "error_x": {
             "color": "#2a3f5f"
            },
            "error_y": {
             "color": "#2a3f5f"
            },
            "marker": {
             "line": {
              "color": "#E5ECF6",
              "width": 0.5
             },
             "pattern": {
              "fillmode": "overlay",
              "size": 10,
              "solidity": 0.2
             }
            },
            "type": "bar"
           }
          ],
          "barpolar": [
           {
            "marker": {
             "line": {
              "color": "#E5ECF6",
              "width": 0.5
             },
             "pattern": {
              "fillmode": "overlay",
              "size": 10,
              "solidity": 0.2
             }
            },
            "type": "barpolar"
           }
          ],
          "carpet": [
           {
            "aaxis": {
             "endlinecolor": "#2a3f5f",
             "gridcolor": "white",
             "linecolor": "white",
             "minorgridcolor": "white",
             "startlinecolor": "#2a3f5f"
            },
            "baxis": {
             "endlinecolor": "#2a3f5f",
             "gridcolor": "white",
             "linecolor": "white",
             "minorgridcolor": "white",
             "startlinecolor": "#2a3f5f"
            },
            "type": "carpet"
           }
          ],
          "choropleth": [
           {
            "colorbar": {
             "outlinewidth": 0,
             "ticks": ""
            },
            "type": "choropleth"
           }
          ],
          "contour": [
           {
            "colorbar": {
             "outlinewidth": 0,
             "ticks": ""
            },
            "colorscale": [
             [
              0,
              "#0d0887"
             ],
             [
              0.1111111111111111,
              "#46039f"
             ],
             [
              0.2222222222222222,
              "#7201a8"
             ],
             [
              0.3333333333333333,
              "#9c179e"
             ],
             [
              0.4444444444444444,
              "#bd3786"
             ],
             [
              0.5555555555555556,
              "#d8576b"
             ],
             [
              0.6666666666666666,
              "#ed7953"
             ],
             [
              0.7777777777777778,
              "#fb9f3a"
             ],
             [
              0.8888888888888888,
              "#fdca26"
             ],
             [
              1,
              "#f0f921"
             ]
            ],
            "type": "contour"
           }
          ],
          "contourcarpet": [
           {
            "colorbar": {
             "outlinewidth": 0,
             "ticks": ""
            },
            "type": "contourcarpet"
           }
          ],
          "heatmap": [
           {
            "colorbar": {
             "outlinewidth": 0,
             "ticks": ""
            },
            "colorscale": [
             [
              0,
              "#0d0887"
             ],
             [
              0.1111111111111111,
              "#46039f"
             ],
             [
              0.2222222222222222,
              "#7201a8"
             ],
             [
              0.3333333333333333,
              "#9c179e"
             ],
             [
              0.4444444444444444,
              "#bd3786"
             ],
             [
              0.5555555555555556,
              "#d8576b"
             ],
             [
              0.6666666666666666,
              "#ed7953"
             ],
             [
              0.7777777777777778,
              "#fb9f3a"
             ],
             [
              0.8888888888888888,
              "#fdca26"
             ],
             [
              1,
              "#f0f921"
             ]
            ],
            "type": "heatmap"
           }
          ],
          "heatmapgl": [
           {
            "colorbar": {
             "outlinewidth": 0,
             "ticks": ""
            },
            "colorscale": [
             [
              0,
              "#0d0887"
             ],
             [
              0.1111111111111111,
              "#46039f"
             ],
             [
              0.2222222222222222,
              "#7201a8"
             ],
             [
              0.3333333333333333,
              "#9c179e"
             ],
             [
              0.4444444444444444,
              "#bd3786"
             ],
             [
              0.5555555555555556,
              "#d8576b"
             ],
             [
              0.6666666666666666,
              "#ed7953"
             ],
             [
              0.7777777777777778,
              "#fb9f3a"
             ],
             [
              0.8888888888888888,
              "#fdca26"
             ],
             [
              1,
              "#f0f921"
             ]
            ],
            "type": "heatmapgl"
           }
          ],
          "histogram": [
           {
            "marker": {
             "pattern": {
              "fillmode": "overlay",
              "size": 10,
              "solidity": 0.2
             }
            },
            "type": "histogram"
           }
          ],
          "histogram2d": [
           {
            "colorbar": {
             "outlinewidth": 0,
             "ticks": ""
            },
            "colorscale": [
             [
              0,
              "#0d0887"
             ],
             [
              0.1111111111111111,
              "#46039f"
             ],
             [
              0.2222222222222222,
              "#7201a8"
             ],
             [
              0.3333333333333333,
              "#9c179e"
             ],
             [
              0.4444444444444444,
              "#bd3786"
             ],
             [
              0.5555555555555556,
              "#d8576b"
             ],
             [
              0.6666666666666666,
              "#ed7953"
             ],
             [
              0.7777777777777778,
              "#fb9f3a"
             ],
             [
              0.8888888888888888,
              "#fdca26"
             ],
             [
              1,
              "#f0f921"
             ]
            ],
            "type": "histogram2d"
           }
          ],
          "histogram2dcontour": [
           {
            "colorbar": {
             "outlinewidth": 0,
             "ticks": ""
            },
            "colorscale": [
             [
              0,
              "#0d0887"
             ],
             [
              0.1111111111111111,
              "#46039f"
             ],
             [
              0.2222222222222222,
              "#7201a8"
             ],
             [
              0.3333333333333333,
              "#9c179e"
             ],
             [
              0.4444444444444444,
              "#bd3786"
             ],
             [
              0.5555555555555556,
              "#d8576b"
             ],
             [
              0.6666666666666666,
              "#ed7953"
             ],
             [
              0.7777777777777778,
              "#fb9f3a"
             ],
             [
              0.8888888888888888,
              "#fdca26"
             ],
             [
              1,
              "#f0f921"
             ]
            ],
            "type": "histogram2dcontour"
           }
          ],
          "mesh3d": [
           {
            "colorbar": {
             "outlinewidth": 0,
             "ticks": ""
            },
            "type": "mesh3d"
           }
          ],
          "parcoords": [
           {
            "line": {
             "colorbar": {
              "outlinewidth": 0,
              "ticks": ""
             }
            },
            "type": "parcoords"
           }
          ],
          "pie": [
           {
            "automargin": true,
            "type": "pie"
           }
          ],
          "scatter": [
           {
            "fillpattern": {
             "fillmode": "overlay",
             "size": 10,
             "solidity": 0.2
            },
            "type": "scatter"
           }
          ],
          "scatter3d": [
           {
            "line": {
             "colorbar": {
              "outlinewidth": 0,
              "ticks": ""
             }
            },
            "marker": {
             "colorbar": {
              "outlinewidth": 0,
              "ticks": ""
             }
            },
            "type": "scatter3d"
           }
          ],
          "scattercarpet": [
           {
            "marker": {
             "colorbar": {
              "outlinewidth": 0,
              "ticks": ""
             }
            },
            "type": "scattercarpet"
           }
          ],
          "scattergeo": [
           {
            "marker": {
             "colorbar": {
              "outlinewidth": 0,
              "ticks": ""
             }
            },
            "type": "scattergeo"
           }
          ],
          "scattergl": [
           {
            "marker": {
             "colorbar": {
              "outlinewidth": 0,
              "ticks": ""
             }
            },
            "type": "scattergl"
           }
          ],
          "scattermapbox": [
           {
            "marker": {
             "colorbar": {
              "outlinewidth": 0,
              "ticks": ""
             }
            },
            "type": "scattermapbox"
           }
          ],
          "scatterpolar": [
           {
            "marker": {
             "colorbar": {
              "outlinewidth": 0,
              "ticks": ""
             }
            },
            "type": "scatterpolar"
           }
          ],
          "scatterpolargl": [
           {
            "marker": {
             "colorbar": {
              "outlinewidth": 0,
              "ticks": ""
             }
            },
            "type": "scatterpolargl"
           }
          ],
          "scatterternary": [
           {
            "marker": {
             "colorbar": {
              "outlinewidth": 0,
              "ticks": ""
             }
            },
            "type": "scatterternary"
           }
          ],
          "surface": [
           {
            "colorbar": {
             "outlinewidth": 0,
             "ticks": ""
            },
            "colorscale": [
             [
              0,
              "#0d0887"
             ],
             [
              0.1111111111111111,
              "#46039f"
             ],
             [
              0.2222222222222222,
              "#7201a8"
             ],
             [
              0.3333333333333333,
              "#9c179e"
             ],
             [
              0.4444444444444444,
              "#bd3786"
             ],
             [
              0.5555555555555556,
              "#d8576b"
             ],
             [
              0.6666666666666666,
              "#ed7953"
             ],
             [
              0.7777777777777778,
              "#fb9f3a"
             ],
             [
              0.8888888888888888,
              "#fdca26"
             ],
             [
              1,
              "#f0f921"
             ]
            ],
            "type": "surface"
           }
          ],
          "table": [
           {
            "cells": {
             "fill": {
              "color": "#EBF0F8"
             },
             "line": {
              "color": "white"
             }
            },
            "header": {
             "fill": {
              "color": "#C8D4E3"
             },
             "line": {
              "color": "white"
             }
            },
            "type": "table"
           }
          ]
         },
         "layout": {
          "annotationdefaults": {
           "arrowcolor": "#2a3f5f",
           "arrowhead": 0,
           "arrowwidth": 1
          },
          "autotypenumbers": "strict",
          "coloraxis": {
           "colorbar": {
            "outlinewidth": 0,
            "ticks": ""
           }
          },
          "colorscale": {
           "diverging": [
            [
             0,
             "#8e0152"
            ],
            [
             0.1,
             "#c51b7d"
            ],
            [
             0.2,
             "#de77ae"
            ],
            [
             0.3,
             "#f1b6da"
            ],
            [
             0.4,
             "#fde0ef"
            ],
            [
             0.5,
             "#f7f7f7"
            ],
            [
             0.6,
             "#e6f5d0"
            ],
            [
             0.7,
             "#b8e186"
            ],
            [
             0.8,
             "#7fbc41"
            ],
            [
             0.9,
             "#4d9221"
            ],
            [
             1,
             "#276419"
            ]
           ],
           "sequential": [
            [
             0,
             "#0d0887"
            ],
            [
             0.1111111111111111,
             "#46039f"
            ],
            [
             0.2222222222222222,
             "#7201a8"
            ],
            [
             0.3333333333333333,
             "#9c179e"
            ],
            [
             0.4444444444444444,
             "#bd3786"
            ],
            [
             0.5555555555555556,
             "#d8576b"
            ],
            [
             0.6666666666666666,
             "#ed7953"
            ],
            [
             0.7777777777777778,
             "#fb9f3a"
            ],
            [
             0.8888888888888888,
             "#fdca26"
            ],
            [
             1,
             "#f0f921"
            ]
           ],
           "sequentialminus": [
            [
             0,
             "#0d0887"
            ],
            [
             0.1111111111111111,
             "#46039f"
            ],
            [
             0.2222222222222222,
             "#7201a8"
            ],
            [
             0.3333333333333333,
             "#9c179e"
            ],
            [
             0.4444444444444444,
             "#bd3786"
            ],
            [
             0.5555555555555556,
             "#d8576b"
            ],
            [
             0.6666666666666666,
             "#ed7953"
            ],
            [
             0.7777777777777778,
             "#fb9f3a"
            ],
            [
             0.8888888888888888,
             "#fdca26"
            ],
            [
             1,
             "#f0f921"
            ]
           ]
          },
          "colorway": [
           "#636efa",
           "#EF553B",
           "#00cc96",
           "#ab63fa",
           "#FFA15A",
           "#19d3f3",
           "#FF6692",
           "#B6E880",
           "#FF97FF",
           "#FECB52"
          ],
          "font": {
           "color": "#2a3f5f"
          },
          "geo": {
           "bgcolor": "white",
           "lakecolor": "white",
           "landcolor": "#E5ECF6",
           "showlakes": true,
           "showland": true,
           "subunitcolor": "white"
          },
          "hoverlabel": {
           "align": "left"
          },
          "hovermode": "closest",
          "mapbox": {
           "style": "light"
          },
          "paper_bgcolor": "white",
          "plot_bgcolor": "#E5ECF6",
          "polar": {
           "angularaxis": {
            "gridcolor": "white",
            "linecolor": "white",
            "ticks": ""
           },
           "bgcolor": "#E5ECF6",
           "radialaxis": {
            "gridcolor": "white",
            "linecolor": "white",
            "ticks": ""
           }
          },
          "scene": {
           "xaxis": {
            "backgroundcolor": "#E5ECF6",
            "gridcolor": "white",
            "gridwidth": 2,
            "linecolor": "white",
            "showbackground": true,
            "ticks": "",
            "zerolinecolor": "white"
           },
           "yaxis": {
            "backgroundcolor": "#E5ECF6",
            "gridcolor": "white",
            "gridwidth": 2,
            "linecolor": "white",
            "showbackground": true,
            "ticks": "",
            "zerolinecolor": "white"
           },
           "zaxis": {
            "backgroundcolor": "#E5ECF6",
            "gridcolor": "white",
            "gridwidth": 2,
            "linecolor": "white",
            "showbackground": true,
            "ticks": "",
            "zerolinecolor": "white"
           }
          },
          "shapedefaults": {
           "line": {
            "color": "#2a3f5f"
           }
          },
          "ternary": {
           "aaxis": {
            "gridcolor": "white",
            "linecolor": "white",
            "ticks": ""
           },
           "baxis": {
            "gridcolor": "white",
            "linecolor": "white",
            "ticks": ""
           },
           "bgcolor": "#E5ECF6",
           "caxis": {
            "gridcolor": "white",
            "linecolor": "white",
            "ticks": ""
           }
          },
          "title": {
           "x": 0.05
          },
          "xaxis": {
           "automargin": true,
           "gridcolor": "white",
           "linecolor": "white",
           "ticks": "",
           "title": {
            "standoff": 15
           },
           "zerolinecolor": "white",
           "zerolinewidth": 2
          },
          "yaxis": {
           "automargin": true,
           "gridcolor": "white",
           "linecolor": "white",
           "ticks": "",
           "title": {
            "standoff": 15
           },
           "zerolinecolor": "white",
           "zerolinewidth": 2
          }
         }
        },
        "title": {
         "text": "$R^2\\text{-value}$"
        },
        "width": 750,
        "xaxis": {
         "range": [
          -2,
          14
         ],
         "tickangle": 45,
         "ticktext": [
          "base",
          "base",
          "base",
          "base"
         ],
         "tickvals": [
          0,
          4,
          8,
          12
         ]
        }
       }
      },
      "text/html": [
       "<div>                            <div id=\"debaf903-39e4-445e-b35f-020882a45c46\" class=\"plotly-graph-div\" style=\"height:750px; width:750px;\"></div>            <script type=\"text/javascript\">                require([\"plotly\"], function(Plotly) {                    window.PLOTLYENV=window.PLOTLYENV || {};                                    if (document.getElementById(\"debaf903-39e4-445e-b35f-020882a45c46\")) {                    Plotly.newPlot(                        \"debaf903-39e4-445e-b35f-020882a45c46\",                        [{\"marker\":{\"color\":\"rgb(31, 119, 180)\",\"size\":7,\"symbol\":\"square\"},\"mode\":\"markers\",\"name\":\"QR\",\"x\":[null],\"y\":[null],\"type\":\"scatter\"},{\"line\":{\"color\":\"rgb(31, 119, 180)\"},\"showlegend\":false,\"spanmode\":\"hard\",\"x0\":0,\"y\":[0.13689124220472182,0.20507433404884978,0.2274551402322864,0.2221773003692198,0.1534925268262768,0.1961971448778994,0.18611512071916136,0.22305115302741574,0.19366879244653734,0.17776048361038155],\"type\":\"violin\"},{\"marker\":{\"color\":\"rgb(255, 127, 14)\",\"size\":7,\"symbol\":\"square\"},\"mode\":\"markers\",\"name\":\"QRF\",\"x\":[null],\"y\":[null],\"type\":\"scatter\"},{\"line\":{\"color\":\"rgb(255, 127, 14)\"},\"showlegend\":false,\"spanmode\":\"hard\",\"x0\":4,\"y\":[0.16499145539366045,0.20187978193575806,0.18922306263426114,0.20138046931432663,0.16237495828358828,0.17310205061851958,0.1717958147533598,0.20018583887665897,0.18856213556112467,0.18012855103659042],\"type\":\"violin\"},{\"marker\":{\"color\":\"rgb(44, 160, 44)\",\"size\":7,\"symbol\":\"square\"},\"mode\":\"markers\",\"name\":\"MV\",\"x\":[null],\"y\":[null],\"type\":\"scatter\"},{\"line\":{\"color\":\"rgb(44, 160, 44)\"},\"showlegend\":false,\"spanmode\":\"hard\",\"x0\":8,\"y\":[0.13431588213580903,0.19432337807377587,0.21470281319250417,0.21772707188845342,0.14094525855768736,0.19654713772996668,0.1649586272506176,0.207077604814507,0.16694468113079441,0.18144055572361484],\"type\":\"violin\"},{\"marker\":{\"color\":\"rgb(214, 39, 40)\",\"size\":7,\"symbol\":\"square\"},\"mode\":\"markers\",\"name\":\"MVE\",\"x\":[null],\"y\":[null],\"type\":\"scatter\"},{\"line\":{\"color\":\"rgb(214, 39, 40)\"},\"showlegend\":false,\"spanmode\":\"hard\",\"x0\":12,\"y\":[0.14365568249498206,0.2168921749037932,0.2275871239207451,0.23560830537685484,0.154271737105649,0.17512653430916747,0.15942380759753527,0.2158850990016815,0.2056553844461635,0.1806491147069268],\"type\":\"violin\"}],                        {\"height\":750,\"template\":{\"data\":{\"histogram2dcontour\":[{\"type\":\"histogram2dcontour\",\"colorbar\":{\"outlinewidth\":0,\"ticks\":\"\"},\"colorscale\":[[0.0,\"#0d0887\"],[0.1111111111111111,\"#46039f\"],[0.2222222222222222,\"#7201a8\"],[0.3333333333333333,\"#9c179e\"],[0.4444444444444444,\"#bd3786\"],[0.5555555555555556,\"#d8576b\"],[0.6666666666666666,\"#ed7953\"],[0.7777777777777778,\"#fb9f3a\"],[0.8888888888888888,\"#fdca26\"],[1.0,\"#f0f921\"]]}],\"choropleth\":[{\"type\":\"choropleth\",\"colorbar\":{\"outlinewidth\":0,\"ticks\":\"\"}}],\"histogram2d\":[{\"type\":\"histogram2d\",\"colorbar\":{\"outlinewidth\":0,\"ticks\":\"\"},\"colorscale\":[[0.0,\"#0d0887\"],[0.1111111111111111,\"#46039f\"],[0.2222222222222222,\"#7201a8\"],[0.3333333333333333,\"#9c179e\"],[0.4444444444444444,\"#bd3786\"],[0.5555555555555556,\"#d8576b\"],[0.6666666666666666,\"#ed7953\"],[0.7777777777777778,\"#fb9f3a\"],[0.8888888888888888,\"#fdca26\"],[1.0,\"#f0f921\"]]}],\"heatmap\":[{\"type\":\"heatmap\",\"colorbar\":{\"outlinewidth\":0,\"ticks\":\"\"},\"colorscale\":[[0.0,\"#0d0887\"],[0.1111111111111111,\"#46039f\"],[0.2222222222222222,\"#7201a8\"],[0.3333333333333333,\"#9c179e\"],[0.4444444444444444,\"#bd3786\"],[0.5555555555555556,\"#d8576b\"],[0.6666666666666666,\"#ed7953\"],[0.7777777777777778,\"#fb9f3a\"],[0.8888888888888888,\"#fdca26\"],[1.0,\"#f0f921\"]]}],\"heatmapgl\":[{\"type\":\"heatmapgl\",\"colorbar\":{\"outlinewidth\":0,\"ticks\":\"\"},\"colorscale\":[[0.0,\"#0d0887\"],[0.1111111111111111,\"#46039f\"],[0.2222222222222222,\"#7201a8\"],[0.3333333333333333,\"#9c179e\"],[0.4444444444444444,\"#bd3786\"],[0.5555555555555556,\"#d8576b\"],[0.6666666666666666,\"#ed7953\"],[0.7777777777777778,\"#fb9f3a\"],[0.8888888888888888,\"#fdca26\"],[1.0,\"#f0f921\"]]}],\"contourcarpet\":[{\"type\":\"contourcarpet\",\"colorbar\":{\"outlinewidth\":0,\"ticks\":\"\"}}],\"contour\":[{\"type\":\"contour\",\"colorbar\":{\"outlinewidth\":0,\"ticks\":\"\"},\"colorscale\":[[0.0,\"#0d0887\"],[0.1111111111111111,\"#46039f\"],[0.2222222222222222,\"#7201a8\"],[0.3333333333333333,\"#9c179e\"],[0.4444444444444444,\"#bd3786\"],[0.5555555555555556,\"#d8576b\"],[0.6666666666666666,\"#ed7953\"],[0.7777777777777778,\"#fb9f3a\"],[0.8888888888888888,\"#fdca26\"],[1.0,\"#f0f921\"]]}],\"surface\":[{\"type\":\"surface\",\"colorbar\":{\"outlinewidth\":0,\"ticks\":\"\"},\"colorscale\":[[0.0,\"#0d0887\"],[0.1111111111111111,\"#46039f\"],[0.2222222222222222,\"#7201a8\"],[0.3333333333333333,\"#9c179e\"],[0.4444444444444444,\"#bd3786\"],[0.5555555555555556,\"#d8576b\"],[0.6666666666666666,\"#ed7953\"],[0.7777777777777778,\"#fb9f3a\"],[0.8888888888888888,\"#fdca26\"],[1.0,\"#f0f921\"]]}],\"mesh3d\":[{\"type\":\"mesh3d\",\"colorbar\":{\"outlinewidth\":0,\"ticks\":\"\"}}],\"scatter\":[{\"fillpattern\":{\"fillmode\":\"overlay\",\"size\":10,\"solidity\":0.2},\"type\":\"scatter\"}],\"parcoords\":[{\"type\":\"parcoords\",\"line\":{\"colorbar\":{\"outlinewidth\":0,\"ticks\":\"\"}}}],\"scatterpolargl\":[{\"type\":\"scatterpolargl\",\"marker\":{\"colorbar\":{\"outlinewidth\":0,\"ticks\":\"\"}}}],\"bar\":[{\"error_x\":{\"color\":\"#2a3f5f\"},\"error_y\":{\"color\":\"#2a3f5f\"},\"marker\":{\"line\":{\"color\":\"#E5ECF6\",\"width\":0.5},\"pattern\":{\"fillmode\":\"overlay\",\"size\":10,\"solidity\":0.2}},\"type\":\"bar\"}],\"scattergeo\":[{\"type\":\"scattergeo\",\"marker\":{\"colorbar\":{\"outlinewidth\":0,\"ticks\":\"\"}}}],\"scatterpolar\":[{\"type\":\"scatterpolar\",\"marker\":{\"colorbar\":{\"outlinewidth\":0,\"ticks\":\"\"}}}],\"histogram\":[{\"marker\":{\"pattern\":{\"fillmode\":\"overlay\",\"size\":10,\"solidity\":0.2}},\"type\":\"histogram\"}],\"scattergl\":[{\"type\":\"scattergl\",\"marker\":{\"colorbar\":{\"outlinewidth\":0,\"ticks\":\"\"}}}],\"scatter3d\":[{\"type\":\"scatter3d\",\"line\":{\"colorbar\":{\"outlinewidth\":0,\"ticks\":\"\"}},\"marker\":{\"colorbar\":{\"outlinewidth\":0,\"ticks\":\"\"}}}],\"scattermapbox\":[{\"type\":\"scattermapbox\",\"marker\":{\"colorbar\":{\"outlinewidth\":0,\"ticks\":\"\"}}}],\"scatterternary\":[{\"type\":\"scatterternary\",\"marker\":{\"colorbar\":{\"outlinewidth\":0,\"ticks\":\"\"}}}],\"scattercarpet\":[{\"type\":\"scattercarpet\",\"marker\":{\"colorbar\":{\"outlinewidth\":0,\"ticks\":\"\"}}}],\"carpet\":[{\"aaxis\":{\"endlinecolor\":\"#2a3f5f\",\"gridcolor\":\"white\",\"linecolor\":\"white\",\"minorgridcolor\":\"white\",\"startlinecolor\":\"#2a3f5f\"},\"baxis\":{\"endlinecolor\":\"#2a3f5f\",\"gridcolor\":\"white\",\"linecolor\":\"white\",\"minorgridcolor\":\"white\",\"startlinecolor\":\"#2a3f5f\"},\"type\":\"carpet\"}],\"table\":[{\"cells\":{\"fill\":{\"color\":\"#EBF0F8\"},\"line\":{\"color\":\"white\"}},\"header\":{\"fill\":{\"color\":\"#C8D4E3\"},\"line\":{\"color\":\"white\"}},\"type\":\"table\"}],\"barpolar\":[{\"marker\":{\"line\":{\"color\":\"#E5ECF6\",\"width\":0.5},\"pattern\":{\"fillmode\":\"overlay\",\"size\":10,\"solidity\":0.2}},\"type\":\"barpolar\"}],\"pie\":[{\"automargin\":true,\"type\":\"pie\"}]},\"layout\":{\"autotypenumbers\":\"strict\",\"colorway\":[\"#636efa\",\"#EF553B\",\"#00cc96\",\"#ab63fa\",\"#FFA15A\",\"#19d3f3\",\"#FF6692\",\"#B6E880\",\"#FF97FF\",\"#FECB52\"],\"font\":{\"color\":\"#2a3f5f\"},\"hovermode\":\"closest\",\"hoverlabel\":{\"align\":\"left\"},\"paper_bgcolor\":\"white\",\"plot_bgcolor\":\"#E5ECF6\",\"polar\":{\"bgcolor\":\"#E5ECF6\",\"angularaxis\":{\"gridcolor\":\"white\",\"linecolor\":\"white\",\"ticks\":\"\"},\"radialaxis\":{\"gridcolor\":\"white\",\"linecolor\":\"white\",\"ticks\":\"\"}},\"ternary\":{\"bgcolor\":\"#E5ECF6\",\"aaxis\":{\"gridcolor\":\"white\",\"linecolor\":\"white\",\"ticks\":\"\"},\"baxis\":{\"gridcolor\":\"white\",\"linecolor\":\"white\",\"ticks\":\"\"},\"caxis\":{\"gridcolor\":\"white\",\"linecolor\":\"white\",\"ticks\":\"\"}},\"coloraxis\":{\"colorbar\":{\"outlinewidth\":0,\"ticks\":\"\"}},\"colorscale\":{\"sequential\":[[0.0,\"#0d0887\"],[0.1111111111111111,\"#46039f\"],[0.2222222222222222,\"#7201a8\"],[0.3333333333333333,\"#9c179e\"],[0.4444444444444444,\"#bd3786\"],[0.5555555555555556,\"#d8576b\"],[0.6666666666666666,\"#ed7953\"],[0.7777777777777778,\"#fb9f3a\"],[0.8888888888888888,\"#fdca26\"],[1.0,\"#f0f921\"]],\"sequentialminus\":[[0.0,\"#0d0887\"],[0.1111111111111111,\"#46039f\"],[0.2222222222222222,\"#7201a8\"],[0.3333333333333333,\"#9c179e\"],[0.4444444444444444,\"#bd3786\"],[0.5555555555555556,\"#d8576b\"],[0.6666666666666666,\"#ed7953\"],[0.7777777777777778,\"#fb9f3a\"],[0.8888888888888888,\"#fdca26\"],[1.0,\"#f0f921\"]],\"diverging\":[[0,\"#8e0152\"],[0.1,\"#c51b7d\"],[0.2,\"#de77ae\"],[0.3,\"#f1b6da\"],[0.4,\"#fde0ef\"],[0.5,\"#f7f7f7\"],[0.6,\"#e6f5d0\"],[0.7,\"#b8e186\"],[0.8,\"#7fbc41\"],[0.9,\"#4d9221\"],[1,\"#276419\"]]},\"xaxis\":{\"gridcolor\":\"white\",\"linecolor\":\"white\",\"ticks\":\"\",\"title\":{\"standoff\":15},\"zerolinecolor\":\"white\",\"automargin\":true,\"zerolinewidth\":2},\"yaxis\":{\"gridcolor\":\"white\",\"linecolor\":\"white\",\"ticks\":\"\",\"title\":{\"standoff\":15},\"zerolinecolor\":\"white\",\"automargin\":true,\"zerolinewidth\":2},\"scene\":{\"xaxis\":{\"backgroundcolor\":\"#E5ECF6\",\"gridcolor\":\"white\",\"linecolor\":\"white\",\"showbackground\":true,\"ticks\":\"\",\"zerolinecolor\":\"white\",\"gridwidth\":2},\"yaxis\":{\"backgroundcolor\":\"#E5ECF6\",\"gridcolor\":\"white\",\"linecolor\":\"white\",\"showbackground\":true,\"ticks\":\"\",\"zerolinecolor\":\"white\",\"gridwidth\":2},\"zaxis\":{\"backgroundcolor\":\"#E5ECF6\",\"gridcolor\":\"white\",\"linecolor\":\"white\",\"showbackground\":true,\"ticks\":\"\",\"zerolinecolor\":\"white\",\"gridwidth\":2}},\"shapedefaults\":{\"line\":{\"color\":\"#2a3f5f\"}},\"annotationdefaults\":{\"arrowcolor\":\"#2a3f5f\",\"arrowhead\":0,\"arrowwidth\":1},\"geo\":{\"bgcolor\":\"white\",\"landcolor\":\"#E5ECF6\",\"subunitcolor\":\"white\",\"showland\":true,\"showlakes\":true,\"lakecolor\":\"white\"},\"title\":{\"x\":0.05},\"mapbox\":{\"style\":\"light\"}}},\"margin\":{\"l\":0,\"r\":0,\"t\":70,\"b\":0},\"width\":750,\"title\":{\"text\":\"$R^2\\\\text{-value}$\"},\"xaxis\":{\"range\":[-2,14],\"tickangle\":45,\"tickvals\":[0,4,8,12],\"ticktext\":[\"base\",\"base\",\"base\",\"base\"]}},                        {\"responsive\": true}                    ).then(function(){\n",
       "                            \n",
       "var gd = document.getElementById('debaf903-39e4-445e-b35f-020882a45c46');\n",
       "var x = new MutationObserver(function (mutations, observer) {{\n",
       "        var display = window.getComputedStyle(gd).display;\n",
       "        if (!display || display === 'none') {{\n",
       "            console.log([gd, 'removed!']);\n",
       "            Plotly.purge(gd);\n",
       "            observer.disconnect();\n",
       "        }}\n",
       "}});\n",
       "\n",
       "// Listen for the removal of the full notebook cells\n",
       "var notebookContainer = gd.closest('#notebook-container');\n",
       "if (notebookContainer) {{\n",
       "    x.observe(notebookContainer, {childList: true});\n",
       "}}\n",
       "\n",
       "// Listen for the clearing of the current output cell\n",
       "var outputEl = gd.closest('.output');\n",
       "if (outputEl) {{\n",
       "    x.observe(outputEl, {childList: true});\n",
       "}}\n",
       "\n",
       "                        })                };                });            </script>        </div>"
      ]
     },
     "metadata": {},
     "output_type": "display_data"
    }
   ],
   "source": [
    "mergers = [\"QR\", \"QRF\", \"ClusterQR\"]\n",
    "\n",
    "index = []\n",
    "for i, name in enumerate(columns_marginal):\n",
    "    if name in [n + \"*-base\" for n in mergers] or(not \"*\" in name and name not in [n + \"-base\" for n in mergers]):\n",
    "        index.append(i)\n",
    "\n",
    "columns = [columns_marginal[i].replace(\"*\", \"\") for i in index]\n",
    "columntext = []\n",
    "for c in columns:\n",
    "    text = c.split(\"-\")\n",
    "    columntext.append((text[0], text[1]))\n",
    "r2s = r2s_marginal[:, index]\n",
    "coverages = coverages_marginal[:, index]\n",
    "widths = widths_marginal[:, index]\n",
    "\n",
    "r2_data = pd.DataFrame(r2s, columns = columns)\n",
    "cov_data = pd.DataFrame(coverages, columns = columns)\n",
    "width_data = pd.DataFrame(widths, columns = columns)\n",
    "\n",
    "bg_colors = cycle(plotly.colors.qualitative.Pastel2)\n",
    "\n",
    "fig = go.Figure(layout = go.Layout(height = 750), layout_yaxis_range = [np.floor(np.min(coverages) * 10) / 10, np.ceil(np.max(coverages) * 10) / 10])\n",
    "fig2 = go.Figure(layout = go.Layout(height = 750))\n",
    "\n",
    "for i, model in enumerate(columns):\n",
    "    if i % 4 == 0:\n",
    "        colors = colors = cycle(plotly.colors.DEFAULT_PLOTLY_COLORS)\n",
    "    color = next(colors)\n",
    "\n",
    "    fig.add_trace(go.Violin(y = cov_data[model], x0 = i, spanmode = \"hard\", showlegend = False, line_color = color))\n",
    "    fig2.add_trace(go.Violin(y = width_data[model], x0 = i, spanmode = \"hard\", showlegend = False, line_color = color))\n",
    "\n",
    "    if i % 4 == 0:\n",
    "        bg_color = next(bg_colors)\n",
    "        fig.add_vrect(x0 = i-0.5, x1 = i+3.5, fillcolor = bg_color, layer = \"below\", line_width = 0, opacity = 0.5, name = model)\n",
    "        fig.add_trace(go.Scatter(x=[None], y=[None], mode=\"markers\", name = columntext[i][0], marker = dict(size = 7, color = bg_color, symbol = 'square')))\n",
    "        fig2.add_vrect(x0 = i-0.5, x1 = i+3.5, fillcolor = bg_color, layer = \"below\", line_width = 0, opacity = 0.5)\n",
    "        fig2.add_trace(go.Scatter(x=[None], y=[None], mode=\"markers\", name = columntext[i][0], marker = dict(size = 7, color = bg_color, symbol = 'square')))\n",
    "        \n",
    "fig.add_trace(go.Scatter(x = [-.5, len(columns)-.5], y = [1 - alpha, 1 - alpha], line = dict(dash = 'dot', color = \"red\"), name = \"Target coverage\", marker = {\"opacity\": 0}, showlegend = False))\n",
    "\n",
    "text = [\"\"]\n",
    "text.extend([c[1] for c in columntext])\n",
    "text.append(\"\")\n",
    "vals = [-.5]\n",
    "vals.extend(range(len(columns)))\n",
    "vals.append(len(cov_data.columns) - 0.5)\n",
    "\n",
    "fig.update_layout(width = 750, margin = dict(l = 0, r = 0, t = 70, b = 0), title = r'$\\text{PI coverage (}\\alpha=' + str(alpha) + r'\\text{)}$')\n",
    "fig2.update_layout(width = 750, margin = dict(l = 0, r = 0, t = 70, b = 0), title = r'$\\text{PI width (}\\alpha=' + str(alpha) + r'\\text{)}$')\n",
    "fig.update_layout(xaxis = {\"range\": [vals[0], vals[-1]], \"tickangle\": 45, \"tickvals\": vals, \"ticktext\": text})\n",
    "fig2.update_layout(xaxis = {\"range\": [vals[0], vals[-1]], \"tickangle\": 45, \"tickvals\": vals, \"ticktext\": text})\n",
    "\n",
    "fig.write_image(folder + datasource + \"_covs.svg\", scale = 5)\n",
    "fig.write_image(folder + datasource + \"_covs.png\", scale = 5)\n",
    "fig2.write_image(folder + datasource + \"_widths.svg\", scale = 5)\n",
    "fig2.write_image(folder + datasource + \"_widths.png\", scale = 5)\n",
    "fig.show()\n",
    "fig2.show()\n",
    "\n",
    "colors = cycle(plotly.colors.DEFAULT_PLOTLY_COLORS)\n",
    "fig = go.Figure(layout = go.Layout(height = 750))\n",
    "for i, model in enumerate(columns):\n",
    "    if i % 4 == 0:\n",
    "        color = next(colors)\n",
    "        fig.add_trace(go.Scatter(x=[None], y=[None], mode=\"markers\", name = model.split(\"-\")[0], marker = dict(size = 7, color = color, symbol = 'square')))\n",
    "        fig.add_trace(go.Violin(y = r2_data[model], x0 = i, spanmode = \"hard\", showlegend = False, line_color = color))\n",
    "fig.update_layout(width = 750, margin = dict(l = 0, r = 0, t = 70, b = 0), title = r'$R^2\\text{-value}$')\n",
    "fig.update_layout(xaxis = {\"range\": [vals[1:-1:4][0]-2, vals[1:-1:4][-1]+2], \"tickangle\": 45, \"tickvals\": vals[1:-1:4], \"ticktext\": text[1:-1:4]})\n",
    "\n",
    "fig.write_image(folder + datasource + \"_r2s.svg\", scale = 5)\n",
    "fig.write_image(folder + datasource + \"_r2s.png\", scale = 5)\n",
    "fig.show()"
   ]
  },
  {
   "cell_type": "code",
   "execution_count": null,
   "id": "7678d8ad-4fd6-4f7c-adfd-a9de1e420067",
   "metadata": {},
   "outputs": [
    {
     "data": {
      "application/vnd.plotly.v1+json": {
       "config": {
        "plotlyServerURL": "https://plot.ly"
       },
       "data": [
        {
         "line": {
          "color": "rgb(31, 119, 180)"
         },
         "showlegend": false,
         "spanmode": "hard",
         "type": "violin",
         "x0": 0,
         "xaxis": "x",
         "y": [
          0.8142414860681114,
          0.7872340425531915,
          0.776566757493188,
          0.7802547770700637,
          0.7661538461538462,
          0.8265895953757225,
          0.7777777777777778,
          0.7634730538922155,
          0.8343558282208589,
          0.8031746031746032
         ],
         "yaxis": "y"
        },
        {
         "marker": {
          "color": "rgb(179,226,205)",
          "size": 7,
          "symbol": "square"
         },
         "mode": "markers",
         "name": "QR",
         "type": "scatter",
         "x": [
          null
         ],
         "xaxis": "x",
         "y": [
          null
         ],
         "yaxis": "y"
        },
        {
         "line": {
          "color": "rgb(255, 127, 14)"
         },
         "showlegend": false,
         "spanmode": "hard",
         "type": "violin",
         "x0": 1,
         "xaxis": "x",
         "y": [
          0.9442815249266863,
          0.9300291545189504,
          0.9102167182662538,
          0.9294478527607362,
          0.8930635838150289,
          0.9263456090651558,
          0.9090909090909091,
          0.8973607038123167,
          0.9020771513353115,
          0.9368770764119602
         ],
         "yaxis": "y"
        },
        {
         "line": {
          "color": "rgb(44, 160, 44)"
         },
         "showlegend": false,
         "spanmode": "hard",
         "type": "violin",
         "x0": 2,
         "xaxis": "x",
         "y": [
          0.9266862170087976,
          0.9154518950437318,
          0.8885448916408669,
          0.9202453987730062,
          0.8757225433526011,
          0.9008498583569405,
          0.8768328445747801,
          0.8709677419354839,
          0.8813056379821959,
          0.9136212624584718
         ],
         "yaxis": "y"
        },
        {
         "line": {
          "color": "rgb(214, 39, 40)"
         },
         "showlegend": false,
         "spanmode": "hard",
         "type": "violin",
         "x0": 3,
         "xaxis": "x",
         "y": [
          0.9208211143695014,
          0.8833819241982507,
          0.8823529411764706,
          0.9171779141104295,
          0.8670520231213873,
          0.8810198300283286,
          0.8533724340175953,
          0.8651026392961877,
          0.8724035608308606,
          0.8870431893687708
         ],
         "yaxis": "y"
        },
        {
         "line": {
          "color": "rgb(148, 103, 189)"
         },
         "showlegend": false,
         "spanmode": "hard",
         "type": "violin",
         "x0": 4,
         "xaxis": "x",
         "y": [
          0.9296187683284457,
          0.9271137026239067,
          0.9071207430340558,
          0.9263803680981595,
          0.8901734104046243,
          0.9065155807365439,
          0.8885630498533724,
          0.8797653958944281,
          0.8931750741839762,
          0.9169435215946844
         ],
         "yaxis": "y"
        },
        {
         "line": {
          "color": "rgb(140, 86, 75)"
         },
         "showlegend": false,
         "spanmode": "hard",
         "type": "violin",
         "x0": 5,
         "xaxis": "x",
         "y": [
          0.9208211143695014,
          0.9300291545189504,
          0.9195046439628483,
          0.9202453987730062,
          0.8815028901734104,
          0.9036827195467422,
          0.8768328445747801,
          0.8856304985337243,
          0.8783382789317508,
          0.9136212624584718
         ],
         "yaxis": "y"
        },
        {
         "line": {
          "color": "rgb(227, 119, 194)"
         },
         "showlegend": false,
         "spanmode": "hard",
         "type": "violin",
         "x0": 6,
         "xaxis": "x",
         "y": [
          0.9208211143695014,
          0.9329446064139941,
          0.9071207430340558,
          0.9294478527607362,
          0.884393063583815,
          0.9065155807365439,
          0.8709677419354839,
          0.8826979472140762,
          0.8813056379821959,
          0.920265780730897
         ],
         "yaxis": "y"
        },
        {
         "line": {
          "color": "rgb(31, 119, 180)"
         },
         "showlegend": false,
         "spanmode": "hard",
         "type": "violin",
         "x0": 7,
         "xaxis": "x",
         "y": [
          0.9131832797427653,
          0.9317507418397626,
          0.8792134831460674,
          0.9321533923303835,
          0.8879551820728291,
          0.9151515151515152,
          0.8980891719745223,
          0.8646153846153846,
          0.9074074074074074,
          0.9245283018867925
         ],
         "yaxis": "y"
        },
        {
         "marker": {
          "color": "rgb(253,205,172)",
          "size": 7,
          "symbol": "square"
         },
         "mode": "markers",
         "name": "QRF",
         "type": "scatter",
         "x": [
          null
         ],
         "xaxis": "x",
         "y": [
          null
         ],
         "yaxis": "y"
        },
        {
         "line": {
          "color": "rgb(255, 127, 14)"
         },
         "showlegend": false,
         "spanmode": "hard",
         "type": "violin",
         "x0": 8,
         "xaxis": "x",
         "y": [
          0.913312693498452,
          0.9178470254957507,
          0.9026548672566371,
          0.9279538904899135,
          0.9432432432432433,
          0.9104477611940298,
          0.9507246376811594,
          0.89937106918239,
          0.9028213166144201,
          0.9254658385093167
         ],
         "yaxis": "y"
        },
        {
         "line": {
          "color": "rgb(44, 160, 44)"
         },
         "showlegend": false,
         "spanmode": "hard",
         "type": "violin",
         "x0": 9,
         "xaxis": "x",
         "y": [
          0.8978328173374613,
          0.8980169971671388,
          0.8938053097345132,
          0.9077809798270894,
          0.9108108108108108,
          0.8776119402985074,
          0.9217391304347826,
          0.8805031446540881,
          0.8808777429467085,
          0.9161490683229814
         ],
         "yaxis": "y"
        },
        {
         "line": {
          "color": "rgb(214, 39, 40)"
         },
         "showlegend": false,
         "spanmode": "hard",
         "type": "violin",
         "x0": 10,
         "xaxis": "x",
         "y": [
          0.9040247678018576,
          0.8951841359773371,
          0.887905604719764,
          0.9164265129682997,
          0.9135135135135135,
          0.8805970149253731,
          0.9188405797101449,
          0.8742138364779874,
          0.8714733542319749,
          0.906832298136646
         ],
         "yaxis": "y"
        },
        {
         "line": {
          "color": "rgb(148, 103, 189)"
         },
         "showlegend": false,
         "spanmode": "hard",
         "type": "violin",
         "x0": 11,
         "xaxis": "x",
         "y": [
          0.8978328173374613,
          0.9065155807365439,
          0.8967551622418879,
          0.9250720461095101,
          0.9081081081081082,
          0.8955223880597015,
          0.9188405797101449,
          0.8679245283018868,
          0.8683385579937304,
          0.9161490683229814
         ],
         "yaxis": "y"
        },
        {
         "line": {
          "color": "rgb(140, 86, 75)"
         },
         "showlegend": false,
         "spanmode": "hard",
         "type": "violin",
         "x0": 12,
         "xaxis": "x",
         "y": [
          0.8978328173374613,
          0.9065155807365439,
          0.8938053097345132,
          0.9221902017291066,
          0.9108108108108108,
          0.8985074626865671,
          0.9246376811594202,
          0.8427672955974843,
          0.8808777429467085,
          0.922360248447205
         ],
         "yaxis": "y"
        },
        {
         "line": {
          "color": "rgb(227, 119, 194)"
         },
         "showlegend": false,
         "spanmode": "hard",
         "type": "violin",
         "x0": 13,
         "xaxis": "x",
         "y": [
          0.8947368421052632,
          0.9036827195467422,
          0.8908554572271387,
          0.9221902017291066,
          0.9162162162162162,
          0.8925373134328358,
          0.9304347826086956,
          0.8584905660377359,
          0.8871473354231975,
          0.9130434782608695
         ],
         "yaxis": "y"
        },
        {
         "line": {
          "color": "rgb(31, 119, 180)"
         },
         "showlegend": false,
         "spanmode": "hard",
         "type": "violin",
         "x0": 14,
         "xaxis": "x",
         "y": [
          0.765625,
          0.799410029498525,
          0.7865853658536586,
          0.8138138138138138,
          0.7445652173913043,
          0.7777777777777778,
          0.774390243902439,
          0.7714285714285715,
          0.7467948717948718,
          0.7730061349693251
         ],
         "yaxis": "y"
        },
        {
         "marker": {
          "color": "rgb(203,213,232)",
          "size": 7,
          "symbol": "square"
         },
         "mode": "markers",
         "name": "MV",
         "type": "scatter",
         "x": [
          null
         ],
         "xaxis": "x",
         "y": [
          null
         ],
         "yaxis": "y"
        },
        {
         "line": {
          "color": "rgb(255, 127, 14)"
         },
         "showlegend": false,
         "spanmode": "hard",
         "type": "violin",
         "x0": 15,
         "xaxis": "x",
         "y": [
          0.928125,
          0.9528023598820059,
          0.926829268292683,
          0.9099099099099099,
          0.8940217391304348,
          0.9035087719298246,
          0.9115853658536586,
          0.8984126984126984,
          0.9294871794871795,
          0.901840490797546
         ],
         "yaxis": "y"
        },
        {
         "line": {
          "color": "rgb(44, 160, 44)"
         },
         "showlegend": false,
         "spanmode": "hard",
         "type": "violin",
         "x0": 16,
         "xaxis": "x",
         "y": [
          0.89375,
          0.8967551622418879,
          0.8871951219512195,
          0.8858858858858859,
          0.8777173913043478,
          0.8596491228070176,
          0.875,
          0.8571428571428571,
          0.8685897435897436,
          0.852760736196319
         ],
         "yaxis": "y"
        },
        {
         "line": {
          "color": "rgb(214, 39, 40)"
         },
         "showlegend": false,
         "spanmode": "hard",
         "type": "violin",
         "x0": 17,
         "xaxis": "x",
         "y": [
          0.88125,
          0.8908554572271387,
          0.8810975609756098,
          0.8798798798798799,
          0.8695652173913043,
          0.8421052631578947,
          0.8689024390243902,
          0.8539682539682539,
          0.8589743589743589,
          0.8496932515337423
         ],
         "yaxis": "y"
        },
        {
         "line": {
          "color": "rgb(148, 103, 189)"
         },
         "showlegend": false,
         "spanmode": "hard",
         "type": "violin",
         "x0": 18,
         "xaxis": "x",
         "y": [
          0.909375,
          0.9528023598820059,
          0.9024390243902439,
          0.8978978978978979,
          0.904891304347826,
          0.9005847953216374,
          0.9054878048780488,
          0.8888888888888888,
          0.9102564102564102,
          0.8926380368098159
         ],
         "yaxis": "y"
        },
        {
         "line": {
          "color": "rgb(140, 86, 75)"
         },
         "showlegend": false,
         "spanmode": "hard",
         "type": "violin",
         "x0": 19,
         "xaxis": "x",
         "y": [
          0.909375,
          0.9557522123893806,
          0.9054878048780488,
          0.8978978978978979,
          0.9021739130434783,
          0.9005847953216374,
          0.9024390243902439,
          0.8952380952380953,
          0.907051282051282,
          0.8865030674846626
         ],
         "yaxis": "y"
        },
        {
         "line": {
          "color": "rgb(227, 119, 194)"
         },
         "showlegend": false,
         "spanmode": "hard",
         "type": "violin",
         "x0": 20,
         "xaxis": "x",
         "y": [
          0.909375,
          0.9557522123893806,
          0.9024390243902439,
          0.8978978978978979,
          0.9021739130434783,
          0.8888888888888888,
          0.8963414634146342,
          0.8888888888888888,
          0.907051282051282,
          0.8865030674846626
         ],
         "yaxis": "y"
        },
        {
         "line": {
          "color": "rgb(31, 119, 180)"
         },
         "showlegend": false,
         "spanmode": "hard",
         "type": "violin",
         "x0": 21,
         "xaxis": "x",
         "y": [
          0.8566978193146417,
          0.8333333333333334,
          0.8366013071895425,
          0.8430769230769231,
          0.847953216374269,
          0.8348909657320872,
          0.8284023668639053,
          0.8237082066869301,
          0.8545994065281899,
          0.8488372093023255
         ],
         "yaxis": "y"
        },
        {
         "marker": {
          "color": "rgb(244,202,228)",
          "size": 7,
          "symbol": "square"
         },
         "mode": "markers",
         "name": "MVE",
         "type": "scatter",
         "x": [
          null
         ],
         "xaxis": "x",
         "y": [
          null
         ],
         "yaxis": "y"
        },
        {
         "line": {
          "color": "rgb(255, 127, 14)"
         },
         "showlegend": false,
         "spanmode": "hard",
         "type": "violin",
         "x0": 22,
         "xaxis": "x",
         "y": [
          0.9314641744548287,
          0.9303030303030303,
          0.9379084967320261,
          0.9138461538461539,
          0.9269005847953217,
          0.9283489096573209,
          0.9230769230769231,
          0.9118541033434651,
          0.9347181008902077,
          0.9156976744186046
         ],
         "yaxis": "y"
        },
        {
         "line": {
          "color": "rgb(44, 160, 44)"
         },
         "showlegend": false,
         "spanmode": "hard",
         "type": "violin",
         "x0": 23,
         "xaxis": "x",
         "y": [
          0.9096573208722741,
          0.9030303030303031,
          0.8856209150326797,
          0.8646153846153846,
          0.8771929824561403,
          0.8753894080996885,
          0.8609467455621301,
          0.8875379939209727,
          0.884272997032641,
          0.875
         ],
         "yaxis": "y"
        },
        {
         "line": {
          "color": "rgb(214, 39, 40)"
         },
         "showlegend": false,
         "spanmode": "hard",
         "type": "violin",
         "x0": 24,
         "xaxis": "x",
         "y": [
          0.9096573208722741,
          0.9,
          0.8856209150326797,
          0.8646153846153846,
          0.8771929824561403,
          0.8753894080996885,
          0.8550295857988166,
          0.8753799392097265,
          0.8783382789317508,
          0.872093023255814
         ],
         "yaxis": "y"
        },
        {
         "line": {
          "color": "rgb(148, 103, 189)"
         },
         "showlegend": false,
         "spanmode": "hard",
         "type": "violin",
         "x0": 25,
         "xaxis": "x",
         "y": [
          0.9283489096573209,
          0.9212121212121213,
          0.8758169934640523,
          0.8953846153846153,
          0.8801169590643275,
          0.9034267912772586,
          0.8698224852071006,
          0.8875379939209727,
          0.913946587537092,
          0.8953488372093024
         ],
         "yaxis": "y"
        },
        {
         "line": {
          "color": "rgb(140, 86, 75)"
         },
         "showlegend": false,
         "spanmode": "hard",
         "type": "violin",
         "x0": 26,
         "xaxis": "x",
         "y": [
          0.9252336448598131,
          0.9212121212121213,
          0.8888888888888888,
          0.8923076923076924,
          0.8830409356725146,
          0.9065420560747663,
          0.8668639053254438,
          0.9027355623100304,
          0.8961424332344213,
          0.875
         ],
         "yaxis": "y"
        },
        {
         "line": {
          "color": "rgb(227, 119, 194)"
         },
         "showlegend": false,
         "spanmode": "hard",
         "type": "violin",
         "x0": 27,
         "xaxis": "x",
         "y": [
          0.9252336448598131,
          0.9272727272727272,
          0.8888888888888888,
          0.8892307692307693,
          0.8830409356725146,
          0.897196261682243,
          0.863905325443787,
          0.9027355623100304,
          0.8991097922848664,
          0.875
         ],
         "yaxis": "y"
        },
        {
         "line": {
          "color": "red",
          "dash": "dot"
         },
         "marker": {
          "opacity": 0
         },
         "name": "Target coverage",
         "showlegend": false,
         "type": "scatter",
         "x": [
          -0.5,
          27.5
         ],
         "xaxis": "x",
         "y": [
          0.9,
          0.9
         ],
         "yaxis": "y"
        },
        {
         "line": {
          "color": "rgb(31, 119, 180)"
         },
         "showlegend": false,
         "spanmode": "hard",
         "type": "violin",
         "x0": 0,
         "xaxis": "x2",
         "y": [
          0.8011695906432749,
          0.8586956521739131,
          0.7889273356401384,
          0.8368421052631579,
          0.8286516853932584,
          0.8184438040345822,
          0.8165680473372781,
          0.8058823529411765,
          0.8264984227129337,
          0.7981366459627329
         ],
         "yaxis": "y2"
        },
        {
         "line": {
          "color": "rgb(255, 127, 14)"
         },
         "showlegend": false,
         "spanmode": "hard",
         "type": "violin",
         "x0": 1,
         "xaxis": "x2",
         "y": [
          0.9029411764705882,
          0.9351032448377581,
          0.8845070422535212,
          0.8947368421052632,
          0.9050632911392406,
          0.9,
          0.8731988472622478,
          0.8927444794952681,
          0.9221556886227545,
          0.8826979472140762
         ],
         "yaxis": "y2"
        },
        {
         "line": {
          "color": "rgb(44, 160, 44)"
         },
         "showlegend": false,
         "spanmode": "hard",
         "type": "violin",
         "x0": 2,
         "xaxis": "x2",
         "y": [
          0.9029411764705882,
          0.9262536873156342,
          0.8901408450704226,
          0.8918128654970761,
          0.9082278481012658,
          0.9,
          0.8645533141210374,
          0.8990536277602523,
          0.907185628742515,
          0.873900293255132
         ],
         "yaxis": "y2"
        },
        {
         "line": {
          "color": "rgb(214, 39, 40)"
         },
         "showlegend": false,
         "spanmode": "hard",
         "type": "violin",
         "x0": 3,
         "xaxis": "x2",
         "y": [
          0.9088235294117647,
          0.9233038348082596,
          0.8845070422535212,
          0.8888888888888888,
          0.9113924050632911,
          0.903125,
          0.8789625360230547,
          0.8927444794952681,
          0.9161676646706587,
          0.8826979472140762
         ],
         "yaxis": "y2"
        },
        {
         "line": {
          "color": "rgb(148, 103, 189)"
         },
         "showlegend": false,
         "spanmode": "hard",
         "type": "violin",
         "x0": 4,
         "xaxis": "x2",
         "y": [
          0.9117647058823529,
          0.9203539823008849,
          0.8788732394366198,
          0.8947368421052632,
          0.9113924050632911,
          0.890625,
          0.8818443804034583,
          0.889589905362776,
          0.9221556886227545,
          0.873900293255132
         ],
         "yaxis": "y2"
        },
        {
         "line": {
          "color": "rgb(140, 86, 75)"
         },
         "showlegend": false,
         "spanmode": "hard",
         "type": "violin",
         "x0": 5,
         "xaxis": "x2",
         "y": [
          0.9058823529411765,
          0.9144542772861357,
          0.8760563380281691,
          0.8976608187134503,
          0.9082278481012658,
          0.896875,
          0.8789625360230547,
          0.8927444794952681,
          0.907185628742515,
          0.8709677419354839
         ],
         "yaxis": "y2"
        },
        {
         "line": {
          "color": "rgb(227, 119, 194)"
         },
         "showlegend": false,
         "spanmode": "hard",
         "type": "violin",
         "x0": 6,
         "xaxis": "x2",
         "y": [
          0.9117647058823529,
          0.9233038348082596,
          0.8704225352112676,
          0.8888888888888888,
          0.9113924050632911,
          0.89375,
          0.8818443804034583,
          0.8927444794952681,
          0.9191616766467066,
          0.873900293255132
         ],
         "yaxis": "y2"
        },
        {
         "line": {
          "color": "rgb(31, 119, 180)"
         },
         "showlegend": false,
         "spanmode": "hard",
         "type": "violin",
         "x0": 7,
         "xaxis": "x2",
         "y": [
          0.924924924924925,
          0.9083333333333333,
          0.8958990536277602,
          0.9154518950437318,
          0.9438202247191011,
          0.9109195402298851,
          0.9075144508670521,
          0.9221902017291066,
          0.9134615384615384,
          0.9164179104477612
         ],
         "yaxis": "y2"
        },
        {
         "line": {
          "color": "rgb(255, 127, 14)"
         },
         "showlegend": false,
         "spanmode": "hard",
         "type": "violin",
         "x0": 8,
         "xaxis": "x2",
         "y": [
          0.924198250728863,
          0.899390243902439,
          0.88125,
          0.8729641693811075,
          0.8952380952380953,
          0.9216867469879518,
          0.8768768768768769,
          0.8913649025069638,
          0.8823529411764706,
          0.9137380191693291
         ],
         "yaxis": "y2"
        },
        {
         "line": {
          "color": "rgb(44, 160, 44)"
         },
         "showlegend": false,
         "spanmode": "hard",
         "type": "violin",
         "x0": 9,
         "xaxis": "x2",
         "y": [
          0.924198250728863,
          0.9024390243902439,
          0.86875,
          0.8664495114006515,
          0.8952380952380953,
          0.9246987951807228,
          0.8738738738738738,
          0.8913649025069638,
          0.8730650154798761,
          0.9137380191693291
         ],
         "yaxis": "y2"
        },
        {
         "line": {
          "color": "rgb(214, 39, 40)"
         },
         "showlegend": false,
         "spanmode": "hard",
         "type": "violin",
         "x0": 10,
         "xaxis": "x2",
         "y": [
          0.924198250728863,
          0.8902439024390244,
          0.884375,
          0.8762214983713354,
          0.8920634920634921,
          0.9156626506024096,
          0.8678678678678678,
          0.8802228412256268,
          0.8823529411764706,
          0.8945686900958466
         ],
         "yaxis": "y2"
        },
        {
         "line": {
          "color": "rgb(148, 103, 189)"
         },
         "showlegend": false,
         "spanmode": "hard",
         "type": "violin",
         "x0": 11,
         "xaxis": "x2",
         "y": [
          0.9271137026239067,
          0.8932926829268293,
          0.853125,
          0.8729641693811075,
          0.8952380952380953,
          0.9186746987951807,
          0.8558558558558559,
          0.8913649025069638,
          0.8823529411764706,
          0.8881789137380192
         ],
         "yaxis": "y2"
        },
        {
         "line": {
          "color": "rgb(140, 86, 75)"
         },
         "showlegend": false,
         "spanmode": "hard",
         "type": "violin",
         "x0": 12,
         "xaxis": "x2",
         "y": [
          0.9271137026239067,
          0.9024390243902439,
          0.85,
          0.8664495114006515,
          0.8984126984126984,
          0.927710843373494,
          0.8738738738738738,
          0.8941504178272981,
          0.8761609907120743,
          0.9073482428115016
         ],
         "yaxis": "y2"
        },
        {
         "line": {
          "color": "rgb(227, 119, 194)"
         },
         "showlegend": false,
         "spanmode": "hard",
         "type": "violin",
         "x0": 13,
         "xaxis": "x2",
         "y": [
          0.9300291545189504,
          0.8963414634146342,
          0.85625,
          0.8762214983713354,
          0.8920634920634921,
          0.9156626506024096,
          0.8498498498498499,
          0.8857938718662952,
          0.8854489164086687,
          0.8913738019169329
         ],
         "yaxis": "y2"
        },
        {
         "line": {
          "color": "rgb(31, 119, 180)"
         },
         "showlegend": false,
         "spanmode": "hard",
         "type": "violin",
         "x0": 14,
         "xaxis": "x2",
         "y": [
          0.8298507462686567,
          0.8430851063829787,
          0.8023598820058997,
          0.856353591160221,
          0.7894736842105263,
          0.8422619047619048,
          0.7971014492753623,
          0.808,
          0.8463949843260188,
          0.8152492668621701
         ],
         "yaxis": "y2"
        },
        {
         "line": {
          "color": "rgb(255, 127, 14)"
         },
         "showlegend": false,
         "spanmode": "hard",
         "type": "violin",
         "x0": 15,
         "xaxis": "x2",
         "y": [
          0.9164179104477612,
          0.9148936170212766,
          0.9026548672566371,
          0.914364640883978,
          0.8978328173374613,
          0.9166666666666666,
          0.8898550724637682,
          0.912,
          0.896551724137931,
          0.9090909090909091
         ],
         "yaxis": "y2"
        },
        {
         "line": {
          "color": "rgb(44, 160, 44)"
         },
         "showlegend": false,
         "spanmode": "hard",
         "type": "violin",
         "x0": 16,
         "xaxis": "x2",
         "y": [
          0.9044776119402985,
          0.9069148936170213,
          0.8997050147492626,
          0.9116022099447514,
          0.8947368421052632,
          0.9136904761904762,
          0.8956521739130435,
          0.9093333333333333,
          0.8934169278996865,
          0.906158357771261
         ],
         "yaxis": "y2"
        },
        {
         "line": {
          "color": "rgb(214, 39, 40)"
         },
         "showlegend": false,
         "spanmode": "hard",
         "type": "violin",
         "x0": 17,
         "xaxis": "x2",
         "y": [
          0.9044776119402985,
          0.9042553191489362,
          0.9056047197640118,
          0.914364640883978,
          0.8947368421052632,
          0.9107142857142857,
          0.8956521739130435,
          0.9093333333333333,
          0.8934169278996865,
          0.906158357771261
         ],
         "yaxis": "y2"
        },
        {
         "line": {
          "color": "rgb(148, 103, 189)"
         },
         "showlegend": false,
         "spanmode": "hard",
         "type": "violin",
         "x0": 18,
         "xaxis": "x2",
         "y": [
          0.9044776119402985,
          0.9202127659574468,
          0.8967551622418879,
          0.925414364640884,
          0.8730650154798761,
          0.9166666666666666,
          0.8898550724637682,
          0.9013333333333333,
          0.9059561128526645,
          0.906158357771261
         ],
         "yaxis": "y2"
        },
        {
         "line": {
          "color": "rgb(140, 86, 75)"
         },
         "showlegend": false,
         "spanmode": "hard",
         "type": "violin",
         "x0": 19,
         "xaxis": "x2",
         "y": [
          0.8925373134328358,
          0.9175531914893617,
          0.8849557522123894,
          0.9171270718232044,
          0.8730650154798761,
          0.9017857142857143,
          0.8956521739130435,
          0.8986666666666666,
          0.896551724137931,
          0.906158357771261
         ],
         "yaxis": "y2"
        },
        {
         "line": {
          "color": "rgb(227, 119, 194)"
         },
         "showlegend": false,
         "spanmode": "hard",
         "type": "violin",
         "x0": 20,
         "xaxis": "x2",
         "y": [
          0.8985074626865671,
          0.9122340425531915,
          0.8849557522123894,
          0.9171270718232044,
          0.8730650154798761,
          0.9047619047619048,
          0.8956521739130435,
          0.8986666666666666,
          0.8934169278996865,
          0.906158357771261
         ],
         "yaxis": "y2"
        },
        {
         "line": {
          "color": "rgb(31, 119, 180)"
         },
         "showlegend": false,
         "spanmode": "hard",
         "type": "violin",
         "x0": 21,
         "xaxis": "x2",
         "y": [
          0.8526315789473684,
          0.876750700280112,
          0.8410404624277457,
          0.8901734104046243,
          0.8319088319088319,
          0.8660714285714286,
          0.8512396694214877,
          0.8270893371757925,
          0.88,
          0.86
         ],
         "yaxis": "y2"
        },
        {
         "line": {
          "color": "rgb(255, 127, 14)"
         },
         "showlegend": false,
         "spanmode": "hard",
         "type": "violin",
         "x0": 22,
         "xaxis": "x2",
         "y": [
          0.9,
          0.9159663865546218,
          0.9017341040462428,
          0.9075144508670521,
          0.8717948717948718,
          0.8988095238095238,
          0.8925619834710744,
          0.8731988472622478,
          0.89,
          0.8866666666666667
         ],
         "yaxis": "y2"
        },
        {
         "line": {
          "color": "rgb(44, 160, 44)"
         },
         "showlegend": false,
         "spanmode": "hard",
         "type": "violin",
         "x0": 23,
         "xaxis": "x2",
         "y": [
          0.8921052631578947,
          0.907563025210084,
          0.8959537572254336,
          0.9075144508670521,
          0.8689458689458689,
          0.8988095238095238,
          0.8815426997245179,
          0.8760806916426513,
          0.8933333333333333,
          0.87
         ],
         "yaxis": "y2"
        },
        {
         "line": {
          "color": "rgb(214, 39, 40)"
         },
         "showlegend": false,
         "spanmode": "hard",
         "type": "violin",
         "x0": 24,
         "xaxis": "x2",
         "y": [
          0.8921052631578947,
          0.907563025210084,
          0.8959537572254336,
          0.9104046242774566,
          0.8689458689458689,
          0.9017857142857143,
          0.8815426997245179,
          0.8760806916426513,
          0.8933333333333333,
          0.87
         ],
         "yaxis": "y2"
        },
        {
         "line": {
          "color": "rgb(148, 103, 189)"
         },
         "showlegend": false,
         "spanmode": "hard",
         "type": "violin",
         "x0": 25,
         "xaxis": "x2",
         "y": [
          0.8894736842105263,
          0.9159663865546218,
          0.9017341040462428,
          0.9075144508670521,
          0.8831908831908832,
          0.8928571428571429,
          0.8925619834710744,
          0.8760806916426513,
          0.89,
          0.8933333333333333
         ],
         "yaxis": "y2"
        },
        {
         "line": {
          "color": "rgb(140, 86, 75)"
         },
         "showlegend": false,
         "spanmode": "hard",
         "type": "violin",
         "x0": 26,
         "xaxis": "x2",
         "y": [
          0.881578947368421,
          0.9187675070028011,
          0.9104046242774566,
          0.9132947976878613,
          0.8831908831908832,
          0.8928571428571429,
          0.8870523415977961,
          0.8789625360230547,
          0.8933333333333333,
          0.89
         ],
         "yaxis": "y2"
        },
        {
         "line": {
          "color": "rgb(227, 119, 194)"
         },
         "showlegend": false,
         "spanmode": "hard",
         "type": "violin",
         "x0": 27,
         "xaxis": "x2",
         "y": [
          0.881578947368421,
          0.9215686274509803,
          0.9104046242774566,
          0.9132947976878613,
          0.8831908831908832,
          0.8928571428571429,
          0.8870523415977961,
          0.8789625360230547,
          0.8933333333333333,
          0.89
         ],
         "yaxis": "y2"
        },
        {
         "line": {
          "color": "red",
          "dash": "dot"
         },
         "marker": {
          "opacity": 0
         },
         "name": "Target coverage",
         "showlegend": false,
         "type": "scatter",
         "x": [
          -0.5,
          27.5
         ],
         "xaxis": "x2",
         "y": [
          0.9,
          0.9
         ],
         "yaxis": "y2"
        },
        {
         "line": {
          "color": "rgb(31, 119, 180)"
         },
         "showlegend": false,
         "spanmode": "hard",
         "type": "violin",
         "x0": 0,
         "xaxis": "x3",
         "y": [
          0.8537313432835821,
          0.8745874587458746,
          0.813953488372093,
          0.8790849673202614,
          0.8275862068965517,
          0.8762214983713354,
          0.8038585209003215,
          0.8496932515337423,
          0.8123249299719888,
          0.8484848484848485
         ],
         "yaxis": "y3"
        },
        {
         "line": {
          "color": "rgb(255, 127, 14)"
         },
         "showlegend": false,
         "spanmode": "hard",
         "type": "violin",
         "x0": 1,
         "xaxis": "x3",
         "y": [
          0.8996865203761756,
          0.8647798742138365,
          0.8385093167701864,
          0.8945783132530121,
          0.8579881656804734,
          0.8746177370030581,
          0.8621794871794872,
          0.8654970760233918,
          0.8571428571428571,
          0.8910614525139665
         ],
         "yaxis": "y3"
        },
        {
         "line": {
          "color": "rgb(44, 160, 44)"
         },
         "showlegend": false,
         "spanmode": "hard",
         "type": "violin",
         "x0": 2,
         "xaxis": "x3",
         "y": [
          0.9153605015673981,
          0.8867924528301887,
          0.8695652173913043,
          0.9246987951807228,
          0.8875739644970414,
          0.8929663608562691,
          0.8878205128205128,
          0.8742690058479532,
          0.8875379939209727,
          0.9106145251396648
         ],
         "yaxis": "y3"
        },
        {
         "line": {
          "color": "rgb(214, 39, 40)"
         },
         "showlegend": false,
         "spanmode": "hard",
         "type": "violin",
         "x0": 3,
         "xaxis": "x3",
         "y": [
          0.9404388714733543,
          0.9025157232704403,
          0.8881987577639752,
          0.927710843373494,
          0.8994082840236687,
          0.908256880733945,
          0.8942307692307693,
          0.8801169590643275,
          0.8905775075987842,
          0.9273743016759777
         ],
         "yaxis": "y3"
        },
        {
         "line": {
          "color": "rgb(148, 103, 189)"
         },
         "showlegend": false,
         "spanmode": "hard",
         "type": "violin",
         "x0": 4,
         "xaxis": "x3",
         "y": [
          0.9404388714733543,
          0.8773584905660378,
          0.860248447204969,
          0.9156626506024096,
          0.8757396449704142,
          0.8960244648318043,
          0.8782051282051282,
          0.8801169590643275,
          0.8753799392097265,
          0.9162011173184358
         ],
         "yaxis": "y3"
        },
        {
         "line": {
          "color": "rgb(140, 86, 75)"
         },
         "showlegend": false,
         "spanmode": "hard",
         "type": "violin",
         "x0": 5,
         "xaxis": "x3",
         "y": [
          0.9373040752351097,
          0.8773584905660378,
          0.8571428571428571,
          0.9216867469879518,
          0.8757396449704142,
          0.8929663608562691,
          0.8814102564102564,
          0.8742690058479532,
          0.8905775075987842,
          0.9245810055865922
         ],
         "yaxis": "y3"
        },
        {
         "line": {
          "color": "rgb(227, 119, 194)"
         },
         "showlegend": false,
         "spanmode": "hard",
         "type": "violin",
         "x0": 6,
         "xaxis": "x3",
         "y": [
          0.9216300940438872,
          0.8773584905660378,
          0.8664596273291926,
          0.9186746987951807,
          0.878698224852071,
          0.8990825688073395,
          0.8814102564102564,
          0.8742690058479532,
          0.8875379939209727,
          0.9245810055865922
         ],
         "yaxis": "y3"
        },
        {
         "line": {
          "color": "rgb(31, 119, 180)"
         },
         "showlegend": false,
         "spanmode": "hard",
         "type": "violin",
         "x0": 7,
         "xaxis": "x3",
         "y": [
          0.9325842696629213,
          0.933993399339934,
          0.8807339449541285,
          0.9371069182389937,
          0.8885017421602788,
          0.906832298136646,
          0.9147058823529411,
          0.899390243902439,
          0.9313186813186813,
          0.9135446685878963
         ],
         "yaxis": "y3"
        },
        {
         "line": {
          "color": "rgb(255, 127, 14)"
         },
         "showlegend": false,
         "spanmode": "hard",
         "type": "violin",
         "x0": 8,
         "xaxis": "x3",
         "y": [
          0.907185628742515,
          0.890282131661442,
          0.873900293255132,
          0.9017341040462428,
          0.8476190476190476,
          0.8738738738738738,
          0.8819875776397516,
          0.9009287925696594,
          0.8547486033519553,
          0.8797814207650273
         ],
         "yaxis": "y3"
        },
        {
         "line": {
          "color": "rgb(44, 160, 44)"
         },
         "showlegend": false,
         "spanmode": "hard",
         "type": "violin",
         "x0": 9,
         "xaxis": "x3",
         "y": [
          0.9161676646706587,
          0.8996865203761756,
          0.8914956011730205,
          0.9161849710982659,
          0.8571428571428571,
          0.9039039039039038,
          0.8913043478260869,
          0.9318885448916409,
          0.888268156424581,
          0.8961748633879781
         ],
         "yaxis": "y3"
        },
        {
         "line": {
          "color": "rgb(214, 39, 40)"
         },
         "showlegend": false,
         "spanmode": "hard",
         "type": "violin",
         "x0": 10,
         "xaxis": "x3",
         "y": [
          0.9281437125748503,
          0.896551724137931,
          0.8944281524926686,
          0.9219653179190751,
          0.873015873015873,
          0.9039039039039038,
          0.8944099378881988,
          0.9226006191950464,
          0.8966480446927374,
          0.9016393442622951
         ],
         "yaxis": "y3"
        },
        {
         "line": {
          "color": "rgb(148, 103, 189)"
         },
         "showlegend": false,
         "spanmode": "hard",
         "type": "violin",
         "x0": 11,
         "xaxis": "x3",
         "y": [
          0.937125748502994,
          0.9028213166144201,
          0.8914956011730205,
          0.9190751445086706,
          0.873015873015873,
          0.8798798798798799,
          0.9006211180124224,
          0.9287925696594427,
          0.8938547486033519,
          0.8961748633879781
         ],
         "yaxis": "y3"
        },
        {
         "line": {
          "color": "rgb(140, 86, 75)"
         },
         "showlegend": false,
         "spanmode": "hard",
         "type": "violin",
         "x0": 12,
         "xaxis": "x3",
         "y": [
          0.9281437125748503,
          0.896551724137931,
          0.9002932551319648,
          0.9161849710982659,
          0.8571428571428571,
          0.8588588588588588,
          0.8944099378881988,
          0.9380804953560371,
          0.888268156424581,
          0.8989071038251366
         ],
         "yaxis": "y3"
        },
        {
         "line": {
          "color": "rgb(227, 119, 194)"
         },
         "showlegend": false,
         "spanmode": "hard",
         "type": "violin",
         "x0": 13,
         "xaxis": "x3",
         "y": [
          0.9431137724550899,
          0.8934169278996865,
          0.9032258064516129,
          0.9190751445086706,
          0.8666666666666667,
          0.8798798798798799,
          0.8944099378881988,
          0.9256965944272446,
          0.888268156424581,
          0.9016393442622951
         ],
         "yaxis": "y3"
        },
        {
         "line": {
          "color": "rgb(31, 119, 180)"
         },
         "showlegend": false,
         "spanmode": "hard",
         "type": "violin",
         "x0": 14,
         "xaxis": "x3",
         "y": [
          0.8405797101449275,
          0.8456140350877193,
          0.7747747747747747,
          0.8557377049180328,
          0.8252427184466019,
          0.8540372670807453,
          0.8379204892966361,
          0.8258064516129032,
          0.8428184281842819,
          0.8858858858858859
         ],
         "yaxis": "y3"
        },
        {
         "line": {
          "color": "rgb(255, 127, 14)"
         },
         "showlegend": false,
         "spanmode": "hard",
         "type": "violin",
         "x0": 15,
         "xaxis": "x3",
         "y": [
          0.855072463768116,
          0.8666666666666667,
          0.8318318318318318,
          0.8688524590163934,
          0.8867313915857605,
          0.8540372670807453,
          0.8532110091743119,
          0.8580645161290322,
          0.8373983739837398,
          0.9009009009009009
         ],
         "yaxis": "y3"
        },
        {
         "line": {
          "color": "rgb(44, 160, 44)"
         },
         "showlegend": false,
         "spanmode": "hard",
         "type": "violin",
         "x0": 16,
         "xaxis": "x3",
         "y": [
          0.9043478260869565,
          0.9052631578947369,
          0.8828828828828829,
          0.9081967213114754,
          0.9223300970873787,
          0.9037267080745341,
          0.9051987767584098,
          0.8806451612903226,
          0.9024390243902439,
          0.93993993993994
         ],
         "yaxis": "y3"
        },
        {
         "line": {
          "color": "rgb(214, 39, 40)"
         },
         "showlegend": false,
         "spanmode": "hard",
         "type": "violin",
         "x0": 17,
         "xaxis": "x3",
         "y": [
          0.9188405797101449,
          0.9122807017543859,
          0.8888888888888888,
          0.9147540983606557,
          0.9449838187702265,
          0.9099378881987578,
          0.9143730886850153,
          0.896774193548387,
          0.9214092140921409,
          0.9519519519519519
         ],
         "yaxis": "y3"
        },
        {
         "line": {
          "color": "rgb(148, 103, 189)"
         },
         "showlegend": false,
         "spanmode": "hard",
         "type": "violin",
         "x0": 18,
         "xaxis": "x3",
         "y": [
          0.8898550724637682,
          0.8666666666666667,
          0.8618618618618619,
          0.8786885245901639,
          0.889967637540453,
          0.8695652173913043,
          0.8929663608562691,
          0.8774193548387097,
          0.8672086720867209,
          0.918918918918919
         ],
         "yaxis": "y3"
        },
        {
         "line": {
          "color": "rgb(140, 86, 75)"
         },
         "showlegend": false,
         "spanmode": "hard",
         "type": "violin",
         "x0": 19,
         "xaxis": "x3",
         "y": [
          0.8840579710144928,
          0.8631578947368421,
          0.8738738738738738,
          0.8852459016393442,
          0.8770226537216829,
          0.8757763975155279,
          0.8837920489296636,
          0.867741935483871,
          0.8563685636856369,
          0.9159159159159159
         ],
         "yaxis": "y3"
        },
        {
         "line": {
          "color": "rgb(227, 119, 194)"
         },
         "showlegend": false,
         "spanmode": "hard",
         "type": "violin",
         "x0": 20,
         "xaxis": "x3",
         "y": [
          0.881159420289855,
          0.8666666666666667,
          0.8738738738738738,
          0.8852459016393442,
          0.8705501618122977,
          0.8788819875776398,
          0.8837920489296636,
          0.867741935483871,
          0.8590785907859079,
          0.9159159159159159
         ],
         "yaxis": "y3"
        },
        {
         "line": {
          "color": "rgb(31, 119, 180)"
         },
         "showlegend": false,
         "spanmode": "hard",
         "type": "violin",
         "x0": 21,
         "xaxis": "x3",
         "y": [
          0.8695652173913043,
          0.8913738019169329,
          0.8362068965517241,
          0.8966565349544073,
          0.8762214983713354,
          0.8629737609329446,
          0.842809364548495,
          0.8611111111111112,
          0.8815426997245179,
          0.9073033707865169
         ],
         "yaxis": "y3"
        },
        {
         "line": {
          "color": "rgb(255, 127, 14)"
         },
         "showlegend": false,
         "spanmode": "hard",
         "type": "violin",
         "x0": 22,
         "xaxis": "x3",
         "y": [
          0.8729096989966555,
          0.8913738019169329,
          0.8419540229885057,
          0.8814589665653495,
          0.8729641693811075,
          0.8483965014577259,
          0.8127090301003345,
          0.8641975308641975,
          0.837465564738292,
          0.8764044943820225
         ],
         "yaxis": "y3"
        },
        {
         "line": {
          "color": "rgb(44, 160, 44)"
         },
         "showlegend": false,
         "spanmode": "hard",
         "type": "violin",
         "x0": 23,
         "xaxis": "x3",
         "y": [
          0.9063545150501672,
          0.9137380191693291,
          0.8793103448275862,
          0.9148936170212766,
          0.9055374592833876,
          0.8833819241982507,
          0.8929765886287625,
          0.9012345679012346,
          0.9173553719008265,
          0.9213483146067416
         ],
         "yaxis": "y3"
        },
        {
         "line": {
          "color": "rgb(214, 39, 40)"
         },
         "showlegend": false,
         "spanmode": "hard",
         "type": "violin",
         "x0": 24,
         "xaxis": "x3",
         "y": [
          0.9264214046822743,
          0.9137380191693291,
          0.882183908045977,
          0.9179331306990881,
          0.9087947882736156,
          0.8862973760932945,
          0.8996655518394648,
          0.9074074074074074,
          0.9173553719008265,
          0.9213483146067416
         ],
         "yaxis": "y3"
        },
        {
         "line": {
          "color": "rgb(148, 103, 189)"
         },
         "showlegend": false,
         "spanmode": "hard",
         "type": "violin",
         "x0": 25,
         "xaxis": "x3",
         "y": [
          0.9230769230769231,
          0.9009584664536742,
          0.8735632183908046,
          0.8996960486322189,
          0.8794788273615635,
          0.8979591836734694,
          0.8528428093645485,
          0.8858024691358025,
          0.8870523415977961,
          0.9129213483146067
         ],
         "yaxis": "y3"
        },
        {
         "line": {
          "color": "rgb(140, 86, 75)"
         },
         "showlegend": false,
         "spanmode": "hard",
         "type": "violin",
         "x0": 26,
         "xaxis": "x3",
         "y": [
          0.903010033444816,
          0.8881789137380192,
          0.8735632183908046,
          0.8936170212765957,
          0.8827361563517915,
          0.892128279883382,
          0.8494983277591973,
          0.8703703703703703,
          0.8898071625344353,
          0.9073033707865169
         ],
         "yaxis": "y3"
        },
        {
         "line": {
          "color": "rgb(227, 119, 194)"
         },
         "showlegend": false,
         "spanmode": "hard",
         "type": "violin",
         "x0": 27,
         "xaxis": "x3",
         "y": [
          0.8996655518394648,
          0.8913738019169329,
          0.8764367816091954,
          0.8936170212765957,
          0.8827361563517915,
          0.892128279883382,
          0.8528428093645485,
          0.8734567901234568,
          0.8898071625344353,
          0.9073033707865169
         ],
         "yaxis": "y3"
        },
        {
         "line": {
          "color": "red",
          "dash": "dot"
         },
         "marker": {
          "opacity": 0
         },
         "name": "Target coverage",
         "showlegend": false,
         "type": "scatter",
         "x": [
          -0.5,
          27.5
         ],
         "xaxis": "x3",
         "y": [
          0.9,
          0.9
         ],
         "yaxis": "y3"
        }
       ],
       "layout": {
        "annotations": [
         {
          "font": {
           "size": 16
          },
          "showarrow": false,
          "text": "Low variance",
          "x": 0.5,
          "xanchor": "center",
          "xref": "paper",
          "y": 1,
          "yanchor": "bottom",
          "yref": "paper"
         },
         {
          "font": {
           "size": 16
          },
          "showarrow": false,
          "text": "Medium variance",
          "x": 0.5,
          "xanchor": "center",
          "xref": "paper",
          "y": 0.6111111111111112,
          "yanchor": "bottom",
          "yref": "paper"
         },
         {
          "font": {
           "size": 16
          },
          "showarrow": false,
          "text": "High variance",
          "x": 0.5,
          "xanchor": "center",
          "xref": "paper",
          "y": 0.22222222222222224,
          "yanchor": "bottom",
          "yref": "paper"
         }
        ],
        "margin": {
         "b": 0,
         "l": 0,
         "r": 0,
         "t": 70
        },
        "shapes": [
         {
          "fillcolor": "rgb(179,226,205)",
          "layer": "below",
          "line": {
           "width": 0
          },
          "opacity": 0.5,
          "type": "rect",
          "x0": -0.5,
          "x1": 6.5,
          "xref": "x",
          "y0": 0,
          "y1": 1,
          "yref": "y domain"
         },
         {
          "fillcolor": "rgb(253,205,172)",
          "layer": "below",
          "line": {
           "width": 0
          },
          "opacity": 0.5,
          "type": "rect",
          "x0": 6.5,
          "x1": 13.5,
          "xref": "x",
          "y0": 0,
          "y1": 1,
          "yref": "y domain"
         },
         {
          "fillcolor": "rgb(203,213,232)",
          "layer": "below",
          "line": {
           "width": 0
          },
          "opacity": 0.5,
          "type": "rect",
          "x0": 13.5,
          "x1": 20.5,
          "xref": "x",
          "y0": 0,
          "y1": 1,
          "yref": "y domain"
         },
         {
          "fillcolor": "rgb(244,202,228)",
          "layer": "below",
          "line": {
           "width": 0
          },
          "opacity": 0.5,
          "type": "rect",
          "x0": 20.5,
          "x1": 27.5,
          "xref": "x",
          "y0": 0,
          "y1": 1,
          "yref": "y domain"
         },
         {
          "fillcolor": "rgb(179,226,205)",
          "layer": "below",
          "line": {
           "width": 0
          },
          "opacity": 0.5,
          "type": "rect",
          "x0": -0.5,
          "x1": 6.5,
          "xref": "x2",
          "y0": 0,
          "y1": 1,
          "yref": "y2 domain"
         },
         {
          "fillcolor": "rgb(253,205,172)",
          "layer": "below",
          "line": {
           "width": 0
          },
          "opacity": 0.5,
          "type": "rect",
          "x0": 6.5,
          "x1": 13.5,
          "xref": "x2",
          "y0": 0,
          "y1": 1,
          "yref": "y2 domain"
         },
         {
          "fillcolor": "rgb(203,213,232)",
          "layer": "below",
          "line": {
           "width": 0
          },
          "opacity": 0.5,
          "type": "rect",
          "x0": 13.5,
          "x1": 20.5,
          "xref": "x2",
          "y0": 0,
          "y1": 1,
          "yref": "y2 domain"
         },
         {
          "fillcolor": "rgb(244,202,228)",
          "layer": "below",
          "line": {
           "width": 0
          },
          "opacity": 0.5,
          "type": "rect",
          "x0": 20.5,
          "x1": 27.5,
          "xref": "x2",
          "y0": 0,
          "y1": 1,
          "yref": "y2 domain"
         },
         {
          "fillcolor": "rgb(179,226,205)",
          "layer": "below",
          "line": {
           "width": 0
          },
          "opacity": 0.5,
          "type": "rect",
          "x0": -0.5,
          "x1": 6.5,
          "xref": "x3",
          "y0": 0,
          "y1": 1,
          "yref": "y3 domain"
         },
         {
          "fillcolor": "rgb(253,205,172)",
          "layer": "below",
          "line": {
           "width": 0
          },
          "opacity": 0.5,
          "type": "rect",
          "x0": 6.5,
          "x1": 13.5,
          "xref": "x3",
          "y0": 0,
          "y1": 1,
          "yref": "y3 domain"
         },
         {
          "fillcolor": "rgb(203,213,232)",
          "layer": "below",
          "line": {
           "width": 0
          },
          "opacity": 0.5,
          "type": "rect",
          "x0": 13.5,
          "x1": 20.5,
          "xref": "x3",
          "y0": 0,
          "y1": 1,
          "yref": "y3 domain"
         },
         {
          "fillcolor": "rgb(244,202,228)",
          "layer": "below",
          "line": {
           "width": 0
          },
          "opacity": 0.5,
          "type": "rect",
          "x0": 20.5,
          "x1": 27.5,
          "xref": "x3",
          "y0": 0,
          "y1": 1,
          "yref": "y3 domain"
         }
        ],
        "template": {
         "data": {
          "bar": [
           {
            "error_x": {
             "color": "#2a3f5f"
            },
            "error_y": {
             "color": "#2a3f5f"
            },
            "marker": {
             "line": {
              "color": "#E5ECF6",
              "width": 0.5
             },
             "pattern": {
              "fillmode": "overlay",
              "size": 10,
              "solidity": 0.2
             }
            },
            "type": "bar"
           }
          ],
          "barpolar": [
           {
            "marker": {
             "line": {
              "color": "#E5ECF6",
              "width": 0.5
             },
             "pattern": {
              "fillmode": "overlay",
              "size": 10,
              "solidity": 0.2
             }
            },
            "type": "barpolar"
           }
          ],
          "carpet": [
           {
            "aaxis": {
             "endlinecolor": "#2a3f5f",
             "gridcolor": "white",
             "linecolor": "white",
             "minorgridcolor": "white",
             "startlinecolor": "#2a3f5f"
            },
            "baxis": {
             "endlinecolor": "#2a3f5f",
             "gridcolor": "white",
             "linecolor": "white",
             "minorgridcolor": "white",
             "startlinecolor": "#2a3f5f"
            },
            "type": "carpet"
           }
          ],
          "choropleth": [
           {
            "colorbar": {
             "outlinewidth": 0,
             "ticks": ""
            },
            "type": "choropleth"
           }
          ],
          "contour": [
           {
            "colorbar": {
             "outlinewidth": 0,
             "ticks": ""
            },
            "colorscale": [
             [
              0,
              "#0d0887"
             ],
             [
              0.1111111111111111,
              "#46039f"
             ],
             [
              0.2222222222222222,
              "#7201a8"
             ],
             [
              0.3333333333333333,
              "#9c179e"
             ],
             [
              0.4444444444444444,
              "#bd3786"
             ],
             [
              0.5555555555555556,
              "#d8576b"
             ],
             [
              0.6666666666666666,
              "#ed7953"
             ],
             [
              0.7777777777777778,
              "#fb9f3a"
             ],
             [
              0.8888888888888888,
              "#fdca26"
             ],
             [
              1,
              "#f0f921"
             ]
            ],
            "type": "contour"
           }
          ],
          "contourcarpet": [
           {
            "colorbar": {
             "outlinewidth": 0,
             "ticks": ""
            },
            "type": "contourcarpet"
           }
          ],
          "heatmap": [
           {
            "colorbar": {
             "outlinewidth": 0,
             "ticks": ""
            },
            "colorscale": [
             [
              0,
              "#0d0887"
             ],
             [
              0.1111111111111111,
              "#46039f"
             ],
             [
              0.2222222222222222,
              "#7201a8"
             ],
             [
              0.3333333333333333,
              "#9c179e"
             ],
             [
              0.4444444444444444,
              "#bd3786"
             ],
             [
              0.5555555555555556,
              "#d8576b"
             ],
             [
              0.6666666666666666,
              "#ed7953"
             ],
             [
              0.7777777777777778,
              "#fb9f3a"
             ],
             [
              0.8888888888888888,
              "#fdca26"
             ],
             [
              1,
              "#f0f921"
             ]
            ],
            "type": "heatmap"
           }
          ],
          "heatmapgl": [
           {
            "colorbar": {
             "outlinewidth": 0,
             "ticks": ""
            },
            "colorscale": [
             [
              0,
              "#0d0887"
             ],
             [
              0.1111111111111111,
              "#46039f"
             ],
             [
              0.2222222222222222,
              "#7201a8"
             ],
             [
              0.3333333333333333,
              "#9c179e"
             ],
             [
              0.4444444444444444,
              "#bd3786"
             ],
             [
              0.5555555555555556,
              "#d8576b"
             ],
             [
              0.6666666666666666,
              "#ed7953"
             ],
             [
              0.7777777777777778,
              "#fb9f3a"
             ],
             [
              0.8888888888888888,
              "#fdca26"
             ],
             [
              1,
              "#f0f921"
             ]
            ],
            "type": "heatmapgl"
           }
          ],
          "histogram": [
           {
            "marker": {
             "pattern": {
              "fillmode": "overlay",
              "size": 10,
              "solidity": 0.2
             }
            },
            "type": "histogram"
           }
          ],
          "histogram2d": [
           {
            "colorbar": {
             "outlinewidth": 0,
             "ticks": ""
            },
            "colorscale": [
             [
              0,
              "#0d0887"
             ],
             [
              0.1111111111111111,
              "#46039f"
             ],
             [
              0.2222222222222222,
              "#7201a8"
             ],
             [
              0.3333333333333333,
              "#9c179e"
             ],
             [
              0.4444444444444444,
              "#bd3786"
             ],
             [
              0.5555555555555556,
              "#d8576b"
             ],
             [
              0.6666666666666666,
              "#ed7953"
             ],
             [
              0.7777777777777778,
              "#fb9f3a"
             ],
             [
              0.8888888888888888,
              "#fdca26"
             ],
             [
              1,
              "#f0f921"
             ]
            ],
            "type": "histogram2d"
           }
          ],
          "histogram2dcontour": [
           {
            "colorbar": {
             "outlinewidth": 0,
             "ticks": ""
            },
            "colorscale": [
             [
              0,
              "#0d0887"
             ],
             [
              0.1111111111111111,
              "#46039f"
             ],
             [
              0.2222222222222222,
              "#7201a8"
             ],
             [
              0.3333333333333333,
              "#9c179e"
             ],
             [
              0.4444444444444444,
              "#bd3786"
             ],
             [
              0.5555555555555556,
              "#d8576b"
             ],
             [
              0.6666666666666666,
              "#ed7953"
             ],
             [
              0.7777777777777778,
              "#fb9f3a"
             ],
             [
              0.8888888888888888,
              "#fdca26"
             ],
             [
              1,
              "#f0f921"
             ]
            ],
            "type": "histogram2dcontour"
           }
          ],
          "mesh3d": [
           {
            "colorbar": {
             "outlinewidth": 0,
             "ticks": ""
            },
            "type": "mesh3d"
           }
          ],
          "parcoords": [
           {
            "line": {
             "colorbar": {
              "outlinewidth": 0,
              "ticks": ""
             }
            },
            "type": "parcoords"
           }
          ],
          "pie": [
           {
            "automargin": true,
            "type": "pie"
           }
          ],
          "scatter": [
           {
            "fillpattern": {
             "fillmode": "overlay",
             "size": 10,
             "solidity": 0.2
            },
            "type": "scatter"
           }
          ],
          "scatter3d": [
           {
            "line": {
             "colorbar": {
              "outlinewidth": 0,
              "ticks": ""
             }
            },
            "marker": {
             "colorbar": {
              "outlinewidth": 0,
              "ticks": ""
             }
            },
            "type": "scatter3d"
           }
          ],
          "scattercarpet": [
           {
            "marker": {
             "colorbar": {
              "outlinewidth": 0,
              "ticks": ""
             }
            },
            "type": "scattercarpet"
           }
          ],
          "scattergeo": [
           {
            "marker": {
             "colorbar": {
              "outlinewidth": 0,
              "ticks": ""
             }
            },
            "type": "scattergeo"
           }
          ],
          "scattergl": [
           {
            "marker": {
             "colorbar": {
              "outlinewidth": 0,
              "ticks": ""
             }
            },
            "type": "scattergl"
           }
          ],
          "scattermapbox": [
           {
            "marker": {
             "colorbar": {
              "outlinewidth": 0,
              "ticks": ""
             }
            },
            "type": "scattermapbox"
           }
          ],
          "scatterpolar": [
           {
            "marker": {
             "colorbar": {
              "outlinewidth": 0,
              "ticks": ""
             }
            },
            "type": "scatterpolar"
           }
          ],
          "scatterpolargl": [
           {
            "marker": {
             "colorbar": {
              "outlinewidth": 0,
              "ticks": ""
             }
            },
            "type": "scatterpolargl"
           }
          ],
          "scatterternary": [
           {
            "marker": {
             "colorbar": {
              "outlinewidth": 0,
              "ticks": ""
             }
            },
            "type": "scatterternary"
           }
          ],
          "surface": [
           {
            "colorbar": {
             "outlinewidth": 0,
             "ticks": ""
            },
            "colorscale": [
             [
              0,
              "#0d0887"
             ],
             [
              0.1111111111111111,
              "#46039f"
             ],
             [
              0.2222222222222222,
              "#7201a8"
             ],
             [
              0.3333333333333333,
              "#9c179e"
             ],
             [
              0.4444444444444444,
              "#bd3786"
             ],
             [
              0.5555555555555556,
              "#d8576b"
             ],
             [
              0.6666666666666666,
              "#ed7953"
             ],
             [
              0.7777777777777778,
              "#fb9f3a"
             ],
             [
              0.8888888888888888,
              "#fdca26"
             ],
             [
              1,
              "#f0f921"
             ]
            ],
            "type": "surface"
           }
          ],
          "table": [
           {
            "cells": {
             "fill": {
              "color": "#EBF0F8"
             },
             "line": {
              "color": "white"
             }
            },
            "header": {
             "fill": {
              "color": "#C8D4E3"
             },
             "line": {
              "color": "white"
             }
            },
            "type": "table"
           }
          ]
         },
         "layout": {
          "annotationdefaults": {
           "arrowcolor": "#2a3f5f",
           "arrowhead": 0,
           "arrowwidth": 1
          },
          "autotypenumbers": "strict",
          "coloraxis": {
           "colorbar": {
            "outlinewidth": 0,
            "ticks": ""
           }
          },
          "colorscale": {
           "diverging": [
            [
             0,
             "#8e0152"
            ],
            [
             0.1,
             "#c51b7d"
            ],
            [
             0.2,
             "#de77ae"
            ],
            [
             0.3,
             "#f1b6da"
            ],
            [
             0.4,
             "#fde0ef"
            ],
            [
             0.5,
             "#f7f7f7"
            ],
            [
             0.6,
             "#e6f5d0"
            ],
            [
             0.7,
             "#b8e186"
            ],
            [
             0.8,
             "#7fbc41"
            ],
            [
             0.9,
             "#4d9221"
            ],
            [
             1,
             "#276419"
            ]
           ],
           "sequential": [
            [
             0,
             "#0d0887"
            ],
            [
             0.1111111111111111,
             "#46039f"
            ],
            [
             0.2222222222222222,
             "#7201a8"
            ],
            [
             0.3333333333333333,
             "#9c179e"
            ],
            [
             0.4444444444444444,
             "#bd3786"
            ],
            [
             0.5555555555555556,
             "#d8576b"
            ],
            [
             0.6666666666666666,
             "#ed7953"
            ],
            [
             0.7777777777777778,
             "#fb9f3a"
            ],
            [
             0.8888888888888888,
             "#fdca26"
            ],
            [
             1,
             "#f0f921"
            ]
           ],
           "sequentialminus": [
            [
             0,
             "#0d0887"
            ],
            [
             0.1111111111111111,
             "#46039f"
            ],
            [
             0.2222222222222222,
             "#7201a8"
            ],
            [
             0.3333333333333333,
             "#9c179e"
            ],
            [
             0.4444444444444444,
             "#bd3786"
            ],
            [
             0.5555555555555556,
             "#d8576b"
            ],
            [
             0.6666666666666666,
             "#ed7953"
            ],
            [
             0.7777777777777778,
             "#fb9f3a"
            ],
            [
             0.8888888888888888,
             "#fdca26"
            ],
            [
             1,
             "#f0f921"
            ]
           ]
          },
          "colorway": [
           "#636efa",
           "#EF553B",
           "#00cc96",
           "#ab63fa",
           "#FFA15A",
           "#19d3f3",
           "#FF6692",
           "#B6E880",
           "#FF97FF",
           "#FECB52"
          ],
          "font": {
           "color": "#2a3f5f"
          },
          "geo": {
           "bgcolor": "white",
           "lakecolor": "white",
           "landcolor": "#E5ECF6",
           "showlakes": true,
           "showland": true,
           "subunitcolor": "white"
          },
          "hoverlabel": {
           "align": "left"
          },
          "hovermode": "closest",
          "mapbox": {
           "style": "light"
          },
          "paper_bgcolor": "white",
          "plot_bgcolor": "#E5ECF6",
          "polar": {
           "angularaxis": {
            "gridcolor": "white",
            "linecolor": "white",
            "ticks": ""
           },
           "bgcolor": "#E5ECF6",
           "radialaxis": {
            "gridcolor": "white",
            "linecolor": "white",
            "ticks": ""
           }
          },
          "scene": {
           "xaxis": {
            "backgroundcolor": "#E5ECF6",
            "gridcolor": "white",
            "gridwidth": 2,
            "linecolor": "white",
            "showbackground": true,
            "ticks": "",
            "zerolinecolor": "white"
           },
           "yaxis": {
            "backgroundcolor": "#E5ECF6",
            "gridcolor": "white",
            "gridwidth": 2,
            "linecolor": "white",
            "showbackground": true,
            "ticks": "",
            "zerolinecolor": "white"
           },
           "zaxis": {
            "backgroundcolor": "#E5ECF6",
            "gridcolor": "white",
            "gridwidth": 2,
            "linecolor": "white",
            "showbackground": true,
            "ticks": "",
            "zerolinecolor": "white"
           }
          },
          "shapedefaults": {
           "line": {
            "color": "#2a3f5f"
           }
          },
          "ternary": {
           "aaxis": {
            "gridcolor": "white",
            "linecolor": "white",
            "ticks": ""
           },
           "baxis": {
            "gridcolor": "white",
            "linecolor": "white",
            "ticks": ""
           },
           "bgcolor": "#E5ECF6",
           "caxis": {
            "gridcolor": "white",
            "linecolor": "white",
            "ticks": ""
           }
          },
          "title": {
           "x": 0.05
          },
          "xaxis": {
           "automargin": true,
           "gridcolor": "white",
           "linecolor": "white",
           "ticks": "",
           "title": {
            "standoff": 15
           },
           "zerolinecolor": "white",
           "zerolinewidth": 2
          },
          "yaxis": {
           "automargin": true,
           "gridcolor": "white",
           "linecolor": "white",
           "ticks": "",
           "title": {
            "standoff": 15
           },
           "zerolinecolor": "white",
           "zerolinewidth": 2
          }
         }
        },
        "title": {
         "text": "$\\text{Conditional PI coverage (}\\alpha=0.1\\text{)}$"
        },
        "width": 1000,
        "xaxis": {
         "anchor": "y",
         "domain": [
          0,
          1
         ],
         "range": [
          -0.5,
          27.5
         ],
         "showticklabels": false,
         "ticktext": [
          "",
          "base",
          "mPointCP",
          "mIntCP",
          "mNCP",
          "PointCP",
          "IntCP",
          "NCP",
          "base",
          "mPointCP",
          "mIntCP",
          "mNCP",
          "PointCP",
          "IntCP",
          "NCP",
          "base",
          "mPointCP",
          "mIntCP",
          "mNCP",
          "PointCP",
          "IntCP",
          "NCP",
          "base",
          "mPointCP",
          "mIntCP",
          "mNCP",
          "PointCP",
          "IntCP",
          "NCP",
          ""
         ],
         "tickvals": [
          -0.5,
          0,
          1,
          2,
          3,
          4,
          5,
          6,
          7,
          8,
          9,
          10,
          11,
          12,
          13,
          14,
          15,
          16,
          17,
          18,
          19,
          20,
          21,
          22,
          23,
          24,
          25,
          26,
          27,
          27.5
         ]
        },
        "xaxis2": {
         "anchor": "y2",
         "domain": [
          0,
          1
         ],
         "range": [
          -0.5,
          27.5
         ],
         "showticklabels": false,
         "ticktext": [
          "",
          "base",
          "mPointCP",
          "mIntCP",
          "mNCP",
          "PointCP",
          "IntCP",
          "NCP",
          "base",
          "mPointCP",
          "mIntCP",
          "mNCP",
          "PointCP",
          "IntCP",
          "NCP",
          "base",
          "mPointCP",
          "mIntCP",
          "mNCP",
          "PointCP",
          "IntCP",
          "NCP",
          "base",
          "mPointCP",
          "mIntCP",
          "mNCP",
          "PointCP",
          "IntCP",
          "NCP",
          ""
         ],
         "tickvals": [
          -0.5,
          0,
          1,
          2,
          3,
          4,
          5,
          6,
          7,
          8,
          9,
          10,
          11,
          12,
          13,
          14,
          15,
          16,
          17,
          18,
          19,
          20,
          21,
          22,
          23,
          24,
          25,
          26,
          27,
          27.5
         ]
        },
        "xaxis3": {
         "anchor": "y3",
         "domain": [
          0,
          1
         ],
         "range": [
          -0.5,
          27.5
         ],
         "tickangle": 45,
         "ticktext": [
          "",
          "base",
          "mPointCP",
          "mIntCP",
          "mNCP",
          "PointCP",
          "IntCP",
          "NCP",
          "base",
          "mPointCP",
          "mIntCP",
          "mNCP",
          "PointCP",
          "IntCP",
          "NCP",
          "base",
          "mPointCP",
          "mIntCP",
          "mNCP",
          "PointCP",
          "IntCP",
          "NCP",
          "base",
          "mPointCP",
          "mIntCP",
          "mNCP",
          "PointCP",
          "IntCP",
          "NCP",
          ""
         ],
         "tickvals": [
          -0.5,
          0,
          1,
          2,
          3,
          4,
          5,
          6,
          7,
          8,
          9,
          10,
          11,
          12,
          13,
          14,
          15,
          16,
          17,
          18,
          19,
          20,
          21,
          22,
          23,
          24,
          25,
          26,
          27,
          27.5
         ]
        },
        "yaxis": {
         "anchor": "x",
         "domain": [
          0.7777777777777778,
          1
         ],
         "range": [
          0.7,
          1
         ]
        },
        "yaxis2": {
         "anchor": "x2",
         "domain": [
          0.3888888888888889,
          0.6111111111111112
         ],
         "range": [
          0.7,
          1
         ]
        },
        "yaxis3": {
         "anchor": "x3",
         "domain": [
          0,
          0.22222222222222224
         ],
         "range": [
          0.7,
          1
         ]
        }
       }
      },
      "text/html": [
       "<div>                            <div id=\"20d5afd3-99e0-4626-b7c8-df5208568d68\" class=\"plotly-graph-div\" style=\"height:525px; width:1000px;\"></div>            <script type=\"text/javascript\">                require([\"plotly\"], function(Plotly) {                    window.PLOTLYENV=window.PLOTLYENV || {};                                    if (document.getElementById(\"20d5afd3-99e0-4626-b7c8-df5208568d68\")) {                    Plotly.newPlot(                        \"20d5afd3-99e0-4626-b7c8-df5208568d68\",                        [{\"line\":{\"color\":\"rgb(31, 119, 180)\"},\"showlegend\":false,\"spanmode\":\"hard\",\"x0\":0,\"y\":[0.8142414860681114,0.7872340425531915,0.776566757493188,0.7802547770700637,0.7661538461538462,0.8265895953757225,0.7777777777777778,0.7634730538922155,0.8343558282208589,0.8031746031746032],\"type\":\"violin\",\"xaxis\":\"x\",\"yaxis\":\"y\"},{\"marker\":{\"color\":\"rgb(179,226,205)\",\"size\":7,\"symbol\":\"square\"},\"mode\":\"markers\",\"name\":\"QR\",\"x\":[null],\"y\":[null],\"type\":\"scatter\",\"xaxis\":\"x\",\"yaxis\":\"y\"},{\"line\":{\"color\":\"rgb(255, 127, 14)\"},\"showlegend\":false,\"spanmode\":\"hard\",\"x0\":1,\"y\":[0.9442815249266863,0.9300291545189504,0.9102167182662538,0.9294478527607362,0.8930635838150289,0.9263456090651558,0.9090909090909091,0.8973607038123167,0.9020771513353115,0.9368770764119602],\"type\":\"violin\",\"xaxis\":\"x\",\"yaxis\":\"y\"},{\"line\":{\"color\":\"rgb(44, 160, 44)\"},\"showlegend\":false,\"spanmode\":\"hard\",\"x0\":2,\"y\":[0.9266862170087976,0.9154518950437318,0.8885448916408669,0.9202453987730062,0.8757225433526011,0.9008498583569405,0.8768328445747801,0.8709677419354839,0.8813056379821959,0.9136212624584718],\"type\":\"violin\",\"xaxis\":\"x\",\"yaxis\":\"y\"},{\"line\":{\"color\":\"rgb(214, 39, 40)\"},\"showlegend\":false,\"spanmode\":\"hard\",\"x0\":3,\"y\":[0.9208211143695014,0.8833819241982507,0.8823529411764706,0.9171779141104295,0.8670520231213873,0.8810198300283286,0.8533724340175953,0.8651026392961877,0.8724035608308606,0.8870431893687708],\"type\":\"violin\",\"xaxis\":\"x\",\"yaxis\":\"y\"},{\"line\":{\"color\":\"rgb(148, 103, 189)\"},\"showlegend\":false,\"spanmode\":\"hard\",\"x0\":4,\"y\":[0.9296187683284457,0.9271137026239067,0.9071207430340558,0.9263803680981595,0.8901734104046243,0.9065155807365439,0.8885630498533724,0.8797653958944281,0.8931750741839762,0.9169435215946844],\"type\":\"violin\",\"xaxis\":\"x\",\"yaxis\":\"y\"},{\"line\":{\"color\":\"rgb(140, 86, 75)\"},\"showlegend\":false,\"spanmode\":\"hard\",\"x0\":5,\"y\":[0.9208211143695014,0.9300291545189504,0.9195046439628483,0.9202453987730062,0.8815028901734104,0.9036827195467422,0.8768328445747801,0.8856304985337243,0.8783382789317508,0.9136212624584718],\"type\":\"violin\",\"xaxis\":\"x\",\"yaxis\":\"y\"},{\"line\":{\"color\":\"rgb(227, 119, 194)\"},\"showlegend\":false,\"spanmode\":\"hard\",\"x0\":6,\"y\":[0.9208211143695014,0.9329446064139941,0.9071207430340558,0.9294478527607362,0.884393063583815,0.9065155807365439,0.8709677419354839,0.8826979472140762,0.8813056379821959,0.920265780730897],\"type\":\"violin\",\"xaxis\":\"x\",\"yaxis\":\"y\"},{\"line\":{\"color\":\"rgb(31, 119, 180)\"},\"showlegend\":false,\"spanmode\":\"hard\",\"x0\":7,\"y\":[0.9131832797427653,0.9317507418397626,0.8792134831460674,0.9321533923303835,0.8879551820728291,0.9151515151515152,0.8980891719745223,0.8646153846153846,0.9074074074074074,0.9245283018867925],\"type\":\"violin\",\"xaxis\":\"x\",\"yaxis\":\"y\"},{\"marker\":{\"color\":\"rgb(253,205,172)\",\"size\":7,\"symbol\":\"square\"},\"mode\":\"markers\",\"name\":\"QRF\",\"x\":[null],\"y\":[null],\"type\":\"scatter\",\"xaxis\":\"x\",\"yaxis\":\"y\"},{\"line\":{\"color\":\"rgb(255, 127, 14)\"},\"showlegend\":false,\"spanmode\":\"hard\",\"x0\":8,\"y\":[0.913312693498452,0.9178470254957507,0.9026548672566371,0.9279538904899135,0.9432432432432433,0.9104477611940298,0.9507246376811594,0.89937106918239,0.9028213166144201,0.9254658385093167],\"type\":\"violin\",\"xaxis\":\"x\",\"yaxis\":\"y\"},{\"line\":{\"color\":\"rgb(44, 160, 44)\"},\"showlegend\":false,\"spanmode\":\"hard\",\"x0\":9,\"y\":[0.8978328173374613,0.8980169971671388,0.8938053097345132,0.9077809798270894,0.9108108108108108,0.8776119402985074,0.9217391304347826,0.8805031446540881,0.8808777429467085,0.9161490683229814],\"type\":\"violin\",\"xaxis\":\"x\",\"yaxis\":\"y\"},{\"line\":{\"color\":\"rgb(214, 39, 40)\"},\"showlegend\":false,\"spanmode\":\"hard\",\"x0\":10,\"y\":[0.9040247678018576,0.8951841359773371,0.887905604719764,0.9164265129682997,0.9135135135135135,0.8805970149253731,0.9188405797101449,0.8742138364779874,0.8714733542319749,0.906832298136646],\"type\":\"violin\",\"xaxis\":\"x\",\"yaxis\":\"y\"},{\"line\":{\"color\":\"rgb(148, 103, 189)\"},\"showlegend\":false,\"spanmode\":\"hard\",\"x0\":11,\"y\":[0.8978328173374613,0.9065155807365439,0.8967551622418879,0.9250720461095101,0.9081081081081082,0.8955223880597015,0.9188405797101449,0.8679245283018868,0.8683385579937304,0.9161490683229814],\"type\":\"violin\",\"xaxis\":\"x\",\"yaxis\":\"y\"},{\"line\":{\"color\":\"rgb(140, 86, 75)\"},\"showlegend\":false,\"spanmode\":\"hard\",\"x0\":12,\"y\":[0.8978328173374613,0.9065155807365439,0.8938053097345132,0.9221902017291066,0.9108108108108108,0.8985074626865671,0.9246376811594202,0.8427672955974843,0.8808777429467085,0.922360248447205],\"type\":\"violin\",\"xaxis\":\"x\",\"yaxis\":\"y\"},{\"line\":{\"color\":\"rgb(227, 119, 194)\"},\"showlegend\":false,\"spanmode\":\"hard\",\"x0\":13,\"y\":[0.8947368421052632,0.9036827195467422,0.8908554572271387,0.9221902017291066,0.9162162162162162,0.8925373134328358,0.9304347826086956,0.8584905660377359,0.8871473354231975,0.9130434782608695],\"type\":\"violin\",\"xaxis\":\"x\",\"yaxis\":\"y\"},{\"line\":{\"color\":\"rgb(31, 119, 180)\"},\"showlegend\":false,\"spanmode\":\"hard\",\"x0\":14,\"y\":[0.765625,0.799410029498525,0.7865853658536586,0.8138138138138138,0.7445652173913043,0.7777777777777778,0.774390243902439,0.7714285714285715,0.7467948717948718,0.7730061349693251],\"type\":\"violin\",\"xaxis\":\"x\",\"yaxis\":\"y\"},{\"marker\":{\"color\":\"rgb(203,213,232)\",\"size\":7,\"symbol\":\"square\"},\"mode\":\"markers\",\"name\":\"MV\",\"x\":[null],\"y\":[null],\"type\":\"scatter\",\"xaxis\":\"x\",\"yaxis\":\"y\"},{\"line\":{\"color\":\"rgb(255, 127, 14)\"},\"showlegend\":false,\"spanmode\":\"hard\",\"x0\":15,\"y\":[0.928125,0.9528023598820059,0.926829268292683,0.9099099099099099,0.8940217391304348,0.9035087719298246,0.9115853658536586,0.8984126984126984,0.9294871794871795,0.901840490797546],\"type\":\"violin\",\"xaxis\":\"x\",\"yaxis\":\"y\"},{\"line\":{\"color\":\"rgb(44, 160, 44)\"},\"showlegend\":false,\"spanmode\":\"hard\",\"x0\":16,\"y\":[0.89375,0.8967551622418879,0.8871951219512195,0.8858858858858859,0.8777173913043478,0.8596491228070176,0.875,0.8571428571428571,0.8685897435897436,0.852760736196319],\"type\":\"violin\",\"xaxis\":\"x\",\"yaxis\":\"y\"},{\"line\":{\"color\":\"rgb(214, 39, 40)\"},\"showlegend\":false,\"spanmode\":\"hard\",\"x0\":17,\"y\":[0.88125,0.8908554572271387,0.8810975609756098,0.8798798798798799,0.8695652173913043,0.8421052631578947,0.8689024390243902,0.8539682539682539,0.8589743589743589,0.8496932515337423],\"type\":\"violin\",\"xaxis\":\"x\",\"yaxis\":\"y\"},{\"line\":{\"color\":\"rgb(148, 103, 189)\"},\"showlegend\":false,\"spanmode\":\"hard\",\"x0\":18,\"y\":[0.909375,0.9528023598820059,0.9024390243902439,0.8978978978978979,0.904891304347826,0.9005847953216374,0.9054878048780488,0.8888888888888888,0.9102564102564102,0.8926380368098159],\"type\":\"violin\",\"xaxis\":\"x\",\"yaxis\":\"y\"},{\"line\":{\"color\":\"rgb(140, 86, 75)\"},\"showlegend\":false,\"spanmode\":\"hard\",\"x0\":19,\"y\":[0.909375,0.9557522123893806,0.9054878048780488,0.8978978978978979,0.9021739130434783,0.9005847953216374,0.9024390243902439,0.8952380952380953,0.907051282051282,0.8865030674846626],\"type\":\"violin\",\"xaxis\":\"x\",\"yaxis\":\"y\"},{\"line\":{\"color\":\"rgb(227, 119, 194)\"},\"showlegend\":false,\"spanmode\":\"hard\",\"x0\":20,\"y\":[0.909375,0.9557522123893806,0.9024390243902439,0.8978978978978979,0.9021739130434783,0.8888888888888888,0.8963414634146342,0.8888888888888888,0.907051282051282,0.8865030674846626],\"type\":\"violin\",\"xaxis\":\"x\",\"yaxis\":\"y\"},{\"line\":{\"color\":\"rgb(31, 119, 180)\"},\"showlegend\":false,\"spanmode\":\"hard\",\"x0\":21,\"y\":[0.8566978193146417,0.8333333333333334,0.8366013071895425,0.8430769230769231,0.847953216374269,0.8348909657320872,0.8284023668639053,0.8237082066869301,0.8545994065281899,0.8488372093023255],\"type\":\"violin\",\"xaxis\":\"x\",\"yaxis\":\"y\"},{\"marker\":{\"color\":\"rgb(244,202,228)\",\"size\":7,\"symbol\":\"square\"},\"mode\":\"markers\",\"name\":\"MVE\",\"x\":[null],\"y\":[null],\"type\":\"scatter\",\"xaxis\":\"x\",\"yaxis\":\"y\"},{\"line\":{\"color\":\"rgb(255, 127, 14)\"},\"showlegend\":false,\"spanmode\":\"hard\",\"x0\":22,\"y\":[0.9314641744548287,0.9303030303030303,0.9379084967320261,0.9138461538461539,0.9269005847953217,0.9283489096573209,0.9230769230769231,0.9118541033434651,0.9347181008902077,0.9156976744186046],\"type\":\"violin\",\"xaxis\":\"x\",\"yaxis\":\"y\"},{\"line\":{\"color\":\"rgb(44, 160, 44)\"},\"showlegend\":false,\"spanmode\":\"hard\",\"x0\":23,\"y\":[0.9096573208722741,0.9030303030303031,0.8856209150326797,0.8646153846153846,0.8771929824561403,0.8753894080996885,0.8609467455621301,0.8875379939209727,0.884272997032641,0.875],\"type\":\"violin\",\"xaxis\":\"x\",\"yaxis\":\"y\"},{\"line\":{\"color\":\"rgb(214, 39, 40)\"},\"showlegend\":false,\"spanmode\":\"hard\",\"x0\":24,\"y\":[0.9096573208722741,0.9,0.8856209150326797,0.8646153846153846,0.8771929824561403,0.8753894080996885,0.8550295857988166,0.8753799392097265,0.8783382789317508,0.872093023255814],\"type\":\"violin\",\"xaxis\":\"x\",\"yaxis\":\"y\"},{\"line\":{\"color\":\"rgb(148, 103, 189)\"},\"showlegend\":false,\"spanmode\":\"hard\",\"x0\":25,\"y\":[0.9283489096573209,0.9212121212121213,0.8758169934640523,0.8953846153846153,0.8801169590643275,0.9034267912772586,0.8698224852071006,0.8875379939209727,0.913946587537092,0.8953488372093024],\"type\":\"violin\",\"xaxis\":\"x\",\"yaxis\":\"y\"},{\"line\":{\"color\":\"rgb(140, 86, 75)\"},\"showlegend\":false,\"spanmode\":\"hard\",\"x0\":26,\"y\":[0.9252336448598131,0.9212121212121213,0.8888888888888888,0.8923076923076924,0.8830409356725146,0.9065420560747663,0.8668639053254438,0.9027355623100304,0.8961424332344213,0.875],\"type\":\"violin\",\"xaxis\":\"x\",\"yaxis\":\"y\"},{\"line\":{\"color\":\"rgb(227, 119, 194)\"},\"showlegend\":false,\"spanmode\":\"hard\",\"x0\":27,\"y\":[0.9252336448598131,0.9272727272727272,0.8888888888888888,0.8892307692307693,0.8830409356725146,0.897196261682243,0.863905325443787,0.9027355623100304,0.8991097922848664,0.875],\"type\":\"violin\",\"xaxis\":\"x\",\"yaxis\":\"y\"},{\"line\":{\"color\":\"red\",\"dash\":\"dot\"},\"marker\":{\"opacity\":0},\"name\":\"Target coverage\",\"showlegend\":false,\"x\":[-0.5,27.5],\"y\":[0.9,0.9],\"type\":\"scatter\",\"xaxis\":\"x\",\"yaxis\":\"y\"},{\"line\":{\"color\":\"rgb(31, 119, 180)\"},\"showlegend\":false,\"spanmode\":\"hard\",\"x0\":0,\"y\":[0.8011695906432749,0.8586956521739131,0.7889273356401384,0.8368421052631579,0.8286516853932584,0.8184438040345822,0.8165680473372781,0.8058823529411765,0.8264984227129337,0.7981366459627329],\"type\":\"violin\",\"xaxis\":\"x2\",\"yaxis\":\"y2\"},{\"line\":{\"color\":\"rgb(255, 127, 14)\"},\"showlegend\":false,\"spanmode\":\"hard\",\"x0\":1,\"y\":[0.9029411764705882,0.9351032448377581,0.8845070422535212,0.8947368421052632,0.9050632911392406,0.9,0.8731988472622478,0.8927444794952681,0.9221556886227545,0.8826979472140762],\"type\":\"violin\",\"xaxis\":\"x2\",\"yaxis\":\"y2\"},{\"line\":{\"color\":\"rgb(44, 160, 44)\"},\"showlegend\":false,\"spanmode\":\"hard\",\"x0\":2,\"y\":[0.9029411764705882,0.9262536873156342,0.8901408450704226,0.8918128654970761,0.9082278481012658,0.9,0.8645533141210374,0.8990536277602523,0.907185628742515,0.873900293255132],\"type\":\"violin\",\"xaxis\":\"x2\",\"yaxis\":\"y2\"},{\"line\":{\"color\":\"rgb(214, 39, 40)\"},\"showlegend\":false,\"spanmode\":\"hard\",\"x0\":3,\"y\":[0.9088235294117647,0.9233038348082596,0.8845070422535212,0.8888888888888888,0.9113924050632911,0.903125,0.8789625360230547,0.8927444794952681,0.9161676646706587,0.8826979472140762],\"type\":\"violin\",\"xaxis\":\"x2\",\"yaxis\":\"y2\"},{\"line\":{\"color\":\"rgb(148, 103, 189)\"},\"showlegend\":false,\"spanmode\":\"hard\",\"x0\":4,\"y\":[0.9117647058823529,0.9203539823008849,0.8788732394366198,0.8947368421052632,0.9113924050632911,0.890625,0.8818443804034583,0.889589905362776,0.9221556886227545,0.873900293255132],\"type\":\"violin\",\"xaxis\":\"x2\",\"yaxis\":\"y2\"},{\"line\":{\"color\":\"rgb(140, 86, 75)\"},\"showlegend\":false,\"spanmode\":\"hard\",\"x0\":5,\"y\":[0.9058823529411765,0.9144542772861357,0.8760563380281691,0.8976608187134503,0.9082278481012658,0.896875,0.8789625360230547,0.8927444794952681,0.907185628742515,0.8709677419354839],\"type\":\"violin\",\"xaxis\":\"x2\",\"yaxis\":\"y2\"},{\"line\":{\"color\":\"rgb(227, 119, 194)\"},\"showlegend\":false,\"spanmode\":\"hard\",\"x0\":6,\"y\":[0.9117647058823529,0.9233038348082596,0.8704225352112676,0.8888888888888888,0.9113924050632911,0.89375,0.8818443804034583,0.8927444794952681,0.9191616766467066,0.873900293255132],\"type\":\"violin\",\"xaxis\":\"x2\",\"yaxis\":\"y2\"},{\"line\":{\"color\":\"rgb(31, 119, 180)\"},\"showlegend\":false,\"spanmode\":\"hard\",\"x0\":7,\"y\":[0.924924924924925,0.9083333333333333,0.8958990536277602,0.9154518950437318,0.9438202247191011,0.9109195402298851,0.9075144508670521,0.9221902017291066,0.9134615384615384,0.9164179104477612],\"type\":\"violin\",\"xaxis\":\"x2\",\"yaxis\":\"y2\"},{\"line\":{\"color\":\"rgb(255, 127, 14)\"},\"showlegend\":false,\"spanmode\":\"hard\",\"x0\":8,\"y\":[0.924198250728863,0.899390243902439,0.88125,0.8729641693811075,0.8952380952380953,0.9216867469879518,0.8768768768768769,0.8913649025069638,0.8823529411764706,0.9137380191693291],\"type\":\"violin\",\"xaxis\":\"x2\",\"yaxis\":\"y2\"},{\"line\":{\"color\":\"rgb(44, 160, 44)\"},\"showlegend\":false,\"spanmode\":\"hard\",\"x0\":9,\"y\":[0.924198250728863,0.9024390243902439,0.86875,0.8664495114006515,0.8952380952380953,0.9246987951807228,0.8738738738738738,0.8913649025069638,0.8730650154798761,0.9137380191693291],\"type\":\"violin\",\"xaxis\":\"x2\",\"yaxis\":\"y2\"},{\"line\":{\"color\":\"rgb(214, 39, 40)\"},\"showlegend\":false,\"spanmode\":\"hard\",\"x0\":10,\"y\":[0.924198250728863,0.8902439024390244,0.884375,0.8762214983713354,0.8920634920634921,0.9156626506024096,0.8678678678678678,0.8802228412256268,0.8823529411764706,0.8945686900958466],\"type\":\"violin\",\"xaxis\":\"x2\",\"yaxis\":\"y2\"},{\"line\":{\"color\":\"rgb(148, 103, 189)\"},\"showlegend\":false,\"spanmode\":\"hard\",\"x0\":11,\"y\":[0.9271137026239067,0.8932926829268293,0.853125,0.8729641693811075,0.8952380952380953,0.9186746987951807,0.8558558558558559,0.8913649025069638,0.8823529411764706,0.8881789137380192],\"type\":\"violin\",\"xaxis\":\"x2\",\"yaxis\":\"y2\"},{\"line\":{\"color\":\"rgb(140, 86, 75)\"},\"showlegend\":false,\"spanmode\":\"hard\",\"x0\":12,\"y\":[0.9271137026239067,0.9024390243902439,0.85,0.8664495114006515,0.8984126984126984,0.927710843373494,0.8738738738738738,0.8941504178272981,0.8761609907120743,0.9073482428115016],\"type\":\"violin\",\"xaxis\":\"x2\",\"yaxis\":\"y2\"},{\"line\":{\"color\":\"rgb(227, 119, 194)\"},\"showlegend\":false,\"spanmode\":\"hard\",\"x0\":13,\"y\":[0.9300291545189504,0.8963414634146342,0.85625,0.8762214983713354,0.8920634920634921,0.9156626506024096,0.8498498498498499,0.8857938718662952,0.8854489164086687,0.8913738019169329],\"type\":\"violin\",\"xaxis\":\"x2\",\"yaxis\":\"y2\"},{\"line\":{\"color\":\"rgb(31, 119, 180)\"},\"showlegend\":false,\"spanmode\":\"hard\",\"x0\":14,\"y\":[0.8298507462686567,0.8430851063829787,0.8023598820058997,0.856353591160221,0.7894736842105263,0.8422619047619048,0.7971014492753623,0.808,0.8463949843260188,0.8152492668621701],\"type\":\"violin\",\"xaxis\":\"x2\",\"yaxis\":\"y2\"},{\"line\":{\"color\":\"rgb(255, 127, 14)\"},\"showlegend\":false,\"spanmode\":\"hard\",\"x0\":15,\"y\":[0.9164179104477612,0.9148936170212766,0.9026548672566371,0.914364640883978,0.8978328173374613,0.9166666666666666,0.8898550724637682,0.912,0.896551724137931,0.9090909090909091],\"type\":\"violin\",\"xaxis\":\"x2\",\"yaxis\":\"y2\"},{\"line\":{\"color\":\"rgb(44, 160, 44)\"},\"showlegend\":false,\"spanmode\":\"hard\",\"x0\":16,\"y\":[0.9044776119402985,0.9069148936170213,0.8997050147492626,0.9116022099447514,0.8947368421052632,0.9136904761904762,0.8956521739130435,0.9093333333333333,0.8934169278996865,0.906158357771261],\"type\":\"violin\",\"xaxis\":\"x2\",\"yaxis\":\"y2\"},{\"line\":{\"color\":\"rgb(214, 39, 40)\"},\"showlegend\":false,\"spanmode\":\"hard\",\"x0\":17,\"y\":[0.9044776119402985,0.9042553191489362,0.9056047197640118,0.914364640883978,0.8947368421052632,0.9107142857142857,0.8956521739130435,0.9093333333333333,0.8934169278996865,0.906158357771261],\"type\":\"violin\",\"xaxis\":\"x2\",\"yaxis\":\"y2\"},{\"line\":{\"color\":\"rgb(148, 103, 189)\"},\"showlegend\":false,\"spanmode\":\"hard\",\"x0\":18,\"y\":[0.9044776119402985,0.9202127659574468,0.8967551622418879,0.925414364640884,0.8730650154798761,0.9166666666666666,0.8898550724637682,0.9013333333333333,0.9059561128526645,0.906158357771261],\"type\":\"violin\",\"xaxis\":\"x2\",\"yaxis\":\"y2\"},{\"line\":{\"color\":\"rgb(140, 86, 75)\"},\"showlegend\":false,\"spanmode\":\"hard\",\"x0\":19,\"y\":[0.8925373134328358,0.9175531914893617,0.8849557522123894,0.9171270718232044,0.8730650154798761,0.9017857142857143,0.8956521739130435,0.8986666666666666,0.896551724137931,0.906158357771261],\"type\":\"violin\",\"xaxis\":\"x2\",\"yaxis\":\"y2\"},{\"line\":{\"color\":\"rgb(227, 119, 194)\"},\"showlegend\":false,\"spanmode\":\"hard\",\"x0\":20,\"y\":[0.8985074626865671,0.9122340425531915,0.8849557522123894,0.9171270718232044,0.8730650154798761,0.9047619047619048,0.8956521739130435,0.8986666666666666,0.8934169278996865,0.906158357771261],\"type\":\"violin\",\"xaxis\":\"x2\",\"yaxis\":\"y2\"},{\"line\":{\"color\":\"rgb(31, 119, 180)\"},\"showlegend\":false,\"spanmode\":\"hard\",\"x0\":21,\"y\":[0.8526315789473684,0.876750700280112,0.8410404624277457,0.8901734104046243,0.8319088319088319,0.8660714285714286,0.8512396694214877,0.8270893371757925,0.88,0.86],\"type\":\"violin\",\"xaxis\":\"x2\",\"yaxis\":\"y2\"},{\"line\":{\"color\":\"rgb(255, 127, 14)\"},\"showlegend\":false,\"spanmode\":\"hard\",\"x0\":22,\"y\":[0.9,0.9159663865546218,0.9017341040462428,0.9075144508670521,0.8717948717948718,0.8988095238095238,0.8925619834710744,0.8731988472622478,0.89,0.8866666666666667],\"type\":\"violin\",\"xaxis\":\"x2\",\"yaxis\":\"y2\"},{\"line\":{\"color\":\"rgb(44, 160, 44)\"},\"showlegend\":false,\"spanmode\":\"hard\",\"x0\":23,\"y\":[0.8921052631578947,0.907563025210084,0.8959537572254336,0.9075144508670521,0.8689458689458689,0.8988095238095238,0.8815426997245179,0.8760806916426513,0.8933333333333333,0.87],\"type\":\"violin\",\"xaxis\":\"x2\",\"yaxis\":\"y2\"},{\"line\":{\"color\":\"rgb(214, 39, 40)\"},\"showlegend\":false,\"spanmode\":\"hard\",\"x0\":24,\"y\":[0.8921052631578947,0.907563025210084,0.8959537572254336,0.9104046242774566,0.8689458689458689,0.9017857142857143,0.8815426997245179,0.8760806916426513,0.8933333333333333,0.87],\"type\":\"violin\",\"xaxis\":\"x2\",\"yaxis\":\"y2\"},{\"line\":{\"color\":\"rgb(148, 103, 189)\"},\"showlegend\":false,\"spanmode\":\"hard\",\"x0\":25,\"y\":[0.8894736842105263,0.9159663865546218,0.9017341040462428,0.9075144508670521,0.8831908831908832,0.8928571428571429,0.8925619834710744,0.8760806916426513,0.89,0.8933333333333333],\"type\":\"violin\",\"xaxis\":\"x2\",\"yaxis\":\"y2\"},{\"line\":{\"color\":\"rgb(140, 86, 75)\"},\"showlegend\":false,\"spanmode\":\"hard\",\"x0\":26,\"y\":[0.881578947368421,0.9187675070028011,0.9104046242774566,0.9132947976878613,0.8831908831908832,0.8928571428571429,0.8870523415977961,0.8789625360230547,0.8933333333333333,0.89],\"type\":\"violin\",\"xaxis\":\"x2\",\"yaxis\":\"y2\"},{\"line\":{\"color\":\"rgb(227, 119, 194)\"},\"showlegend\":false,\"spanmode\":\"hard\",\"x0\":27,\"y\":[0.881578947368421,0.9215686274509803,0.9104046242774566,0.9132947976878613,0.8831908831908832,0.8928571428571429,0.8870523415977961,0.8789625360230547,0.8933333333333333,0.89],\"type\":\"violin\",\"xaxis\":\"x2\",\"yaxis\":\"y2\"},{\"line\":{\"color\":\"red\",\"dash\":\"dot\"},\"marker\":{\"opacity\":0},\"name\":\"Target coverage\",\"showlegend\":false,\"x\":[-0.5,27.5],\"y\":[0.9,0.9],\"type\":\"scatter\",\"xaxis\":\"x2\",\"yaxis\":\"y2\"},{\"line\":{\"color\":\"rgb(31, 119, 180)\"},\"showlegend\":false,\"spanmode\":\"hard\",\"x0\":0,\"y\":[0.8537313432835821,0.8745874587458746,0.813953488372093,0.8790849673202614,0.8275862068965517,0.8762214983713354,0.8038585209003215,0.8496932515337423,0.8123249299719888,0.8484848484848485],\"type\":\"violin\",\"xaxis\":\"x3\",\"yaxis\":\"y3\"},{\"line\":{\"color\":\"rgb(255, 127, 14)\"},\"showlegend\":false,\"spanmode\":\"hard\",\"x0\":1,\"y\":[0.8996865203761756,0.8647798742138365,0.8385093167701864,0.8945783132530121,0.8579881656804734,0.8746177370030581,0.8621794871794872,0.8654970760233918,0.8571428571428571,0.8910614525139665],\"type\":\"violin\",\"xaxis\":\"x3\",\"yaxis\":\"y3\"},{\"line\":{\"color\":\"rgb(44, 160, 44)\"},\"showlegend\":false,\"spanmode\":\"hard\",\"x0\":2,\"y\":[0.9153605015673981,0.8867924528301887,0.8695652173913043,0.9246987951807228,0.8875739644970414,0.8929663608562691,0.8878205128205128,0.8742690058479532,0.8875379939209727,0.9106145251396648],\"type\":\"violin\",\"xaxis\":\"x3\",\"yaxis\":\"y3\"},{\"line\":{\"color\":\"rgb(214, 39, 40)\"},\"showlegend\":false,\"spanmode\":\"hard\",\"x0\":3,\"y\":[0.9404388714733543,0.9025157232704403,0.8881987577639752,0.927710843373494,0.8994082840236687,0.908256880733945,0.8942307692307693,0.8801169590643275,0.8905775075987842,0.9273743016759777],\"type\":\"violin\",\"xaxis\":\"x3\",\"yaxis\":\"y3\"},{\"line\":{\"color\":\"rgb(148, 103, 189)\"},\"showlegend\":false,\"spanmode\":\"hard\",\"x0\":4,\"y\":[0.9404388714733543,0.8773584905660378,0.860248447204969,0.9156626506024096,0.8757396449704142,0.8960244648318043,0.8782051282051282,0.8801169590643275,0.8753799392097265,0.9162011173184358],\"type\":\"violin\",\"xaxis\":\"x3\",\"yaxis\":\"y3\"},{\"line\":{\"color\":\"rgb(140, 86, 75)\"},\"showlegend\":false,\"spanmode\":\"hard\",\"x0\":5,\"y\":[0.9373040752351097,0.8773584905660378,0.8571428571428571,0.9216867469879518,0.8757396449704142,0.8929663608562691,0.8814102564102564,0.8742690058479532,0.8905775075987842,0.9245810055865922],\"type\":\"violin\",\"xaxis\":\"x3\",\"yaxis\":\"y3\"},{\"line\":{\"color\":\"rgb(227, 119, 194)\"},\"showlegend\":false,\"spanmode\":\"hard\",\"x0\":6,\"y\":[0.9216300940438872,0.8773584905660378,0.8664596273291926,0.9186746987951807,0.878698224852071,0.8990825688073395,0.8814102564102564,0.8742690058479532,0.8875379939209727,0.9245810055865922],\"type\":\"violin\",\"xaxis\":\"x3\",\"yaxis\":\"y3\"},{\"line\":{\"color\":\"rgb(31, 119, 180)\"},\"showlegend\":false,\"spanmode\":\"hard\",\"x0\":7,\"y\":[0.9325842696629213,0.933993399339934,0.8807339449541285,0.9371069182389937,0.8885017421602788,0.906832298136646,0.9147058823529411,0.899390243902439,0.9313186813186813,0.9135446685878963],\"type\":\"violin\",\"xaxis\":\"x3\",\"yaxis\":\"y3\"},{\"line\":{\"color\":\"rgb(255, 127, 14)\"},\"showlegend\":false,\"spanmode\":\"hard\",\"x0\":8,\"y\":[0.907185628742515,0.890282131661442,0.873900293255132,0.9017341040462428,0.8476190476190476,0.8738738738738738,0.8819875776397516,0.9009287925696594,0.8547486033519553,0.8797814207650273],\"type\":\"violin\",\"xaxis\":\"x3\",\"yaxis\":\"y3\"},{\"line\":{\"color\":\"rgb(44, 160, 44)\"},\"showlegend\":false,\"spanmode\":\"hard\",\"x0\":9,\"y\":[0.9161676646706587,0.8996865203761756,0.8914956011730205,0.9161849710982659,0.8571428571428571,0.9039039039039038,0.8913043478260869,0.9318885448916409,0.888268156424581,0.8961748633879781],\"type\":\"violin\",\"xaxis\":\"x3\",\"yaxis\":\"y3\"},{\"line\":{\"color\":\"rgb(214, 39, 40)\"},\"showlegend\":false,\"spanmode\":\"hard\",\"x0\":10,\"y\":[0.9281437125748503,0.896551724137931,0.8944281524926686,0.9219653179190751,0.873015873015873,0.9039039039039038,0.8944099378881988,0.9226006191950464,0.8966480446927374,0.9016393442622951],\"type\":\"violin\",\"xaxis\":\"x3\",\"yaxis\":\"y3\"},{\"line\":{\"color\":\"rgb(148, 103, 189)\"},\"showlegend\":false,\"spanmode\":\"hard\",\"x0\":11,\"y\":[0.937125748502994,0.9028213166144201,0.8914956011730205,0.9190751445086706,0.873015873015873,0.8798798798798799,0.9006211180124224,0.9287925696594427,0.8938547486033519,0.8961748633879781],\"type\":\"violin\",\"xaxis\":\"x3\",\"yaxis\":\"y3\"},{\"line\":{\"color\":\"rgb(140, 86, 75)\"},\"showlegend\":false,\"spanmode\":\"hard\",\"x0\":12,\"y\":[0.9281437125748503,0.896551724137931,0.9002932551319648,0.9161849710982659,0.8571428571428571,0.8588588588588588,0.8944099378881988,0.9380804953560371,0.888268156424581,0.8989071038251366],\"type\":\"violin\",\"xaxis\":\"x3\",\"yaxis\":\"y3\"},{\"line\":{\"color\":\"rgb(227, 119, 194)\"},\"showlegend\":false,\"spanmode\":\"hard\",\"x0\":13,\"y\":[0.9431137724550899,0.8934169278996865,0.9032258064516129,0.9190751445086706,0.8666666666666667,0.8798798798798799,0.8944099378881988,0.9256965944272446,0.888268156424581,0.9016393442622951],\"type\":\"violin\",\"xaxis\":\"x3\",\"yaxis\":\"y3\"},{\"line\":{\"color\":\"rgb(31, 119, 180)\"},\"showlegend\":false,\"spanmode\":\"hard\",\"x0\":14,\"y\":[0.8405797101449275,0.8456140350877193,0.7747747747747747,0.8557377049180328,0.8252427184466019,0.8540372670807453,0.8379204892966361,0.8258064516129032,0.8428184281842819,0.8858858858858859],\"type\":\"violin\",\"xaxis\":\"x3\",\"yaxis\":\"y3\"},{\"line\":{\"color\":\"rgb(255, 127, 14)\"},\"showlegend\":false,\"spanmode\":\"hard\",\"x0\":15,\"y\":[0.855072463768116,0.8666666666666667,0.8318318318318318,0.8688524590163934,0.8867313915857605,0.8540372670807453,0.8532110091743119,0.8580645161290322,0.8373983739837398,0.9009009009009009],\"type\":\"violin\",\"xaxis\":\"x3\",\"yaxis\":\"y3\"},{\"line\":{\"color\":\"rgb(44, 160, 44)\"},\"showlegend\":false,\"spanmode\":\"hard\",\"x0\":16,\"y\":[0.9043478260869565,0.9052631578947369,0.8828828828828829,0.9081967213114754,0.9223300970873787,0.9037267080745341,0.9051987767584098,0.8806451612903226,0.9024390243902439,0.93993993993994],\"type\":\"violin\",\"xaxis\":\"x3\",\"yaxis\":\"y3\"},{\"line\":{\"color\":\"rgb(214, 39, 40)\"},\"showlegend\":false,\"spanmode\":\"hard\",\"x0\":17,\"y\":[0.9188405797101449,0.9122807017543859,0.8888888888888888,0.9147540983606557,0.9449838187702265,0.9099378881987578,0.9143730886850153,0.896774193548387,0.9214092140921409,0.9519519519519519],\"type\":\"violin\",\"xaxis\":\"x3\",\"yaxis\":\"y3\"},{\"line\":{\"color\":\"rgb(148, 103, 189)\"},\"showlegend\":false,\"spanmode\":\"hard\",\"x0\":18,\"y\":[0.8898550724637682,0.8666666666666667,0.8618618618618619,0.8786885245901639,0.889967637540453,0.8695652173913043,0.8929663608562691,0.8774193548387097,0.8672086720867209,0.918918918918919],\"type\":\"violin\",\"xaxis\":\"x3\",\"yaxis\":\"y3\"},{\"line\":{\"color\":\"rgb(140, 86, 75)\"},\"showlegend\":false,\"spanmode\":\"hard\",\"x0\":19,\"y\":[0.8840579710144928,0.8631578947368421,0.8738738738738738,0.8852459016393442,0.8770226537216829,0.8757763975155279,0.8837920489296636,0.867741935483871,0.8563685636856369,0.9159159159159159],\"type\":\"violin\",\"xaxis\":\"x3\",\"yaxis\":\"y3\"},{\"line\":{\"color\":\"rgb(227, 119, 194)\"},\"showlegend\":false,\"spanmode\":\"hard\",\"x0\":20,\"y\":[0.881159420289855,0.8666666666666667,0.8738738738738738,0.8852459016393442,0.8705501618122977,0.8788819875776398,0.8837920489296636,0.867741935483871,0.8590785907859079,0.9159159159159159],\"type\":\"violin\",\"xaxis\":\"x3\",\"yaxis\":\"y3\"},{\"line\":{\"color\":\"rgb(31, 119, 180)\"},\"showlegend\":false,\"spanmode\":\"hard\",\"x0\":21,\"y\":[0.8695652173913043,0.8913738019169329,0.8362068965517241,0.8966565349544073,0.8762214983713354,0.8629737609329446,0.842809364548495,0.8611111111111112,0.8815426997245179,0.9073033707865169],\"type\":\"violin\",\"xaxis\":\"x3\",\"yaxis\":\"y3\"},{\"line\":{\"color\":\"rgb(255, 127, 14)\"},\"showlegend\":false,\"spanmode\":\"hard\",\"x0\":22,\"y\":[0.8729096989966555,0.8913738019169329,0.8419540229885057,0.8814589665653495,0.8729641693811075,0.8483965014577259,0.8127090301003345,0.8641975308641975,0.837465564738292,0.8764044943820225],\"type\":\"violin\",\"xaxis\":\"x3\",\"yaxis\":\"y3\"},{\"line\":{\"color\":\"rgb(44, 160, 44)\"},\"showlegend\":false,\"spanmode\":\"hard\",\"x0\":23,\"y\":[0.9063545150501672,0.9137380191693291,0.8793103448275862,0.9148936170212766,0.9055374592833876,0.8833819241982507,0.8929765886287625,0.9012345679012346,0.9173553719008265,0.9213483146067416],\"type\":\"violin\",\"xaxis\":\"x3\",\"yaxis\":\"y3\"},{\"line\":{\"color\":\"rgb(214, 39, 40)\"},\"showlegend\":false,\"spanmode\":\"hard\",\"x0\":24,\"y\":[0.9264214046822743,0.9137380191693291,0.882183908045977,0.9179331306990881,0.9087947882736156,0.8862973760932945,0.8996655518394648,0.9074074074074074,0.9173553719008265,0.9213483146067416],\"type\":\"violin\",\"xaxis\":\"x3\",\"yaxis\":\"y3\"},{\"line\":{\"color\":\"rgb(148, 103, 189)\"},\"showlegend\":false,\"spanmode\":\"hard\",\"x0\":25,\"y\":[0.9230769230769231,0.9009584664536742,0.8735632183908046,0.8996960486322189,0.8794788273615635,0.8979591836734694,0.8528428093645485,0.8858024691358025,0.8870523415977961,0.9129213483146067],\"type\":\"violin\",\"xaxis\":\"x3\",\"yaxis\":\"y3\"},{\"line\":{\"color\":\"rgb(140, 86, 75)\"},\"showlegend\":false,\"spanmode\":\"hard\",\"x0\":26,\"y\":[0.903010033444816,0.8881789137380192,0.8735632183908046,0.8936170212765957,0.8827361563517915,0.892128279883382,0.8494983277591973,0.8703703703703703,0.8898071625344353,0.9073033707865169],\"type\":\"violin\",\"xaxis\":\"x3\",\"yaxis\":\"y3\"},{\"line\":{\"color\":\"rgb(227, 119, 194)\"},\"showlegend\":false,\"spanmode\":\"hard\",\"x0\":27,\"y\":[0.8996655518394648,0.8913738019169329,0.8764367816091954,0.8936170212765957,0.8827361563517915,0.892128279883382,0.8528428093645485,0.8734567901234568,0.8898071625344353,0.9073033707865169],\"type\":\"violin\",\"xaxis\":\"x3\",\"yaxis\":\"y3\"},{\"line\":{\"color\":\"red\",\"dash\":\"dot\"},\"marker\":{\"opacity\":0},\"name\":\"Target coverage\",\"showlegend\":false,\"x\":[-0.5,27.5],\"y\":[0.9,0.9],\"type\":\"scatter\",\"xaxis\":\"x3\",\"yaxis\":\"y3\"}],                        {\"template\":{\"data\":{\"histogram2dcontour\":[{\"type\":\"histogram2dcontour\",\"colorbar\":{\"outlinewidth\":0,\"ticks\":\"\"},\"colorscale\":[[0.0,\"#0d0887\"],[0.1111111111111111,\"#46039f\"],[0.2222222222222222,\"#7201a8\"],[0.3333333333333333,\"#9c179e\"],[0.4444444444444444,\"#bd3786\"],[0.5555555555555556,\"#d8576b\"],[0.6666666666666666,\"#ed7953\"],[0.7777777777777778,\"#fb9f3a\"],[0.8888888888888888,\"#fdca26\"],[1.0,\"#f0f921\"]]}],\"choropleth\":[{\"type\":\"choropleth\",\"colorbar\":{\"outlinewidth\":0,\"ticks\":\"\"}}],\"histogram2d\":[{\"type\":\"histogram2d\",\"colorbar\":{\"outlinewidth\":0,\"ticks\":\"\"},\"colorscale\":[[0.0,\"#0d0887\"],[0.1111111111111111,\"#46039f\"],[0.2222222222222222,\"#7201a8\"],[0.3333333333333333,\"#9c179e\"],[0.4444444444444444,\"#bd3786\"],[0.5555555555555556,\"#d8576b\"],[0.6666666666666666,\"#ed7953\"],[0.7777777777777778,\"#fb9f3a\"],[0.8888888888888888,\"#fdca26\"],[1.0,\"#f0f921\"]]}],\"heatmap\":[{\"type\":\"heatmap\",\"colorbar\":{\"outlinewidth\":0,\"ticks\":\"\"},\"colorscale\":[[0.0,\"#0d0887\"],[0.1111111111111111,\"#46039f\"],[0.2222222222222222,\"#7201a8\"],[0.3333333333333333,\"#9c179e\"],[0.4444444444444444,\"#bd3786\"],[0.5555555555555556,\"#d8576b\"],[0.6666666666666666,\"#ed7953\"],[0.7777777777777778,\"#fb9f3a\"],[0.8888888888888888,\"#fdca26\"],[1.0,\"#f0f921\"]]}],\"heatmapgl\":[{\"type\":\"heatmapgl\",\"colorbar\":{\"outlinewidth\":0,\"ticks\":\"\"},\"colorscale\":[[0.0,\"#0d0887\"],[0.1111111111111111,\"#46039f\"],[0.2222222222222222,\"#7201a8\"],[0.3333333333333333,\"#9c179e\"],[0.4444444444444444,\"#bd3786\"],[0.5555555555555556,\"#d8576b\"],[0.6666666666666666,\"#ed7953\"],[0.7777777777777778,\"#fb9f3a\"],[0.8888888888888888,\"#fdca26\"],[1.0,\"#f0f921\"]]}],\"contourcarpet\":[{\"type\":\"contourcarpet\",\"colorbar\":{\"outlinewidth\":0,\"ticks\":\"\"}}],\"contour\":[{\"type\":\"contour\",\"colorbar\":{\"outlinewidth\":0,\"ticks\":\"\"},\"colorscale\":[[0.0,\"#0d0887\"],[0.1111111111111111,\"#46039f\"],[0.2222222222222222,\"#7201a8\"],[0.3333333333333333,\"#9c179e\"],[0.4444444444444444,\"#bd3786\"],[0.5555555555555556,\"#d8576b\"],[0.6666666666666666,\"#ed7953\"],[0.7777777777777778,\"#fb9f3a\"],[0.8888888888888888,\"#fdca26\"],[1.0,\"#f0f921\"]]}],\"surface\":[{\"type\":\"surface\",\"colorbar\":{\"outlinewidth\":0,\"ticks\":\"\"},\"colorscale\":[[0.0,\"#0d0887\"],[0.1111111111111111,\"#46039f\"],[0.2222222222222222,\"#7201a8\"],[0.3333333333333333,\"#9c179e\"],[0.4444444444444444,\"#bd3786\"],[0.5555555555555556,\"#d8576b\"],[0.6666666666666666,\"#ed7953\"],[0.7777777777777778,\"#fb9f3a\"],[0.8888888888888888,\"#fdca26\"],[1.0,\"#f0f921\"]]}],\"mesh3d\":[{\"type\":\"mesh3d\",\"colorbar\":{\"outlinewidth\":0,\"ticks\":\"\"}}],\"scatter\":[{\"fillpattern\":{\"fillmode\":\"overlay\",\"size\":10,\"solidity\":0.2},\"type\":\"scatter\"}],\"parcoords\":[{\"type\":\"parcoords\",\"line\":{\"colorbar\":{\"outlinewidth\":0,\"ticks\":\"\"}}}],\"scatterpolargl\":[{\"type\":\"scatterpolargl\",\"marker\":{\"colorbar\":{\"outlinewidth\":0,\"ticks\":\"\"}}}],\"bar\":[{\"error_x\":{\"color\":\"#2a3f5f\"},\"error_y\":{\"color\":\"#2a3f5f\"},\"marker\":{\"line\":{\"color\":\"#E5ECF6\",\"width\":0.5},\"pattern\":{\"fillmode\":\"overlay\",\"size\":10,\"solidity\":0.2}},\"type\":\"bar\"}],\"scattergeo\":[{\"type\":\"scattergeo\",\"marker\":{\"colorbar\":{\"outlinewidth\":0,\"ticks\":\"\"}}}],\"scatterpolar\":[{\"type\":\"scatterpolar\",\"marker\":{\"colorbar\":{\"outlinewidth\":0,\"ticks\":\"\"}}}],\"histogram\":[{\"marker\":{\"pattern\":{\"fillmode\":\"overlay\",\"size\":10,\"solidity\":0.2}},\"type\":\"histogram\"}],\"scattergl\":[{\"type\":\"scattergl\",\"marker\":{\"colorbar\":{\"outlinewidth\":0,\"ticks\":\"\"}}}],\"scatter3d\":[{\"type\":\"scatter3d\",\"line\":{\"colorbar\":{\"outlinewidth\":0,\"ticks\":\"\"}},\"marker\":{\"colorbar\":{\"outlinewidth\":0,\"ticks\":\"\"}}}],\"scattermapbox\":[{\"type\":\"scattermapbox\",\"marker\":{\"colorbar\":{\"outlinewidth\":0,\"ticks\":\"\"}}}],\"scatterternary\":[{\"type\":\"scatterternary\",\"marker\":{\"colorbar\":{\"outlinewidth\":0,\"ticks\":\"\"}}}],\"scattercarpet\":[{\"type\":\"scattercarpet\",\"marker\":{\"colorbar\":{\"outlinewidth\":0,\"ticks\":\"\"}}}],\"carpet\":[{\"aaxis\":{\"endlinecolor\":\"#2a3f5f\",\"gridcolor\":\"white\",\"linecolor\":\"white\",\"minorgridcolor\":\"white\",\"startlinecolor\":\"#2a3f5f\"},\"baxis\":{\"endlinecolor\":\"#2a3f5f\",\"gridcolor\":\"white\",\"linecolor\":\"white\",\"minorgridcolor\":\"white\",\"startlinecolor\":\"#2a3f5f\"},\"type\":\"carpet\"}],\"table\":[{\"cells\":{\"fill\":{\"color\":\"#EBF0F8\"},\"line\":{\"color\":\"white\"}},\"header\":{\"fill\":{\"color\":\"#C8D4E3\"},\"line\":{\"color\":\"white\"}},\"type\":\"table\"}],\"barpolar\":[{\"marker\":{\"line\":{\"color\":\"#E5ECF6\",\"width\":0.5},\"pattern\":{\"fillmode\":\"overlay\",\"size\":10,\"solidity\":0.2}},\"type\":\"barpolar\"}],\"pie\":[{\"automargin\":true,\"type\":\"pie\"}]},\"layout\":{\"autotypenumbers\":\"strict\",\"colorway\":[\"#636efa\",\"#EF553B\",\"#00cc96\",\"#ab63fa\",\"#FFA15A\",\"#19d3f3\",\"#FF6692\",\"#B6E880\",\"#FF97FF\",\"#FECB52\"],\"font\":{\"color\":\"#2a3f5f\"},\"hovermode\":\"closest\",\"hoverlabel\":{\"align\":\"left\"},\"paper_bgcolor\":\"white\",\"plot_bgcolor\":\"#E5ECF6\",\"polar\":{\"bgcolor\":\"#E5ECF6\",\"angularaxis\":{\"gridcolor\":\"white\",\"linecolor\":\"white\",\"ticks\":\"\"},\"radialaxis\":{\"gridcolor\":\"white\",\"linecolor\":\"white\",\"ticks\":\"\"}},\"ternary\":{\"bgcolor\":\"#E5ECF6\",\"aaxis\":{\"gridcolor\":\"white\",\"linecolor\":\"white\",\"ticks\":\"\"},\"baxis\":{\"gridcolor\":\"white\",\"linecolor\":\"white\",\"ticks\":\"\"},\"caxis\":{\"gridcolor\":\"white\",\"linecolor\":\"white\",\"ticks\":\"\"}},\"coloraxis\":{\"colorbar\":{\"outlinewidth\":0,\"ticks\":\"\"}},\"colorscale\":{\"sequential\":[[0.0,\"#0d0887\"],[0.1111111111111111,\"#46039f\"],[0.2222222222222222,\"#7201a8\"],[0.3333333333333333,\"#9c179e\"],[0.4444444444444444,\"#bd3786\"],[0.5555555555555556,\"#d8576b\"],[0.6666666666666666,\"#ed7953\"],[0.7777777777777778,\"#fb9f3a\"],[0.8888888888888888,\"#fdca26\"],[1.0,\"#f0f921\"]],\"sequentialminus\":[[0.0,\"#0d0887\"],[0.1111111111111111,\"#46039f\"],[0.2222222222222222,\"#7201a8\"],[0.3333333333333333,\"#9c179e\"],[0.4444444444444444,\"#bd3786\"],[0.5555555555555556,\"#d8576b\"],[0.6666666666666666,\"#ed7953\"],[0.7777777777777778,\"#fb9f3a\"],[0.8888888888888888,\"#fdca26\"],[1.0,\"#f0f921\"]],\"diverging\":[[0,\"#8e0152\"],[0.1,\"#c51b7d\"],[0.2,\"#de77ae\"],[0.3,\"#f1b6da\"],[0.4,\"#fde0ef\"],[0.5,\"#f7f7f7\"],[0.6,\"#e6f5d0\"],[0.7,\"#b8e186\"],[0.8,\"#7fbc41\"],[0.9,\"#4d9221\"],[1,\"#276419\"]]},\"xaxis\":{\"gridcolor\":\"white\",\"linecolor\":\"white\",\"ticks\":\"\",\"title\":{\"standoff\":15},\"zerolinecolor\":\"white\",\"automargin\":true,\"zerolinewidth\":2},\"yaxis\":{\"gridcolor\":\"white\",\"linecolor\":\"white\",\"ticks\":\"\",\"title\":{\"standoff\":15},\"zerolinecolor\":\"white\",\"automargin\":true,\"zerolinewidth\":2},\"scene\":{\"xaxis\":{\"backgroundcolor\":\"#E5ECF6\",\"gridcolor\":\"white\",\"linecolor\":\"white\",\"showbackground\":true,\"ticks\":\"\",\"zerolinecolor\":\"white\",\"gridwidth\":2},\"yaxis\":{\"backgroundcolor\":\"#E5ECF6\",\"gridcolor\":\"white\",\"linecolor\":\"white\",\"showbackground\":true,\"ticks\":\"\",\"zerolinecolor\":\"white\",\"gridwidth\":2},\"zaxis\":{\"backgroundcolor\":\"#E5ECF6\",\"gridcolor\":\"white\",\"linecolor\":\"white\",\"showbackground\":true,\"ticks\":\"\",\"zerolinecolor\":\"white\",\"gridwidth\":2}},\"shapedefaults\":{\"line\":{\"color\":\"#2a3f5f\"}},\"annotationdefaults\":{\"arrowcolor\":\"#2a3f5f\",\"arrowhead\":0,\"arrowwidth\":1},\"geo\":{\"bgcolor\":\"white\",\"landcolor\":\"#E5ECF6\",\"subunitcolor\":\"white\",\"showland\":true,\"showlakes\":true,\"lakecolor\":\"white\"},\"title\":{\"x\":0.05},\"mapbox\":{\"style\":\"light\"}}},\"xaxis\":{\"anchor\":\"y\",\"domain\":[0.0,1.0],\"range\":[-0.5,27.5],\"tickvals\":[-0.5,0,1,2,3,4,5,6,7,8,9,10,11,12,13,14,15,16,17,18,19,20,21,22,23,24,25,26,27,27.5],\"ticktext\":[\"\",\"base\",\"mPointCP\",\"mIntCP\",\"mNCP\",\"PointCP\",\"IntCP\",\"NCP\",\"base\",\"mPointCP\",\"mIntCP\",\"mNCP\",\"PointCP\",\"IntCP\",\"NCP\",\"base\",\"mPointCP\",\"mIntCP\",\"mNCP\",\"PointCP\",\"IntCP\",\"NCP\",\"base\",\"mPointCP\",\"mIntCP\",\"mNCP\",\"PointCP\",\"IntCP\",\"NCP\",\"\"],\"showticklabels\":false},\"yaxis\":{\"anchor\":\"x\",\"domain\":[0.7777777777777778,1.0],\"range\":[0.7,1.0]},\"xaxis2\":{\"anchor\":\"y2\",\"domain\":[0.0,1.0],\"range\":[-0.5,27.5],\"tickvals\":[-0.5,0,1,2,3,4,5,6,7,8,9,10,11,12,13,14,15,16,17,18,19,20,21,22,23,24,25,26,27,27.5],\"ticktext\":[\"\",\"base\",\"mPointCP\",\"mIntCP\",\"mNCP\",\"PointCP\",\"IntCP\",\"NCP\",\"base\",\"mPointCP\",\"mIntCP\",\"mNCP\",\"PointCP\",\"IntCP\",\"NCP\",\"base\",\"mPointCP\",\"mIntCP\",\"mNCP\",\"PointCP\",\"IntCP\",\"NCP\",\"base\",\"mPointCP\",\"mIntCP\",\"mNCP\",\"PointCP\",\"IntCP\",\"NCP\",\"\"],\"showticklabels\":false},\"yaxis2\":{\"anchor\":\"x2\",\"domain\":[0.3888888888888889,0.6111111111111112],\"range\":[0.7,1.0]},\"xaxis3\":{\"anchor\":\"y3\",\"domain\":[0.0,1.0],\"tickangle\":45,\"range\":[-0.5,27.5],\"tickvals\":[-0.5,0,1,2,3,4,5,6,7,8,9,10,11,12,13,14,15,16,17,18,19,20,21,22,23,24,25,26,27,27.5],\"ticktext\":[\"\",\"base\",\"mPointCP\",\"mIntCP\",\"mNCP\",\"PointCP\",\"IntCP\",\"NCP\",\"base\",\"mPointCP\",\"mIntCP\",\"mNCP\",\"PointCP\",\"IntCP\",\"NCP\",\"base\",\"mPointCP\",\"mIntCP\",\"mNCP\",\"PointCP\",\"IntCP\",\"NCP\",\"base\",\"mPointCP\",\"mIntCP\",\"mNCP\",\"PointCP\",\"IntCP\",\"NCP\",\"\"]},\"yaxis3\":{\"anchor\":\"x3\",\"domain\":[0.0,0.22222222222222224],\"range\":[0.7,1.0]},\"annotations\":[{\"font\":{\"size\":16},\"showarrow\":false,\"text\":\"Low variance\",\"x\":0.5,\"xanchor\":\"center\",\"xref\":\"paper\",\"y\":1.0,\"yanchor\":\"bottom\",\"yref\":\"paper\"},{\"font\":{\"size\":16},\"showarrow\":false,\"text\":\"Medium variance\",\"x\":0.5,\"xanchor\":\"center\",\"xref\":\"paper\",\"y\":0.6111111111111112,\"yanchor\":\"bottom\",\"yref\":\"paper\"},{\"font\":{\"size\":16},\"showarrow\":false,\"text\":\"High variance\",\"x\":0.5,\"xanchor\":\"center\",\"xref\":\"paper\",\"y\":0.22222222222222224,\"yanchor\":\"bottom\",\"yref\":\"paper\"}],\"shapes\":[{\"fillcolor\":\"rgb(179,226,205)\",\"layer\":\"below\",\"line\":{\"width\":0},\"opacity\":0.5,\"type\":\"rect\",\"x0\":-0.5,\"x1\":6.5,\"xref\":\"x\",\"y0\":0,\"y1\":1,\"yref\":\"y domain\"},{\"fillcolor\":\"rgb(253,205,172)\",\"layer\":\"below\",\"line\":{\"width\":0},\"opacity\":0.5,\"type\":\"rect\",\"x0\":6.5,\"x1\":13.5,\"xref\":\"x\",\"y0\":0,\"y1\":1,\"yref\":\"y domain\"},{\"fillcolor\":\"rgb(203,213,232)\",\"layer\":\"below\",\"line\":{\"width\":0},\"opacity\":0.5,\"type\":\"rect\",\"x0\":13.5,\"x1\":20.5,\"xref\":\"x\",\"y0\":0,\"y1\":1,\"yref\":\"y domain\"},{\"fillcolor\":\"rgb(244,202,228)\",\"layer\":\"below\",\"line\":{\"width\":0},\"opacity\":0.5,\"type\":\"rect\",\"x0\":20.5,\"x1\":27.5,\"xref\":\"x\",\"y0\":0,\"y1\":1,\"yref\":\"y domain\"},{\"fillcolor\":\"rgb(179,226,205)\",\"layer\":\"below\",\"line\":{\"width\":0},\"opacity\":0.5,\"type\":\"rect\",\"x0\":-0.5,\"x1\":6.5,\"xref\":\"x2\",\"y0\":0,\"y1\":1,\"yref\":\"y2 domain\"},{\"fillcolor\":\"rgb(253,205,172)\",\"layer\":\"below\",\"line\":{\"width\":0},\"opacity\":0.5,\"type\":\"rect\",\"x0\":6.5,\"x1\":13.5,\"xref\":\"x2\",\"y0\":0,\"y1\":1,\"yref\":\"y2 domain\"},{\"fillcolor\":\"rgb(203,213,232)\",\"layer\":\"below\",\"line\":{\"width\":0},\"opacity\":0.5,\"type\":\"rect\",\"x0\":13.5,\"x1\":20.5,\"xref\":\"x2\",\"y0\":0,\"y1\":1,\"yref\":\"y2 domain\"},{\"fillcolor\":\"rgb(244,202,228)\",\"layer\":\"below\",\"line\":{\"width\":0},\"opacity\":0.5,\"type\":\"rect\",\"x0\":20.5,\"x1\":27.5,\"xref\":\"x2\",\"y0\":0,\"y1\":1,\"yref\":\"y2 domain\"},{\"fillcolor\":\"rgb(179,226,205)\",\"layer\":\"below\",\"line\":{\"width\":0},\"opacity\":0.5,\"type\":\"rect\",\"x0\":-0.5,\"x1\":6.5,\"xref\":\"x3\",\"y0\":0,\"y1\":1,\"yref\":\"y3 domain\"},{\"fillcolor\":\"rgb(253,205,172)\",\"layer\":\"below\",\"line\":{\"width\":0},\"opacity\":0.5,\"type\":\"rect\",\"x0\":6.5,\"x1\":13.5,\"xref\":\"x3\",\"y0\":0,\"y1\":1,\"yref\":\"y3 domain\"},{\"fillcolor\":\"rgb(203,213,232)\",\"layer\":\"below\",\"line\":{\"width\":0},\"opacity\":0.5,\"type\":\"rect\",\"x0\":13.5,\"x1\":20.5,\"xref\":\"x3\",\"y0\":0,\"y1\":1,\"yref\":\"y3 domain\"},{\"fillcolor\":\"rgb(244,202,228)\",\"layer\":\"below\",\"line\":{\"width\":0},\"opacity\":0.5,\"type\":\"rect\",\"x0\":20.5,\"x1\":27.5,\"xref\":\"x3\",\"y0\":0,\"y1\":1,\"yref\":\"y3 domain\"}],\"margin\":{\"l\":0,\"r\":0,\"t\":70,\"b\":0},\"width\":1000,\"title\":{\"text\":\"$\\\\text{Conditional PI coverage (}\\\\alpha=0.1\\\\text{)}$\"}},                        {\"responsive\": true}                    ).then(function(){\n",
       "                            \n",
       "var gd = document.getElementById('20d5afd3-99e0-4626-b7c8-df5208568d68');\n",
       "var x = new MutationObserver(function (mutations, observer) {{\n",
       "        var display = window.getComputedStyle(gd).display;\n",
       "        if (!display || display === 'none') {{\n",
       "            console.log([gd, 'removed!']);\n",
       "            Plotly.purge(gd);\n",
       "            observer.disconnect();\n",
       "        }}\n",
       "}});\n",
       "\n",
       "// Listen for the removal of the full notebook cells\n",
       "var notebookContainer = gd.closest('#notebook-container');\n",
       "if (notebookContainer) {{\n",
       "    x.observe(notebookContainer, {childList: true});\n",
       "}}\n",
       "\n",
       "// Listen for the clearing of the current output cell\n",
       "var outputEl = gd.closest('.output');\n",
       "if (outputEl) {{\n",
       "    x.observe(outputEl, {childList: true});\n",
       "}}\n",
       "\n",
       "                        })                };                });            </script>        </div>"
      ]
     },
     "metadata": {},
     "output_type": "display_data"
    },
    {
     "data": {
      "application/vnd.plotly.v1+json": {
       "config": {
        "plotlyServerURL": "https://plot.ly"
       },
       "data": [
        {
         "line": {
          "color": "rgb(31, 119, 180)"
         },
         "showlegend": false,
         "spanmode": "hard",
         "type": "violin",
         "x0": 0,
         "xaxis": "x",
         "y": [
          2.1631736755371094,
          2.089674949645996,
          2.1742424964904785,
          2.0496978759765625,
          2.1374025344848633,
          2.1667213439941406,
          2.1150779724121094,
          2.106851816177368,
          2.0398571491241455,
          2.0434224605560303
         ],
         "yaxis": "y"
        },
        {
         "marker": {
          "color": "rgb(179,226,205)",
          "size": 7,
          "symbol": "square"
         },
         "mode": "markers",
         "name": "QR",
         "type": "scatter",
         "x": [
          null
         ],
         "xaxis": "x",
         "y": [
          null
         ],
         "yaxis": "y"
        },
        {
         "line": {
          "color": "rgb(255, 127, 14)"
         },
         "showlegend": false,
         "spanmode": "hard",
         "type": "violin",
         "x0": 1,
         "xaxis": "x",
         "y": [
          3.153557538986206,
          2.89947772026062,
          3.038336753845215,
          2.8525593280792236,
          3.025372266769409,
          2.8583028316497803,
          2.8807058334350586,
          3.0564608573913574,
          2.795048713684082,
          2.947338104248047
         ],
         "yaxis": "y"
        },
        {
         "line": {
          "color": "rgb(44, 160, 44)"
         },
         "showlegend": false,
         "spanmode": "hard",
         "type": "violin",
         "x0": 2,
         "xaxis": "x",
         "y": [
          2.8678627014160156,
          2.6691267490386963,
          2.862790584564209,
          2.6541290283203125,
          2.8553366661071777,
          2.663541316986084,
          2.6865930557250977,
          2.7872936725616455,
          2.5738728046417236,
          2.7064623832702637
         ],
         "yaxis": "y"
        },
        {
         "line": {
          "color": "rgb(214, 39, 40)"
         },
         "showlegend": false,
         "spanmode": "hard",
         "type": "violin",
         "x0": 3,
         "xaxis": "x",
         "y": [
          2.8095245361328125,
          2.564178943634033,
          2.7683932781219482,
          2.559393882751465,
          2.7449588775634766,
          2.5763063430786133,
          2.596548080444336,
          2.6864969730377197,
          2.478396415710449,
          2.568917989730835
         ],
         "yaxis": "y"
        },
        {
         "line": {
          "color": "rgb(148, 103, 189)"
         },
         "showlegend": false,
         "spanmode": "hard",
         "type": "violin",
         "x0": 4,
         "xaxis": "x",
         "y": [
          2.8604297637939453,
          2.876021385192871,
          3.0332889556884766,
          2.684077024459839,
          2.9157443046569824,
          2.7377824783325195,
          2.712237596511841,
          2.8808882236480713,
          2.6105284690856934,
          2.766876697540283
         ],
         "yaxis": "y"
        },
        {
         "line": {
          "color": "rgb(140, 86, 75)"
         },
         "showlegend": false,
         "spanmode": "hard",
         "type": "violin",
         "x0": 5,
         "xaxis": "x",
         "y": [
          2.825021743774414,
          2.885308265686035,
          3.0760233402252197,
          2.695511817932129,
          2.8887410163879395,
          2.675386428833008,
          2.6865930557250977,
          2.9048070907592773,
          2.5569300651550293,
          2.7569003105163574
         ],
         "yaxis": "y"
        },
        {
         "line": {
          "color": "rgb(227, 119, 194)"
         },
         "showlegend": false,
         "spanmode": "hard",
         "type": "violin",
         "x0": 6,
         "xaxis": "x",
         "y": [
          2.8439483642578125,
          2.9009668827056885,
          3.022862195968628,
          2.7194113731384277,
          2.8941733837127686,
          2.7140820026397705,
          2.7008347511291504,
          2.917741060256958,
          2.6010775566101074,
          2.782459259033203
         ],
         "yaxis": "y"
        },
        {
         "line": {
          "color": "rgb(31, 119, 180)"
         },
         "showlegend": false,
         "spanmode": "hard",
         "type": "violin",
         "x0": 7,
         "xaxis": "x",
         "y": [
          2.884034972990057,
          2.878201534159105,
          2.8611037160405948,
          2.8562214240475736,
          2.9325693351214,
          2.883652401214296,
          2.7939050249802837,
          2.866062218895325,
          2.86791722515115,
          2.8360043000968744
         ],
         "yaxis": "y"
        },
        {
         "marker": {
          "color": "rgb(253,205,172)",
          "size": 7,
          "symbol": "square"
         },
         "mode": "markers",
         "name": "QRF",
         "type": "scatter",
         "x": [
          null
         ],
         "xaxis": "x",
         "y": [
          null
         ],
         "yaxis": "y"
        },
        {
         "line": {
          "color": "rgb(255, 127, 14)"
         },
         "showlegend": false,
         "spanmode": "hard",
         "type": "violin",
         "x0": 8,
         "xaxis": "x",
         "y": [
          3.0184794068336487,
          2.847674012184143,
          3.056888982653618,
          2.8149326145648956,
          3.007789060473442,
          2.9307109713554382,
          2.9865419194102287,
          2.972840428352356,
          2.751163601875305,
          3.002892881631851
         ],
         "yaxis": "y"
        },
        {
         "line": {
          "color": "rgb(44, 160, 44)"
         },
         "showlegend": false,
         "spanmode": "hard",
         "type": "violin",
         "x0": 9,
         "xaxis": "x",
         "y": [
          2.8488632583488993,
          2.6361356809693084,
          2.890555224798422,
          2.6295719845322436,
          2.778380271615209,
          2.7377441369063815,
          2.770402522449908,
          2.852525771741972,
          2.586047843266804,
          2.7489192315510342
         ],
         "yaxis": "y"
        },
        {
         "line": {
          "color": "rgb(214, 39, 40)"
         },
         "showlegend": false,
         "spanmode": "hard",
         "type": "violin",
         "x0": 10,
         "xaxis": "x",
         "y": [
          2.818553086997713,
          2.596488311354527,
          2.8948724756538624,
          2.6357074877947837,
          2.7795224066824997,
          2.683533301755309,
          2.7084521489427247,
          2.740205539367342,
          2.5466191734370462,
          2.69640622793365
         ],
         "yaxis": "y"
        },
        {
         "line": {
          "color": "rgb(148, 103, 189)"
         },
         "showlegend": false,
         "spanmode": "hard",
         "type": "violin",
         "x0": 11,
         "xaxis": "x",
         "y": [
          2.7876058854162693,
          2.6935116052627563,
          2.9273881912231445,
          2.7527709007263184,
          2.7916450947523117,
          2.870525360107422,
          2.757406309247017,
          2.7211945056915283,
          2.5876379162073135,
          2.8762296885252
         ],
         "yaxis": "y"
        },
        {
         "line": {
          "color": "rgb(140, 86, 75)"
         },
         "showlegend": false,
         "spanmode": "hard",
         "type": "violin",
         "x0": 12,
         "xaxis": "x",
         "y": [
          2.8303655528893046,
          2.7057329729157202,
          2.933338485143881,
          2.719176243069536,
          2.7909837929622547,
          2.8592422448165378,
          2.7943757489971492,
          2.653372110014067,
          2.6100468190205883,
          2.8765171834400722
         ],
         "yaxis": "y"
        },
        {
         "line": {
          "color": "rgb(227, 119, 194)"
         },
         "showlegend": false,
         "spanmode": "hard",
         "type": "violin",
         "x0": 13,
         "xaxis": "x",
         "y": [
          2.789109152297026,
          2.703036140948781,
          2.93708687193526,
          2.7038515927431788,
          2.8307162005390816,
          2.8517527735736214,
          2.8221697433141286,
          2.6882172243005287,
          2.654919637963479,
          2.8164417744004
         ],
         "yaxis": "y"
        },
        {
         "line": {
          "color": "rgb(31, 119, 180)"
         },
         "showlegend": false,
         "spanmode": "hard",
         "type": "violin",
         "x0": 14,
         "xaxis": "x",
         "y": [
          2.0201785564422607,
          2.0653772354125977,
          2.125241279602051,
          2.067535638809204,
          2.012516736984253,
          2.0519652366638184,
          2.0728390216827393,
          2.074669122695923,
          1.9322149753570557,
          2.111086130142212
         ],
         "yaxis": "y"
        },
        {
         "marker": {
          "color": "rgb(203,213,232)",
          "size": 7,
          "symbol": "square"
         },
         "mode": "markers",
         "name": "MV",
         "type": "scatter",
         "x": [
          null
         ],
         "xaxis": "x",
         "y": [
          null
         ],
         "yaxis": "y"
        },
        {
         "line": {
          "color": "rgb(255, 127, 14)"
         },
         "showlegend": false,
         "spanmode": "hard",
         "type": "violin",
         "x0": 15,
         "xaxis": "x",
         "y": [
          3.0364301204681396,
          2.9787075519561768,
          3.051974058151245,
          2.803889751434326,
          3.0877151489257812,
          2.8337361812591553,
          2.8735711574554443,
          3.0157203674316406,
          2.791079044342041,
          2.9146552085876465
         ],
         "yaxis": "y"
        },
        {
         "line": {
          "color": "rgb(44, 160, 44)"
         },
         "showlegend": false,
         "spanmode": "hard",
         "type": "violin",
         "x0": 16,
         "xaxis": "x",
         "y": [
          2.6493747234344482,
          2.615522623062134,
          2.772667646408081,
          2.4966399669647217,
          2.799924373626709,
          2.5252413749694824,
          2.595900058746338,
          2.7364354133605957,
          2.379437208175659,
          2.5596182346343994
         ],
         "yaxis": "y"
        },
        {
         "line": {
          "color": "rgb(214, 39, 40)"
         },
         "showlegend": false,
         "spanmode": "hard",
         "type": "violin",
         "x0": 17,
         "xaxis": "x",
         "y": [
          2.5760180950164795,
          2.5485641956329346,
          2.7322256565093994,
          2.4639856815338135,
          2.7248663902282715,
          2.4511430263519287,
          2.5325427055358887,
          2.6705400943756104,
          2.313040256500244,
          2.506793260574341
         ],
         "yaxis": "y"
        },
        {
         "line": {
          "color": "rgb(148, 103, 189)"
         },
         "showlegend": false,
         "spanmode": "hard",
         "type": "violin",
         "x0": 18,
         "xaxis": "x",
         "y": [
          2.8542816638946533,
          2.9787075519561768,
          2.892747163772583,
          2.6056787967681885,
          3.20729923248291,
          2.774895191192627,
          2.7548630237579346,
          2.93034029006958,
          2.6637299060821533,
          2.792863368988037
         ],
         "yaxis": "y"
        },
        {
         "line": {
          "color": "rgb(140, 86, 75)"
         },
         "showlegend": false,
         "spanmode": "hard",
         "type": "violin",
         "x0": 19,
         "xaxis": "x",
         "y": [
          2.8559153079986572,
          2.9546256065368652,
          2.8929660320281982,
          2.611192226409912,
          3.176867723464966,
          2.818613052368164,
          2.726229667663574,
          2.9743523597717285,
          2.6273975372314453,
          2.77750301361084
         ],
         "yaxis": "y"
        },
        {
         "line": {
          "color": "rgb(227, 119, 194)"
         },
         "showlegend": false,
         "spanmode": "hard",
         "type": "violin",
         "x0": 20,
         "xaxis": "x",
         "y": [
          2.856379747390747,
          2.94990873336792,
          2.891145944595337,
          2.6140263080596924,
          3.1730175018310547,
          2.7916860580444336,
          2.725294828414917,
          2.982440948486328,
          2.6215858459472656,
          2.8028037548065186
         ],
         "yaxis": "y"
        },
        {
         "line": {
          "color": "rgb(31, 119, 180)"
         },
         "showlegend": false,
         "spanmode": "hard",
         "type": "violin",
         "x0": 21,
         "xaxis": "x",
         "y": [
          2.357372522354126,
          2.24908709526062,
          2.3219001293182373,
          2.325996160507202,
          2.3604514598846436,
          2.3173322677612305,
          2.2316761016845703,
          2.258084535598755,
          2.236435651779175,
          2.355044364929199
         ],
         "yaxis": "y"
        },
        {
         "marker": {
          "color": "rgb(244,202,228)",
          "size": 7,
          "symbol": "square"
         },
         "mode": "markers",
         "name": "MVE",
         "type": "scatter",
         "x": [
          null
         ],
         "xaxis": "x",
         "y": [
          null
         ],
         "yaxis": "y"
        },
        {
         "line": {
          "color": "rgb(255, 127, 14)"
         },
         "showlegend": false,
         "spanmode": "hard",
         "type": "violin",
         "x0": 22,
         "xaxis": "x",
         "y": [
          3.066343307495117,
          2.8767120838165283,
          3.0103654861450195,
          2.755826950073242,
          3.0329959392547607,
          2.8294293880462646,
          2.8362843990325928,
          2.988278388977051,
          2.76806378364563,
          2.854647397994995
         ],
         "yaxis": "y"
        },
        {
         "line": {
          "color": "rgb(44, 160, 44)"
         },
         "showlegend": false,
         "spanmode": "hard",
         "type": "violin",
         "x0": 23,
         "xaxis": "x",
         "y": [
          2.727006196975708,
          2.511627674102783,
          2.700697660446167,
          2.431448221206665,
          2.6863977909088135,
          2.5288712978363037,
          2.4620282649993896,
          2.681025266647339,
          2.3992345333099365,
          2.5284903049468994
         ],
         "yaxis": "y"
        },
        {
         "line": {
          "color": "rgb(214, 39, 40)"
         },
         "showlegend": false,
         "spanmode": "hard",
         "type": "violin",
         "x0": 24,
         "xaxis": "x",
         "y": [
          2.6955227851867676,
          2.481992483139038,
          2.659390687942505,
          2.4290263652801514,
          2.6705803871154785,
          2.50492000579834,
          2.433696985244751,
          2.635756015777588,
          2.3744728565216064,
          2.5004384517669678
         ],
         "yaxis": "y"
        },
        {
         "line": {
          "color": "rgb(148, 103, 189)"
         },
         "showlegend": false,
         "spanmode": "hard",
         "type": "violin",
         "x0": 25,
         "xaxis": "x",
         "y": [
          2.8441693782806396,
          2.7746777534484863,
          2.697660446166992,
          2.553023338317871,
          2.6970767974853516,
          2.675997734069824,
          2.513376474380493,
          2.758298397064209,
          2.537722110748291,
          2.6525323390960693
         ],
         "yaxis": "y"
        },
        {
         "line": {
          "color": "rgb(140, 86, 75)"
         },
         "showlegend": false,
         "spanmode": "hard",
         "type": "violin",
         "x0": 26,
         "xaxis": "x",
         "y": [
          2.8282079696655273,
          2.715860366821289,
          2.7077629566192627,
          2.5695242881774902,
          2.746561050415039,
          2.706604480743408,
          2.4792850017547607,
          2.825138568878174,
          2.476018190383911,
          2.5372872352600098
         ],
         "yaxis": "y"
        },
        {
         "line": {
          "color": "rgb(227, 119, 194)"
         },
         "showlegend": false,
         "spanmode": "hard",
         "type": "violin",
         "x0": 27,
         "xaxis": "x",
         "y": [
          2.829354763031006,
          2.729673147201538,
          2.7015910148620605,
          2.5666701793670654,
          2.7382760047912598,
          2.6868605613708496,
          2.4919302463531494,
          2.8214383125305176,
          2.4814860820770264,
          2.5448882579803467
         ],
         "yaxis": "y"
        },
        {
         "line": {
          "color": "rgb(31, 119, 180)"
         },
         "showlegend": false,
         "spanmode": "hard",
         "type": "violin",
         "x0": 0,
         "xaxis": "x2",
         "y": [
          2.4162986278533936,
          2.3349530696868896,
          2.3878791332244873,
          2.3076651096343994,
          2.3908064365386963,
          2.3888509273529053,
          2.342888116836548,
          2.3585927486419678,
          2.2592828273773193,
          2.2921316623687744
         ],
         "yaxis": "y2"
        },
        {
         "line": {
          "color": "rgb(255, 127, 14)"
         },
         "showlegend": false,
         "spanmode": "hard",
         "type": "violin",
         "x0": 1,
         "xaxis": "x2",
         "y": [
          3.153557538986206,
          2.89947772026062,
          3.038336753845215,
          2.8525593280792236,
          3.025372266769409,
          2.8583028316497803,
          2.8807058334350586,
          3.0564608573913574,
          2.795048713684082,
          2.947338104248047
         ],
         "yaxis": "y2"
        },
        {
         "line": {
          "color": "rgb(44, 160, 44)"
         },
         "showlegend": false,
         "spanmode": "hard",
         "type": "violin",
         "x0": 2,
         "xaxis": "x2",
         "y": [
          3.0688092708587646,
          2.8652732372283936,
          3.0217807292938232,
          2.828714609146118,
          3.0355329513549805,
          2.842069625854492,
          2.8381991386413574,
          2.961243152618408,
          2.773726224899292,
          2.892500400543213
         ],
         "yaxis": "y2"
        },
        {
         "line": {
          "color": "rgb(214, 39, 40)"
         },
         "showlegend": false,
         "spanmode": "hard",
         "type": "violin",
         "x0": 3,
         "xaxis": "x2",
         "y": [
          3.153979539871216,
          2.8729162216186523,
          3.0319631099700928,
          2.839146375656128,
          3.047961711883545,
          2.8573086261749268,
          2.8426876068115234,
          2.9752402305603027,
          2.7905802726745605,
          2.86395001411438
         ],
         "yaxis": "y2"
        },
        {
         "line": {
          "color": "rgb(148, 103, 189)"
         },
         "showlegend": false,
         "spanmode": "hard",
         "type": "violin",
         "x0": 4,
         "xaxis": "x2",
         "y": [
          3.2075600624084473,
          2.825255870819092,
          2.9709882736206055,
          2.8525593280792236,
          3.088792324066162,
          2.808831214904785,
          2.889094829559326,
          2.991201400756836,
          2.795048713684082,
          2.8518729209899902
         ],
         "yaxis": "y2"
        },
        {
         "line": {
          "color": "rgb(140, 86, 75)"
         },
         "showlegend": false,
         "spanmode": "hard",
         "type": "violin",
         "x0": 5,
         "xaxis": "x2",
         "y": [
          3.1601645946502686,
          2.7868947982788086,
          2.9418065547943115,
          2.851930856704712,
          3.0593066215515137,
          2.8303256034851074,
          2.922055244445801,
          2.9365639686584473,
          2.79854416847229,
          2.8027117252349854
         ],
         "yaxis": "y2"
        },
        {
         "line": {
          "color": "rgb(227, 119, 194)"
         },
         "showlegend": false,
         "spanmode": "hard",
         "type": "violin",
         "x0": 6,
         "xaxis": "x2",
         "y": [
          3.255077838897705,
          2.844212770462036,
          2.9293105602264404,
          2.8456621170043945,
          3.052873134613037,
          2.812229633331299,
          2.883683681488037,
          2.980389356613159,
          2.8303492069244385,
          2.8039052486419678
         ],
         "yaxis": "y2"
        },
        {
         "line": {
          "color": "rgb(31, 119, 180)"
         },
         "showlegend": false,
         "spanmode": "hard",
         "type": "violin",
         "x0": 7,
         "xaxis": "x2",
         "y": [
          3.1122758455820625,
          3.0863834254857565,
          3.057459740806077,
          3.078686548643487,
          3.1429546589429456,
          3.0785231277004055,
          3.024751813675282,
          3.0465590684661255,
          3.080107352051597,
          3.021503881723133
         ],
         "yaxis": "y2"
        },
        {
         "line": {
          "color": "rgb(255, 127, 14)"
         },
         "showlegend": false,
         "spanmode": "hard",
         "type": "violin",
         "x0": 8,
         "xaxis": "x2",
         "y": [
          3.0184794068336487,
          2.847674012184143,
          3.056888982653618,
          2.8149326145648956,
          3.007789060473442,
          2.9307109713554382,
          2.9865419194102287,
          2.972840428352356,
          2.751163601875305,
          3.002892881631851
         ],
         "yaxis": "y2"
        },
        {
         "line": {
          "color": "rgb(44, 160, 44)"
         },
         "showlegend": false,
         "spanmode": "hard",
         "type": "violin",
         "x0": 9,
         "xaxis": "x2",
         "y": [
          3.02354468403509,
          2.792389103415899,
          3.0447578974813228,
          2.799445366917682,
          2.9544999814695783,
          2.923026222708714,
          2.949431063212432,
          3.007935097174393,
          2.764464206001707,
          2.9130472124670264
         ],
         "yaxis": "y2"
        },
        {
         "line": {
          "color": "rgb(214, 39, 40)"
         },
         "showlegend": false,
         "spanmode": "hard",
         "type": "violin",
         "x0": 10,
         "xaxis": "x2",
         "y": [
          3.041815083092677,
          2.7796393003368562,
          3.096421220808483,
          2.83841796724498,
          2.9970037482386194,
          2.910096543914162,
          2.935357933626127,
          2.931225794742556,
          2.755394403773625,
          2.8987885700522766
         ],
         "yaxis": "y2"
        },
        {
         "line": {
          "color": "rgb(148, 103, 189)"
         },
         "showlegend": false,
         "spanmode": "hard",
         "type": "violin",
         "x0": 11,
         "xaxis": "x2",
         "y": [
          3.066804237663746,
          2.80766424536705,
          2.903127372264862,
          2.8097034692764282,
          2.997309982776642,
          2.9304254055023193,
          2.8628456592559814,
          3.0193116888403893,
          2.7666978240013123,
          2.8390436470508575
         ],
         "yaxis": "y2"
        },
        {
         "line": {
          "color": "rgb(140, 86, 75)"
         },
         "showlegend": false,
         "spanmode": "hard",
         "type": "violin",
         "x0": 12,
         "xaxis": "x2",
         "y": [
          3.037057057005671,
          2.823085257056646,
          2.9024379798024897,
          2.77742207056148,
          2.9780764795011945,
          2.9395023770361064,
          2.9172836079969735,
          3.076852562384353,
          2.8065965836262188,
          2.8515036047552345
         ],
         "yaxis": "y2"
        },
        {
         "line": {
          "color": "rgb(227, 119, 194)"
         },
         "showlegend": false,
         "spanmode": "hard",
         "type": "violin",
         "x0": 13,
         "xaxis": "x2",
         "y": [
          3.0579326303376217,
          2.832498943708103,
          2.9327830706490987,
          2.8119226163291975,
          2.9842980645412815,
          2.910096543914162,
          2.851675162123358,
          2.976740818694599,
          2.793332387512964,
          2.8486735795473903
         ],
         "yaxis": "y2"
        },
        {
         "line": {
          "color": "rgb(31, 119, 180)"
         },
         "showlegend": false,
         "spanmode": "hard",
         "type": "violin",
         "x0": 14,
         "xaxis": "x2",
         "y": [
          2.38232421875,
          2.3429019451141357,
          2.3890085220336914,
          2.379340171813965,
          2.334083080291748,
          2.404738664627075,
          2.338932752609253,
          2.3256545066833496,
          2.3635637760162354,
          2.4496243000030518
         ],
         "yaxis": "y2"
        },
        {
         "line": {
          "color": "rgb(255, 127, 14)"
         },
         "showlegend": false,
         "spanmode": "hard",
         "type": "violin",
         "x0": 15,
         "xaxis": "x2",
         "y": [
          3.0364301204681396,
          2.9787075519561768,
          3.051974058151245,
          2.803889751434326,
          3.0877151489257812,
          2.8337361812591553,
          2.8735711574554443,
          3.0157203674316406,
          2.791079044342041,
          2.9146552085876465
         ],
         "yaxis": "y2"
        },
        {
         "line": {
          "color": "rgb(44, 160, 44)"
         },
         "showlegend": false,
         "spanmode": "hard",
         "type": "violin",
         "x0": 16,
         "xaxis": "x2",
         "y": [
          3.0115201473236084,
          2.8930468559265137,
          3.03643536567688,
          2.8084442615509033,
          3.121490716934204,
          2.8780150413513184,
          2.8619937896728516,
          2.9874212741851807,
          2.810786008834839,
          2.89815616607666
         ],
         "yaxis": "y2"
        },
        {
         "line": {
          "color": "rgb(214, 39, 40)"
         },
         "showlegend": false,
         "spanmode": "hard",
         "type": "violin",
         "x0": 17,
         "xaxis": "x2",
         "y": [
          3.0378053188323975,
          2.891014575958252,
          3.071326971054077,
          2.8355791568756104,
          3.16025447845459,
          2.8725433349609375,
          2.857649326324463,
          2.9936115741729736,
          2.829404592514038,
          2.908787250518799
         ],
         "yaxis": "y2"
        },
        {
         "line": {
          "color": "rgb(148, 103, 189)"
         },
         "showlegend": false,
         "spanmode": "hard",
         "type": "violin",
         "x0": 18,
         "xaxis": "x2",
         "y": [
          2.9824092388153076,
          3.0383782386779785,
          2.998504877090454,
          2.8469631671905518,
          2.927581787109375,
          2.8355777263641357,
          2.861048698425293,
          2.951808214187622,
          2.8545448780059814,
          2.8622870445251465
         ],
         "yaxis": "y2"
        },
        {
         "line": {
          "color": "rgb(140, 86, 75)"
         },
         "showlegend": false,
         "spanmode": "hard",
         "type": "violin",
         "x0": 19,
         "xaxis": "x2",
         "y": [
          2.982893466949463,
          3.0288286209106445,
          2.997408151626587,
          2.873218059539795,
          2.9077036380767822,
          2.817673921585083,
          2.882983684539795,
          2.9376649856567383,
          2.85017728805542,
          2.880091428756714
         ],
         "yaxis": "y2"
        },
        {
         "line": {
          "color": "rgb(227, 119, 194)"
         },
         "showlegend": false,
         "spanmode": "hard",
         "type": "violin",
         "x0": 20,
         "xaxis": "x2",
         "y": [
          2.9979805946350098,
          3.026242256164551,
          3.0043869018554688,
          2.8770179748535156,
          2.901890516281128,
          2.822248935699463,
          2.8761751651763916,
          2.9368653297424316,
          2.823456287384033,
          2.882652997970581
         ],
         "yaxis": "y2"
        },
        {
         "line": {
          "color": "rgb(31, 119, 180)"
         },
         "showlegend": false,
         "spanmode": "hard",
         "type": "violin",
         "x0": 21,
         "xaxis": "x2",
         "y": [
          2.628836154937744,
          2.556999444961548,
          2.577176809310913,
          2.644834041595459,
          2.6716389656066895,
          2.647324323654175,
          2.5569865703582764,
          2.5577263832092285,
          2.591099500656128,
          2.6354117393493652
         ],
         "yaxis": "y2"
        },
        {
         "line": {
          "color": "rgb(255, 127, 14)"
         },
         "showlegend": false,
         "spanmode": "hard",
         "type": "violin",
         "x0": 22,
         "xaxis": "x2",
         "y": [
          3.066343307495117,
          2.8767120838165283,
          3.0103654861450195,
          2.755826950073242,
          3.0329959392547607,
          2.8294293880462646,
          2.8362843990325928,
          2.988278388977051,
          2.76806378364563,
          2.854647397994995
         ],
         "yaxis": "y2"
        },
        {
         "line": {
          "color": "rgb(44, 160, 44)"
         },
         "showlegend": false,
         "spanmode": "hard",
         "type": "violin",
         "x0": 23,
         "xaxis": "x2",
         "y": [
          2.9984703063964844,
          2.819540500640869,
          2.9559738636016846,
          2.75028657913208,
          2.9975852966308594,
          2.858863353729248,
          2.787338972091675,
          2.9806671142578125,
          2.7538986206054688,
          2.8088576793670654
         ],
         "yaxis": "y2"
        },
        {
         "line": {
          "color": "rgb(214, 39, 40)"
         },
         "showlegend": false,
         "spanmode": "hard",
         "type": "violin",
         "x0": 24,
         "xaxis": "x2",
         "y": [
          3.0059268474578857,
          2.821791410446167,
          2.9517719745635986,
          2.7619869709014893,
          3.0226528644561768,
          2.8616249561309814,
          2.788456439971924,
          2.985513687133789,
          2.7510271072387695,
          2.798114776611328
         ],
         "yaxis": "y2"
        },
        {
         "line": {
          "color": "rgb(148, 103, 189)"
         },
         "showlegend": false,
         "spanmode": "hard",
         "type": "violin",
         "x0": 25,
         "xaxis": "x2",
         "y": [
          2.956479549407959,
          2.9031436443328857,
          3.0217535495758057,
          2.7441530227661133,
          3.1609408855438232,
          2.7591757774353027,
          2.867056369781494,
          3.0380403995513916,
          2.751244306564331,
          2.9033737182617188
         ],
         "yaxis": "y2"
        },
        {
         "line": {
          "color": "rgb(140, 86, 75)"
         },
         "showlegend": false,
         "spanmode": "hard",
         "type": "violin",
         "x0": 26,
         "xaxis": "x2",
         "y": [
          2.920865774154663,
          2.9425625801086426,
          3.0379106998443604,
          2.774174451828003,
          3.1955299377441406,
          2.7487080097198486,
          2.876328706741333,
          3.0794808864593506,
          2.7607595920562744,
          2.905461311340332
         ],
         "yaxis": "y2"
        },
        {
         "line": {
          "color": "rgb(227, 119, 194)"
         },
         "showlegend": false,
         "spanmode": "hard",
         "type": "violin",
         "x0": 27,
         "xaxis": "x2",
         "y": [
          2.93288254737854,
          2.9347658157348633,
          3.0349199771881104,
          2.7728607654571533,
          3.2059197425842285,
          2.7483084201812744,
          2.8799428939819336,
          3.0918843746185303,
          2.7544376850128174,
          2.9060022830963135
         ],
         "yaxis": "y2"
        },
        {
         "line": {
          "color": "rgb(31, 119, 180)"
         },
         "showlegend": false,
         "spanmode": "hard",
         "type": "violin",
         "x0": 0,
         "xaxis": "x3",
         "y": [
          2.8048617839813232,
          2.6705331802368164,
          2.7027435302734375,
          2.6850485801696777,
          2.7634670734405518,
          2.6946256160736084,
          2.6877052783966064,
          2.6877377033233643,
          2.600282669067383,
          2.6616268157958984
         ],
         "yaxis": "y3"
        },
        {
         "line": {
          "color": "rgb(255, 127, 14)"
         },
         "showlegend": false,
         "spanmode": "hard",
         "type": "violin",
         "x0": 1,
         "xaxis": "x3",
         "y": [
          3.153557538986206,
          2.89947772026062,
          3.038336753845215,
          2.8525593280792236,
          3.025372266769409,
          2.8583028316497803,
          2.8807058334350586,
          3.0564608573913574,
          2.795048713684082,
          2.947338104248047
         ],
         "yaxis": "y3"
        },
        {
         "line": {
          "color": "rgb(44, 160, 44)"
         },
         "showlegend": false,
         "spanmode": "hard",
         "type": "violin",
         "x0": 2,
         "xaxis": "x3",
         "y": [
          3.3815410137176514,
          3.151249647140503,
          3.2740890979766846,
          3.040172576904297,
          3.287099599838257,
          3.0703415870666504,
          3.0866405963897705,
          3.248176097869873,
          3.036133289337158,
          3.1735832691192627
         ],
         "yaxis": "y3"
        },
        {
         "line": {
          "color": "rgb(214, 39, 40)"
         },
         "showlegend": false,
         "spanmode": "hard",
         "type": "violin",
         "x0": 3,
         "xaxis": "x3",
         "y": [
          3.690051555633545,
          3.3230466842651367,
          3.450233221054077,
          3.1779820919036865,
          3.4709746837615967,
          3.2166082859039307,
          3.246044397354126,
          3.4515273571014404,
          3.2004759311676025,
          3.3097100257873535
         ],
         "yaxis": "y3"
        },
        {
         "line": {
          "color": "rgb(148, 103, 189)"
         },
         "showlegend": false,
         "spanmode": "hard",
         "type": "violin",
         "x0": 4,
         "xaxis": "x3",
         "y": [
          3.579808235168457,
          3.050767183303833,
          3.2073593139648438,
          3.0409011840820312,
          3.236598491668701,
          3.0686583518981934,
          3.06533145904541,
          3.2041494846343994,
          3.0018680095672607,
          3.161189317703247
         ],
         "yaxis": "y3"
        },
        {
         "line": {
          "color": "rgb(140, 86, 75)"
         },
         "showlegend": false,
         "spanmode": "hard",
         "type": "violin",
         "x0": 5,
         "xaxis": "x3",
         "y": [
          3.53666353225708,
          3.0051798820495605,
          3.2310667037963867,
          3.0190224647521973,
          3.205803632736206,
          3.079702377319336,
          3.0447492599487305,
          3.2225239276885986,
          3.102489471435547,
          3.247464179992676
         ],
         "yaxis": "y3"
        },
        {
         "line": {
          "color": "rgb(227, 119, 194)"
         },
         "showlegend": false,
         "spanmode": "hard",
         "type": "violin",
         "x0": 6,
         "xaxis": "x3",
         "y": [
          3.4803225994110107,
          3.0616233348846436,
          3.2910265922546387,
          3.020132303237915,
          3.1492514610290527,
          3.0765392780303955,
          3.0877177715301514,
          3.2509734630584717,
          3.0848536491394043,
          3.1990113258361816
         ],
         "yaxis": "y3"
        },
        {
         "line": {
          "color": "rgb(31, 119, 180)"
         },
         "showlegend": false,
         "spanmode": "hard",
         "type": "violin",
         "x0": 7,
         "xaxis": "x3",
         "y": [
          3.361804076259055,
          3.333412065256152,
          3.2883253186485453,
          3.3373195569376524,
          3.3790878511991234,
          3.303902830303826,
          3.3097742671651,
          3.2699491006753787,
          3.3524987265877013,
          3.306293537199325
         ],
         "yaxis": "y3"
        },
        {
         "line": {
          "color": "rgb(255, 127, 14)"
         },
         "showlegend": false,
         "spanmode": "hard",
         "type": "violin",
         "x0": 8,
         "xaxis": "x3",
         "y": [
          3.0184794068336487,
          2.847674012184143,
          3.056888982653618,
          2.8149326145648956,
          3.007789060473442,
          2.9307109713554382,
          2.9865419194102287,
          2.972840428352356,
          2.751163601875305,
          3.002892881631851
         ],
         "yaxis": "y3"
        },
        {
         "line": {
          "color": "rgb(44, 160, 44)"
         },
         "showlegend": false,
         "spanmode": "hard",
         "type": "violin",
         "x0": 9,
         "xaxis": "x3",
         "y": [
          3.224213588371606,
          2.9886960303895527,
          3.2226062933108675,
          2.9938540331545593,
          3.1383318617608813,
          3.122824948882913,
          3.1658231824451355,
          3.179760453363321,
          2.978003999407731,
          3.122039658132472
         ],
         "yaxis": "y3"
        },
        {
         "line": {
          "color": "rgb(214, 39, 40)"
         },
         "showlegend": false,
         "spanmode": "hard",
         "type": "violin",
         "x0": 10,
         "xaxis": "x3",
         "y": [
          3.298291923491522,
          3.009738630363346,
          3.3288758234658467,
          3.0704064835667024,
          3.2240084598611607,
          3.1544107580229612,
          3.2096193637012984,
          3.1424236963344985,
          3.0052695770536073,
          3.156492225472994
         ],
         "yaxis": "y3"
        },
        {
         "line": {
          "color": "rgb(148, 103, 189)"
         },
         "showlegend": false,
         "spanmode": "hard",
         "type": "violin",
         "x0": 11,
         "xaxis": "x3",
         "y": [
          3.404628872871399,
          3.0150784254074097,
          3.3468449413776398,
          3.040640849620104,
          3.270653009414673,
          2.988270103931427,
          3.2100110352039337,
          3.1724478602409363,
          2.9800007343292236,
          3.184327781200409
         ],
         "yaxis": "y3"
        },
        {
         "line": {
          "color": "rgb(140, 86, 75)"
         },
         "showlegend": false,
         "spanmode": "hard",
         "type": "violin",
         "x0": 12,
         "xaxis": "x3",
         "y": [
          3.3228835941699457,
          2.935007265817409,
          3.391283146490799,
          2.992665278119159,
          3.1383318617608813,
          2.9275272308348175,
          3.2433313935809998,
          3.259257194658182,
          2.978003999407731,
          3.1496358934077406
         ],
         "yaxis": "y3"
        },
        {
         "line": {
          "color": "rgb(227, 119, 194)"
         },
         "showlegend": false,
         "spanmode": "hard",
         "type": "violin",
         "x0": 13,
         "xaxis": "x3",
         "y": [
          3.3918697661589423,
          2.961984325137008,
          3.3924649859143763,
          3.022532904202731,
          3.19316726897245,
          2.9526877519072756,
          3.202718798252284,
          3.1613837907707376,
          2.964769891721683,
          3.1530139634911007
         ],
         "yaxis": "y3"
        },
        {
         "line": {
          "color": "rgb(31, 119, 180)"
         },
         "showlegend": false,
         "spanmode": "hard",
         "type": "violin",
         "x0": 14,
         "xaxis": "x3",
         "y": [
          2.9007577896118164,
          2.7592639923095703,
          2.7394862174987793,
          2.774789810180664,
          2.7259628772735596,
          2.8236453533172607,
          2.7535972595214844,
          2.693901300430298,
          2.8581058979034424,
          2.8633370399475098
         ],
         "yaxis": "y3"
        },
        {
         "line": {
          "color": "rgb(255, 127, 14)"
         },
         "showlegend": false,
         "spanmode": "hard",
         "type": "violin",
         "x0": 15,
         "xaxis": "x3",
         "y": [
          3.0364301204681396,
          2.9787075519561768,
          3.051974058151245,
          2.803889751434326,
          3.0877151489257812,
          2.8337361812591553,
          2.8735711574554443,
          3.0157203674316406,
          2.791079044342041,
          2.9146552085876465
         ],
         "yaxis": "y3"
        },
        {
         "line": {
          "color": "rgb(44, 160, 44)"
         },
         "showlegend": false,
         "spanmode": "hard",
         "type": "violin",
         "x0": 16,
         "xaxis": "x3",
         "y": [
          3.529954195022583,
          3.3094093799591064,
          3.3869125843048096,
          3.2038941383361816,
          3.5133700370788574,
          3.296921730041504,
          3.276658058166504,
          3.355668067932129,
          3.305328369140625,
          3.311868667602539
         ],
         "yaxis": "y3"
        },
        {
         "line": {
          "color": "rgb(214, 39, 40)"
         },
         "showlegend": false,
         "spanmode": "hard",
         "type": "violin",
         "x0": 17,
         "xaxis": "x3",
         "y": [
          3.698883056640625,
          3.40478253364563,
          3.5219032764434814,
          3.306856393814087,
          3.6908435821533203,
          3.3729419708251953,
          3.3642756938934326,
          3.467622995376587,
          3.421417236328125,
          3.400047540664673
         ],
         "yaxis": "y3"
        },
        {
         "line": {
          "color": "rgb(148, 103, 189)"
         },
         "showlegend": false,
         "spanmode": "hard",
         "type": "violin",
         "x0": 18,
         "xaxis": "x3",
         "y": [
          3.3849947452545166,
          2.9482645988464355,
          3.2338197231292725,
          2.937155246734619,
          3.154057264328003,
          2.9598875045776367,
          3.07655668258667,
          3.2762022018432617,
          2.9616570472717285,
          3.0940752029418945
         ],
         "yaxis": "y3"
        },
        {
         "line": {
          "color": "rgb(140, 86, 75)"
         },
         "showlegend": false,
         "spanmode": "hard",
         "type": "violin",
         "x0": 19,
         "xaxis": "x3",
         "y": [
          3.373643159866333,
          2.928659439086914,
          3.2787599563598633,
          2.9792063236236572,
          3.054736614227295,
          3.0246596336364746,
          3.0741822719573975,
          3.2433435916900635,
          2.9381232261657715,
          3.0936763286590576
         ],
         "yaxis": "y3"
        },
        {
         "line": {
          "color": "rgb(227, 119, 194)"
         },
         "showlegend": false,
         "spanmode": "hard",
         "type": "violin",
         "x0": 20,
         "xaxis": "x3",
         "y": [
          3.3159568309783936,
          2.9443724155426025,
          3.2813987731933594,
          2.966290235519409,
          3.03505277633667,
          3.0354456901550293,
          3.092419147491455,
          3.2319753170013428,
          2.9425063133239746,
          3.1028807163238525
         ],
         "yaxis": "y3"
        },
        {
         "line": {
          "color": "rgb(31, 119, 180)"
         },
         "showlegend": false,
         "spanmode": "hard",
         "type": "violin",
         "x0": 21,
         "xaxis": "x3",
         "y": [
          3.115638256072998,
          3.0116422176361084,
          3.0263397693634033,
          3.0287678241729736,
          3.103933811187744,
          2.955528974533081,
          3.03341007232666,
          3.02600359916687,
          3.0621938705444336,
          3.0479469299316406
         ],
         "yaxis": "y3"
        },
        {
         "line": {
          "color": "rgb(255, 127, 14)"
         },
         "showlegend": false,
         "spanmode": "hard",
         "type": "violin",
         "x0": 22,
         "xaxis": "x3",
         "y": [
          3.066343307495117,
          2.8767120838165283,
          3.0103654861450195,
          2.755826950073242,
          3.0329959392547607,
          2.8294293880462646,
          2.8362843990325928,
          2.988278388977051,
          2.76806378364563,
          2.854647397994995
         ],
         "yaxis": "y3"
        },
        {
         "line": {
          "color": "rgb(44, 160, 44)"
         },
         "showlegend": false,
         "spanmode": "hard",
         "type": "violin",
         "x0": 23,
         "xaxis": "x3",
         "y": [
          3.48527193069458,
          3.2741832733154297,
          3.4051365852355957,
          3.134220600128174,
          3.429880380630493,
          3.1670682430267334,
          3.2637624740600586,
          3.448944091796875,
          3.2249929904937744,
          3.2213926315307617
         ],
         "yaxis": "y3"
        },
        {
         "line": {
          "color": "rgb(214, 39, 40)"
         },
         "showlegend": false,
         "spanmode": "hard",
         "type": "violin",
         "x0": 24,
         "xaxis": "x3",
         "y": [
          3.5625572204589844,
          3.323514699935913,
          3.4662206172943115,
          3.1629273891448975,
          3.5117456912994385,
          3.1947786808013916,
          3.3080079555511475,
          3.532111167907715,
          3.2511985301971436,
          3.236119031906128
         ],
         "yaxis": "y3"
        },
        {
         "line": {
          "color": "rgb(148, 103, 189)"
         },
         "showlegend": false,
         "spanmode": "hard",
         "type": "violin",
         "x0": 25,
         "xaxis": "x3",
         "y": [
          3.4876604080200195,
          2.9756979942321777,
          3.345919132232666,
          2.9723944664001465,
          3.1685760021209717,
          3.2482972145080566,
          3.0548887252807617,
          3.196852445602417,
          3.0303187370300293,
          3.104870319366455
         ],
         "yaxis": "y3"
        },
        {
         "line": {
          "color": "rgb(140, 86, 75)"
         },
         "showlegend": false,
         "spanmode": "hard",
         "type": "violin",
         "x0": 26,
         "xaxis": "x3",
         "y": [
          3.4436681270599365,
          2.930137872695923,
          3.367300033569336,
          3.0093271732330322,
          3.1622817516326904,
          3.216707944869995,
          3.0666184425354004,
          3.1570167541503906,
          3.094820499420166,
          3.0788800716400146
         ],
         "yaxis": "y3"
        },
        {
         "line": {
          "color": "rgb(227, 119, 194)"
         },
         "showlegend": false,
         "spanmode": "hard",
         "type": "violin",
         "x0": 27,
         "xaxis": "x3",
         "y": [
          3.441603422164917,
          2.932708978652954,
          3.3928630352020264,
          3.0083303451538086,
          3.15907883644104,
          3.224561929702759,
          3.0680601596832275,
          3.162618398666382,
          3.0976974964141846,
          3.0791451930999756
         ],
         "yaxis": "y3"
        }
       ],
       "layout": {
        "annotations": [
         {
          "font": {
           "size": 16
          },
          "showarrow": false,
          "text": "Low variance",
          "x": 0.5,
          "xanchor": "center",
          "xref": "paper",
          "y": 1,
          "yanchor": "bottom",
          "yref": "paper"
         },
         {
          "font": {
           "size": 16
          },
          "showarrow": false,
          "text": "Medium variance",
          "x": 0.5,
          "xanchor": "center",
          "xref": "paper",
          "y": 0.6111111111111112,
          "yanchor": "bottom",
          "yref": "paper"
         },
         {
          "font": {
           "size": 16
          },
          "showarrow": false,
          "text": "High variance",
          "x": 0.5,
          "xanchor": "center",
          "xref": "paper",
          "y": 0.22222222222222224,
          "yanchor": "bottom",
          "yref": "paper"
         }
        ],
        "margin": {
         "b": 0,
         "l": 0,
         "r": 0,
         "t": 70
        },
        "shapes": [
         {
          "fillcolor": "rgb(179,226,205)",
          "layer": "below",
          "line": {
           "width": 0
          },
          "opacity": 0.5,
          "type": "rect",
          "x0": -0.5,
          "x1": 6.5,
          "xref": "x",
          "y0": 0,
          "y1": 1,
          "yref": "y domain"
         },
         {
          "fillcolor": "rgb(253,205,172)",
          "layer": "below",
          "line": {
           "width": 0
          },
          "opacity": 0.5,
          "type": "rect",
          "x0": 6.5,
          "x1": 13.5,
          "xref": "x",
          "y0": 0,
          "y1": 1,
          "yref": "y domain"
         },
         {
          "fillcolor": "rgb(203,213,232)",
          "layer": "below",
          "line": {
           "width": 0
          },
          "opacity": 0.5,
          "type": "rect",
          "x0": 13.5,
          "x1": 20.5,
          "xref": "x",
          "y0": 0,
          "y1": 1,
          "yref": "y domain"
         },
         {
          "fillcolor": "rgb(244,202,228)",
          "layer": "below",
          "line": {
           "width": 0
          },
          "opacity": 0.5,
          "type": "rect",
          "x0": 20.5,
          "x1": 27.5,
          "xref": "x",
          "y0": 0,
          "y1": 1,
          "yref": "y domain"
         },
         {
          "fillcolor": "rgb(179,226,205)",
          "layer": "below",
          "line": {
           "width": 0
          },
          "opacity": 0.5,
          "type": "rect",
          "x0": -0.5,
          "x1": 6.5,
          "xref": "x2",
          "y0": 0,
          "y1": 1,
          "yref": "y2 domain"
         },
         {
          "fillcolor": "rgb(253,205,172)",
          "layer": "below",
          "line": {
           "width": 0
          },
          "opacity": 0.5,
          "type": "rect",
          "x0": 6.5,
          "x1": 13.5,
          "xref": "x2",
          "y0": 0,
          "y1": 1,
          "yref": "y2 domain"
         },
         {
          "fillcolor": "rgb(203,213,232)",
          "layer": "below",
          "line": {
           "width": 0
          },
          "opacity": 0.5,
          "type": "rect",
          "x0": 13.5,
          "x1": 20.5,
          "xref": "x2",
          "y0": 0,
          "y1": 1,
          "yref": "y2 domain"
         },
         {
          "fillcolor": "rgb(244,202,228)",
          "layer": "below",
          "line": {
           "width": 0
          },
          "opacity": 0.5,
          "type": "rect",
          "x0": 20.5,
          "x1": 27.5,
          "xref": "x2",
          "y0": 0,
          "y1": 1,
          "yref": "y2 domain"
         },
         {
          "fillcolor": "rgb(179,226,205)",
          "layer": "below",
          "line": {
           "width": 0
          },
          "opacity": 0.5,
          "type": "rect",
          "x0": -0.5,
          "x1": 6.5,
          "xref": "x3",
          "y0": 0,
          "y1": 1,
          "yref": "y3 domain"
         },
         {
          "fillcolor": "rgb(253,205,172)",
          "layer": "below",
          "line": {
           "width": 0
          },
          "opacity": 0.5,
          "type": "rect",
          "x0": 6.5,
          "x1": 13.5,
          "xref": "x3",
          "y0": 0,
          "y1": 1,
          "yref": "y3 domain"
         },
         {
          "fillcolor": "rgb(203,213,232)",
          "layer": "below",
          "line": {
           "width": 0
          },
          "opacity": 0.5,
          "type": "rect",
          "x0": 13.5,
          "x1": 20.5,
          "xref": "x3",
          "y0": 0,
          "y1": 1,
          "yref": "y3 domain"
         },
         {
          "fillcolor": "rgb(244,202,228)",
          "layer": "below",
          "line": {
           "width": 0
          },
          "opacity": 0.5,
          "type": "rect",
          "x0": 20.5,
          "x1": 27.5,
          "xref": "x3",
          "y0": 0,
          "y1": 1,
          "yref": "y3 domain"
         }
        ],
        "template": {
         "data": {
          "bar": [
           {
            "error_x": {
             "color": "#2a3f5f"
            },
            "error_y": {
             "color": "#2a3f5f"
            },
            "marker": {
             "line": {
              "color": "#E5ECF6",
              "width": 0.5
             },
             "pattern": {
              "fillmode": "overlay",
              "size": 10,
              "solidity": 0.2
             }
            },
            "type": "bar"
           }
          ],
          "barpolar": [
           {
            "marker": {
             "line": {
              "color": "#E5ECF6",
              "width": 0.5
             },
             "pattern": {
              "fillmode": "overlay",
              "size": 10,
              "solidity": 0.2
             }
            },
            "type": "barpolar"
           }
          ],
          "carpet": [
           {
            "aaxis": {
             "endlinecolor": "#2a3f5f",
             "gridcolor": "white",
             "linecolor": "white",
             "minorgridcolor": "white",
             "startlinecolor": "#2a3f5f"
            },
            "baxis": {
             "endlinecolor": "#2a3f5f",
             "gridcolor": "white",
             "linecolor": "white",
             "minorgridcolor": "white",
             "startlinecolor": "#2a3f5f"
            },
            "type": "carpet"
           }
          ],
          "choropleth": [
           {
            "colorbar": {
             "outlinewidth": 0,
             "ticks": ""
            },
            "type": "choropleth"
           }
          ],
          "contour": [
           {
            "colorbar": {
             "outlinewidth": 0,
             "ticks": ""
            },
            "colorscale": [
             [
              0,
              "#0d0887"
             ],
             [
              0.1111111111111111,
              "#46039f"
             ],
             [
              0.2222222222222222,
              "#7201a8"
             ],
             [
              0.3333333333333333,
              "#9c179e"
             ],
             [
              0.4444444444444444,
              "#bd3786"
             ],
             [
              0.5555555555555556,
              "#d8576b"
             ],
             [
              0.6666666666666666,
              "#ed7953"
             ],
             [
              0.7777777777777778,
              "#fb9f3a"
             ],
             [
              0.8888888888888888,
              "#fdca26"
             ],
             [
              1,
              "#f0f921"
             ]
            ],
            "type": "contour"
           }
          ],
          "contourcarpet": [
           {
            "colorbar": {
             "outlinewidth": 0,
             "ticks": ""
            },
            "type": "contourcarpet"
           }
          ],
          "heatmap": [
           {
            "colorbar": {
             "outlinewidth": 0,
             "ticks": ""
            },
            "colorscale": [
             [
              0,
              "#0d0887"
             ],
             [
              0.1111111111111111,
              "#46039f"
             ],
             [
              0.2222222222222222,
              "#7201a8"
             ],
             [
              0.3333333333333333,
              "#9c179e"
             ],
             [
              0.4444444444444444,
              "#bd3786"
             ],
             [
              0.5555555555555556,
              "#d8576b"
             ],
             [
              0.6666666666666666,
              "#ed7953"
             ],
             [
              0.7777777777777778,
              "#fb9f3a"
             ],
             [
              0.8888888888888888,
              "#fdca26"
             ],
             [
              1,
              "#f0f921"
             ]
            ],
            "type": "heatmap"
           }
          ],
          "heatmapgl": [
           {
            "colorbar": {
             "outlinewidth": 0,
             "ticks": ""
            },
            "colorscale": [
             [
              0,
              "#0d0887"
             ],
             [
              0.1111111111111111,
              "#46039f"
             ],
             [
              0.2222222222222222,
              "#7201a8"
             ],
             [
              0.3333333333333333,
              "#9c179e"
             ],
             [
              0.4444444444444444,
              "#bd3786"
             ],
             [
              0.5555555555555556,
              "#d8576b"
             ],
             [
              0.6666666666666666,
              "#ed7953"
             ],
             [
              0.7777777777777778,
              "#fb9f3a"
             ],
             [
              0.8888888888888888,
              "#fdca26"
             ],
             [
              1,
              "#f0f921"
             ]
            ],
            "type": "heatmapgl"
           }
          ],
          "histogram": [
           {
            "marker": {
             "pattern": {
              "fillmode": "overlay",
              "size": 10,
              "solidity": 0.2
             }
            },
            "type": "histogram"
           }
          ],
          "histogram2d": [
           {
            "colorbar": {
             "outlinewidth": 0,
             "ticks": ""
            },
            "colorscale": [
             [
              0,
              "#0d0887"
             ],
             [
              0.1111111111111111,
              "#46039f"
             ],
             [
              0.2222222222222222,
              "#7201a8"
             ],
             [
              0.3333333333333333,
              "#9c179e"
             ],
             [
              0.4444444444444444,
              "#bd3786"
             ],
             [
              0.5555555555555556,
              "#d8576b"
             ],
             [
              0.6666666666666666,
              "#ed7953"
             ],
             [
              0.7777777777777778,
              "#fb9f3a"
             ],
             [
              0.8888888888888888,
              "#fdca26"
             ],
             [
              1,
              "#f0f921"
             ]
            ],
            "type": "histogram2d"
           }
          ],
          "histogram2dcontour": [
           {
            "colorbar": {
             "outlinewidth": 0,
             "ticks": ""
            },
            "colorscale": [
             [
              0,
              "#0d0887"
             ],
             [
              0.1111111111111111,
              "#46039f"
             ],
             [
              0.2222222222222222,
              "#7201a8"
             ],
             [
              0.3333333333333333,
              "#9c179e"
             ],
             [
              0.4444444444444444,
              "#bd3786"
             ],
             [
              0.5555555555555556,
              "#d8576b"
             ],
             [
              0.6666666666666666,
              "#ed7953"
             ],
             [
              0.7777777777777778,
              "#fb9f3a"
             ],
             [
              0.8888888888888888,
              "#fdca26"
             ],
             [
              1,
              "#f0f921"
             ]
            ],
            "type": "histogram2dcontour"
           }
          ],
          "mesh3d": [
           {
            "colorbar": {
             "outlinewidth": 0,
             "ticks": ""
            },
            "type": "mesh3d"
           }
          ],
          "parcoords": [
           {
            "line": {
             "colorbar": {
              "outlinewidth": 0,
              "ticks": ""
             }
            },
            "type": "parcoords"
           }
          ],
          "pie": [
           {
            "automargin": true,
            "type": "pie"
           }
          ],
          "scatter": [
           {
            "fillpattern": {
             "fillmode": "overlay",
             "size": 10,
             "solidity": 0.2
            },
            "type": "scatter"
           }
          ],
          "scatter3d": [
           {
            "line": {
             "colorbar": {
              "outlinewidth": 0,
              "ticks": ""
             }
            },
            "marker": {
             "colorbar": {
              "outlinewidth": 0,
              "ticks": ""
             }
            },
            "type": "scatter3d"
           }
          ],
          "scattercarpet": [
           {
            "marker": {
             "colorbar": {
              "outlinewidth": 0,
              "ticks": ""
             }
            },
            "type": "scattercarpet"
           }
          ],
          "scattergeo": [
           {
            "marker": {
             "colorbar": {
              "outlinewidth": 0,
              "ticks": ""
             }
            },
            "type": "scattergeo"
           }
          ],
          "scattergl": [
           {
            "marker": {
             "colorbar": {
              "outlinewidth": 0,
              "ticks": ""
             }
            },
            "type": "scattergl"
           }
          ],
          "scattermapbox": [
           {
            "marker": {
             "colorbar": {
              "outlinewidth": 0,
              "ticks": ""
             }
            },
            "type": "scattermapbox"
           }
          ],
          "scatterpolar": [
           {
            "marker": {
             "colorbar": {
              "outlinewidth": 0,
              "ticks": ""
             }
            },
            "type": "scatterpolar"
           }
          ],
          "scatterpolargl": [
           {
            "marker": {
             "colorbar": {
              "outlinewidth": 0,
              "ticks": ""
             }
            },
            "type": "scatterpolargl"
           }
          ],
          "scatterternary": [
           {
            "marker": {
             "colorbar": {
              "outlinewidth": 0,
              "ticks": ""
             }
            },
            "type": "scatterternary"
           }
          ],
          "surface": [
           {
            "colorbar": {
             "outlinewidth": 0,
             "ticks": ""
            },
            "colorscale": [
             [
              0,
              "#0d0887"
             ],
             [
              0.1111111111111111,
              "#46039f"
             ],
             [
              0.2222222222222222,
              "#7201a8"
             ],
             [
              0.3333333333333333,
              "#9c179e"
             ],
             [
              0.4444444444444444,
              "#bd3786"
             ],
             [
              0.5555555555555556,
              "#d8576b"
             ],
             [
              0.6666666666666666,
              "#ed7953"
             ],
             [
              0.7777777777777778,
              "#fb9f3a"
             ],
             [
              0.8888888888888888,
              "#fdca26"
             ],
             [
              1,
              "#f0f921"
             ]
            ],
            "type": "surface"
           }
          ],
          "table": [
           {
            "cells": {
             "fill": {
              "color": "#EBF0F8"
             },
             "line": {
              "color": "white"
             }
            },
            "header": {
             "fill": {
              "color": "#C8D4E3"
             },
             "line": {
              "color": "white"
             }
            },
            "type": "table"
           }
          ]
         },
         "layout": {
          "annotationdefaults": {
           "arrowcolor": "#2a3f5f",
           "arrowhead": 0,
           "arrowwidth": 1
          },
          "autotypenumbers": "strict",
          "coloraxis": {
           "colorbar": {
            "outlinewidth": 0,
            "ticks": ""
           }
          },
          "colorscale": {
           "diverging": [
            [
             0,
             "#8e0152"
            ],
            [
             0.1,
             "#c51b7d"
            ],
            [
             0.2,
             "#de77ae"
            ],
            [
             0.3,
             "#f1b6da"
            ],
            [
             0.4,
             "#fde0ef"
            ],
            [
             0.5,
             "#f7f7f7"
            ],
            [
             0.6,
             "#e6f5d0"
            ],
            [
             0.7,
             "#b8e186"
            ],
            [
             0.8,
             "#7fbc41"
            ],
            [
             0.9,
             "#4d9221"
            ],
            [
             1,
             "#276419"
            ]
           ],
           "sequential": [
            [
             0,
             "#0d0887"
            ],
            [
             0.1111111111111111,
             "#46039f"
            ],
            [
             0.2222222222222222,
             "#7201a8"
            ],
            [
             0.3333333333333333,
             "#9c179e"
            ],
            [
             0.4444444444444444,
             "#bd3786"
            ],
            [
             0.5555555555555556,
             "#d8576b"
            ],
            [
             0.6666666666666666,
             "#ed7953"
            ],
            [
             0.7777777777777778,
             "#fb9f3a"
            ],
            [
             0.8888888888888888,
             "#fdca26"
            ],
            [
             1,
             "#f0f921"
            ]
           ],
           "sequentialminus": [
            [
             0,
             "#0d0887"
            ],
            [
             0.1111111111111111,
             "#46039f"
            ],
            [
             0.2222222222222222,
             "#7201a8"
            ],
            [
             0.3333333333333333,
             "#9c179e"
            ],
            [
             0.4444444444444444,
             "#bd3786"
            ],
            [
             0.5555555555555556,
             "#d8576b"
            ],
            [
             0.6666666666666666,
             "#ed7953"
            ],
            [
             0.7777777777777778,
             "#fb9f3a"
            ],
            [
             0.8888888888888888,
             "#fdca26"
            ],
            [
             1,
             "#f0f921"
            ]
           ]
          },
          "colorway": [
           "#636efa",
           "#EF553B",
           "#00cc96",
           "#ab63fa",
           "#FFA15A",
           "#19d3f3",
           "#FF6692",
           "#B6E880",
           "#FF97FF",
           "#FECB52"
          ],
          "font": {
           "color": "#2a3f5f"
          },
          "geo": {
           "bgcolor": "white",
           "lakecolor": "white",
           "landcolor": "#E5ECF6",
           "showlakes": true,
           "showland": true,
           "subunitcolor": "white"
          },
          "hoverlabel": {
           "align": "left"
          },
          "hovermode": "closest",
          "mapbox": {
           "style": "light"
          },
          "paper_bgcolor": "white",
          "plot_bgcolor": "#E5ECF6",
          "polar": {
           "angularaxis": {
            "gridcolor": "white",
            "linecolor": "white",
            "ticks": ""
           },
           "bgcolor": "#E5ECF6",
           "radialaxis": {
            "gridcolor": "white",
            "linecolor": "white",
            "ticks": ""
           }
          },
          "scene": {
           "xaxis": {
            "backgroundcolor": "#E5ECF6",
            "gridcolor": "white",
            "gridwidth": 2,
            "linecolor": "white",
            "showbackground": true,
            "ticks": "",
            "zerolinecolor": "white"
           },
           "yaxis": {
            "backgroundcolor": "#E5ECF6",
            "gridcolor": "white",
            "gridwidth": 2,
            "linecolor": "white",
            "showbackground": true,
            "ticks": "",
            "zerolinecolor": "white"
           },
           "zaxis": {
            "backgroundcolor": "#E5ECF6",
            "gridcolor": "white",
            "gridwidth": 2,
            "linecolor": "white",
            "showbackground": true,
            "ticks": "",
            "zerolinecolor": "white"
           }
          },
          "shapedefaults": {
           "line": {
            "color": "#2a3f5f"
           }
          },
          "ternary": {
           "aaxis": {
            "gridcolor": "white",
            "linecolor": "white",
            "ticks": ""
           },
           "baxis": {
            "gridcolor": "white",
            "linecolor": "white",
            "ticks": ""
           },
           "bgcolor": "#E5ECF6",
           "caxis": {
            "gridcolor": "white",
            "linecolor": "white",
            "ticks": ""
           }
          },
          "title": {
           "x": 0.05
          },
          "xaxis": {
           "automargin": true,
           "gridcolor": "white",
           "linecolor": "white",
           "ticks": "",
           "title": {
            "standoff": 15
           },
           "zerolinecolor": "white",
           "zerolinewidth": 2
          },
          "yaxis": {
           "automargin": true,
           "gridcolor": "white",
           "linecolor": "white",
           "ticks": "",
           "title": {
            "standoff": 15
           },
           "zerolinecolor": "white",
           "zerolinewidth": 2
          }
         }
        },
        "title": {
         "text": "$\\text{Conditional PI width (}\\alpha=0.1\\text{)}$"
        },
        "width": 1000,
        "xaxis": {
         "anchor": "y",
         "domain": [
          0,
          1
         ],
         "range": [
          -0.5,
          27.5
         ],
         "showticklabels": false,
         "ticktext": [
          "",
          "base",
          "mPointCP",
          "mIntCP",
          "mNCP",
          "PointCP",
          "IntCP",
          "NCP",
          "base",
          "mPointCP",
          "mIntCP",
          "mNCP",
          "PointCP",
          "IntCP",
          "NCP",
          "base",
          "mPointCP",
          "mIntCP",
          "mNCP",
          "PointCP",
          "IntCP",
          "NCP",
          "base",
          "mPointCP",
          "mIntCP",
          "mNCP",
          "PointCP",
          "IntCP",
          "NCP",
          ""
         ],
         "tickvals": [
          -0.5,
          0,
          1,
          2,
          3,
          4,
          5,
          6,
          7,
          8,
          9,
          10,
          11,
          12,
          13,
          14,
          15,
          16,
          17,
          18,
          19,
          20,
          21,
          22,
          23,
          24,
          25,
          26,
          27,
          27.5
         ]
        },
        "xaxis2": {
         "anchor": "y2",
         "domain": [
          0,
          1
         ],
         "range": [
          -0.5,
          27.5
         ],
         "showticklabels": false,
         "ticktext": [
          "",
          "base",
          "mPointCP",
          "mIntCP",
          "mNCP",
          "PointCP",
          "IntCP",
          "NCP",
          "base",
          "mPointCP",
          "mIntCP",
          "mNCP",
          "PointCP",
          "IntCP",
          "NCP",
          "base",
          "mPointCP",
          "mIntCP",
          "mNCP",
          "PointCP",
          "IntCP",
          "NCP",
          "base",
          "mPointCP",
          "mIntCP",
          "mNCP",
          "PointCP",
          "IntCP",
          "NCP",
          ""
         ],
         "tickvals": [
          -0.5,
          0,
          1,
          2,
          3,
          4,
          5,
          6,
          7,
          8,
          9,
          10,
          11,
          12,
          13,
          14,
          15,
          16,
          17,
          18,
          19,
          20,
          21,
          22,
          23,
          24,
          25,
          26,
          27,
          27.5
         ]
        },
        "xaxis3": {
         "anchor": "y3",
         "domain": [
          0,
          1
         ],
         "range": [
          -0.5,
          27.5
         ],
         "tickangle": 45,
         "ticktext": [
          "",
          "base",
          "mPointCP",
          "mIntCP",
          "mNCP",
          "PointCP",
          "IntCP",
          "NCP",
          "base",
          "mPointCP",
          "mIntCP",
          "mNCP",
          "PointCP",
          "IntCP",
          "NCP",
          "base",
          "mPointCP",
          "mIntCP",
          "mNCP",
          "PointCP",
          "IntCP",
          "NCP",
          "base",
          "mPointCP",
          "mIntCP",
          "mNCP",
          "PointCP",
          "IntCP",
          "NCP",
          ""
         ],
         "tickvals": [
          -0.5,
          0,
          1,
          2,
          3,
          4,
          5,
          6,
          7,
          8,
          9,
          10,
          11,
          12,
          13,
          14,
          15,
          16,
          17,
          18,
          19,
          20,
          21,
          22,
          23,
          24,
          25,
          26,
          27,
          27.5
         ]
        },
        "yaxis": {
         "anchor": "x",
         "domain": [
          0.7777777777777778,
          1
         ]
        },
        "yaxis2": {
         "anchor": "x2",
         "domain": [
          0.3888888888888889,
          0.6111111111111112
         ]
        },
        "yaxis3": {
         "anchor": "x3",
         "domain": [
          0,
          0.22222222222222224
         ]
        }
       }
      },
      "text/html": [
       "<div>                            <div id=\"f5b9705a-39cd-49aa-953e-2608263c08f2\" class=\"plotly-graph-div\" style=\"height:525px; width:1000px;\"></div>            <script type=\"text/javascript\">                require([\"plotly\"], function(Plotly) {                    window.PLOTLYENV=window.PLOTLYENV || {};                                    if (document.getElementById(\"f5b9705a-39cd-49aa-953e-2608263c08f2\")) {                    Plotly.newPlot(                        \"f5b9705a-39cd-49aa-953e-2608263c08f2\",                        [{\"line\":{\"color\":\"rgb(31, 119, 180)\"},\"showlegend\":false,\"spanmode\":\"hard\",\"x0\":0,\"y\":[2.1631736755371094,2.089674949645996,2.1742424964904785,2.0496978759765625,2.1374025344848633,2.1667213439941406,2.1150779724121094,2.106851816177368,2.0398571491241455,2.0434224605560303],\"type\":\"violin\",\"xaxis\":\"x\",\"yaxis\":\"y\"},{\"marker\":{\"color\":\"rgb(179,226,205)\",\"size\":7,\"symbol\":\"square\"},\"mode\":\"markers\",\"name\":\"QR\",\"x\":[null],\"y\":[null],\"type\":\"scatter\",\"xaxis\":\"x\",\"yaxis\":\"y\"},{\"line\":{\"color\":\"rgb(255, 127, 14)\"},\"showlegend\":false,\"spanmode\":\"hard\",\"x0\":1,\"y\":[3.153557538986206,2.89947772026062,3.038336753845215,2.8525593280792236,3.025372266769409,2.8583028316497803,2.8807058334350586,3.0564608573913574,2.795048713684082,2.947338104248047],\"type\":\"violin\",\"xaxis\":\"x\",\"yaxis\":\"y\"},{\"line\":{\"color\":\"rgb(44, 160, 44)\"},\"showlegend\":false,\"spanmode\":\"hard\",\"x0\":2,\"y\":[2.8678627014160156,2.6691267490386963,2.862790584564209,2.6541290283203125,2.8553366661071777,2.663541316986084,2.6865930557250977,2.7872936725616455,2.5738728046417236,2.7064623832702637],\"type\":\"violin\",\"xaxis\":\"x\",\"yaxis\":\"y\"},{\"line\":{\"color\":\"rgb(214, 39, 40)\"},\"showlegend\":false,\"spanmode\":\"hard\",\"x0\":3,\"y\":[2.8095245361328125,2.564178943634033,2.7683932781219482,2.559393882751465,2.7449588775634766,2.5763063430786133,2.596548080444336,2.6864969730377197,2.478396415710449,2.568917989730835],\"type\":\"violin\",\"xaxis\":\"x\",\"yaxis\":\"y\"},{\"line\":{\"color\":\"rgb(148, 103, 189)\"},\"showlegend\":false,\"spanmode\":\"hard\",\"x0\":4,\"y\":[2.8604297637939453,2.876021385192871,3.0332889556884766,2.684077024459839,2.9157443046569824,2.7377824783325195,2.712237596511841,2.8808882236480713,2.6105284690856934,2.766876697540283],\"type\":\"violin\",\"xaxis\":\"x\",\"yaxis\":\"y\"},{\"line\":{\"color\":\"rgb(140, 86, 75)\"},\"showlegend\":false,\"spanmode\":\"hard\",\"x0\":5,\"y\":[2.825021743774414,2.885308265686035,3.0760233402252197,2.695511817932129,2.8887410163879395,2.675386428833008,2.6865930557250977,2.9048070907592773,2.5569300651550293,2.7569003105163574],\"type\":\"violin\",\"xaxis\":\"x\",\"yaxis\":\"y\"},{\"line\":{\"color\":\"rgb(227, 119, 194)\"},\"showlegend\":false,\"spanmode\":\"hard\",\"x0\":6,\"y\":[2.8439483642578125,2.9009668827056885,3.022862195968628,2.7194113731384277,2.8941733837127686,2.7140820026397705,2.7008347511291504,2.917741060256958,2.6010775566101074,2.782459259033203],\"type\":\"violin\",\"xaxis\":\"x\",\"yaxis\":\"y\"},{\"line\":{\"color\":\"rgb(31, 119, 180)\"},\"showlegend\":false,\"spanmode\":\"hard\",\"x0\":7,\"y\":[2.884034972990057,2.878201534159105,2.8611037160405948,2.8562214240475736,2.9325693351214,2.883652401214296,2.7939050249802837,2.866062218895325,2.86791722515115,2.8360043000968744],\"type\":\"violin\",\"xaxis\":\"x\",\"yaxis\":\"y\"},{\"marker\":{\"color\":\"rgb(253,205,172)\",\"size\":7,\"symbol\":\"square\"},\"mode\":\"markers\",\"name\":\"QRF\",\"x\":[null],\"y\":[null],\"type\":\"scatter\",\"xaxis\":\"x\",\"yaxis\":\"y\"},{\"line\":{\"color\":\"rgb(255, 127, 14)\"},\"showlegend\":false,\"spanmode\":\"hard\",\"x0\":8,\"y\":[3.0184794068336487,2.847674012184143,3.056888982653618,2.8149326145648956,3.007789060473442,2.9307109713554382,2.9865419194102287,2.972840428352356,2.751163601875305,3.002892881631851],\"type\":\"violin\",\"xaxis\":\"x\",\"yaxis\":\"y\"},{\"line\":{\"color\":\"rgb(44, 160, 44)\"},\"showlegend\":false,\"spanmode\":\"hard\",\"x0\":9,\"y\":[2.8488632583488993,2.6361356809693084,2.890555224798422,2.6295719845322436,2.778380271615209,2.7377441369063815,2.770402522449908,2.852525771741972,2.586047843266804,2.7489192315510342],\"type\":\"violin\",\"xaxis\":\"x\",\"yaxis\":\"y\"},{\"line\":{\"color\":\"rgb(214, 39, 40)\"},\"showlegend\":false,\"spanmode\":\"hard\",\"x0\":10,\"y\":[2.818553086997713,2.596488311354527,2.8948724756538624,2.6357074877947837,2.7795224066824997,2.683533301755309,2.7084521489427247,2.740205539367342,2.5466191734370462,2.69640622793365],\"type\":\"violin\",\"xaxis\":\"x\",\"yaxis\":\"y\"},{\"line\":{\"color\":\"rgb(148, 103, 189)\"},\"showlegend\":false,\"spanmode\":\"hard\",\"x0\":11,\"y\":[2.7876058854162693,2.6935116052627563,2.9273881912231445,2.7527709007263184,2.7916450947523117,2.870525360107422,2.757406309247017,2.7211945056915283,2.5876379162073135,2.8762296885252],\"type\":\"violin\",\"xaxis\":\"x\",\"yaxis\":\"y\"},{\"line\":{\"color\":\"rgb(140, 86, 75)\"},\"showlegend\":false,\"spanmode\":\"hard\",\"x0\":12,\"y\":[2.8303655528893046,2.7057329729157202,2.933338485143881,2.719176243069536,2.7909837929622547,2.8592422448165378,2.7943757489971492,2.653372110014067,2.6100468190205883,2.8765171834400722],\"type\":\"violin\",\"xaxis\":\"x\",\"yaxis\":\"y\"},{\"line\":{\"color\":\"rgb(227, 119, 194)\"},\"showlegend\":false,\"spanmode\":\"hard\",\"x0\":13,\"y\":[2.789109152297026,2.703036140948781,2.93708687193526,2.7038515927431788,2.8307162005390816,2.8517527735736214,2.8221697433141286,2.6882172243005287,2.654919637963479,2.8164417744004],\"type\":\"violin\",\"xaxis\":\"x\",\"yaxis\":\"y\"},{\"line\":{\"color\":\"rgb(31, 119, 180)\"},\"showlegend\":false,\"spanmode\":\"hard\",\"x0\":14,\"y\":[2.0201785564422607,2.0653772354125977,2.125241279602051,2.067535638809204,2.012516736984253,2.0519652366638184,2.0728390216827393,2.074669122695923,1.9322149753570557,2.111086130142212],\"type\":\"violin\",\"xaxis\":\"x\",\"yaxis\":\"y\"},{\"marker\":{\"color\":\"rgb(203,213,232)\",\"size\":7,\"symbol\":\"square\"},\"mode\":\"markers\",\"name\":\"MV\",\"x\":[null],\"y\":[null],\"type\":\"scatter\",\"xaxis\":\"x\",\"yaxis\":\"y\"},{\"line\":{\"color\":\"rgb(255, 127, 14)\"},\"showlegend\":false,\"spanmode\":\"hard\",\"x0\":15,\"y\":[3.0364301204681396,2.9787075519561768,3.051974058151245,2.803889751434326,3.0877151489257812,2.8337361812591553,2.8735711574554443,3.0157203674316406,2.791079044342041,2.9146552085876465],\"type\":\"violin\",\"xaxis\":\"x\",\"yaxis\":\"y\"},{\"line\":{\"color\":\"rgb(44, 160, 44)\"},\"showlegend\":false,\"spanmode\":\"hard\",\"x0\":16,\"y\":[2.6493747234344482,2.615522623062134,2.772667646408081,2.4966399669647217,2.799924373626709,2.5252413749694824,2.595900058746338,2.7364354133605957,2.379437208175659,2.5596182346343994],\"type\":\"violin\",\"xaxis\":\"x\",\"yaxis\":\"y\"},{\"line\":{\"color\":\"rgb(214, 39, 40)\"},\"showlegend\":false,\"spanmode\":\"hard\",\"x0\":17,\"y\":[2.5760180950164795,2.5485641956329346,2.7322256565093994,2.4639856815338135,2.7248663902282715,2.4511430263519287,2.5325427055358887,2.6705400943756104,2.313040256500244,2.506793260574341],\"type\":\"violin\",\"xaxis\":\"x\",\"yaxis\":\"y\"},{\"line\":{\"color\":\"rgb(148, 103, 189)\"},\"showlegend\":false,\"spanmode\":\"hard\",\"x0\":18,\"y\":[2.8542816638946533,2.9787075519561768,2.892747163772583,2.6056787967681885,3.20729923248291,2.774895191192627,2.7548630237579346,2.93034029006958,2.6637299060821533,2.792863368988037],\"type\":\"violin\",\"xaxis\":\"x\",\"yaxis\":\"y\"},{\"line\":{\"color\":\"rgb(140, 86, 75)\"},\"showlegend\":false,\"spanmode\":\"hard\",\"x0\":19,\"y\":[2.8559153079986572,2.9546256065368652,2.8929660320281982,2.611192226409912,3.176867723464966,2.818613052368164,2.726229667663574,2.9743523597717285,2.6273975372314453,2.77750301361084],\"type\":\"violin\",\"xaxis\":\"x\",\"yaxis\":\"y\"},{\"line\":{\"color\":\"rgb(227, 119, 194)\"},\"showlegend\":false,\"spanmode\":\"hard\",\"x0\":20,\"y\":[2.856379747390747,2.94990873336792,2.891145944595337,2.6140263080596924,3.1730175018310547,2.7916860580444336,2.725294828414917,2.982440948486328,2.6215858459472656,2.8028037548065186],\"type\":\"violin\",\"xaxis\":\"x\",\"yaxis\":\"y\"},{\"line\":{\"color\":\"rgb(31, 119, 180)\"},\"showlegend\":false,\"spanmode\":\"hard\",\"x0\":21,\"y\":[2.357372522354126,2.24908709526062,2.3219001293182373,2.325996160507202,2.3604514598846436,2.3173322677612305,2.2316761016845703,2.258084535598755,2.236435651779175,2.355044364929199],\"type\":\"violin\",\"xaxis\":\"x\",\"yaxis\":\"y\"},{\"marker\":{\"color\":\"rgb(244,202,228)\",\"size\":7,\"symbol\":\"square\"},\"mode\":\"markers\",\"name\":\"MVE\",\"x\":[null],\"y\":[null],\"type\":\"scatter\",\"xaxis\":\"x\",\"yaxis\":\"y\"},{\"line\":{\"color\":\"rgb(255, 127, 14)\"},\"showlegend\":false,\"spanmode\":\"hard\",\"x0\":22,\"y\":[3.066343307495117,2.8767120838165283,3.0103654861450195,2.755826950073242,3.0329959392547607,2.8294293880462646,2.8362843990325928,2.988278388977051,2.76806378364563,2.854647397994995],\"type\":\"violin\",\"xaxis\":\"x\",\"yaxis\":\"y\"},{\"line\":{\"color\":\"rgb(44, 160, 44)\"},\"showlegend\":false,\"spanmode\":\"hard\",\"x0\":23,\"y\":[2.727006196975708,2.511627674102783,2.700697660446167,2.431448221206665,2.6863977909088135,2.5288712978363037,2.4620282649993896,2.681025266647339,2.3992345333099365,2.5284903049468994],\"type\":\"violin\",\"xaxis\":\"x\",\"yaxis\":\"y\"},{\"line\":{\"color\":\"rgb(214, 39, 40)\"},\"showlegend\":false,\"spanmode\":\"hard\",\"x0\":24,\"y\":[2.6955227851867676,2.481992483139038,2.659390687942505,2.4290263652801514,2.6705803871154785,2.50492000579834,2.433696985244751,2.635756015777588,2.3744728565216064,2.5004384517669678],\"type\":\"violin\",\"xaxis\":\"x\",\"yaxis\":\"y\"},{\"line\":{\"color\":\"rgb(148, 103, 189)\"},\"showlegend\":false,\"spanmode\":\"hard\",\"x0\":25,\"y\":[2.8441693782806396,2.7746777534484863,2.697660446166992,2.553023338317871,2.6970767974853516,2.675997734069824,2.513376474380493,2.758298397064209,2.537722110748291,2.6525323390960693],\"type\":\"violin\",\"xaxis\":\"x\",\"yaxis\":\"y\"},{\"line\":{\"color\":\"rgb(140, 86, 75)\"},\"showlegend\":false,\"spanmode\":\"hard\",\"x0\":26,\"y\":[2.8282079696655273,2.715860366821289,2.7077629566192627,2.5695242881774902,2.746561050415039,2.706604480743408,2.4792850017547607,2.825138568878174,2.476018190383911,2.5372872352600098],\"type\":\"violin\",\"xaxis\":\"x\",\"yaxis\":\"y\"},{\"line\":{\"color\":\"rgb(227, 119, 194)\"},\"showlegend\":false,\"spanmode\":\"hard\",\"x0\":27,\"y\":[2.829354763031006,2.729673147201538,2.7015910148620605,2.5666701793670654,2.7382760047912598,2.6868605613708496,2.4919302463531494,2.8214383125305176,2.4814860820770264,2.5448882579803467],\"type\":\"violin\",\"xaxis\":\"x\",\"yaxis\":\"y\"},{\"line\":{\"color\":\"rgb(31, 119, 180)\"},\"showlegend\":false,\"spanmode\":\"hard\",\"x0\":0,\"y\":[2.4162986278533936,2.3349530696868896,2.3878791332244873,2.3076651096343994,2.3908064365386963,2.3888509273529053,2.342888116836548,2.3585927486419678,2.2592828273773193,2.2921316623687744],\"type\":\"violin\",\"xaxis\":\"x2\",\"yaxis\":\"y2\"},{\"line\":{\"color\":\"rgb(255, 127, 14)\"},\"showlegend\":false,\"spanmode\":\"hard\",\"x0\":1,\"y\":[3.153557538986206,2.89947772026062,3.038336753845215,2.8525593280792236,3.025372266769409,2.8583028316497803,2.8807058334350586,3.0564608573913574,2.795048713684082,2.947338104248047],\"type\":\"violin\",\"xaxis\":\"x2\",\"yaxis\":\"y2\"},{\"line\":{\"color\":\"rgb(44, 160, 44)\"},\"showlegend\":false,\"spanmode\":\"hard\",\"x0\":2,\"y\":[3.0688092708587646,2.8652732372283936,3.0217807292938232,2.828714609146118,3.0355329513549805,2.842069625854492,2.8381991386413574,2.961243152618408,2.773726224899292,2.892500400543213],\"type\":\"violin\",\"xaxis\":\"x2\",\"yaxis\":\"y2\"},{\"line\":{\"color\":\"rgb(214, 39, 40)\"},\"showlegend\":false,\"spanmode\":\"hard\",\"x0\":3,\"y\":[3.153979539871216,2.8729162216186523,3.0319631099700928,2.839146375656128,3.047961711883545,2.8573086261749268,2.8426876068115234,2.9752402305603027,2.7905802726745605,2.86395001411438],\"type\":\"violin\",\"xaxis\":\"x2\",\"yaxis\":\"y2\"},{\"line\":{\"color\":\"rgb(148, 103, 189)\"},\"showlegend\":false,\"spanmode\":\"hard\",\"x0\":4,\"y\":[3.2075600624084473,2.825255870819092,2.9709882736206055,2.8525593280792236,3.088792324066162,2.808831214904785,2.889094829559326,2.991201400756836,2.795048713684082,2.8518729209899902],\"type\":\"violin\",\"xaxis\":\"x2\",\"yaxis\":\"y2\"},{\"line\":{\"color\":\"rgb(140, 86, 75)\"},\"showlegend\":false,\"spanmode\":\"hard\",\"x0\":5,\"y\":[3.1601645946502686,2.7868947982788086,2.9418065547943115,2.851930856704712,3.0593066215515137,2.8303256034851074,2.922055244445801,2.9365639686584473,2.79854416847229,2.8027117252349854],\"type\":\"violin\",\"xaxis\":\"x2\",\"yaxis\":\"y2\"},{\"line\":{\"color\":\"rgb(227, 119, 194)\"},\"showlegend\":false,\"spanmode\":\"hard\",\"x0\":6,\"y\":[3.255077838897705,2.844212770462036,2.9293105602264404,2.8456621170043945,3.052873134613037,2.812229633331299,2.883683681488037,2.980389356613159,2.8303492069244385,2.8039052486419678],\"type\":\"violin\",\"xaxis\":\"x2\",\"yaxis\":\"y2\"},{\"line\":{\"color\":\"rgb(31, 119, 180)\"},\"showlegend\":false,\"spanmode\":\"hard\",\"x0\":7,\"y\":[3.1122758455820625,3.0863834254857565,3.057459740806077,3.078686548643487,3.1429546589429456,3.0785231277004055,3.024751813675282,3.0465590684661255,3.080107352051597,3.021503881723133],\"type\":\"violin\",\"xaxis\":\"x2\",\"yaxis\":\"y2\"},{\"line\":{\"color\":\"rgb(255, 127, 14)\"},\"showlegend\":false,\"spanmode\":\"hard\",\"x0\":8,\"y\":[3.0184794068336487,2.847674012184143,3.056888982653618,2.8149326145648956,3.007789060473442,2.9307109713554382,2.9865419194102287,2.972840428352356,2.751163601875305,3.002892881631851],\"type\":\"violin\",\"xaxis\":\"x2\",\"yaxis\":\"y2\"},{\"line\":{\"color\":\"rgb(44, 160, 44)\"},\"showlegend\":false,\"spanmode\":\"hard\",\"x0\":9,\"y\":[3.02354468403509,2.792389103415899,3.0447578974813228,2.799445366917682,2.9544999814695783,2.923026222708714,2.949431063212432,3.007935097174393,2.764464206001707,2.9130472124670264],\"type\":\"violin\",\"xaxis\":\"x2\",\"yaxis\":\"y2\"},{\"line\":{\"color\":\"rgb(214, 39, 40)\"},\"showlegend\":false,\"spanmode\":\"hard\",\"x0\":10,\"y\":[3.041815083092677,2.7796393003368562,3.096421220808483,2.83841796724498,2.9970037482386194,2.910096543914162,2.935357933626127,2.931225794742556,2.755394403773625,2.8987885700522766],\"type\":\"violin\",\"xaxis\":\"x2\",\"yaxis\":\"y2\"},{\"line\":{\"color\":\"rgb(148, 103, 189)\"},\"showlegend\":false,\"spanmode\":\"hard\",\"x0\":11,\"y\":[3.066804237663746,2.80766424536705,2.903127372264862,2.8097034692764282,2.997309982776642,2.9304254055023193,2.8628456592559814,3.0193116888403893,2.7666978240013123,2.8390436470508575],\"type\":\"violin\",\"xaxis\":\"x2\",\"yaxis\":\"y2\"},{\"line\":{\"color\":\"rgb(140, 86, 75)\"},\"showlegend\":false,\"spanmode\":\"hard\",\"x0\":12,\"y\":[3.037057057005671,2.823085257056646,2.9024379798024897,2.77742207056148,2.9780764795011945,2.9395023770361064,2.9172836079969735,3.076852562384353,2.8065965836262188,2.8515036047552345],\"type\":\"violin\",\"xaxis\":\"x2\",\"yaxis\":\"y2\"},{\"line\":{\"color\":\"rgb(227, 119, 194)\"},\"showlegend\":false,\"spanmode\":\"hard\",\"x0\":13,\"y\":[3.0579326303376217,2.832498943708103,2.9327830706490987,2.8119226163291975,2.9842980645412815,2.910096543914162,2.851675162123358,2.976740818694599,2.793332387512964,2.8486735795473903],\"type\":\"violin\",\"xaxis\":\"x2\",\"yaxis\":\"y2\"},{\"line\":{\"color\":\"rgb(31, 119, 180)\"},\"showlegend\":false,\"spanmode\":\"hard\",\"x0\":14,\"y\":[2.38232421875,2.3429019451141357,2.3890085220336914,2.379340171813965,2.334083080291748,2.404738664627075,2.338932752609253,2.3256545066833496,2.3635637760162354,2.4496243000030518],\"type\":\"violin\",\"xaxis\":\"x2\",\"yaxis\":\"y2\"},{\"line\":{\"color\":\"rgb(255, 127, 14)\"},\"showlegend\":false,\"spanmode\":\"hard\",\"x0\":15,\"y\":[3.0364301204681396,2.9787075519561768,3.051974058151245,2.803889751434326,3.0877151489257812,2.8337361812591553,2.8735711574554443,3.0157203674316406,2.791079044342041,2.9146552085876465],\"type\":\"violin\",\"xaxis\":\"x2\",\"yaxis\":\"y2\"},{\"line\":{\"color\":\"rgb(44, 160, 44)\"},\"showlegend\":false,\"spanmode\":\"hard\",\"x0\":16,\"y\":[3.0115201473236084,2.8930468559265137,3.03643536567688,2.8084442615509033,3.121490716934204,2.8780150413513184,2.8619937896728516,2.9874212741851807,2.810786008834839,2.89815616607666],\"type\":\"violin\",\"xaxis\":\"x2\",\"yaxis\":\"y2\"},{\"line\":{\"color\":\"rgb(214, 39, 40)\"},\"showlegend\":false,\"spanmode\":\"hard\",\"x0\":17,\"y\":[3.0378053188323975,2.891014575958252,3.071326971054077,2.8355791568756104,3.16025447845459,2.8725433349609375,2.857649326324463,2.9936115741729736,2.829404592514038,2.908787250518799],\"type\":\"violin\",\"xaxis\":\"x2\",\"yaxis\":\"y2\"},{\"line\":{\"color\":\"rgb(148, 103, 189)\"},\"showlegend\":false,\"spanmode\":\"hard\",\"x0\":18,\"y\":[2.9824092388153076,3.0383782386779785,2.998504877090454,2.8469631671905518,2.927581787109375,2.8355777263641357,2.861048698425293,2.951808214187622,2.8545448780059814,2.8622870445251465],\"type\":\"violin\",\"xaxis\":\"x2\",\"yaxis\":\"y2\"},{\"line\":{\"color\":\"rgb(140, 86, 75)\"},\"showlegend\":false,\"spanmode\":\"hard\",\"x0\":19,\"y\":[2.982893466949463,3.0288286209106445,2.997408151626587,2.873218059539795,2.9077036380767822,2.817673921585083,2.882983684539795,2.9376649856567383,2.85017728805542,2.880091428756714],\"type\":\"violin\",\"xaxis\":\"x2\",\"yaxis\":\"y2\"},{\"line\":{\"color\":\"rgb(227, 119, 194)\"},\"showlegend\":false,\"spanmode\":\"hard\",\"x0\":20,\"y\":[2.9979805946350098,3.026242256164551,3.0043869018554688,2.8770179748535156,2.901890516281128,2.822248935699463,2.8761751651763916,2.9368653297424316,2.823456287384033,2.882652997970581],\"type\":\"violin\",\"xaxis\":\"x2\",\"yaxis\":\"y2\"},{\"line\":{\"color\":\"rgb(31, 119, 180)\"},\"showlegend\":false,\"spanmode\":\"hard\",\"x0\":21,\"y\":[2.628836154937744,2.556999444961548,2.577176809310913,2.644834041595459,2.6716389656066895,2.647324323654175,2.5569865703582764,2.5577263832092285,2.591099500656128,2.6354117393493652],\"type\":\"violin\",\"xaxis\":\"x2\",\"yaxis\":\"y2\"},{\"line\":{\"color\":\"rgb(255, 127, 14)\"},\"showlegend\":false,\"spanmode\":\"hard\",\"x0\":22,\"y\":[3.066343307495117,2.8767120838165283,3.0103654861450195,2.755826950073242,3.0329959392547607,2.8294293880462646,2.8362843990325928,2.988278388977051,2.76806378364563,2.854647397994995],\"type\":\"violin\",\"xaxis\":\"x2\",\"yaxis\":\"y2\"},{\"line\":{\"color\":\"rgb(44, 160, 44)\"},\"showlegend\":false,\"spanmode\":\"hard\",\"x0\":23,\"y\":[2.9984703063964844,2.819540500640869,2.9559738636016846,2.75028657913208,2.9975852966308594,2.858863353729248,2.787338972091675,2.9806671142578125,2.7538986206054688,2.8088576793670654],\"type\":\"violin\",\"xaxis\":\"x2\",\"yaxis\":\"y2\"},{\"line\":{\"color\":\"rgb(214, 39, 40)\"},\"showlegend\":false,\"spanmode\":\"hard\",\"x0\":24,\"y\":[3.0059268474578857,2.821791410446167,2.9517719745635986,2.7619869709014893,3.0226528644561768,2.8616249561309814,2.788456439971924,2.985513687133789,2.7510271072387695,2.798114776611328],\"type\":\"violin\",\"xaxis\":\"x2\",\"yaxis\":\"y2\"},{\"line\":{\"color\":\"rgb(148, 103, 189)\"},\"showlegend\":false,\"spanmode\":\"hard\",\"x0\":25,\"y\":[2.956479549407959,2.9031436443328857,3.0217535495758057,2.7441530227661133,3.1609408855438232,2.7591757774353027,2.867056369781494,3.0380403995513916,2.751244306564331,2.9033737182617188],\"type\":\"violin\",\"xaxis\":\"x2\",\"yaxis\":\"y2\"},{\"line\":{\"color\":\"rgb(140, 86, 75)\"},\"showlegend\":false,\"spanmode\":\"hard\",\"x0\":26,\"y\":[2.920865774154663,2.9425625801086426,3.0379106998443604,2.774174451828003,3.1955299377441406,2.7487080097198486,2.876328706741333,3.0794808864593506,2.7607595920562744,2.905461311340332],\"type\":\"violin\",\"xaxis\":\"x2\",\"yaxis\":\"y2\"},{\"line\":{\"color\":\"rgb(227, 119, 194)\"},\"showlegend\":false,\"spanmode\":\"hard\",\"x0\":27,\"y\":[2.93288254737854,2.9347658157348633,3.0349199771881104,2.7728607654571533,3.2059197425842285,2.7483084201812744,2.8799428939819336,3.0918843746185303,2.7544376850128174,2.9060022830963135],\"type\":\"violin\",\"xaxis\":\"x2\",\"yaxis\":\"y2\"},{\"line\":{\"color\":\"rgb(31, 119, 180)\"},\"showlegend\":false,\"spanmode\":\"hard\",\"x0\":0,\"y\":[2.8048617839813232,2.6705331802368164,2.7027435302734375,2.6850485801696777,2.7634670734405518,2.6946256160736084,2.6877052783966064,2.6877377033233643,2.600282669067383,2.6616268157958984],\"type\":\"violin\",\"xaxis\":\"x3\",\"yaxis\":\"y3\"},{\"line\":{\"color\":\"rgb(255, 127, 14)\"},\"showlegend\":false,\"spanmode\":\"hard\",\"x0\":1,\"y\":[3.153557538986206,2.89947772026062,3.038336753845215,2.8525593280792236,3.025372266769409,2.8583028316497803,2.8807058334350586,3.0564608573913574,2.795048713684082,2.947338104248047],\"type\":\"violin\",\"xaxis\":\"x3\",\"yaxis\":\"y3\"},{\"line\":{\"color\":\"rgb(44, 160, 44)\"},\"showlegend\":false,\"spanmode\":\"hard\",\"x0\":2,\"y\":[3.3815410137176514,3.151249647140503,3.2740890979766846,3.040172576904297,3.287099599838257,3.0703415870666504,3.0866405963897705,3.248176097869873,3.036133289337158,3.1735832691192627],\"type\":\"violin\",\"xaxis\":\"x3\",\"yaxis\":\"y3\"},{\"line\":{\"color\":\"rgb(214, 39, 40)\"},\"showlegend\":false,\"spanmode\":\"hard\",\"x0\":3,\"y\":[3.690051555633545,3.3230466842651367,3.450233221054077,3.1779820919036865,3.4709746837615967,3.2166082859039307,3.246044397354126,3.4515273571014404,3.2004759311676025,3.3097100257873535],\"type\":\"violin\",\"xaxis\":\"x3\",\"yaxis\":\"y3\"},{\"line\":{\"color\":\"rgb(148, 103, 189)\"},\"showlegend\":false,\"spanmode\":\"hard\",\"x0\":4,\"y\":[3.579808235168457,3.050767183303833,3.2073593139648438,3.0409011840820312,3.236598491668701,3.0686583518981934,3.06533145904541,3.2041494846343994,3.0018680095672607,3.161189317703247],\"type\":\"violin\",\"xaxis\":\"x3\",\"yaxis\":\"y3\"},{\"line\":{\"color\":\"rgb(140, 86, 75)\"},\"showlegend\":false,\"spanmode\":\"hard\",\"x0\":5,\"y\":[3.53666353225708,3.0051798820495605,3.2310667037963867,3.0190224647521973,3.205803632736206,3.079702377319336,3.0447492599487305,3.2225239276885986,3.102489471435547,3.247464179992676],\"type\":\"violin\",\"xaxis\":\"x3\",\"yaxis\":\"y3\"},{\"line\":{\"color\":\"rgb(227, 119, 194)\"},\"showlegend\":false,\"spanmode\":\"hard\",\"x0\":6,\"y\":[3.4803225994110107,3.0616233348846436,3.2910265922546387,3.020132303237915,3.1492514610290527,3.0765392780303955,3.0877177715301514,3.2509734630584717,3.0848536491394043,3.1990113258361816],\"type\":\"violin\",\"xaxis\":\"x3\",\"yaxis\":\"y3\"},{\"line\":{\"color\":\"rgb(31, 119, 180)\"},\"showlegend\":false,\"spanmode\":\"hard\",\"x0\":7,\"y\":[3.361804076259055,3.333412065256152,3.2883253186485453,3.3373195569376524,3.3790878511991234,3.303902830303826,3.3097742671651,3.2699491006753787,3.3524987265877013,3.306293537199325],\"type\":\"violin\",\"xaxis\":\"x3\",\"yaxis\":\"y3\"},{\"line\":{\"color\":\"rgb(255, 127, 14)\"},\"showlegend\":false,\"spanmode\":\"hard\",\"x0\":8,\"y\":[3.0184794068336487,2.847674012184143,3.056888982653618,2.8149326145648956,3.007789060473442,2.9307109713554382,2.9865419194102287,2.972840428352356,2.751163601875305,3.002892881631851],\"type\":\"violin\",\"xaxis\":\"x3\",\"yaxis\":\"y3\"},{\"line\":{\"color\":\"rgb(44, 160, 44)\"},\"showlegend\":false,\"spanmode\":\"hard\",\"x0\":9,\"y\":[3.224213588371606,2.9886960303895527,3.2226062933108675,2.9938540331545593,3.1383318617608813,3.122824948882913,3.1658231824451355,3.179760453363321,2.978003999407731,3.122039658132472],\"type\":\"violin\",\"xaxis\":\"x3\",\"yaxis\":\"y3\"},{\"line\":{\"color\":\"rgb(214, 39, 40)\"},\"showlegend\":false,\"spanmode\":\"hard\",\"x0\":10,\"y\":[3.298291923491522,3.009738630363346,3.3288758234658467,3.0704064835667024,3.2240084598611607,3.1544107580229612,3.2096193637012984,3.1424236963344985,3.0052695770536073,3.156492225472994],\"type\":\"violin\",\"xaxis\":\"x3\",\"yaxis\":\"y3\"},{\"line\":{\"color\":\"rgb(148, 103, 189)\"},\"showlegend\":false,\"spanmode\":\"hard\",\"x0\":11,\"y\":[3.404628872871399,3.0150784254074097,3.3468449413776398,3.040640849620104,3.270653009414673,2.988270103931427,3.2100110352039337,3.1724478602409363,2.9800007343292236,3.184327781200409],\"type\":\"violin\",\"xaxis\":\"x3\",\"yaxis\":\"y3\"},{\"line\":{\"color\":\"rgb(140, 86, 75)\"},\"showlegend\":false,\"spanmode\":\"hard\",\"x0\":12,\"y\":[3.3228835941699457,2.935007265817409,3.391283146490799,2.992665278119159,3.1383318617608813,2.9275272308348175,3.2433313935809998,3.259257194658182,2.978003999407731,3.1496358934077406],\"type\":\"violin\",\"xaxis\":\"x3\",\"yaxis\":\"y3\"},{\"line\":{\"color\":\"rgb(227, 119, 194)\"},\"showlegend\":false,\"spanmode\":\"hard\",\"x0\":13,\"y\":[3.3918697661589423,2.961984325137008,3.3924649859143763,3.022532904202731,3.19316726897245,2.9526877519072756,3.202718798252284,3.1613837907707376,2.964769891721683,3.1530139634911007],\"type\":\"violin\",\"xaxis\":\"x3\",\"yaxis\":\"y3\"},{\"line\":{\"color\":\"rgb(31, 119, 180)\"},\"showlegend\":false,\"spanmode\":\"hard\",\"x0\":14,\"y\":[2.9007577896118164,2.7592639923095703,2.7394862174987793,2.774789810180664,2.7259628772735596,2.8236453533172607,2.7535972595214844,2.693901300430298,2.8581058979034424,2.8633370399475098],\"type\":\"violin\",\"xaxis\":\"x3\",\"yaxis\":\"y3\"},{\"line\":{\"color\":\"rgb(255, 127, 14)\"},\"showlegend\":false,\"spanmode\":\"hard\",\"x0\":15,\"y\":[3.0364301204681396,2.9787075519561768,3.051974058151245,2.803889751434326,3.0877151489257812,2.8337361812591553,2.8735711574554443,3.0157203674316406,2.791079044342041,2.9146552085876465],\"type\":\"violin\",\"xaxis\":\"x3\",\"yaxis\":\"y3\"},{\"line\":{\"color\":\"rgb(44, 160, 44)\"},\"showlegend\":false,\"spanmode\":\"hard\",\"x0\":16,\"y\":[3.529954195022583,3.3094093799591064,3.3869125843048096,3.2038941383361816,3.5133700370788574,3.296921730041504,3.276658058166504,3.355668067932129,3.305328369140625,3.311868667602539],\"type\":\"violin\",\"xaxis\":\"x3\",\"yaxis\":\"y3\"},{\"line\":{\"color\":\"rgb(214, 39, 40)\"},\"showlegend\":false,\"spanmode\":\"hard\",\"x0\":17,\"y\":[3.698883056640625,3.40478253364563,3.5219032764434814,3.306856393814087,3.6908435821533203,3.3729419708251953,3.3642756938934326,3.467622995376587,3.421417236328125,3.400047540664673],\"type\":\"violin\",\"xaxis\":\"x3\",\"yaxis\":\"y3\"},{\"line\":{\"color\":\"rgb(148, 103, 189)\"},\"showlegend\":false,\"spanmode\":\"hard\",\"x0\":18,\"y\":[3.3849947452545166,2.9482645988464355,3.2338197231292725,2.937155246734619,3.154057264328003,2.9598875045776367,3.07655668258667,3.2762022018432617,2.9616570472717285,3.0940752029418945],\"type\":\"violin\",\"xaxis\":\"x3\",\"yaxis\":\"y3\"},{\"line\":{\"color\":\"rgb(140, 86, 75)\"},\"showlegend\":false,\"spanmode\":\"hard\",\"x0\":19,\"y\":[3.373643159866333,2.928659439086914,3.2787599563598633,2.9792063236236572,3.054736614227295,3.0246596336364746,3.0741822719573975,3.2433435916900635,2.9381232261657715,3.0936763286590576],\"type\":\"violin\",\"xaxis\":\"x3\",\"yaxis\":\"y3\"},{\"line\":{\"color\":\"rgb(227, 119, 194)\"},\"showlegend\":false,\"spanmode\":\"hard\",\"x0\":20,\"y\":[3.3159568309783936,2.9443724155426025,3.2813987731933594,2.966290235519409,3.03505277633667,3.0354456901550293,3.092419147491455,3.2319753170013428,2.9425063133239746,3.1028807163238525],\"type\":\"violin\",\"xaxis\":\"x3\",\"yaxis\":\"y3\"},{\"line\":{\"color\":\"rgb(31, 119, 180)\"},\"showlegend\":false,\"spanmode\":\"hard\",\"x0\":21,\"y\":[3.115638256072998,3.0116422176361084,3.0263397693634033,3.0287678241729736,3.103933811187744,2.955528974533081,3.03341007232666,3.02600359916687,3.0621938705444336,3.0479469299316406],\"type\":\"violin\",\"xaxis\":\"x3\",\"yaxis\":\"y3\"},{\"line\":{\"color\":\"rgb(255, 127, 14)\"},\"showlegend\":false,\"spanmode\":\"hard\",\"x0\":22,\"y\":[3.066343307495117,2.8767120838165283,3.0103654861450195,2.755826950073242,3.0329959392547607,2.8294293880462646,2.8362843990325928,2.988278388977051,2.76806378364563,2.854647397994995],\"type\":\"violin\",\"xaxis\":\"x3\",\"yaxis\":\"y3\"},{\"line\":{\"color\":\"rgb(44, 160, 44)\"},\"showlegend\":false,\"spanmode\":\"hard\",\"x0\":23,\"y\":[3.48527193069458,3.2741832733154297,3.4051365852355957,3.134220600128174,3.429880380630493,3.1670682430267334,3.2637624740600586,3.448944091796875,3.2249929904937744,3.2213926315307617],\"type\":\"violin\",\"xaxis\":\"x3\",\"yaxis\":\"y3\"},{\"line\":{\"color\":\"rgb(214, 39, 40)\"},\"showlegend\":false,\"spanmode\":\"hard\",\"x0\":24,\"y\":[3.5625572204589844,3.323514699935913,3.4662206172943115,3.1629273891448975,3.5117456912994385,3.1947786808013916,3.3080079555511475,3.532111167907715,3.2511985301971436,3.236119031906128],\"type\":\"violin\",\"xaxis\":\"x3\",\"yaxis\":\"y3\"},{\"line\":{\"color\":\"rgb(148, 103, 189)\"},\"showlegend\":false,\"spanmode\":\"hard\",\"x0\":25,\"y\":[3.4876604080200195,2.9756979942321777,3.345919132232666,2.9723944664001465,3.1685760021209717,3.2482972145080566,3.0548887252807617,3.196852445602417,3.0303187370300293,3.104870319366455],\"type\":\"violin\",\"xaxis\":\"x3\",\"yaxis\":\"y3\"},{\"line\":{\"color\":\"rgb(140, 86, 75)\"},\"showlegend\":false,\"spanmode\":\"hard\",\"x0\":26,\"y\":[3.4436681270599365,2.930137872695923,3.367300033569336,3.0093271732330322,3.1622817516326904,3.216707944869995,3.0666184425354004,3.1570167541503906,3.094820499420166,3.0788800716400146],\"type\":\"violin\",\"xaxis\":\"x3\",\"yaxis\":\"y3\"},{\"line\":{\"color\":\"rgb(227, 119, 194)\"},\"showlegend\":false,\"spanmode\":\"hard\",\"x0\":27,\"y\":[3.441603422164917,2.932708978652954,3.3928630352020264,3.0083303451538086,3.15907883644104,3.224561929702759,3.0680601596832275,3.162618398666382,3.0976974964141846,3.0791451930999756],\"type\":\"violin\",\"xaxis\":\"x3\",\"yaxis\":\"y3\"}],                        {\"template\":{\"data\":{\"histogram2dcontour\":[{\"type\":\"histogram2dcontour\",\"colorbar\":{\"outlinewidth\":0,\"ticks\":\"\"},\"colorscale\":[[0.0,\"#0d0887\"],[0.1111111111111111,\"#46039f\"],[0.2222222222222222,\"#7201a8\"],[0.3333333333333333,\"#9c179e\"],[0.4444444444444444,\"#bd3786\"],[0.5555555555555556,\"#d8576b\"],[0.6666666666666666,\"#ed7953\"],[0.7777777777777778,\"#fb9f3a\"],[0.8888888888888888,\"#fdca26\"],[1.0,\"#f0f921\"]]}],\"choropleth\":[{\"type\":\"choropleth\",\"colorbar\":{\"outlinewidth\":0,\"ticks\":\"\"}}],\"histogram2d\":[{\"type\":\"histogram2d\",\"colorbar\":{\"outlinewidth\":0,\"ticks\":\"\"},\"colorscale\":[[0.0,\"#0d0887\"],[0.1111111111111111,\"#46039f\"],[0.2222222222222222,\"#7201a8\"],[0.3333333333333333,\"#9c179e\"],[0.4444444444444444,\"#bd3786\"],[0.5555555555555556,\"#d8576b\"],[0.6666666666666666,\"#ed7953\"],[0.7777777777777778,\"#fb9f3a\"],[0.8888888888888888,\"#fdca26\"],[1.0,\"#f0f921\"]]}],\"heatmap\":[{\"type\":\"heatmap\",\"colorbar\":{\"outlinewidth\":0,\"ticks\":\"\"},\"colorscale\":[[0.0,\"#0d0887\"],[0.1111111111111111,\"#46039f\"],[0.2222222222222222,\"#7201a8\"],[0.3333333333333333,\"#9c179e\"],[0.4444444444444444,\"#bd3786\"],[0.5555555555555556,\"#d8576b\"],[0.6666666666666666,\"#ed7953\"],[0.7777777777777778,\"#fb9f3a\"],[0.8888888888888888,\"#fdca26\"],[1.0,\"#f0f921\"]]}],\"heatmapgl\":[{\"type\":\"heatmapgl\",\"colorbar\":{\"outlinewidth\":0,\"ticks\":\"\"},\"colorscale\":[[0.0,\"#0d0887\"],[0.1111111111111111,\"#46039f\"],[0.2222222222222222,\"#7201a8\"],[0.3333333333333333,\"#9c179e\"],[0.4444444444444444,\"#bd3786\"],[0.5555555555555556,\"#d8576b\"],[0.6666666666666666,\"#ed7953\"],[0.7777777777777778,\"#fb9f3a\"],[0.8888888888888888,\"#fdca26\"],[1.0,\"#f0f921\"]]}],\"contourcarpet\":[{\"type\":\"contourcarpet\",\"colorbar\":{\"outlinewidth\":0,\"ticks\":\"\"}}],\"contour\":[{\"type\":\"contour\",\"colorbar\":{\"outlinewidth\":0,\"ticks\":\"\"},\"colorscale\":[[0.0,\"#0d0887\"],[0.1111111111111111,\"#46039f\"],[0.2222222222222222,\"#7201a8\"],[0.3333333333333333,\"#9c179e\"],[0.4444444444444444,\"#bd3786\"],[0.5555555555555556,\"#d8576b\"],[0.6666666666666666,\"#ed7953\"],[0.7777777777777778,\"#fb9f3a\"],[0.8888888888888888,\"#fdca26\"],[1.0,\"#f0f921\"]]}],\"surface\":[{\"type\":\"surface\",\"colorbar\":{\"outlinewidth\":0,\"ticks\":\"\"},\"colorscale\":[[0.0,\"#0d0887\"],[0.1111111111111111,\"#46039f\"],[0.2222222222222222,\"#7201a8\"],[0.3333333333333333,\"#9c179e\"],[0.4444444444444444,\"#bd3786\"],[0.5555555555555556,\"#d8576b\"],[0.6666666666666666,\"#ed7953\"],[0.7777777777777778,\"#fb9f3a\"],[0.8888888888888888,\"#fdca26\"],[1.0,\"#f0f921\"]]}],\"mesh3d\":[{\"type\":\"mesh3d\",\"colorbar\":{\"outlinewidth\":0,\"ticks\":\"\"}}],\"scatter\":[{\"fillpattern\":{\"fillmode\":\"overlay\",\"size\":10,\"solidity\":0.2},\"type\":\"scatter\"}],\"parcoords\":[{\"type\":\"parcoords\",\"line\":{\"colorbar\":{\"outlinewidth\":0,\"ticks\":\"\"}}}],\"scatterpolargl\":[{\"type\":\"scatterpolargl\",\"marker\":{\"colorbar\":{\"outlinewidth\":0,\"ticks\":\"\"}}}],\"bar\":[{\"error_x\":{\"color\":\"#2a3f5f\"},\"error_y\":{\"color\":\"#2a3f5f\"},\"marker\":{\"line\":{\"color\":\"#E5ECF6\",\"width\":0.5},\"pattern\":{\"fillmode\":\"overlay\",\"size\":10,\"solidity\":0.2}},\"type\":\"bar\"}],\"scattergeo\":[{\"type\":\"scattergeo\",\"marker\":{\"colorbar\":{\"outlinewidth\":0,\"ticks\":\"\"}}}],\"scatterpolar\":[{\"type\":\"scatterpolar\",\"marker\":{\"colorbar\":{\"outlinewidth\":0,\"ticks\":\"\"}}}],\"histogram\":[{\"marker\":{\"pattern\":{\"fillmode\":\"overlay\",\"size\":10,\"solidity\":0.2}},\"type\":\"histogram\"}],\"scattergl\":[{\"type\":\"scattergl\",\"marker\":{\"colorbar\":{\"outlinewidth\":0,\"ticks\":\"\"}}}],\"scatter3d\":[{\"type\":\"scatter3d\",\"line\":{\"colorbar\":{\"outlinewidth\":0,\"ticks\":\"\"}},\"marker\":{\"colorbar\":{\"outlinewidth\":0,\"ticks\":\"\"}}}],\"scattermapbox\":[{\"type\":\"scattermapbox\",\"marker\":{\"colorbar\":{\"outlinewidth\":0,\"ticks\":\"\"}}}],\"scatterternary\":[{\"type\":\"scatterternary\",\"marker\":{\"colorbar\":{\"outlinewidth\":0,\"ticks\":\"\"}}}],\"scattercarpet\":[{\"type\":\"scattercarpet\",\"marker\":{\"colorbar\":{\"outlinewidth\":0,\"ticks\":\"\"}}}],\"carpet\":[{\"aaxis\":{\"endlinecolor\":\"#2a3f5f\",\"gridcolor\":\"white\",\"linecolor\":\"white\",\"minorgridcolor\":\"white\",\"startlinecolor\":\"#2a3f5f\"},\"baxis\":{\"endlinecolor\":\"#2a3f5f\",\"gridcolor\":\"white\",\"linecolor\":\"white\",\"minorgridcolor\":\"white\",\"startlinecolor\":\"#2a3f5f\"},\"type\":\"carpet\"}],\"table\":[{\"cells\":{\"fill\":{\"color\":\"#EBF0F8\"},\"line\":{\"color\":\"white\"}},\"header\":{\"fill\":{\"color\":\"#C8D4E3\"},\"line\":{\"color\":\"white\"}},\"type\":\"table\"}],\"barpolar\":[{\"marker\":{\"line\":{\"color\":\"#E5ECF6\",\"width\":0.5},\"pattern\":{\"fillmode\":\"overlay\",\"size\":10,\"solidity\":0.2}},\"type\":\"barpolar\"}],\"pie\":[{\"automargin\":true,\"type\":\"pie\"}]},\"layout\":{\"autotypenumbers\":\"strict\",\"colorway\":[\"#636efa\",\"#EF553B\",\"#00cc96\",\"#ab63fa\",\"#FFA15A\",\"#19d3f3\",\"#FF6692\",\"#B6E880\",\"#FF97FF\",\"#FECB52\"],\"font\":{\"color\":\"#2a3f5f\"},\"hovermode\":\"closest\",\"hoverlabel\":{\"align\":\"left\"},\"paper_bgcolor\":\"white\",\"plot_bgcolor\":\"#E5ECF6\",\"polar\":{\"bgcolor\":\"#E5ECF6\",\"angularaxis\":{\"gridcolor\":\"white\",\"linecolor\":\"white\",\"ticks\":\"\"},\"radialaxis\":{\"gridcolor\":\"white\",\"linecolor\":\"white\",\"ticks\":\"\"}},\"ternary\":{\"bgcolor\":\"#E5ECF6\",\"aaxis\":{\"gridcolor\":\"white\",\"linecolor\":\"white\",\"ticks\":\"\"},\"baxis\":{\"gridcolor\":\"white\",\"linecolor\":\"white\",\"ticks\":\"\"},\"caxis\":{\"gridcolor\":\"white\",\"linecolor\":\"white\",\"ticks\":\"\"}},\"coloraxis\":{\"colorbar\":{\"outlinewidth\":0,\"ticks\":\"\"}},\"colorscale\":{\"sequential\":[[0.0,\"#0d0887\"],[0.1111111111111111,\"#46039f\"],[0.2222222222222222,\"#7201a8\"],[0.3333333333333333,\"#9c179e\"],[0.4444444444444444,\"#bd3786\"],[0.5555555555555556,\"#d8576b\"],[0.6666666666666666,\"#ed7953\"],[0.7777777777777778,\"#fb9f3a\"],[0.8888888888888888,\"#fdca26\"],[1.0,\"#f0f921\"]],\"sequentialminus\":[[0.0,\"#0d0887\"],[0.1111111111111111,\"#46039f\"],[0.2222222222222222,\"#7201a8\"],[0.3333333333333333,\"#9c179e\"],[0.4444444444444444,\"#bd3786\"],[0.5555555555555556,\"#d8576b\"],[0.6666666666666666,\"#ed7953\"],[0.7777777777777778,\"#fb9f3a\"],[0.8888888888888888,\"#fdca26\"],[1.0,\"#f0f921\"]],\"diverging\":[[0,\"#8e0152\"],[0.1,\"#c51b7d\"],[0.2,\"#de77ae\"],[0.3,\"#f1b6da\"],[0.4,\"#fde0ef\"],[0.5,\"#f7f7f7\"],[0.6,\"#e6f5d0\"],[0.7,\"#b8e186\"],[0.8,\"#7fbc41\"],[0.9,\"#4d9221\"],[1,\"#276419\"]]},\"xaxis\":{\"gridcolor\":\"white\",\"linecolor\":\"white\",\"ticks\":\"\",\"title\":{\"standoff\":15},\"zerolinecolor\":\"white\",\"automargin\":true,\"zerolinewidth\":2},\"yaxis\":{\"gridcolor\":\"white\",\"linecolor\":\"white\",\"ticks\":\"\",\"title\":{\"standoff\":15},\"zerolinecolor\":\"white\",\"automargin\":true,\"zerolinewidth\":2},\"scene\":{\"xaxis\":{\"backgroundcolor\":\"#E5ECF6\",\"gridcolor\":\"white\",\"linecolor\":\"white\",\"showbackground\":true,\"ticks\":\"\",\"zerolinecolor\":\"white\",\"gridwidth\":2},\"yaxis\":{\"backgroundcolor\":\"#E5ECF6\",\"gridcolor\":\"white\",\"linecolor\":\"white\",\"showbackground\":true,\"ticks\":\"\",\"zerolinecolor\":\"white\",\"gridwidth\":2},\"zaxis\":{\"backgroundcolor\":\"#E5ECF6\",\"gridcolor\":\"white\",\"linecolor\":\"white\",\"showbackground\":true,\"ticks\":\"\",\"zerolinecolor\":\"white\",\"gridwidth\":2}},\"shapedefaults\":{\"line\":{\"color\":\"#2a3f5f\"}},\"annotationdefaults\":{\"arrowcolor\":\"#2a3f5f\",\"arrowhead\":0,\"arrowwidth\":1},\"geo\":{\"bgcolor\":\"white\",\"landcolor\":\"#E5ECF6\",\"subunitcolor\":\"white\",\"showland\":true,\"showlakes\":true,\"lakecolor\":\"white\"},\"title\":{\"x\":0.05},\"mapbox\":{\"style\":\"light\"}}},\"xaxis\":{\"anchor\":\"y\",\"domain\":[0.0,1.0],\"range\":[-0.5,27.5],\"tickvals\":[-0.5,0,1,2,3,4,5,6,7,8,9,10,11,12,13,14,15,16,17,18,19,20,21,22,23,24,25,26,27,27.5],\"ticktext\":[\"\",\"base\",\"mPointCP\",\"mIntCP\",\"mNCP\",\"PointCP\",\"IntCP\",\"NCP\",\"base\",\"mPointCP\",\"mIntCP\",\"mNCP\",\"PointCP\",\"IntCP\",\"NCP\",\"base\",\"mPointCP\",\"mIntCP\",\"mNCP\",\"PointCP\",\"IntCP\",\"NCP\",\"base\",\"mPointCP\",\"mIntCP\",\"mNCP\",\"PointCP\",\"IntCP\",\"NCP\",\"\"],\"showticklabels\":false},\"yaxis\":{\"anchor\":\"x\",\"domain\":[0.7777777777777778,1.0]},\"xaxis2\":{\"anchor\":\"y2\",\"domain\":[0.0,1.0],\"range\":[-0.5,27.5],\"tickvals\":[-0.5,0,1,2,3,4,5,6,7,8,9,10,11,12,13,14,15,16,17,18,19,20,21,22,23,24,25,26,27,27.5],\"ticktext\":[\"\",\"base\",\"mPointCP\",\"mIntCP\",\"mNCP\",\"PointCP\",\"IntCP\",\"NCP\",\"base\",\"mPointCP\",\"mIntCP\",\"mNCP\",\"PointCP\",\"IntCP\",\"NCP\",\"base\",\"mPointCP\",\"mIntCP\",\"mNCP\",\"PointCP\",\"IntCP\",\"NCP\",\"base\",\"mPointCP\",\"mIntCP\",\"mNCP\",\"PointCP\",\"IntCP\",\"NCP\",\"\"],\"showticklabels\":false},\"yaxis2\":{\"anchor\":\"x2\",\"domain\":[0.3888888888888889,0.6111111111111112]},\"xaxis3\":{\"anchor\":\"y3\",\"domain\":[0.0,1.0],\"tickangle\":45,\"range\":[-0.5,27.5],\"tickvals\":[-0.5,0,1,2,3,4,5,6,7,8,9,10,11,12,13,14,15,16,17,18,19,20,21,22,23,24,25,26,27,27.5],\"ticktext\":[\"\",\"base\",\"mPointCP\",\"mIntCP\",\"mNCP\",\"PointCP\",\"IntCP\",\"NCP\",\"base\",\"mPointCP\",\"mIntCP\",\"mNCP\",\"PointCP\",\"IntCP\",\"NCP\",\"base\",\"mPointCP\",\"mIntCP\",\"mNCP\",\"PointCP\",\"IntCP\",\"NCP\",\"base\",\"mPointCP\",\"mIntCP\",\"mNCP\",\"PointCP\",\"IntCP\",\"NCP\",\"\"]},\"yaxis3\":{\"anchor\":\"x3\",\"domain\":[0.0,0.22222222222222224]},\"annotations\":[{\"font\":{\"size\":16},\"showarrow\":false,\"text\":\"Low variance\",\"x\":0.5,\"xanchor\":\"center\",\"xref\":\"paper\",\"y\":1.0,\"yanchor\":\"bottom\",\"yref\":\"paper\"},{\"font\":{\"size\":16},\"showarrow\":false,\"text\":\"Medium variance\",\"x\":0.5,\"xanchor\":\"center\",\"xref\":\"paper\",\"y\":0.6111111111111112,\"yanchor\":\"bottom\",\"yref\":\"paper\"},{\"font\":{\"size\":16},\"showarrow\":false,\"text\":\"High variance\",\"x\":0.5,\"xanchor\":\"center\",\"xref\":\"paper\",\"y\":0.22222222222222224,\"yanchor\":\"bottom\",\"yref\":\"paper\"}],\"shapes\":[{\"fillcolor\":\"rgb(179,226,205)\",\"layer\":\"below\",\"line\":{\"width\":0},\"opacity\":0.5,\"type\":\"rect\",\"x0\":-0.5,\"x1\":6.5,\"xref\":\"x\",\"y0\":0,\"y1\":1,\"yref\":\"y domain\"},{\"fillcolor\":\"rgb(253,205,172)\",\"layer\":\"below\",\"line\":{\"width\":0},\"opacity\":0.5,\"type\":\"rect\",\"x0\":6.5,\"x1\":13.5,\"xref\":\"x\",\"y0\":0,\"y1\":1,\"yref\":\"y domain\"},{\"fillcolor\":\"rgb(203,213,232)\",\"layer\":\"below\",\"line\":{\"width\":0},\"opacity\":0.5,\"type\":\"rect\",\"x0\":13.5,\"x1\":20.5,\"xref\":\"x\",\"y0\":0,\"y1\":1,\"yref\":\"y domain\"},{\"fillcolor\":\"rgb(244,202,228)\",\"layer\":\"below\",\"line\":{\"width\":0},\"opacity\":0.5,\"type\":\"rect\",\"x0\":20.5,\"x1\":27.5,\"xref\":\"x\",\"y0\":0,\"y1\":1,\"yref\":\"y domain\"},{\"fillcolor\":\"rgb(179,226,205)\",\"layer\":\"below\",\"line\":{\"width\":0},\"opacity\":0.5,\"type\":\"rect\",\"x0\":-0.5,\"x1\":6.5,\"xref\":\"x2\",\"y0\":0,\"y1\":1,\"yref\":\"y2 domain\"},{\"fillcolor\":\"rgb(253,205,172)\",\"layer\":\"below\",\"line\":{\"width\":0},\"opacity\":0.5,\"type\":\"rect\",\"x0\":6.5,\"x1\":13.5,\"xref\":\"x2\",\"y0\":0,\"y1\":1,\"yref\":\"y2 domain\"},{\"fillcolor\":\"rgb(203,213,232)\",\"layer\":\"below\",\"line\":{\"width\":0},\"opacity\":0.5,\"type\":\"rect\",\"x0\":13.5,\"x1\":20.5,\"xref\":\"x2\",\"y0\":0,\"y1\":1,\"yref\":\"y2 domain\"},{\"fillcolor\":\"rgb(244,202,228)\",\"layer\":\"below\",\"line\":{\"width\":0},\"opacity\":0.5,\"type\":\"rect\",\"x0\":20.5,\"x1\":27.5,\"xref\":\"x2\",\"y0\":0,\"y1\":1,\"yref\":\"y2 domain\"},{\"fillcolor\":\"rgb(179,226,205)\",\"layer\":\"below\",\"line\":{\"width\":0},\"opacity\":0.5,\"type\":\"rect\",\"x0\":-0.5,\"x1\":6.5,\"xref\":\"x3\",\"y0\":0,\"y1\":1,\"yref\":\"y3 domain\"},{\"fillcolor\":\"rgb(253,205,172)\",\"layer\":\"below\",\"line\":{\"width\":0},\"opacity\":0.5,\"type\":\"rect\",\"x0\":6.5,\"x1\":13.5,\"xref\":\"x3\",\"y0\":0,\"y1\":1,\"yref\":\"y3 domain\"},{\"fillcolor\":\"rgb(203,213,232)\",\"layer\":\"below\",\"line\":{\"width\":0},\"opacity\":0.5,\"type\":\"rect\",\"x0\":13.5,\"x1\":20.5,\"xref\":\"x3\",\"y0\":0,\"y1\":1,\"yref\":\"y3 domain\"},{\"fillcolor\":\"rgb(244,202,228)\",\"layer\":\"below\",\"line\":{\"width\":0},\"opacity\":0.5,\"type\":\"rect\",\"x0\":20.5,\"x1\":27.5,\"xref\":\"x3\",\"y0\":0,\"y1\":1,\"yref\":\"y3 domain\"}],\"margin\":{\"l\":0,\"r\":0,\"t\":70,\"b\":0},\"width\":1000,\"title\":{\"text\":\"$\\\\text{Conditional PI width (}\\\\alpha=0.1\\\\text{)}$\"}},                        {\"responsive\": true}                    ).then(function(){\n",
       "                            \n",
       "var gd = document.getElementById('f5b9705a-39cd-49aa-953e-2608263c08f2');\n",
       "var x = new MutationObserver(function (mutations, observer) {{\n",
       "        var display = window.getComputedStyle(gd).display;\n",
       "        if (!display || display === 'none') {{\n",
       "            console.log([gd, 'removed!']);\n",
       "            Plotly.purge(gd);\n",
       "            observer.disconnect();\n",
       "        }}\n",
       "}});\n",
       "\n",
       "// Listen for the removal of the full notebook cells\n",
       "var notebookContainer = gd.closest('#notebook-container');\n",
       "if (notebookContainer) {{\n",
       "    x.observe(notebookContainer, {childList: true});\n",
       "}}\n",
       "\n",
       "// Listen for the clearing of the current output cell\n",
       "var outputEl = gd.closest('.output');\n",
       "if (outputEl) {{\n",
       "    x.observe(outputEl, {childList: true});\n",
       "}}\n",
       "\n",
       "                        })                };                });            </script>        </div>"
      ]
     },
     "metadata": {},
     "output_type": "display_data"
    },
    {
     "data": {
      "application/vnd.plotly.v1+json": {
       "config": {
        "plotlyServerURL": "https://plot.ly"
       },
       "data": [
        {
         "line": {
          "color": "rgb(31, 119, 180)"
         },
         "showlegend": false,
         "spanmode": "hard",
         "type": "violin",
         "x0": 0,
         "xaxis": "x",
         "y": [
          0.16658889185891812,
          0.20198237935790286,
          0.07635317306895761,
          0.14470219493474057,
          0.1208590379145491,
          0.15556057177442384,
          0.1432670160130406,
          0.17699174761492187,
          0.1786059572233848,
          0.09758308097797497
         ],
         "yaxis": "y"
        },
        {
         "marker": {
          "color": "rgb(179,226,205)",
          "size": 7,
          "symbol": "square"
         },
         "mode": "markers",
         "name": "QR",
         "type": "scatter",
         "x": [
          null
         ],
         "xaxis": "x",
         "y": [
          null
         ],
         "yaxis": "y"
        },
        {
         "line": {
          "color": "rgb(255, 127, 14)"
         },
         "showlegend": false,
         "spanmode": "hard",
         "type": "violin",
         "x0": 1,
         "xaxis": "x",
         "y": [
          0.17567474843913722,
          0.10831645764919806,
          0.13435394248165844,
          0.1773583029722684,
          0.06854261705861053,
          0.14252313666524397,
          0.13580078379138705,
          0.12323536976035143,
          0.10749491725529203,
          0.12473971104570258
         ],
         "yaxis": "y"
        },
        {
         "line": {
          "color": "rgb(44, 160, 44)"
         },
         "showlegend": false,
         "spanmode": "hard",
         "type": "violin",
         "x0": 2,
         "xaxis": "x",
         "y": [
          0.17567474843913722,
          0.10831645764919806,
          0.13435394248165844,
          0.1773583029722684,
          0.06854261705861053,
          0.14252313666524397,
          0.13580078379138705,
          0.12323536976035143,
          0.10749491725529203,
          0.12473971104570258
         ],
         "yaxis": "y"
        },
        {
         "line": {
          "color": "rgb(214, 39, 40)"
         },
         "showlegend": false,
         "spanmode": "hard",
         "type": "violin",
         "x0": 3,
         "xaxis": "x",
         "y": [
          0.17567474843913722,
          0.10831645764919806,
          0.13435394248165844,
          0.1773583029722684,
          0.06854261705861053,
          0.14252313666524397,
          0.13580078379138705,
          0.12323536976035143,
          0.10749491725529203,
          0.12473971104570258
         ],
         "yaxis": "y"
        },
        {
         "line": {
          "color": "rgb(148, 103, 189)"
         },
         "showlegend": false,
         "spanmode": "hard",
         "type": "violin",
         "x0": 4,
         "xaxis": "x",
         "y": [
          0.17567474843913722,
          0.10831645764919806,
          0.13435394248165844,
          0.1773583029722684,
          0.06854261705861053,
          0.14252313666524397,
          0.13580078379138705,
          0.12323536976035143,
          0.10749491725529203,
          0.12473971104570258
         ],
         "yaxis": "y"
        },
        {
         "line": {
          "color": "rgb(140, 86, 75)"
         },
         "showlegend": false,
         "spanmode": "hard",
         "type": "violin",
         "x0": 5,
         "xaxis": "x",
         "y": [
          0.17567474843913722,
          0.10831645764919806,
          0.13435394248165844,
          0.1773583029722684,
          0.06854261705861053,
          0.14252313666524397,
          0.13580078379138705,
          0.12323536976035143,
          0.10749491725529203,
          0.12473971104570258
         ],
         "yaxis": "y"
        },
        {
         "line": {
          "color": "rgb(227, 119, 194)"
         },
         "showlegend": false,
         "spanmode": "hard",
         "type": "violin",
         "x0": 6,
         "xaxis": "x",
         "y": [
          0.17567474843913722,
          0.10831645764919806,
          0.13435394248165844,
          0.1773583029722684,
          0.06854261705861053,
          0.14252313666524397,
          0.13580078379138705,
          0.12323536976035143,
          0.10749491725529203,
          0.12473971104570258
         ],
         "yaxis": "y"
        },
        {
         "line": {
          "color": "rgb(31, 119, 180)"
         },
         "showlegend": false,
         "spanmode": "hard",
         "type": "violin",
         "x0": 7,
         "xaxis": "x",
         "y": [
          0.15477703395535802,
          0.25555958848783134,
          0.20159937949147944,
          0.161735293963587,
          0.17597136752353526,
          0.14260715144312708,
          0.16302286553116885,
          0.25151760742655205,
          0.1787155132303474,
          0.1682085840014742
         ],
         "yaxis": "y"
        },
        {
         "marker": {
          "color": "rgb(253,205,172)",
          "size": 7,
          "symbol": "square"
         },
         "mode": "markers",
         "name": "QRF",
         "type": "scatter",
         "x": [
          null
         ],
         "xaxis": "x",
         "y": [
          null
         ],
         "yaxis": "y"
        },
        {
         "line": {
          "color": "rgb(255, 127, 14)"
         },
         "showlegend": false,
         "spanmode": "hard",
         "type": "violin",
         "x0": 8,
         "xaxis": "x",
         "y": [
          0.1275039309172583,
          0.23840006502015598,
          0.24386754264206756,
          0.22088205507762126,
          0.19863158736234343,
          0.1228488379901832,
          0.15357362762702498,
          0.22141004605052084,
          0.16539176046024184,
          0.13788287004755684
         ],
         "yaxis": "y"
        },
        {
         "line": {
          "color": "rgb(44, 160, 44)"
         },
         "showlegend": false,
         "spanmode": "hard",
         "type": "violin",
         "x0": 9,
         "xaxis": "x",
         "y": [
          0.1275039309172583,
          0.23840006502015598,
          0.24386754264206756,
          0.22088205507762126,
          0.19863158736234343,
          0.1228488379901832,
          0.15357362762702498,
          0.22141004605052084,
          0.16539176046024184,
          0.13788287004755684
         ],
         "yaxis": "y"
        },
        {
         "line": {
          "color": "rgb(214, 39, 40)"
         },
         "showlegend": false,
         "spanmode": "hard",
         "type": "violin",
         "x0": 10,
         "xaxis": "x",
         "y": [
          0.1275039309172583,
          0.23840006502015598,
          0.24386754264206756,
          0.22088205507762126,
          0.19863158736234343,
          0.1228488379901832,
          0.15357362762702498,
          0.22141004605052084,
          0.16539176046024184,
          0.13788287004755684
         ],
         "yaxis": "y"
        },
        {
         "line": {
          "color": "rgb(148, 103, 189)"
         },
         "showlegend": false,
         "spanmode": "hard",
         "type": "violin",
         "x0": 11,
         "xaxis": "x",
         "y": [
          0.1275039309172583,
          0.23840006502015598,
          0.24386754264206756,
          0.22088205507762126,
          0.19863158736234343,
          0.1228488379901832,
          0.15357362762702498,
          0.22141004605052084,
          0.16539176046024184,
          0.13788287004755684
         ],
         "yaxis": "y"
        },
        {
         "line": {
          "color": "rgb(140, 86, 75)"
         },
         "showlegend": false,
         "spanmode": "hard",
         "type": "violin",
         "x0": 12,
         "xaxis": "x",
         "y": [
          0.1275039309172583,
          0.23840006502015598,
          0.24386754264206756,
          0.22088205507762126,
          0.19863158736234343,
          0.1228488379901832,
          0.15357362762702498,
          0.22141004605052084,
          0.16539176046024184,
          0.13788287004755684
         ],
         "yaxis": "y"
        },
        {
         "line": {
          "color": "rgb(227, 119, 194)"
         },
         "showlegend": false,
         "spanmode": "hard",
         "type": "violin",
         "x0": 13,
         "xaxis": "x",
         "y": [
          0.1275039309172583,
          0.23840006502015598,
          0.24386754264206756,
          0.22088205507762126,
          0.19863158736234343,
          0.1228488379901832,
          0.15357362762702498,
          0.22141004605052084,
          0.16539176046024184,
          0.13788287004755684
         ],
         "yaxis": "y"
        },
        {
         "line": {
          "color": "rgb(31, 119, 180)"
         },
         "showlegend": false,
         "spanmode": "hard",
         "type": "violin",
         "x0": 14,
         "xaxis": "x",
         "y": [
          0.005124250322498414,
          0.08291288056875445,
          0.13060281983161048,
          0.14563608323786637,
          0.04895967546580804,
          0.13552182346418862,
          0.08458409529427358,
          0.0852687661378757,
          -0.026549286502346447,
          0.0010342516439902916
         ],
         "yaxis": "y"
        },
        {
         "marker": {
          "color": "rgb(203,213,232)",
          "size": 7,
          "symbol": "square"
         },
         "mode": "markers",
         "name": "MV",
         "type": "scatter",
         "x": [
          null
         ],
         "xaxis": "x",
         "y": [
          null
         ],
         "yaxis": "y"
        },
        {
         "line": {
          "color": "rgb(255, 127, 14)"
         },
         "showlegend": false,
         "spanmode": "hard",
         "type": "violin",
         "x0": 15,
         "xaxis": "x",
         "y": [
          0.005124250322498414,
          0.08291288056875445,
          0.13060281983161048,
          0.14563608323786637,
          0.04895967546580804,
          0.13552182346418862,
          0.08458409529427358,
          0.0852687661378757,
          -0.026549286502346447,
          0.0010342516439902916
         ],
         "yaxis": "y"
        },
        {
         "line": {
          "color": "rgb(44, 160, 44)"
         },
         "showlegend": false,
         "spanmode": "hard",
         "type": "violin",
         "x0": 16,
         "xaxis": "x",
         "y": [
          0.005124250322498414,
          0.08291288056875445,
          0.13060281983161048,
          0.14563608323786637,
          0.04895967546580804,
          0.13552182346418862,
          0.08458409529427358,
          0.0852687661378757,
          -0.026549286502346447,
          0.0010342516439902916
         ],
         "yaxis": "y"
        },
        {
         "line": {
          "color": "rgb(214, 39, 40)"
         },
         "showlegend": false,
         "spanmode": "hard",
         "type": "violin",
         "x0": 17,
         "xaxis": "x",
         "y": [
          0.005124250322498414,
          0.08291288056875445,
          0.13060281983161048,
          0.14563608323786637,
          0.04895967546580804,
          0.13552182346418862,
          0.08458409529427358,
          0.0852687661378757,
          -0.026549286502346447,
          0.0010342516439902916
         ],
         "yaxis": "y"
        },
        {
         "line": {
          "color": "rgb(148, 103, 189)"
         },
         "showlegend": false,
         "spanmode": "hard",
         "type": "violin",
         "x0": 18,
         "xaxis": "x",
         "y": [
          0.005124250322498414,
          0.08291288056875445,
          0.13060281983161048,
          0.14563608323786637,
          0.04895967546580804,
          0.13552182346418862,
          0.08458409529427358,
          0.0852687661378757,
          -0.026549286502346447,
          0.0010342516439902916
         ],
         "yaxis": "y"
        },
        {
         "line": {
          "color": "rgb(140, 86, 75)"
         },
         "showlegend": false,
         "spanmode": "hard",
         "type": "violin",
         "x0": 19,
         "xaxis": "x",
         "y": [
          0.005124250322498414,
          0.08291288056875445,
          0.13060281983161048,
          0.14563608323786637,
          0.04895967546580804,
          0.13552182346418862,
          0.08458409529427358,
          0.0852687661378757,
          -0.026549286502346447,
          0.0010342516439902916
         ],
         "yaxis": "y"
        },
        {
         "line": {
          "color": "rgb(227, 119, 194)"
         },
         "showlegend": false,
         "spanmode": "hard",
         "type": "violin",
         "x0": 20,
         "xaxis": "x",
         "y": [
          0.005124250322498414,
          0.08291288056875445,
          0.13060281983161048,
          0.14563608323786637,
          0.04895967546580804,
          0.13552182346418862,
          0.08458409529427358,
          0.0852687661378757,
          -0.026549286502346447,
          0.0010342516439902916
         ],
         "yaxis": "y"
        },
        {
         "line": {
          "color": "rgb(31, 119, 180)"
         },
         "showlegend": false,
         "spanmode": "hard",
         "type": "violin",
         "x0": 21,
         "xaxis": "x",
         "y": [
          0.14162698184182843,
          0.1509434975328493,
          0.1301581267276265,
          0.11158637185279208,
          0.06034081565437266,
          0.038051949119189854,
          0.08801979198521825,
          0.14028949963820725,
          0.12967567593659923,
          0.06155741519884528
         ],
         "yaxis": "y"
        },
        {
         "marker": {
          "color": "rgb(244,202,228)",
          "size": 7,
          "symbol": "square"
         },
         "mode": "markers",
         "name": "MVE",
         "type": "scatter",
         "x": [
          null
         ],
         "xaxis": "x",
         "y": [
          null
         ],
         "yaxis": "y"
        },
        {
         "line": {
          "color": "rgb(255, 127, 14)"
         },
         "showlegend": false,
         "spanmode": "hard",
         "type": "violin",
         "x0": 22,
         "xaxis": "x",
         "y": [
          0.14162698184182843,
          0.1509434975328493,
          0.1301581267276265,
          0.11158637185279208,
          0.06034081565437266,
          0.038051949119189854,
          0.08801979198521825,
          0.14028949963820725,
          0.12967567593659923,
          0.06155741519884528
         ],
         "yaxis": "y"
        },
        {
         "line": {
          "color": "rgb(44, 160, 44)"
         },
         "showlegend": false,
         "spanmode": "hard",
         "type": "violin",
         "x0": 23,
         "xaxis": "x",
         "y": [
          0.14162698184182843,
          0.1509434975328493,
          0.1301581267276265,
          0.11158637185279208,
          0.06034081565437266,
          0.038051949119189854,
          0.08801979198521825,
          0.14028949963820725,
          0.12967567593659923,
          0.06155741519884528
         ],
         "yaxis": "y"
        },
        {
         "line": {
          "color": "rgb(214, 39, 40)"
         },
         "showlegend": false,
         "spanmode": "hard",
         "type": "violin",
         "x0": 24,
         "xaxis": "x",
         "y": [
          0.14162698184182843,
          0.1509434975328493,
          0.1301581267276265,
          0.11158637185279208,
          0.06034081565437266,
          0.038051949119189854,
          0.08801979198521825,
          0.14028949963820725,
          0.12967567593659923,
          0.06155741519884528
         ],
         "yaxis": "y"
        },
        {
         "line": {
          "color": "rgb(148, 103, 189)"
         },
         "showlegend": false,
         "spanmode": "hard",
         "type": "violin",
         "x0": 25,
         "xaxis": "x",
         "y": [
          0.14162698184182843,
          0.1509434975328493,
          0.1301581267276265,
          0.11158637185279208,
          0.06034081565437266,
          0.038051949119189854,
          0.08801979198521825,
          0.14028949963820725,
          0.12967567593659923,
          0.06155741519884528
         ],
         "yaxis": "y"
        },
        {
         "line": {
          "color": "rgb(140, 86, 75)"
         },
         "showlegend": false,
         "spanmode": "hard",
         "type": "violin",
         "x0": 26,
         "xaxis": "x",
         "y": [
          0.14162698184182843,
          0.1509434975328493,
          0.1301581267276265,
          0.11158637185279208,
          0.06034081565437266,
          0.038051949119189854,
          0.08801979198521825,
          0.14028949963820725,
          0.12967567593659923,
          0.06155741519884528
         ],
         "yaxis": "y"
        },
        {
         "line": {
          "color": "rgb(227, 119, 194)"
         },
         "showlegend": false,
         "spanmode": "hard",
         "type": "violin",
         "x0": 27,
         "xaxis": "x",
         "y": [
          0.14162698184182843,
          0.1509434975328493,
          0.1301581267276265,
          0.11158637185279208,
          0.06034081565437266,
          0.038051949119189854,
          0.08801979198521825,
          0.14028949963820725,
          0.12967567593659923,
          0.06155741519884528
         ],
         "yaxis": "y"
        },
        {
         "line": {
          "color": "rgb(31, 119, 180)"
         },
         "showlegend": false,
         "spanmode": "hard",
         "type": "violin",
         "x0": 0,
         "xaxis": "x2",
         "y": [
          0.15697831812986518,
          0.2014859167870473,
          0.2489265770062823,
          0.2210997511079088,
          0.14690338789447555,
          0.20620534255490774,
          0.20329266318198236,
          0.1095959709145935,
          0.17850528039202995,
          0.2082670777737594
         ],
         "yaxis": "y2"
        },
        {
         "line": {
          "color": "rgb(255, 127, 14)"
         },
         "showlegend": false,
         "spanmode": "hard",
         "type": "violin",
         "x0": 1,
         "xaxis": "x2",
         "y": [
          0.09614389215156338,
          0.27340775398925965,
          0.17958445870988038,
          0.21026774172670404,
          0.11550750117369835,
          0.16688230561306494,
          0.16966366220893403,
          0.19825738675654414,
          0.18429739622955132,
          0.10470811614453501
         ],
         "yaxis": "y2"
        },
        {
         "line": {
          "color": "rgb(44, 160, 44)"
         },
         "showlegend": false,
         "spanmode": "hard",
         "type": "violin",
         "x0": 2,
         "xaxis": "x2",
         "y": [
          0.09614389215156338,
          0.27340775398925965,
          0.17958445870988038,
          0.21026774172670404,
          0.11550750117369835,
          0.16688230561306494,
          0.16966366220893403,
          0.19825738675654414,
          0.18429739622955132,
          0.10470811614453501
         ],
         "yaxis": "y2"
        },
        {
         "line": {
          "color": "rgb(214, 39, 40)"
         },
         "showlegend": false,
         "spanmode": "hard",
         "type": "violin",
         "x0": 3,
         "xaxis": "x2",
         "y": [
          0.09614389215156338,
          0.27340775398925965,
          0.17958445870988038,
          0.21026774172670404,
          0.11550750117369835,
          0.16688230561306494,
          0.16966366220893403,
          0.19825738675654414,
          0.18429739622955132,
          0.10470811614453501
         ],
         "yaxis": "y2"
        },
        {
         "line": {
          "color": "rgb(148, 103, 189)"
         },
         "showlegend": false,
         "spanmode": "hard",
         "type": "violin",
         "x0": 4,
         "xaxis": "x2",
         "y": [
          0.09614389215156338,
          0.27340775398925965,
          0.17958445870988038,
          0.21026774172670404,
          0.11550750117369835,
          0.16688230561306494,
          0.16966366220893403,
          0.19825738675654414,
          0.18429739622955132,
          0.10470811614453501
         ],
         "yaxis": "y2"
        },
        {
         "line": {
          "color": "rgb(140, 86, 75)"
         },
         "showlegend": false,
         "spanmode": "hard",
         "type": "violin",
         "x0": 5,
         "xaxis": "x2",
         "y": [
          0.09614389215156338,
          0.27340775398925965,
          0.17958445870988038,
          0.21026774172670404,
          0.11550750117369835,
          0.16688230561306494,
          0.16966366220893403,
          0.19825738675654414,
          0.18429739622955132,
          0.10470811614453501
         ],
         "yaxis": "y2"
        },
        {
         "line": {
          "color": "rgb(227, 119, 194)"
         },
         "showlegend": false,
         "spanmode": "hard",
         "type": "violin",
         "x0": 6,
         "xaxis": "x2",
         "y": [
          0.09614389215156338,
          0.27340775398925965,
          0.17958445870988038,
          0.21026774172670404,
          0.11550750117369835,
          0.16688230561306494,
          0.16966366220893403,
          0.19825738675654414,
          0.18429739622955132,
          0.10470811614453501
         ],
         "yaxis": "y2"
        },
        {
         "line": {
          "color": "rgb(31, 119, 180)"
         },
         "showlegend": false,
         "spanmode": "hard",
         "type": "violin",
         "x0": 7,
         "xaxis": "x2",
         "y": [
          0.17851244376228081,
          0.1906873004956252,
          0.19296419129057385,
          0.19882710474446585,
          0.15436134285337866,
          0.17192553147264045,
          0.17696344549061194,
          0.12406881753225418,
          0.1831622537712665,
          0.1392766749602259
         ],
         "yaxis": "y2"
        },
        {
         "line": {
          "color": "rgb(255, 127, 14)"
         },
         "showlegend": false,
         "spanmode": "hard",
         "type": "violin",
         "x0": 8,
         "xaxis": "x2",
         "y": [
          0.16312970261913307,
          0.19418573355112934,
          0.1834161381370718,
          0.19162387030669847,
          0.1272956763197809,
          0.17000141785008005,
          0.18118442053271422,
          0.19832203982561325,
          0.18129132413635063,
          0.1532132338304737
         ],
         "yaxis": "y2"
        },
        {
         "line": {
          "color": "rgb(44, 160, 44)"
         },
         "showlegend": false,
         "spanmode": "hard",
         "type": "violin",
         "x0": 9,
         "xaxis": "x2",
         "y": [
          0.16312970261913307,
          0.19418573355112934,
          0.1834161381370718,
          0.19162387030669847,
          0.1272956763197809,
          0.17000141785008005,
          0.18118442053271422,
          0.19832203982561325,
          0.18129132413635063,
          0.1532132338304737
         ],
         "yaxis": "y2"
        },
        {
         "line": {
          "color": "rgb(214, 39, 40)"
         },
         "showlegend": false,
         "spanmode": "hard",
         "type": "violin",
         "x0": 10,
         "xaxis": "x2",
         "y": [
          0.16312970261913307,
          0.19418573355112934,
          0.1834161381370718,
          0.19162387030669847,
          0.1272956763197809,
          0.17000141785008005,
          0.18118442053271422,
          0.19832203982561325,
          0.18129132413635063,
          0.1532132338304737
         ],
         "yaxis": "y2"
        },
        {
         "line": {
          "color": "rgb(148, 103, 189)"
         },
         "showlegend": false,
         "spanmode": "hard",
         "type": "violin",
         "x0": 11,
         "xaxis": "x2",
         "y": [
          0.16312970261913307,
          0.19418573355112934,
          0.1834161381370718,
          0.19162387030669847,
          0.1272956763197809,
          0.17000141785008005,
          0.18118442053271422,
          0.19832203982561325,
          0.18129132413635063,
          0.1532132338304737
         ],
         "yaxis": "y2"
        },
        {
         "line": {
          "color": "rgb(140, 86, 75)"
         },
         "showlegend": false,
         "spanmode": "hard",
         "type": "violin",
         "x0": 12,
         "xaxis": "x2",
         "y": [
          0.16312970261913307,
          0.19418573355112934,
          0.1834161381370718,
          0.19162387030669847,
          0.1272956763197809,
          0.17000141785008005,
          0.18118442053271422,
          0.19832203982561325,
          0.18129132413635063,
          0.1532132338304737
         ],
         "yaxis": "y2"
        },
        {
         "line": {
          "color": "rgb(227, 119, 194)"
         },
         "showlegend": false,
         "spanmode": "hard",
         "type": "violin",
         "x0": 13,
         "xaxis": "x2",
         "y": [
          0.16312970261913307,
          0.19418573355112934,
          0.1834161381370718,
          0.19162387030669847,
          0.1272956763197809,
          0.17000141785008005,
          0.18118442053271422,
          0.19832203982561325,
          0.18129132413635063,
          0.1532132338304737
         ],
         "yaxis": "y2"
        },
        {
         "line": {
          "color": "rgb(31, 119, 180)"
         },
         "showlegend": false,
         "spanmode": "hard",
         "type": "violin",
         "x0": 14,
         "xaxis": "x2",
         "y": [
          0.20345085947530028,
          0.2161535743456443,
          0.18839136277023028,
          0.2478753449662402,
          0.08613474765069529,
          0.12165322779362331,
          0.17729336444427568,
          0.2095456467911303,
          0.14266209050455225,
          0.10399146066588771
         ],
         "yaxis": "y2"
        },
        {
         "line": {
          "color": "rgb(255, 127, 14)"
         },
         "showlegend": false,
         "spanmode": "hard",
         "type": "violin",
         "x0": 15,
         "xaxis": "x2",
         "y": [
          0.20345085947530028,
          0.2161535743456443,
          0.18839136277023028,
          0.2478753449662402,
          0.08613474765069529,
          0.12165322779362331,
          0.17729336444427568,
          0.2095456467911303,
          0.14266209050455225,
          0.10399146066588771
         ],
         "yaxis": "y2"
        },
        {
         "line": {
          "color": "rgb(44, 160, 44)"
         },
         "showlegend": false,
         "spanmode": "hard",
         "type": "violin",
         "x0": 16,
         "xaxis": "x2",
         "y": [
          0.20345085947530028,
          0.2161535743456443,
          0.18839136277023028,
          0.2478753449662402,
          0.08613474765069529,
          0.12165322779362331,
          0.17729336444427568,
          0.2095456467911303,
          0.14266209050455225,
          0.10399146066588771
         ],
         "yaxis": "y2"
        },
        {
         "line": {
          "color": "rgb(214, 39, 40)"
         },
         "showlegend": false,
         "spanmode": "hard",
         "type": "violin",
         "x0": 17,
         "xaxis": "x2",
         "y": [
          0.20345085947530028,
          0.2161535743456443,
          0.18839136277023028,
          0.2478753449662402,
          0.08613474765069529,
          0.12165322779362331,
          0.17729336444427568,
          0.2095456467911303,
          0.14266209050455225,
          0.10399146066588771
         ],
         "yaxis": "y2"
        },
        {
         "line": {
          "color": "rgb(148, 103, 189)"
         },
         "showlegend": false,
         "spanmode": "hard",
         "type": "violin",
         "x0": 18,
         "xaxis": "x2",
         "y": [
          0.20345085947530028,
          0.2161535743456443,
          0.18839136277023028,
          0.2478753449662402,
          0.08613474765069529,
          0.12165322779362331,
          0.17729336444427568,
          0.2095456467911303,
          0.14266209050455225,
          0.10399146066588771
         ],
         "yaxis": "y2"
        },
        {
         "line": {
          "color": "rgb(140, 86, 75)"
         },
         "showlegend": false,
         "spanmode": "hard",
         "type": "violin",
         "x0": 19,
         "xaxis": "x2",
         "y": [
          0.20345085947530028,
          0.2161535743456443,
          0.18839136277023028,
          0.2478753449662402,
          0.08613474765069529,
          0.12165322779362331,
          0.17729336444427568,
          0.2095456467911303,
          0.14266209050455225,
          0.10399146066588771
         ],
         "yaxis": "y2"
        },
        {
         "line": {
          "color": "rgb(227, 119, 194)"
         },
         "showlegend": false,
         "spanmode": "hard",
         "type": "violin",
         "x0": 20,
         "xaxis": "x2",
         "y": [
          0.20345085947530028,
          0.2161535743456443,
          0.18839136277023028,
          0.2478753449662402,
          0.08613474765069529,
          0.12165322779362331,
          0.17729336444427568,
          0.2095456467911303,
          0.14266209050455225,
          0.10399146066588771
         ],
         "yaxis": "y2"
        },
        {
         "line": {
          "color": "rgb(31, 119, 180)"
         },
         "showlegend": false,
         "spanmode": "hard",
         "type": "violin",
         "x0": 21,
         "xaxis": "x2",
         "y": [
          0.07280539155981491,
          0.1895920626635399,
          0.16861307500961176,
          0.26203604434939687,
          0.15155462638506056,
          0.16440648546762748,
          0.22401464277309424,
          0.14072895296197152,
          0.15069289831734767,
          0.1326778426228803
         ],
         "yaxis": "y2"
        },
        {
         "line": {
          "color": "rgb(255, 127, 14)"
         },
         "showlegend": false,
         "spanmode": "hard",
         "type": "violin",
         "x0": 22,
         "xaxis": "x2",
         "y": [
          0.07280539155981491,
          0.1895920626635399,
          0.16861307500961176,
          0.26203604434939687,
          0.15155462638506056,
          0.16440648546762748,
          0.22401464277309424,
          0.14072895296197152,
          0.15069289831734767,
          0.1326778426228803
         ],
         "yaxis": "y2"
        },
        {
         "line": {
          "color": "rgb(44, 160, 44)"
         },
         "showlegend": false,
         "spanmode": "hard",
         "type": "violin",
         "x0": 23,
         "xaxis": "x2",
         "y": [
          0.07280539155981491,
          0.1895920626635399,
          0.16861307500961176,
          0.26203604434939687,
          0.15155462638506056,
          0.16440648546762748,
          0.22401464277309424,
          0.14072895296197152,
          0.15069289831734767,
          0.1326778426228803
         ],
         "yaxis": "y2"
        },
        {
         "line": {
          "color": "rgb(214, 39, 40)"
         },
         "showlegend": false,
         "spanmode": "hard",
         "type": "violin",
         "x0": 24,
         "xaxis": "x2",
         "y": [
          0.07280539155981491,
          0.1895920626635399,
          0.16861307500961176,
          0.26203604434939687,
          0.15155462638506056,
          0.16440648546762748,
          0.22401464277309424,
          0.14072895296197152,
          0.15069289831734767,
          0.1326778426228803
         ],
         "yaxis": "y2"
        },
        {
         "line": {
          "color": "rgb(148, 103, 189)"
         },
         "showlegend": false,
         "spanmode": "hard",
         "type": "violin",
         "x0": 25,
         "xaxis": "x2",
         "y": [
          0.07280539155981491,
          0.1895920626635399,
          0.16861307500961176,
          0.26203604434939687,
          0.15155462638506056,
          0.16440648546762748,
          0.22401464277309424,
          0.14072895296197152,
          0.15069289831734767,
          0.1326778426228803
         ],
         "yaxis": "y2"
        },
        {
         "line": {
          "color": "rgb(140, 86, 75)"
         },
         "showlegend": false,
         "spanmode": "hard",
         "type": "violin",
         "x0": 26,
         "xaxis": "x2",
         "y": [
          0.07280539155981491,
          0.1895920626635399,
          0.16861307500961176,
          0.26203604434939687,
          0.15155462638506056,
          0.16440648546762748,
          0.22401464277309424,
          0.14072895296197152,
          0.15069289831734767,
          0.1326778426228803
         ],
         "yaxis": "y2"
        },
        {
         "line": {
          "color": "rgb(227, 119, 194)"
         },
         "showlegend": false,
         "spanmode": "hard",
         "type": "violin",
         "x0": 27,
         "xaxis": "x2",
         "y": [
          0.07280539155981491,
          0.1895920626635399,
          0.16861307500961176,
          0.26203604434939687,
          0.15155462638506056,
          0.16440648546762748,
          0.22401464277309424,
          0.14072895296197152,
          0.15069289831734767,
          0.1326778426228803
         ],
         "yaxis": "y2"
        },
        {
         "line": {
          "color": "rgb(31, 119, 180)"
         },
         "showlegend": false,
         "spanmode": "hard",
         "type": "violin",
         "x0": 0,
         "xaxis": "x3",
         "y": [
          0.09745951446325885,
          0.21063840063513084,
          0.29279547890752944,
          0.2741657714019007,
          0.18136156952950666,
          0.20376539041784547,
          0.20415983034704077,
          0.2649295384501601,
          0.20695529784475253,
          0.18616290155382598
         ],
         "yaxis": "y3"
        },
        {
         "line": {
          "color": "rgb(255, 127, 14)"
         },
         "showlegend": false,
         "spanmode": "hard",
         "type": "violin",
         "x0": 1,
         "xaxis": "x3",
         "y": [
          0.15042147142936546,
          0.1806202495346073,
          0.2902183776613275,
          0.23739368435981933,
          0.19482412556033846,
          0.17837033920801038,
          0.13713782593406265,
          0.2194829282817925,
          0.22061857851904454,
          0.19936091717363114
         ],
         "yaxis": "y3"
        },
        {
         "line": {
          "color": "rgb(44, 160, 44)"
         },
         "showlegend": false,
         "spanmode": "hard",
         "type": "violin",
         "x0": 2,
         "xaxis": "x3",
         "y": [
          0.15042147142936546,
          0.1806202495346073,
          0.2902183776613275,
          0.23739368435981933,
          0.19482412556033846,
          0.17837033920801038,
          0.13713782593406265,
          0.2194829282817925,
          0.22061857851904454,
          0.19936091717363114
         ],
         "yaxis": "y3"
        },
        {
         "line": {
          "color": "rgb(214, 39, 40)"
         },
         "showlegend": false,
         "spanmode": "hard",
         "type": "violin",
         "x0": 3,
         "xaxis": "x3",
         "y": [
          0.15042147142936546,
          0.1806202495346073,
          0.2902183776613275,
          0.23739368435981933,
          0.19482412556033846,
          0.17837033920801038,
          0.13713782593406265,
          0.2194829282817925,
          0.22061857851904454,
          0.19936091717363114
         ],
         "yaxis": "y3"
        },
        {
         "line": {
          "color": "rgb(148, 103, 189)"
         },
         "showlegend": false,
         "spanmode": "hard",
         "type": "violin",
         "x0": 4,
         "xaxis": "x3",
         "y": [
          0.15042147142936546,
          0.1806202495346073,
          0.2902183776613275,
          0.23739368435981933,
          0.19482412556033846,
          0.17837033920801038,
          0.13713782593406265,
          0.2194829282817925,
          0.22061857851904454,
          0.19936091717363114
         ],
         "yaxis": "y3"
        },
        {
         "line": {
          "color": "rgb(140, 86, 75)"
         },
         "showlegend": false,
         "spanmode": "hard",
         "type": "violin",
         "x0": 5,
         "xaxis": "x3",
         "y": [
          0.15042147142936546,
          0.1806202495346073,
          0.2902183776613275,
          0.23739368435981933,
          0.19482412556033846,
          0.17837033920801038,
          0.13713782593406265,
          0.2194829282817925,
          0.22061857851904454,
          0.19936091717363114
         ],
         "yaxis": "y3"
        },
        {
         "line": {
          "color": "rgb(227, 119, 194)"
         },
         "showlegend": false,
         "spanmode": "hard",
         "type": "violin",
         "x0": 6,
         "xaxis": "x3",
         "y": [
          0.15042147142936546,
          0.1806202495346073,
          0.2902183776613275,
          0.23739368435981933,
          0.19482412556033846,
          0.17837033920801038,
          0.13713782593406265,
          0.2194829282817925,
          0.22061857851904454,
          0.19936091717363114
         ],
         "yaxis": "y3"
        },
        {
         "line": {
          "color": "rgb(31, 119, 180)"
         },
         "showlegend": false,
         "spanmode": "hard",
         "type": "violin",
         "x0": 7,
         "xaxis": "x3",
         "y": [
          0.15111935983875924,
          0.16171344437508872,
          0.10690077253848707,
          0.22149038002773225,
          0.14127628349456445,
          0.1633963874599501,
          0.16243471230113216,
          0.2069091802823403,
          0.18813959127163749,
          0.21508955251508854
         ],
         "yaxis": "y3"
        },
        {
         "line": {
          "color": "rgb(255, 127, 14)"
         },
         "showlegend": false,
         "spanmode": "hard",
         "type": "violin",
         "x0": 8,
         "xaxis": "x3",
         "y": [
          0.18952211397445773,
          0.16579749702356195,
          0.14054931228354894,
          0.17537255297751453,
          0.1616984391802796,
          0.11837404180566269,
          0.17150477195590386,
          0.17108878707114294,
          0.1942963088038724,
          0.20450303189821661
         ],
         "yaxis": "y3"
        },
        {
         "line": {
          "color": "rgb(44, 160, 44)"
         },
         "showlegend": false,
         "spanmode": "hard",
         "type": "violin",
         "x0": 9,
         "xaxis": "x3",
         "y": [
          0.18952211397445773,
          0.16579749702356195,
          0.14054931228354894,
          0.17537255297751453,
          0.1616984391802796,
          0.11837404180566269,
          0.17150477195590386,
          0.17108878707114294,
          0.1942963088038724,
          0.20450303189821661
         ],
         "yaxis": "y3"
        },
        {
         "line": {
          "color": "rgb(214, 39, 40)"
         },
         "showlegend": false,
         "spanmode": "hard",
         "type": "violin",
         "x0": 10,
         "xaxis": "x3",
         "y": [
          0.18952211397445773,
          0.16579749702356195,
          0.14054931228354894,
          0.17537255297751453,
          0.1616984391802796,
          0.11837404180566269,
          0.17150477195590386,
          0.17108878707114294,
          0.1942963088038724,
          0.20450303189821661
         ],
         "yaxis": "y3"
        },
        {
         "line": {
          "color": "rgb(148, 103, 189)"
         },
         "showlegend": false,
         "spanmode": "hard",
         "type": "violin",
         "x0": 11,
         "xaxis": "x3",
         "y": [
          0.18952211397445773,
          0.16579749702356195,
          0.14054931228354894,
          0.17537255297751453,
          0.1616984391802796,
          0.11837404180566269,
          0.17150477195590386,
          0.17108878707114294,
          0.1942963088038724,
          0.20450303189821661
         ],
         "yaxis": "y3"
        },
        {
         "line": {
          "color": "rgb(140, 86, 75)"
         },
         "showlegend": false,
         "spanmode": "hard",
         "type": "violin",
         "x0": 12,
         "xaxis": "x3",
         "y": [
          0.18952211397445773,
          0.16579749702356195,
          0.14054931228354894,
          0.17537255297751453,
          0.1616984391802796,
          0.11837404180566269,
          0.17150477195590386,
          0.17108878707114294,
          0.1942963088038724,
          0.20450303189821661
         ],
         "yaxis": "y3"
        },
        {
         "line": {
          "color": "rgb(227, 119, 194)"
         },
         "showlegend": false,
         "spanmode": "hard",
         "type": "violin",
         "x0": 13,
         "xaxis": "x3",
         "y": [
          0.18952211397445773,
          0.16579749702356195,
          0.14054931228354894,
          0.17537255297751453,
          0.1616984391802796,
          0.11837404180566269,
          0.17150477195590386,
          0.17108878707114294,
          0.1942963088038724,
          0.20450303189821661
         ],
         "yaxis": "y3"
        },
        {
         "line": {
          "color": "rgb(31, 119, 180)"
         },
         "showlegend": false,
         "spanmode": "hard",
         "type": "violin",
         "x0": 14,
         "xaxis": "x3",
         "y": [
          0.13957286074754482,
          0.24017216176524914,
          0.27316320971541863,
          0.21423938194142766,
          0.2550563801962803,
          0.2807609981423368,
          0.19050117489553853,
          0.21326575797422287,
          0.20568611626545963,
          0.34558334641656885
         ],
         "yaxis": "y3"
        },
        {
         "line": {
          "color": "rgb(255, 127, 14)"
         },
         "showlegend": false,
         "spanmode": "hard",
         "type": "violin",
         "x0": 15,
         "xaxis": "x3",
         "y": [
          0.13957286074754482,
          0.24017216176524914,
          0.27316320971541863,
          0.21423938194142766,
          0.2550563801962803,
          0.2807609981423368,
          0.19050117489553853,
          0.21326575797422287,
          0.20568611626545963,
          0.34558334641656885
         ],
         "yaxis": "y3"
        },
        {
         "line": {
          "color": "rgb(44, 160, 44)"
         },
         "showlegend": false,
         "spanmode": "hard",
         "type": "violin",
         "x0": 16,
         "xaxis": "x3",
         "y": [
          0.13957286074754482,
          0.24017216176524914,
          0.27316320971541863,
          0.21423938194142766,
          0.2550563801962803,
          0.2807609981423368,
          0.19050117489553853,
          0.21326575797422287,
          0.20568611626545963,
          0.34558334641656885
         ],
         "yaxis": "y3"
        },
        {
         "line": {
          "color": "rgb(214, 39, 40)"
         },
         "showlegend": false,
         "spanmode": "hard",
         "type": "violin",
         "x0": 17,
         "xaxis": "x3",
         "y": [
          0.13957286074754482,
          0.24017216176524914,
          0.27316320971541863,
          0.21423938194142766,
          0.2550563801962803,
          0.2807609981423368,
          0.19050117489553853,
          0.21326575797422287,
          0.20568611626545963,
          0.34558334641656885
         ],
         "yaxis": "y3"
        },
        {
         "line": {
          "color": "rgb(148, 103, 189)"
         },
         "showlegend": false,
         "spanmode": "hard",
         "type": "violin",
         "x0": 18,
         "xaxis": "x3",
         "y": [
          0.13957286074754482,
          0.24017216176524914,
          0.27316320971541863,
          0.21423938194142766,
          0.2550563801962803,
          0.2807609981423368,
          0.19050117489553853,
          0.21326575797422287,
          0.20568611626545963,
          0.34558334641656885
         ],
         "yaxis": "y3"
        },
        {
         "line": {
          "color": "rgb(140, 86, 75)"
         },
         "showlegend": false,
         "spanmode": "hard",
         "type": "violin",
         "x0": 19,
         "xaxis": "x3",
         "y": [
          0.13957286074754482,
          0.24017216176524914,
          0.27316320971541863,
          0.21423938194142766,
          0.2550563801962803,
          0.2807609981423368,
          0.19050117489553853,
          0.21326575797422287,
          0.20568611626545963,
          0.34558334641656885
         ],
         "yaxis": "y3"
        },
        {
         "line": {
          "color": "rgb(227, 119, 194)"
         },
         "showlegend": false,
         "spanmode": "hard",
         "type": "violin",
         "x0": 20,
         "xaxis": "x3",
         "y": [
          0.13957286074754482,
          0.24017216176524914,
          0.27316320971541863,
          0.21423938194142766,
          0.2550563801962803,
          0.2807609981423368,
          0.19050117489553853,
          0.21326575797422287,
          0.20568611626545963,
          0.34558334641656885
         ],
         "yaxis": "y3"
        },
        {
         "line": {
          "color": "rgb(31, 119, 180)"
         },
         "showlegend": false,
         "spanmode": "hard",
         "type": "violin",
         "x0": 21,
         "xaxis": "x3",
         "y": [
          0.2094845332118389,
          0.2815753672906458,
          0.2937834178995027,
          0.2924656751029646,
          0.2145835592290487,
          0.20366387008687126,
          0.12099960828525891,
          0.28869402684886625,
          0.25653476557837385,
          0.2800500631770031
         ],
         "yaxis": "y3"
        },
        {
         "line": {
          "color": "rgb(255, 127, 14)"
         },
         "showlegend": false,
         "spanmode": "hard",
         "type": "violin",
         "x0": 22,
         "xaxis": "x3",
         "y": [
          0.2094845332118389,
          0.2815753672906458,
          0.2937834178995027,
          0.2924656751029646,
          0.2145835592290487,
          0.20366387008687126,
          0.12099960828525891,
          0.28869402684886625,
          0.25653476557837385,
          0.2800500631770031
         ],
         "yaxis": "y3"
        },
        {
         "line": {
          "color": "rgb(44, 160, 44)"
         },
         "showlegend": false,
         "spanmode": "hard",
         "type": "violin",
         "x0": 23,
         "xaxis": "x3",
         "y": [
          0.2094845332118389,
          0.2815753672906458,
          0.2937834178995027,
          0.2924656751029646,
          0.2145835592290487,
          0.20366387008687126,
          0.12099960828525891,
          0.28869402684886625,
          0.25653476557837385,
          0.2800500631770031
         ],
         "yaxis": "y3"
        },
        {
         "line": {
          "color": "rgb(214, 39, 40)"
         },
         "showlegend": false,
         "spanmode": "hard",
         "type": "violin",
         "x0": 24,
         "xaxis": "x3",
         "y": [
          0.2094845332118389,
          0.2815753672906458,
          0.2937834178995027,
          0.2924656751029646,
          0.2145835592290487,
          0.20366387008687126,
          0.12099960828525891,
          0.28869402684886625,
          0.25653476557837385,
          0.2800500631770031
         ],
         "yaxis": "y3"
        },
        {
         "line": {
          "color": "rgb(148, 103, 189)"
         },
         "showlegend": false,
         "spanmode": "hard",
         "type": "violin",
         "x0": 25,
         "xaxis": "x3",
         "y": [
          0.2094845332118389,
          0.2815753672906458,
          0.2937834178995027,
          0.2924656751029646,
          0.2145835592290487,
          0.20366387008687126,
          0.12099960828525891,
          0.28869402684886625,
          0.25653476557837385,
          0.2800500631770031
         ],
         "yaxis": "y3"
        },
        {
         "line": {
          "color": "rgb(140, 86, 75)"
         },
         "showlegend": false,
         "spanmode": "hard",
         "type": "violin",
         "x0": 26,
         "xaxis": "x3",
         "y": [
          0.2094845332118389,
          0.2815753672906458,
          0.2937834178995027,
          0.2924656751029646,
          0.2145835592290487,
          0.20366387008687126,
          0.12099960828525891,
          0.28869402684886625,
          0.25653476557837385,
          0.2800500631770031
         ],
         "yaxis": "y3"
        },
        {
         "line": {
          "color": "rgb(227, 119, 194)"
         },
         "showlegend": false,
         "spanmode": "hard",
         "type": "violin",
         "x0": 27,
         "xaxis": "x3",
         "y": [
          0.2094845332118389,
          0.2815753672906458,
          0.2937834178995027,
          0.2924656751029646,
          0.2145835592290487,
          0.20366387008687126,
          0.12099960828525891,
          0.28869402684886625,
          0.25653476557837385,
          0.2800500631770031
         ],
         "yaxis": "y3"
        }
       ],
       "layout": {
        "annotations": [
         {
          "font": {
           "size": 16
          },
          "showarrow": false,
          "text": "Low variance",
          "x": 0.5,
          "xanchor": "center",
          "xref": "paper",
          "y": 1,
          "yanchor": "bottom",
          "yref": "paper"
         },
         {
          "font": {
           "size": 16
          },
          "showarrow": false,
          "text": "Medium variance",
          "x": 0.5,
          "xanchor": "center",
          "xref": "paper",
          "y": 0.6111111111111112,
          "yanchor": "bottom",
          "yref": "paper"
         },
         {
          "font": {
           "size": 16
          },
          "showarrow": false,
          "text": "High variance",
          "x": 0.5,
          "xanchor": "center",
          "xref": "paper",
          "y": 0.22222222222222224,
          "yanchor": "bottom",
          "yref": "paper"
         }
        ],
        "margin": {
         "b": 0,
         "l": 0,
         "r": 0,
         "t": 70
        },
        "shapes": [
         {
          "fillcolor": "rgb(179,226,205)",
          "layer": "below",
          "line": {
           "width": 0
          },
          "opacity": 0.5,
          "type": "rect",
          "x0": -0.5,
          "x1": 6.5,
          "xref": "x",
          "y0": 0,
          "y1": 1,
          "yref": "y domain"
         },
         {
          "fillcolor": "rgb(253,205,172)",
          "layer": "below",
          "line": {
           "width": 0
          },
          "opacity": 0.5,
          "type": "rect",
          "x0": 6.5,
          "x1": 13.5,
          "xref": "x",
          "y0": 0,
          "y1": 1,
          "yref": "y domain"
         },
         {
          "fillcolor": "rgb(203,213,232)",
          "layer": "below",
          "line": {
           "width": 0
          },
          "opacity": 0.5,
          "type": "rect",
          "x0": 13.5,
          "x1": 20.5,
          "xref": "x",
          "y0": 0,
          "y1": 1,
          "yref": "y domain"
         },
         {
          "fillcolor": "rgb(244,202,228)",
          "layer": "below",
          "line": {
           "width": 0
          },
          "opacity": 0.5,
          "type": "rect",
          "x0": 20.5,
          "x1": 27.5,
          "xref": "x",
          "y0": 0,
          "y1": 1,
          "yref": "y domain"
         },
         {
          "fillcolor": "rgb(179,226,205)",
          "layer": "below",
          "line": {
           "width": 0
          },
          "opacity": 0.5,
          "type": "rect",
          "x0": -0.5,
          "x1": 6.5,
          "xref": "x2",
          "y0": 0,
          "y1": 1,
          "yref": "y2 domain"
         },
         {
          "fillcolor": "rgb(253,205,172)",
          "layer": "below",
          "line": {
           "width": 0
          },
          "opacity": 0.5,
          "type": "rect",
          "x0": 6.5,
          "x1": 13.5,
          "xref": "x2",
          "y0": 0,
          "y1": 1,
          "yref": "y2 domain"
         },
         {
          "fillcolor": "rgb(203,213,232)",
          "layer": "below",
          "line": {
           "width": 0
          },
          "opacity": 0.5,
          "type": "rect",
          "x0": 13.5,
          "x1": 20.5,
          "xref": "x2",
          "y0": 0,
          "y1": 1,
          "yref": "y2 domain"
         },
         {
          "fillcolor": "rgb(244,202,228)",
          "layer": "below",
          "line": {
           "width": 0
          },
          "opacity": 0.5,
          "type": "rect",
          "x0": 20.5,
          "x1": 27.5,
          "xref": "x2",
          "y0": 0,
          "y1": 1,
          "yref": "y2 domain"
         },
         {
          "fillcolor": "rgb(179,226,205)",
          "layer": "below",
          "line": {
           "width": 0
          },
          "opacity": 0.5,
          "type": "rect",
          "x0": -0.5,
          "x1": 6.5,
          "xref": "x3",
          "y0": 0,
          "y1": 1,
          "yref": "y3 domain"
         },
         {
          "fillcolor": "rgb(253,205,172)",
          "layer": "below",
          "line": {
           "width": 0
          },
          "opacity": 0.5,
          "type": "rect",
          "x0": 6.5,
          "x1": 13.5,
          "xref": "x3",
          "y0": 0,
          "y1": 1,
          "yref": "y3 domain"
         },
         {
          "fillcolor": "rgb(203,213,232)",
          "layer": "below",
          "line": {
           "width": 0
          },
          "opacity": 0.5,
          "type": "rect",
          "x0": 13.5,
          "x1": 20.5,
          "xref": "x3",
          "y0": 0,
          "y1": 1,
          "yref": "y3 domain"
         },
         {
          "fillcolor": "rgb(244,202,228)",
          "layer": "below",
          "line": {
           "width": 0
          },
          "opacity": 0.5,
          "type": "rect",
          "x0": 20.5,
          "x1": 27.5,
          "xref": "x3",
          "y0": 0,
          "y1": 1,
          "yref": "y3 domain"
         }
        ],
        "template": {
         "data": {
          "bar": [
           {
            "error_x": {
             "color": "#2a3f5f"
            },
            "error_y": {
             "color": "#2a3f5f"
            },
            "marker": {
             "line": {
              "color": "#E5ECF6",
              "width": 0.5
             },
             "pattern": {
              "fillmode": "overlay",
              "size": 10,
              "solidity": 0.2
             }
            },
            "type": "bar"
           }
          ],
          "barpolar": [
           {
            "marker": {
             "line": {
              "color": "#E5ECF6",
              "width": 0.5
             },
             "pattern": {
              "fillmode": "overlay",
              "size": 10,
              "solidity": 0.2
             }
            },
            "type": "barpolar"
           }
          ],
          "carpet": [
           {
            "aaxis": {
             "endlinecolor": "#2a3f5f",
             "gridcolor": "white",
             "linecolor": "white",
             "minorgridcolor": "white",
             "startlinecolor": "#2a3f5f"
            },
            "baxis": {
             "endlinecolor": "#2a3f5f",
             "gridcolor": "white",
             "linecolor": "white",
             "minorgridcolor": "white",
             "startlinecolor": "#2a3f5f"
            },
            "type": "carpet"
           }
          ],
          "choropleth": [
           {
            "colorbar": {
             "outlinewidth": 0,
             "ticks": ""
            },
            "type": "choropleth"
           }
          ],
          "contour": [
           {
            "colorbar": {
             "outlinewidth": 0,
             "ticks": ""
            },
            "colorscale": [
             [
              0,
              "#0d0887"
             ],
             [
              0.1111111111111111,
              "#46039f"
             ],
             [
              0.2222222222222222,
              "#7201a8"
             ],
             [
              0.3333333333333333,
              "#9c179e"
             ],
             [
              0.4444444444444444,
              "#bd3786"
             ],
             [
              0.5555555555555556,
              "#d8576b"
             ],
             [
              0.6666666666666666,
              "#ed7953"
             ],
             [
              0.7777777777777778,
              "#fb9f3a"
             ],
             [
              0.8888888888888888,
              "#fdca26"
             ],
             [
              1,
              "#f0f921"
             ]
            ],
            "type": "contour"
           }
          ],
          "contourcarpet": [
           {
            "colorbar": {
             "outlinewidth": 0,
             "ticks": ""
            },
            "type": "contourcarpet"
           }
          ],
          "heatmap": [
           {
            "colorbar": {
             "outlinewidth": 0,
             "ticks": ""
            },
            "colorscale": [
             [
              0,
              "#0d0887"
             ],
             [
              0.1111111111111111,
              "#46039f"
             ],
             [
              0.2222222222222222,
              "#7201a8"
             ],
             [
              0.3333333333333333,
              "#9c179e"
             ],
             [
              0.4444444444444444,
              "#bd3786"
             ],
             [
              0.5555555555555556,
              "#d8576b"
             ],
             [
              0.6666666666666666,
              "#ed7953"
             ],
             [
              0.7777777777777778,
              "#fb9f3a"
             ],
             [
              0.8888888888888888,
              "#fdca26"
             ],
             [
              1,
              "#f0f921"
             ]
            ],
            "type": "heatmap"
           }
          ],
          "heatmapgl": [
           {
            "colorbar": {
             "outlinewidth": 0,
             "ticks": ""
            },
            "colorscale": [
             [
              0,
              "#0d0887"
             ],
             [
              0.1111111111111111,
              "#46039f"
             ],
             [
              0.2222222222222222,
              "#7201a8"
             ],
             [
              0.3333333333333333,
              "#9c179e"
             ],
             [
              0.4444444444444444,
              "#bd3786"
             ],
             [
              0.5555555555555556,
              "#d8576b"
             ],
             [
              0.6666666666666666,
              "#ed7953"
             ],
             [
              0.7777777777777778,
              "#fb9f3a"
             ],
             [
              0.8888888888888888,
              "#fdca26"
             ],
             [
              1,
              "#f0f921"
             ]
            ],
            "type": "heatmapgl"
           }
          ],
          "histogram": [
           {
            "marker": {
             "pattern": {
              "fillmode": "overlay",
              "size": 10,
              "solidity": 0.2
             }
            },
            "type": "histogram"
           }
          ],
          "histogram2d": [
           {
            "colorbar": {
             "outlinewidth": 0,
             "ticks": ""
            },
            "colorscale": [
             [
              0,
              "#0d0887"
             ],
             [
              0.1111111111111111,
              "#46039f"
             ],
             [
              0.2222222222222222,
              "#7201a8"
             ],
             [
              0.3333333333333333,
              "#9c179e"
             ],
             [
              0.4444444444444444,
              "#bd3786"
             ],
             [
              0.5555555555555556,
              "#d8576b"
             ],
             [
              0.6666666666666666,
              "#ed7953"
             ],
             [
              0.7777777777777778,
              "#fb9f3a"
             ],
             [
              0.8888888888888888,
              "#fdca26"
             ],
             [
              1,
              "#f0f921"
             ]
            ],
            "type": "histogram2d"
           }
          ],
          "histogram2dcontour": [
           {
            "colorbar": {
             "outlinewidth": 0,
             "ticks": ""
            },
            "colorscale": [
             [
              0,
              "#0d0887"
             ],
             [
              0.1111111111111111,
              "#46039f"
             ],
             [
              0.2222222222222222,
              "#7201a8"
             ],
             [
              0.3333333333333333,
              "#9c179e"
             ],
             [
              0.4444444444444444,
              "#bd3786"
             ],
             [
              0.5555555555555556,
              "#d8576b"
             ],
             [
              0.6666666666666666,
              "#ed7953"
             ],
             [
              0.7777777777777778,
              "#fb9f3a"
             ],
             [
              0.8888888888888888,
              "#fdca26"
             ],
             [
              1,
              "#f0f921"
             ]
            ],
            "type": "histogram2dcontour"
           }
          ],
          "mesh3d": [
           {
            "colorbar": {
             "outlinewidth": 0,
             "ticks": ""
            },
            "type": "mesh3d"
           }
          ],
          "parcoords": [
           {
            "line": {
             "colorbar": {
              "outlinewidth": 0,
              "ticks": ""
             }
            },
            "type": "parcoords"
           }
          ],
          "pie": [
           {
            "automargin": true,
            "type": "pie"
           }
          ],
          "scatter": [
           {
            "fillpattern": {
             "fillmode": "overlay",
             "size": 10,
             "solidity": 0.2
            },
            "type": "scatter"
           }
          ],
          "scatter3d": [
           {
            "line": {
             "colorbar": {
              "outlinewidth": 0,
              "ticks": ""
             }
            },
            "marker": {
             "colorbar": {
              "outlinewidth": 0,
              "ticks": ""
             }
            },
            "type": "scatter3d"
           }
          ],
          "scattercarpet": [
           {
            "marker": {
             "colorbar": {
              "outlinewidth": 0,
              "ticks": ""
             }
            },
            "type": "scattercarpet"
           }
          ],
          "scattergeo": [
           {
            "marker": {
             "colorbar": {
              "outlinewidth": 0,
              "ticks": ""
             }
            },
            "type": "scattergeo"
           }
          ],
          "scattergl": [
           {
            "marker": {
             "colorbar": {
              "outlinewidth": 0,
              "ticks": ""
             }
            },
            "type": "scattergl"
           }
          ],
          "scattermapbox": [
           {
            "marker": {
             "colorbar": {
              "outlinewidth": 0,
              "ticks": ""
             }
            },
            "type": "scattermapbox"
           }
          ],
          "scatterpolar": [
           {
            "marker": {
             "colorbar": {
              "outlinewidth": 0,
              "ticks": ""
             }
            },
            "type": "scatterpolar"
           }
          ],
          "scatterpolargl": [
           {
            "marker": {
             "colorbar": {
              "outlinewidth": 0,
              "ticks": ""
             }
            },
            "type": "scatterpolargl"
           }
          ],
          "scatterternary": [
           {
            "marker": {
             "colorbar": {
              "outlinewidth": 0,
              "ticks": ""
             }
            },
            "type": "scatterternary"
           }
          ],
          "surface": [
           {
            "colorbar": {
             "outlinewidth": 0,
             "ticks": ""
            },
            "colorscale": [
             [
              0,
              "#0d0887"
             ],
             [
              0.1111111111111111,
              "#46039f"
             ],
             [
              0.2222222222222222,
              "#7201a8"
             ],
             [
              0.3333333333333333,
              "#9c179e"
             ],
             [
              0.4444444444444444,
              "#bd3786"
             ],
             [
              0.5555555555555556,
              "#d8576b"
             ],
             [
              0.6666666666666666,
              "#ed7953"
             ],
             [
              0.7777777777777778,
              "#fb9f3a"
             ],
             [
              0.8888888888888888,
              "#fdca26"
             ],
             [
              1,
              "#f0f921"
             ]
            ],
            "type": "surface"
           }
          ],
          "table": [
           {
            "cells": {
             "fill": {
              "color": "#EBF0F8"
             },
             "line": {
              "color": "white"
             }
            },
            "header": {
             "fill": {
              "color": "#C8D4E3"
             },
             "line": {
              "color": "white"
             }
            },
            "type": "table"
           }
          ]
         },
         "layout": {
          "annotationdefaults": {
           "arrowcolor": "#2a3f5f",
           "arrowhead": 0,
           "arrowwidth": 1
          },
          "autotypenumbers": "strict",
          "coloraxis": {
           "colorbar": {
            "outlinewidth": 0,
            "ticks": ""
           }
          },
          "colorscale": {
           "diverging": [
            [
             0,
             "#8e0152"
            ],
            [
             0.1,
             "#c51b7d"
            ],
            [
             0.2,
             "#de77ae"
            ],
            [
             0.3,
             "#f1b6da"
            ],
            [
             0.4,
             "#fde0ef"
            ],
            [
             0.5,
             "#f7f7f7"
            ],
            [
             0.6,
             "#e6f5d0"
            ],
            [
             0.7,
             "#b8e186"
            ],
            [
             0.8,
             "#7fbc41"
            ],
            [
             0.9,
             "#4d9221"
            ],
            [
             1,
             "#276419"
            ]
           ],
           "sequential": [
            [
             0,
             "#0d0887"
            ],
            [
             0.1111111111111111,
             "#46039f"
            ],
            [
             0.2222222222222222,
             "#7201a8"
            ],
            [
             0.3333333333333333,
             "#9c179e"
            ],
            [
             0.4444444444444444,
             "#bd3786"
            ],
            [
             0.5555555555555556,
             "#d8576b"
            ],
            [
             0.6666666666666666,
             "#ed7953"
            ],
            [
             0.7777777777777778,
             "#fb9f3a"
            ],
            [
             0.8888888888888888,
             "#fdca26"
            ],
            [
             1,
             "#f0f921"
            ]
           ],
           "sequentialminus": [
            [
             0,
             "#0d0887"
            ],
            [
             0.1111111111111111,
             "#46039f"
            ],
            [
             0.2222222222222222,
             "#7201a8"
            ],
            [
             0.3333333333333333,
             "#9c179e"
            ],
            [
             0.4444444444444444,
             "#bd3786"
            ],
            [
             0.5555555555555556,
             "#d8576b"
            ],
            [
             0.6666666666666666,
             "#ed7953"
            ],
            [
             0.7777777777777778,
             "#fb9f3a"
            ],
            [
             0.8888888888888888,
             "#fdca26"
            ],
            [
             1,
             "#f0f921"
            ]
           ]
          },
          "colorway": [
           "#636efa",
           "#EF553B",
           "#00cc96",
           "#ab63fa",
           "#FFA15A",
           "#19d3f3",
           "#FF6692",
           "#B6E880",
           "#FF97FF",
           "#FECB52"
          ],
          "font": {
           "color": "#2a3f5f"
          },
          "geo": {
           "bgcolor": "white",
           "lakecolor": "white",
           "landcolor": "#E5ECF6",
           "showlakes": true,
           "showland": true,
           "subunitcolor": "white"
          },
          "hoverlabel": {
           "align": "left"
          },
          "hovermode": "closest",
          "mapbox": {
           "style": "light"
          },
          "paper_bgcolor": "white",
          "plot_bgcolor": "#E5ECF6",
          "polar": {
           "angularaxis": {
            "gridcolor": "white",
            "linecolor": "white",
            "ticks": ""
           },
           "bgcolor": "#E5ECF6",
           "radialaxis": {
            "gridcolor": "white",
            "linecolor": "white",
            "ticks": ""
           }
          },
          "scene": {
           "xaxis": {
            "backgroundcolor": "#E5ECF6",
            "gridcolor": "white",
            "gridwidth": 2,
            "linecolor": "white",
            "showbackground": true,
            "ticks": "",
            "zerolinecolor": "white"
           },
           "yaxis": {
            "backgroundcolor": "#E5ECF6",
            "gridcolor": "white",
            "gridwidth": 2,
            "linecolor": "white",
            "showbackground": true,
            "ticks": "",
            "zerolinecolor": "white"
           },
           "zaxis": {
            "backgroundcolor": "#E5ECF6",
            "gridcolor": "white",
            "gridwidth": 2,
            "linecolor": "white",
            "showbackground": true,
            "ticks": "",
            "zerolinecolor": "white"
           }
          },
          "shapedefaults": {
           "line": {
            "color": "#2a3f5f"
           }
          },
          "ternary": {
           "aaxis": {
            "gridcolor": "white",
            "linecolor": "white",
            "ticks": ""
           },
           "baxis": {
            "gridcolor": "white",
            "linecolor": "white",
            "ticks": ""
           },
           "bgcolor": "#E5ECF6",
           "caxis": {
            "gridcolor": "white",
            "linecolor": "white",
            "ticks": ""
           }
          },
          "title": {
           "x": 0.05
          },
          "xaxis": {
           "automargin": true,
           "gridcolor": "white",
           "linecolor": "white",
           "ticks": "",
           "title": {
            "standoff": 15
           },
           "zerolinecolor": "white",
           "zerolinewidth": 2
          },
          "yaxis": {
           "automargin": true,
           "gridcolor": "white",
           "linecolor": "white",
           "ticks": "",
           "title": {
            "standoff": 15
           },
           "zerolinecolor": "white",
           "zerolinewidth": 2
          }
         }
        },
        "title": {
         "text": "$\\text{Conditional }R^2\\text{-value}$"
        },
        "width": 1000,
        "xaxis": {
         "anchor": "y",
         "domain": [
          0,
          1
         ],
         "range": [
          -0.5,
          27.5
         ],
         "showticklabels": false,
         "ticktext": [
          "",
          "base",
          "mPointCP",
          "mIntCP",
          "mNCP",
          "PointCP",
          "IntCP",
          "NCP",
          "base",
          "mPointCP",
          "mIntCP",
          "mNCP",
          "PointCP",
          "IntCP",
          "NCP",
          "base",
          "mPointCP",
          "mIntCP",
          "mNCP",
          "PointCP",
          "IntCP",
          "NCP",
          "base",
          "mPointCP",
          "mIntCP",
          "mNCP",
          "PointCP",
          "IntCP",
          "NCP",
          ""
         ],
         "tickvals": [
          -0.5,
          0,
          1,
          2,
          3,
          4,
          5,
          6,
          7,
          8,
          9,
          10,
          11,
          12,
          13,
          14,
          15,
          16,
          17,
          18,
          19,
          20,
          21,
          22,
          23,
          24,
          25,
          26,
          27,
          27.5
         ]
        },
        "xaxis2": {
         "anchor": "y2",
         "domain": [
          0,
          1
         ],
         "range": [
          -0.5,
          27.5
         ],
         "showticklabels": false,
         "ticktext": [
          "",
          "base",
          "mPointCP",
          "mIntCP",
          "mNCP",
          "PointCP",
          "IntCP",
          "NCP",
          "base",
          "mPointCP",
          "mIntCP",
          "mNCP",
          "PointCP",
          "IntCP",
          "NCP",
          "base",
          "mPointCP",
          "mIntCP",
          "mNCP",
          "PointCP",
          "IntCP",
          "NCP",
          "base",
          "mPointCP",
          "mIntCP",
          "mNCP",
          "PointCP",
          "IntCP",
          "NCP",
          ""
         ],
         "tickvals": [
          -0.5,
          0,
          1,
          2,
          3,
          4,
          5,
          6,
          7,
          8,
          9,
          10,
          11,
          12,
          13,
          14,
          15,
          16,
          17,
          18,
          19,
          20,
          21,
          22,
          23,
          24,
          25,
          26,
          27,
          27.5
         ]
        },
        "xaxis3": {
         "anchor": "y3",
         "domain": [
          0,
          1
         ],
         "range": [
          -0.5,
          27.5
         ],
         "tickangle": 45,
         "ticktext": [
          "",
          "base",
          "mPointCP",
          "mIntCP",
          "mNCP",
          "PointCP",
          "IntCP",
          "NCP",
          "base",
          "mPointCP",
          "mIntCP",
          "mNCP",
          "PointCP",
          "IntCP",
          "NCP",
          "base",
          "mPointCP",
          "mIntCP",
          "mNCP",
          "PointCP",
          "IntCP",
          "NCP",
          "base",
          "mPointCP",
          "mIntCP",
          "mNCP",
          "PointCP",
          "IntCP",
          "NCP",
          ""
         ],
         "tickvals": [
          -0.5,
          0,
          1,
          2,
          3,
          4,
          5,
          6,
          7,
          8,
          9,
          10,
          11,
          12,
          13,
          14,
          15,
          16,
          17,
          18,
          19,
          20,
          21,
          22,
          23,
          24,
          25,
          26,
          27,
          27.5
         ]
        },
        "yaxis": {
         "anchor": "x",
         "domain": [
          0.7777777777777778,
          1
         ]
        },
        "yaxis2": {
         "anchor": "x2",
         "domain": [
          0.3888888888888889,
          0.6111111111111112
         ]
        },
        "yaxis3": {
         "anchor": "x3",
         "domain": [
          0,
          0.22222222222222224
         ]
        }
       }
      },
      "text/html": [
       "<div>                            <div id=\"195edc08-000f-40e5-9df5-fe5a9bb7c462\" class=\"plotly-graph-div\" style=\"height:525px; width:1000px;\"></div>            <script type=\"text/javascript\">                require([\"plotly\"], function(Plotly) {                    window.PLOTLYENV=window.PLOTLYENV || {};                                    if (document.getElementById(\"195edc08-000f-40e5-9df5-fe5a9bb7c462\")) {                    Plotly.newPlot(                        \"195edc08-000f-40e5-9df5-fe5a9bb7c462\",                        [{\"line\":{\"color\":\"rgb(31, 119, 180)\"},\"showlegend\":false,\"spanmode\":\"hard\",\"x0\":0,\"y\":[0.16658889185891812,0.20198237935790286,0.07635317306895761,0.14470219493474057,0.1208590379145491,0.15556057177442384,0.1432670160130406,0.17699174761492187,0.1786059572233848,0.09758308097797497],\"type\":\"violin\",\"xaxis\":\"x\",\"yaxis\":\"y\"},{\"marker\":{\"color\":\"rgb(179,226,205)\",\"size\":7,\"symbol\":\"square\"},\"mode\":\"markers\",\"name\":\"QR\",\"x\":[null],\"y\":[null],\"type\":\"scatter\",\"xaxis\":\"x\",\"yaxis\":\"y\"},{\"line\":{\"color\":\"rgb(255, 127, 14)\"},\"showlegend\":false,\"spanmode\":\"hard\",\"x0\":1,\"y\":[0.17567474843913722,0.10831645764919806,0.13435394248165844,0.1773583029722684,0.06854261705861053,0.14252313666524397,0.13580078379138705,0.12323536976035143,0.10749491725529203,0.12473971104570258],\"type\":\"violin\",\"xaxis\":\"x\",\"yaxis\":\"y\"},{\"line\":{\"color\":\"rgb(44, 160, 44)\"},\"showlegend\":false,\"spanmode\":\"hard\",\"x0\":2,\"y\":[0.17567474843913722,0.10831645764919806,0.13435394248165844,0.1773583029722684,0.06854261705861053,0.14252313666524397,0.13580078379138705,0.12323536976035143,0.10749491725529203,0.12473971104570258],\"type\":\"violin\",\"xaxis\":\"x\",\"yaxis\":\"y\"},{\"line\":{\"color\":\"rgb(214, 39, 40)\"},\"showlegend\":false,\"spanmode\":\"hard\",\"x0\":3,\"y\":[0.17567474843913722,0.10831645764919806,0.13435394248165844,0.1773583029722684,0.06854261705861053,0.14252313666524397,0.13580078379138705,0.12323536976035143,0.10749491725529203,0.12473971104570258],\"type\":\"violin\",\"xaxis\":\"x\",\"yaxis\":\"y\"},{\"line\":{\"color\":\"rgb(148, 103, 189)\"},\"showlegend\":false,\"spanmode\":\"hard\",\"x0\":4,\"y\":[0.17567474843913722,0.10831645764919806,0.13435394248165844,0.1773583029722684,0.06854261705861053,0.14252313666524397,0.13580078379138705,0.12323536976035143,0.10749491725529203,0.12473971104570258],\"type\":\"violin\",\"xaxis\":\"x\",\"yaxis\":\"y\"},{\"line\":{\"color\":\"rgb(140, 86, 75)\"},\"showlegend\":false,\"spanmode\":\"hard\",\"x0\":5,\"y\":[0.17567474843913722,0.10831645764919806,0.13435394248165844,0.1773583029722684,0.06854261705861053,0.14252313666524397,0.13580078379138705,0.12323536976035143,0.10749491725529203,0.12473971104570258],\"type\":\"violin\",\"xaxis\":\"x\",\"yaxis\":\"y\"},{\"line\":{\"color\":\"rgb(227, 119, 194)\"},\"showlegend\":false,\"spanmode\":\"hard\",\"x0\":6,\"y\":[0.17567474843913722,0.10831645764919806,0.13435394248165844,0.1773583029722684,0.06854261705861053,0.14252313666524397,0.13580078379138705,0.12323536976035143,0.10749491725529203,0.12473971104570258],\"type\":\"violin\",\"xaxis\":\"x\",\"yaxis\":\"y\"},{\"line\":{\"color\":\"rgb(31, 119, 180)\"},\"showlegend\":false,\"spanmode\":\"hard\",\"x0\":7,\"y\":[0.15477703395535802,0.25555958848783134,0.20159937949147944,0.161735293963587,0.17597136752353526,0.14260715144312708,0.16302286553116885,0.25151760742655205,0.1787155132303474,0.1682085840014742],\"type\":\"violin\",\"xaxis\":\"x\",\"yaxis\":\"y\"},{\"marker\":{\"color\":\"rgb(253,205,172)\",\"size\":7,\"symbol\":\"square\"},\"mode\":\"markers\",\"name\":\"QRF\",\"x\":[null],\"y\":[null],\"type\":\"scatter\",\"xaxis\":\"x\",\"yaxis\":\"y\"},{\"line\":{\"color\":\"rgb(255, 127, 14)\"},\"showlegend\":false,\"spanmode\":\"hard\",\"x0\":8,\"y\":[0.1275039309172583,0.23840006502015598,0.24386754264206756,0.22088205507762126,0.19863158736234343,0.1228488379901832,0.15357362762702498,0.22141004605052084,0.16539176046024184,0.13788287004755684],\"type\":\"violin\",\"xaxis\":\"x\",\"yaxis\":\"y\"},{\"line\":{\"color\":\"rgb(44, 160, 44)\"},\"showlegend\":false,\"spanmode\":\"hard\",\"x0\":9,\"y\":[0.1275039309172583,0.23840006502015598,0.24386754264206756,0.22088205507762126,0.19863158736234343,0.1228488379901832,0.15357362762702498,0.22141004605052084,0.16539176046024184,0.13788287004755684],\"type\":\"violin\",\"xaxis\":\"x\",\"yaxis\":\"y\"},{\"line\":{\"color\":\"rgb(214, 39, 40)\"},\"showlegend\":false,\"spanmode\":\"hard\",\"x0\":10,\"y\":[0.1275039309172583,0.23840006502015598,0.24386754264206756,0.22088205507762126,0.19863158736234343,0.1228488379901832,0.15357362762702498,0.22141004605052084,0.16539176046024184,0.13788287004755684],\"type\":\"violin\",\"xaxis\":\"x\",\"yaxis\":\"y\"},{\"line\":{\"color\":\"rgb(148, 103, 189)\"},\"showlegend\":false,\"spanmode\":\"hard\",\"x0\":11,\"y\":[0.1275039309172583,0.23840006502015598,0.24386754264206756,0.22088205507762126,0.19863158736234343,0.1228488379901832,0.15357362762702498,0.22141004605052084,0.16539176046024184,0.13788287004755684],\"type\":\"violin\",\"xaxis\":\"x\",\"yaxis\":\"y\"},{\"line\":{\"color\":\"rgb(140, 86, 75)\"},\"showlegend\":false,\"spanmode\":\"hard\",\"x0\":12,\"y\":[0.1275039309172583,0.23840006502015598,0.24386754264206756,0.22088205507762126,0.19863158736234343,0.1228488379901832,0.15357362762702498,0.22141004605052084,0.16539176046024184,0.13788287004755684],\"type\":\"violin\",\"xaxis\":\"x\",\"yaxis\":\"y\"},{\"line\":{\"color\":\"rgb(227, 119, 194)\"},\"showlegend\":false,\"spanmode\":\"hard\",\"x0\":13,\"y\":[0.1275039309172583,0.23840006502015598,0.24386754264206756,0.22088205507762126,0.19863158736234343,0.1228488379901832,0.15357362762702498,0.22141004605052084,0.16539176046024184,0.13788287004755684],\"type\":\"violin\",\"xaxis\":\"x\",\"yaxis\":\"y\"},{\"line\":{\"color\":\"rgb(31, 119, 180)\"},\"showlegend\":false,\"spanmode\":\"hard\",\"x0\":14,\"y\":[0.005124250322498414,0.08291288056875445,0.13060281983161048,0.14563608323786637,0.04895967546580804,0.13552182346418862,0.08458409529427358,0.0852687661378757,-0.026549286502346447,0.0010342516439902916],\"type\":\"violin\",\"xaxis\":\"x\",\"yaxis\":\"y\"},{\"marker\":{\"color\":\"rgb(203,213,232)\",\"size\":7,\"symbol\":\"square\"},\"mode\":\"markers\",\"name\":\"MV\",\"x\":[null],\"y\":[null],\"type\":\"scatter\",\"xaxis\":\"x\",\"yaxis\":\"y\"},{\"line\":{\"color\":\"rgb(255, 127, 14)\"},\"showlegend\":false,\"spanmode\":\"hard\",\"x0\":15,\"y\":[0.005124250322498414,0.08291288056875445,0.13060281983161048,0.14563608323786637,0.04895967546580804,0.13552182346418862,0.08458409529427358,0.0852687661378757,-0.026549286502346447,0.0010342516439902916],\"type\":\"violin\",\"xaxis\":\"x\",\"yaxis\":\"y\"},{\"line\":{\"color\":\"rgb(44, 160, 44)\"},\"showlegend\":false,\"spanmode\":\"hard\",\"x0\":16,\"y\":[0.005124250322498414,0.08291288056875445,0.13060281983161048,0.14563608323786637,0.04895967546580804,0.13552182346418862,0.08458409529427358,0.0852687661378757,-0.026549286502346447,0.0010342516439902916],\"type\":\"violin\",\"xaxis\":\"x\",\"yaxis\":\"y\"},{\"line\":{\"color\":\"rgb(214, 39, 40)\"},\"showlegend\":false,\"spanmode\":\"hard\",\"x0\":17,\"y\":[0.005124250322498414,0.08291288056875445,0.13060281983161048,0.14563608323786637,0.04895967546580804,0.13552182346418862,0.08458409529427358,0.0852687661378757,-0.026549286502346447,0.0010342516439902916],\"type\":\"violin\",\"xaxis\":\"x\",\"yaxis\":\"y\"},{\"line\":{\"color\":\"rgb(148, 103, 189)\"},\"showlegend\":false,\"spanmode\":\"hard\",\"x0\":18,\"y\":[0.005124250322498414,0.08291288056875445,0.13060281983161048,0.14563608323786637,0.04895967546580804,0.13552182346418862,0.08458409529427358,0.0852687661378757,-0.026549286502346447,0.0010342516439902916],\"type\":\"violin\",\"xaxis\":\"x\",\"yaxis\":\"y\"},{\"line\":{\"color\":\"rgb(140, 86, 75)\"},\"showlegend\":false,\"spanmode\":\"hard\",\"x0\":19,\"y\":[0.005124250322498414,0.08291288056875445,0.13060281983161048,0.14563608323786637,0.04895967546580804,0.13552182346418862,0.08458409529427358,0.0852687661378757,-0.026549286502346447,0.0010342516439902916],\"type\":\"violin\",\"xaxis\":\"x\",\"yaxis\":\"y\"},{\"line\":{\"color\":\"rgb(227, 119, 194)\"},\"showlegend\":false,\"spanmode\":\"hard\",\"x0\":20,\"y\":[0.005124250322498414,0.08291288056875445,0.13060281983161048,0.14563608323786637,0.04895967546580804,0.13552182346418862,0.08458409529427358,0.0852687661378757,-0.026549286502346447,0.0010342516439902916],\"type\":\"violin\",\"xaxis\":\"x\",\"yaxis\":\"y\"},{\"line\":{\"color\":\"rgb(31, 119, 180)\"},\"showlegend\":false,\"spanmode\":\"hard\",\"x0\":21,\"y\":[0.14162698184182843,0.1509434975328493,0.1301581267276265,0.11158637185279208,0.06034081565437266,0.038051949119189854,0.08801979198521825,0.14028949963820725,0.12967567593659923,0.06155741519884528],\"type\":\"violin\",\"xaxis\":\"x\",\"yaxis\":\"y\"},{\"marker\":{\"color\":\"rgb(244,202,228)\",\"size\":7,\"symbol\":\"square\"},\"mode\":\"markers\",\"name\":\"MVE\",\"x\":[null],\"y\":[null],\"type\":\"scatter\",\"xaxis\":\"x\",\"yaxis\":\"y\"},{\"line\":{\"color\":\"rgb(255, 127, 14)\"},\"showlegend\":false,\"spanmode\":\"hard\",\"x0\":22,\"y\":[0.14162698184182843,0.1509434975328493,0.1301581267276265,0.11158637185279208,0.06034081565437266,0.038051949119189854,0.08801979198521825,0.14028949963820725,0.12967567593659923,0.06155741519884528],\"type\":\"violin\",\"xaxis\":\"x\",\"yaxis\":\"y\"},{\"line\":{\"color\":\"rgb(44, 160, 44)\"},\"showlegend\":false,\"spanmode\":\"hard\",\"x0\":23,\"y\":[0.14162698184182843,0.1509434975328493,0.1301581267276265,0.11158637185279208,0.06034081565437266,0.038051949119189854,0.08801979198521825,0.14028949963820725,0.12967567593659923,0.06155741519884528],\"type\":\"violin\",\"xaxis\":\"x\",\"yaxis\":\"y\"},{\"line\":{\"color\":\"rgb(214, 39, 40)\"},\"showlegend\":false,\"spanmode\":\"hard\",\"x0\":24,\"y\":[0.14162698184182843,0.1509434975328493,0.1301581267276265,0.11158637185279208,0.06034081565437266,0.038051949119189854,0.08801979198521825,0.14028949963820725,0.12967567593659923,0.06155741519884528],\"type\":\"violin\",\"xaxis\":\"x\",\"yaxis\":\"y\"},{\"line\":{\"color\":\"rgb(148, 103, 189)\"},\"showlegend\":false,\"spanmode\":\"hard\",\"x0\":25,\"y\":[0.14162698184182843,0.1509434975328493,0.1301581267276265,0.11158637185279208,0.06034081565437266,0.038051949119189854,0.08801979198521825,0.14028949963820725,0.12967567593659923,0.06155741519884528],\"type\":\"violin\",\"xaxis\":\"x\",\"yaxis\":\"y\"},{\"line\":{\"color\":\"rgb(140, 86, 75)\"},\"showlegend\":false,\"spanmode\":\"hard\",\"x0\":26,\"y\":[0.14162698184182843,0.1509434975328493,0.1301581267276265,0.11158637185279208,0.06034081565437266,0.038051949119189854,0.08801979198521825,0.14028949963820725,0.12967567593659923,0.06155741519884528],\"type\":\"violin\",\"xaxis\":\"x\",\"yaxis\":\"y\"},{\"line\":{\"color\":\"rgb(227, 119, 194)\"},\"showlegend\":false,\"spanmode\":\"hard\",\"x0\":27,\"y\":[0.14162698184182843,0.1509434975328493,0.1301581267276265,0.11158637185279208,0.06034081565437266,0.038051949119189854,0.08801979198521825,0.14028949963820725,0.12967567593659923,0.06155741519884528],\"type\":\"violin\",\"xaxis\":\"x\",\"yaxis\":\"y\"},{\"line\":{\"color\":\"rgb(31, 119, 180)\"},\"showlegend\":false,\"spanmode\":\"hard\",\"x0\":0,\"y\":[0.15697831812986518,0.2014859167870473,0.2489265770062823,0.2210997511079088,0.14690338789447555,0.20620534255490774,0.20329266318198236,0.1095959709145935,0.17850528039202995,0.2082670777737594],\"type\":\"violin\",\"xaxis\":\"x2\",\"yaxis\":\"y2\"},{\"line\":{\"color\":\"rgb(255, 127, 14)\"},\"showlegend\":false,\"spanmode\":\"hard\",\"x0\":1,\"y\":[0.09614389215156338,0.27340775398925965,0.17958445870988038,0.21026774172670404,0.11550750117369835,0.16688230561306494,0.16966366220893403,0.19825738675654414,0.18429739622955132,0.10470811614453501],\"type\":\"violin\",\"xaxis\":\"x2\",\"yaxis\":\"y2\"},{\"line\":{\"color\":\"rgb(44, 160, 44)\"},\"showlegend\":false,\"spanmode\":\"hard\",\"x0\":2,\"y\":[0.09614389215156338,0.27340775398925965,0.17958445870988038,0.21026774172670404,0.11550750117369835,0.16688230561306494,0.16966366220893403,0.19825738675654414,0.18429739622955132,0.10470811614453501],\"type\":\"violin\",\"xaxis\":\"x2\",\"yaxis\":\"y2\"},{\"line\":{\"color\":\"rgb(214, 39, 40)\"},\"showlegend\":false,\"spanmode\":\"hard\",\"x0\":3,\"y\":[0.09614389215156338,0.27340775398925965,0.17958445870988038,0.21026774172670404,0.11550750117369835,0.16688230561306494,0.16966366220893403,0.19825738675654414,0.18429739622955132,0.10470811614453501],\"type\":\"violin\",\"xaxis\":\"x2\",\"yaxis\":\"y2\"},{\"line\":{\"color\":\"rgb(148, 103, 189)\"},\"showlegend\":false,\"spanmode\":\"hard\",\"x0\":4,\"y\":[0.09614389215156338,0.27340775398925965,0.17958445870988038,0.21026774172670404,0.11550750117369835,0.16688230561306494,0.16966366220893403,0.19825738675654414,0.18429739622955132,0.10470811614453501],\"type\":\"violin\",\"xaxis\":\"x2\",\"yaxis\":\"y2\"},{\"line\":{\"color\":\"rgb(140, 86, 75)\"},\"showlegend\":false,\"spanmode\":\"hard\",\"x0\":5,\"y\":[0.09614389215156338,0.27340775398925965,0.17958445870988038,0.21026774172670404,0.11550750117369835,0.16688230561306494,0.16966366220893403,0.19825738675654414,0.18429739622955132,0.10470811614453501],\"type\":\"violin\",\"xaxis\":\"x2\",\"yaxis\":\"y2\"},{\"line\":{\"color\":\"rgb(227, 119, 194)\"},\"showlegend\":false,\"spanmode\":\"hard\",\"x0\":6,\"y\":[0.09614389215156338,0.27340775398925965,0.17958445870988038,0.21026774172670404,0.11550750117369835,0.16688230561306494,0.16966366220893403,0.19825738675654414,0.18429739622955132,0.10470811614453501],\"type\":\"violin\",\"xaxis\":\"x2\",\"yaxis\":\"y2\"},{\"line\":{\"color\":\"rgb(31, 119, 180)\"},\"showlegend\":false,\"spanmode\":\"hard\",\"x0\":7,\"y\":[0.17851244376228081,0.1906873004956252,0.19296419129057385,0.19882710474446585,0.15436134285337866,0.17192553147264045,0.17696344549061194,0.12406881753225418,0.1831622537712665,0.1392766749602259],\"type\":\"violin\",\"xaxis\":\"x2\",\"yaxis\":\"y2\"},{\"line\":{\"color\":\"rgb(255, 127, 14)\"},\"showlegend\":false,\"spanmode\":\"hard\",\"x0\":8,\"y\":[0.16312970261913307,0.19418573355112934,0.1834161381370718,0.19162387030669847,0.1272956763197809,0.17000141785008005,0.18118442053271422,0.19832203982561325,0.18129132413635063,0.1532132338304737],\"type\":\"violin\",\"xaxis\":\"x2\",\"yaxis\":\"y2\"},{\"line\":{\"color\":\"rgb(44, 160, 44)\"},\"showlegend\":false,\"spanmode\":\"hard\",\"x0\":9,\"y\":[0.16312970261913307,0.19418573355112934,0.1834161381370718,0.19162387030669847,0.1272956763197809,0.17000141785008005,0.18118442053271422,0.19832203982561325,0.18129132413635063,0.1532132338304737],\"type\":\"violin\",\"xaxis\":\"x2\",\"yaxis\":\"y2\"},{\"line\":{\"color\":\"rgb(214, 39, 40)\"},\"showlegend\":false,\"spanmode\":\"hard\",\"x0\":10,\"y\":[0.16312970261913307,0.19418573355112934,0.1834161381370718,0.19162387030669847,0.1272956763197809,0.17000141785008005,0.18118442053271422,0.19832203982561325,0.18129132413635063,0.1532132338304737],\"type\":\"violin\",\"xaxis\":\"x2\",\"yaxis\":\"y2\"},{\"line\":{\"color\":\"rgb(148, 103, 189)\"},\"showlegend\":false,\"spanmode\":\"hard\",\"x0\":11,\"y\":[0.16312970261913307,0.19418573355112934,0.1834161381370718,0.19162387030669847,0.1272956763197809,0.17000141785008005,0.18118442053271422,0.19832203982561325,0.18129132413635063,0.1532132338304737],\"type\":\"violin\",\"xaxis\":\"x2\",\"yaxis\":\"y2\"},{\"line\":{\"color\":\"rgb(140, 86, 75)\"},\"showlegend\":false,\"spanmode\":\"hard\",\"x0\":12,\"y\":[0.16312970261913307,0.19418573355112934,0.1834161381370718,0.19162387030669847,0.1272956763197809,0.17000141785008005,0.18118442053271422,0.19832203982561325,0.18129132413635063,0.1532132338304737],\"type\":\"violin\",\"xaxis\":\"x2\",\"yaxis\":\"y2\"},{\"line\":{\"color\":\"rgb(227, 119, 194)\"},\"showlegend\":false,\"spanmode\":\"hard\",\"x0\":13,\"y\":[0.16312970261913307,0.19418573355112934,0.1834161381370718,0.19162387030669847,0.1272956763197809,0.17000141785008005,0.18118442053271422,0.19832203982561325,0.18129132413635063,0.1532132338304737],\"type\":\"violin\",\"xaxis\":\"x2\",\"yaxis\":\"y2\"},{\"line\":{\"color\":\"rgb(31, 119, 180)\"},\"showlegend\":false,\"spanmode\":\"hard\",\"x0\":14,\"y\":[0.20345085947530028,0.2161535743456443,0.18839136277023028,0.2478753449662402,0.08613474765069529,0.12165322779362331,0.17729336444427568,0.2095456467911303,0.14266209050455225,0.10399146066588771],\"type\":\"violin\",\"xaxis\":\"x2\",\"yaxis\":\"y2\"},{\"line\":{\"color\":\"rgb(255, 127, 14)\"},\"showlegend\":false,\"spanmode\":\"hard\",\"x0\":15,\"y\":[0.20345085947530028,0.2161535743456443,0.18839136277023028,0.2478753449662402,0.08613474765069529,0.12165322779362331,0.17729336444427568,0.2095456467911303,0.14266209050455225,0.10399146066588771],\"type\":\"violin\",\"xaxis\":\"x2\",\"yaxis\":\"y2\"},{\"line\":{\"color\":\"rgb(44, 160, 44)\"},\"showlegend\":false,\"spanmode\":\"hard\",\"x0\":16,\"y\":[0.20345085947530028,0.2161535743456443,0.18839136277023028,0.2478753449662402,0.08613474765069529,0.12165322779362331,0.17729336444427568,0.2095456467911303,0.14266209050455225,0.10399146066588771],\"type\":\"violin\",\"xaxis\":\"x2\",\"yaxis\":\"y2\"},{\"line\":{\"color\":\"rgb(214, 39, 40)\"},\"showlegend\":false,\"spanmode\":\"hard\",\"x0\":17,\"y\":[0.20345085947530028,0.2161535743456443,0.18839136277023028,0.2478753449662402,0.08613474765069529,0.12165322779362331,0.17729336444427568,0.2095456467911303,0.14266209050455225,0.10399146066588771],\"type\":\"violin\",\"xaxis\":\"x2\",\"yaxis\":\"y2\"},{\"line\":{\"color\":\"rgb(148, 103, 189)\"},\"showlegend\":false,\"spanmode\":\"hard\",\"x0\":18,\"y\":[0.20345085947530028,0.2161535743456443,0.18839136277023028,0.2478753449662402,0.08613474765069529,0.12165322779362331,0.17729336444427568,0.2095456467911303,0.14266209050455225,0.10399146066588771],\"type\":\"violin\",\"xaxis\":\"x2\",\"yaxis\":\"y2\"},{\"line\":{\"color\":\"rgb(140, 86, 75)\"},\"showlegend\":false,\"spanmode\":\"hard\",\"x0\":19,\"y\":[0.20345085947530028,0.2161535743456443,0.18839136277023028,0.2478753449662402,0.08613474765069529,0.12165322779362331,0.17729336444427568,0.2095456467911303,0.14266209050455225,0.10399146066588771],\"type\":\"violin\",\"xaxis\":\"x2\",\"yaxis\":\"y2\"},{\"line\":{\"color\":\"rgb(227, 119, 194)\"},\"showlegend\":false,\"spanmode\":\"hard\",\"x0\":20,\"y\":[0.20345085947530028,0.2161535743456443,0.18839136277023028,0.2478753449662402,0.08613474765069529,0.12165322779362331,0.17729336444427568,0.2095456467911303,0.14266209050455225,0.10399146066588771],\"type\":\"violin\",\"xaxis\":\"x2\",\"yaxis\":\"y2\"},{\"line\":{\"color\":\"rgb(31, 119, 180)\"},\"showlegend\":false,\"spanmode\":\"hard\",\"x0\":21,\"y\":[0.07280539155981491,0.1895920626635399,0.16861307500961176,0.26203604434939687,0.15155462638506056,0.16440648546762748,0.22401464277309424,0.14072895296197152,0.15069289831734767,0.1326778426228803],\"type\":\"violin\",\"xaxis\":\"x2\",\"yaxis\":\"y2\"},{\"line\":{\"color\":\"rgb(255, 127, 14)\"},\"showlegend\":false,\"spanmode\":\"hard\",\"x0\":22,\"y\":[0.07280539155981491,0.1895920626635399,0.16861307500961176,0.26203604434939687,0.15155462638506056,0.16440648546762748,0.22401464277309424,0.14072895296197152,0.15069289831734767,0.1326778426228803],\"type\":\"violin\",\"xaxis\":\"x2\",\"yaxis\":\"y2\"},{\"line\":{\"color\":\"rgb(44, 160, 44)\"},\"showlegend\":false,\"spanmode\":\"hard\",\"x0\":23,\"y\":[0.07280539155981491,0.1895920626635399,0.16861307500961176,0.26203604434939687,0.15155462638506056,0.16440648546762748,0.22401464277309424,0.14072895296197152,0.15069289831734767,0.1326778426228803],\"type\":\"violin\",\"xaxis\":\"x2\",\"yaxis\":\"y2\"},{\"line\":{\"color\":\"rgb(214, 39, 40)\"},\"showlegend\":false,\"spanmode\":\"hard\",\"x0\":24,\"y\":[0.07280539155981491,0.1895920626635399,0.16861307500961176,0.26203604434939687,0.15155462638506056,0.16440648546762748,0.22401464277309424,0.14072895296197152,0.15069289831734767,0.1326778426228803],\"type\":\"violin\",\"xaxis\":\"x2\",\"yaxis\":\"y2\"},{\"line\":{\"color\":\"rgb(148, 103, 189)\"},\"showlegend\":false,\"spanmode\":\"hard\",\"x0\":25,\"y\":[0.07280539155981491,0.1895920626635399,0.16861307500961176,0.26203604434939687,0.15155462638506056,0.16440648546762748,0.22401464277309424,0.14072895296197152,0.15069289831734767,0.1326778426228803],\"type\":\"violin\",\"xaxis\":\"x2\",\"yaxis\":\"y2\"},{\"line\":{\"color\":\"rgb(140, 86, 75)\"},\"showlegend\":false,\"spanmode\":\"hard\",\"x0\":26,\"y\":[0.07280539155981491,0.1895920626635399,0.16861307500961176,0.26203604434939687,0.15155462638506056,0.16440648546762748,0.22401464277309424,0.14072895296197152,0.15069289831734767,0.1326778426228803],\"type\":\"violin\",\"xaxis\":\"x2\",\"yaxis\":\"y2\"},{\"line\":{\"color\":\"rgb(227, 119, 194)\"},\"showlegend\":false,\"spanmode\":\"hard\",\"x0\":27,\"y\":[0.07280539155981491,0.1895920626635399,0.16861307500961176,0.26203604434939687,0.15155462638506056,0.16440648546762748,0.22401464277309424,0.14072895296197152,0.15069289831734767,0.1326778426228803],\"type\":\"violin\",\"xaxis\":\"x2\",\"yaxis\":\"y2\"},{\"line\":{\"color\":\"rgb(31, 119, 180)\"},\"showlegend\":false,\"spanmode\":\"hard\",\"x0\":0,\"y\":[0.09745951446325885,0.21063840063513084,0.29279547890752944,0.2741657714019007,0.18136156952950666,0.20376539041784547,0.20415983034704077,0.2649295384501601,0.20695529784475253,0.18616290155382598],\"type\":\"violin\",\"xaxis\":\"x3\",\"yaxis\":\"y3\"},{\"line\":{\"color\":\"rgb(255, 127, 14)\"},\"showlegend\":false,\"spanmode\":\"hard\",\"x0\":1,\"y\":[0.15042147142936546,0.1806202495346073,0.2902183776613275,0.23739368435981933,0.19482412556033846,0.17837033920801038,0.13713782593406265,0.2194829282817925,0.22061857851904454,0.19936091717363114],\"type\":\"violin\",\"xaxis\":\"x3\",\"yaxis\":\"y3\"},{\"line\":{\"color\":\"rgb(44, 160, 44)\"},\"showlegend\":false,\"spanmode\":\"hard\",\"x0\":2,\"y\":[0.15042147142936546,0.1806202495346073,0.2902183776613275,0.23739368435981933,0.19482412556033846,0.17837033920801038,0.13713782593406265,0.2194829282817925,0.22061857851904454,0.19936091717363114],\"type\":\"violin\",\"xaxis\":\"x3\",\"yaxis\":\"y3\"},{\"line\":{\"color\":\"rgb(214, 39, 40)\"},\"showlegend\":false,\"spanmode\":\"hard\",\"x0\":3,\"y\":[0.15042147142936546,0.1806202495346073,0.2902183776613275,0.23739368435981933,0.19482412556033846,0.17837033920801038,0.13713782593406265,0.2194829282817925,0.22061857851904454,0.19936091717363114],\"type\":\"violin\",\"xaxis\":\"x3\",\"yaxis\":\"y3\"},{\"line\":{\"color\":\"rgb(148, 103, 189)\"},\"showlegend\":false,\"spanmode\":\"hard\",\"x0\":4,\"y\":[0.15042147142936546,0.1806202495346073,0.2902183776613275,0.23739368435981933,0.19482412556033846,0.17837033920801038,0.13713782593406265,0.2194829282817925,0.22061857851904454,0.19936091717363114],\"type\":\"violin\",\"xaxis\":\"x3\",\"yaxis\":\"y3\"},{\"line\":{\"color\":\"rgb(140, 86, 75)\"},\"showlegend\":false,\"spanmode\":\"hard\",\"x0\":5,\"y\":[0.15042147142936546,0.1806202495346073,0.2902183776613275,0.23739368435981933,0.19482412556033846,0.17837033920801038,0.13713782593406265,0.2194829282817925,0.22061857851904454,0.19936091717363114],\"type\":\"violin\",\"xaxis\":\"x3\",\"yaxis\":\"y3\"},{\"line\":{\"color\":\"rgb(227, 119, 194)\"},\"showlegend\":false,\"spanmode\":\"hard\",\"x0\":6,\"y\":[0.15042147142936546,0.1806202495346073,0.2902183776613275,0.23739368435981933,0.19482412556033846,0.17837033920801038,0.13713782593406265,0.2194829282817925,0.22061857851904454,0.19936091717363114],\"type\":\"violin\",\"xaxis\":\"x3\",\"yaxis\":\"y3\"},{\"line\":{\"color\":\"rgb(31, 119, 180)\"},\"showlegend\":false,\"spanmode\":\"hard\",\"x0\":7,\"y\":[0.15111935983875924,0.16171344437508872,0.10690077253848707,0.22149038002773225,0.14127628349456445,0.1633963874599501,0.16243471230113216,0.2069091802823403,0.18813959127163749,0.21508955251508854],\"type\":\"violin\",\"xaxis\":\"x3\",\"yaxis\":\"y3\"},{\"line\":{\"color\":\"rgb(255, 127, 14)\"},\"showlegend\":false,\"spanmode\":\"hard\",\"x0\":8,\"y\":[0.18952211397445773,0.16579749702356195,0.14054931228354894,0.17537255297751453,0.1616984391802796,0.11837404180566269,0.17150477195590386,0.17108878707114294,0.1942963088038724,0.20450303189821661],\"type\":\"violin\",\"xaxis\":\"x3\",\"yaxis\":\"y3\"},{\"line\":{\"color\":\"rgb(44, 160, 44)\"},\"showlegend\":false,\"spanmode\":\"hard\",\"x0\":9,\"y\":[0.18952211397445773,0.16579749702356195,0.14054931228354894,0.17537255297751453,0.1616984391802796,0.11837404180566269,0.17150477195590386,0.17108878707114294,0.1942963088038724,0.20450303189821661],\"type\":\"violin\",\"xaxis\":\"x3\",\"yaxis\":\"y3\"},{\"line\":{\"color\":\"rgb(214, 39, 40)\"},\"showlegend\":false,\"spanmode\":\"hard\",\"x0\":10,\"y\":[0.18952211397445773,0.16579749702356195,0.14054931228354894,0.17537255297751453,0.1616984391802796,0.11837404180566269,0.17150477195590386,0.17108878707114294,0.1942963088038724,0.20450303189821661],\"type\":\"violin\",\"xaxis\":\"x3\",\"yaxis\":\"y3\"},{\"line\":{\"color\":\"rgb(148, 103, 189)\"},\"showlegend\":false,\"spanmode\":\"hard\",\"x0\":11,\"y\":[0.18952211397445773,0.16579749702356195,0.14054931228354894,0.17537255297751453,0.1616984391802796,0.11837404180566269,0.17150477195590386,0.17108878707114294,0.1942963088038724,0.20450303189821661],\"type\":\"violin\",\"xaxis\":\"x3\",\"yaxis\":\"y3\"},{\"line\":{\"color\":\"rgb(140, 86, 75)\"},\"showlegend\":false,\"spanmode\":\"hard\",\"x0\":12,\"y\":[0.18952211397445773,0.16579749702356195,0.14054931228354894,0.17537255297751453,0.1616984391802796,0.11837404180566269,0.17150477195590386,0.17108878707114294,0.1942963088038724,0.20450303189821661],\"type\":\"violin\",\"xaxis\":\"x3\",\"yaxis\":\"y3\"},{\"line\":{\"color\":\"rgb(227, 119, 194)\"},\"showlegend\":false,\"spanmode\":\"hard\",\"x0\":13,\"y\":[0.18952211397445773,0.16579749702356195,0.14054931228354894,0.17537255297751453,0.1616984391802796,0.11837404180566269,0.17150477195590386,0.17108878707114294,0.1942963088038724,0.20450303189821661],\"type\":\"violin\",\"xaxis\":\"x3\",\"yaxis\":\"y3\"},{\"line\":{\"color\":\"rgb(31, 119, 180)\"},\"showlegend\":false,\"spanmode\":\"hard\",\"x0\":14,\"y\":[0.13957286074754482,0.24017216176524914,0.27316320971541863,0.21423938194142766,0.2550563801962803,0.2807609981423368,0.19050117489553853,0.21326575797422287,0.20568611626545963,0.34558334641656885],\"type\":\"violin\",\"xaxis\":\"x3\",\"yaxis\":\"y3\"},{\"line\":{\"color\":\"rgb(255, 127, 14)\"},\"showlegend\":false,\"spanmode\":\"hard\",\"x0\":15,\"y\":[0.13957286074754482,0.24017216176524914,0.27316320971541863,0.21423938194142766,0.2550563801962803,0.2807609981423368,0.19050117489553853,0.21326575797422287,0.20568611626545963,0.34558334641656885],\"type\":\"violin\",\"xaxis\":\"x3\",\"yaxis\":\"y3\"},{\"line\":{\"color\":\"rgb(44, 160, 44)\"},\"showlegend\":false,\"spanmode\":\"hard\",\"x0\":16,\"y\":[0.13957286074754482,0.24017216176524914,0.27316320971541863,0.21423938194142766,0.2550563801962803,0.2807609981423368,0.19050117489553853,0.21326575797422287,0.20568611626545963,0.34558334641656885],\"type\":\"violin\",\"xaxis\":\"x3\",\"yaxis\":\"y3\"},{\"line\":{\"color\":\"rgb(214, 39, 40)\"},\"showlegend\":false,\"spanmode\":\"hard\",\"x0\":17,\"y\":[0.13957286074754482,0.24017216176524914,0.27316320971541863,0.21423938194142766,0.2550563801962803,0.2807609981423368,0.19050117489553853,0.21326575797422287,0.20568611626545963,0.34558334641656885],\"type\":\"violin\",\"xaxis\":\"x3\",\"yaxis\":\"y3\"},{\"line\":{\"color\":\"rgb(148, 103, 189)\"},\"showlegend\":false,\"spanmode\":\"hard\",\"x0\":18,\"y\":[0.13957286074754482,0.24017216176524914,0.27316320971541863,0.21423938194142766,0.2550563801962803,0.2807609981423368,0.19050117489553853,0.21326575797422287,0.20568611626545963,0.34558334641656885],\"type\":\"violin\",\"xaxis\":\"x3\",\"yaxis\":\"y3\"},{\"line\":{\"color\":\"rgb(140, 86, 75)\"},\"showlegend\":false,\"spanmode\":\"hard\",\"x0\":19,\"y\":[0.13957286074754482,0.24017216176524914,0.27316320971541863,0.21423938194142766,0.2550563801962803,0.2807609981423368,0.19050117489553853,0.21326575797422287,0.20568611626545963,0.34558334641656885],\"type\":\"violin\",\"xaxis\":\"x3\",\"yaxis\":\"y3\"},{\"line\":{\"color\":\"rgb(227, 119, 194)\"},\"showlegend\":false,\"spanmode\":\"hard\",\"x0\":20,\"y\":[0.13957286074754482,0.24017216176524914,0.27316320971541863,0.21423938194142766,0.2550563801962803,0.2807609981423368,0.19050117489553853,0.21326575797422287,0.20568611626545963,0.34558334641656885],\"type\":\"violin\",\"xaxis\":\"x3\",\"yaxis\":\"y3\"},{\"line\":{\"color\":\"rgb(31, 119, 180)\"},\"showlegend\":false,\"spanmode\":\"hard\",\"x0\":21,\"y\":[0.2094845332118389,0.2815753672906458,0.2937834178995027,0.2924656751029646,0.2145835592290487,0.20366387008687126,0.12099960828525891,0.28869402684886625,0.25653476557837385,0.2800500631770031],\"type\":\"violin\",\"xaxis\":\"x3\",\"yaxis\":\"y3\"},{\"line\":{\"color\":\"rgb(255, 127, 14)\"},\"showlegend\":false,\"spanmode\":\"hard\",\"x0\":22,\"y\":[0.2094845332118389,0.2815753672906458,0.2937834178995027,0.2924656751029646,0.2145835592290487,0.20366387008687126,0.12099960828525891,0.28869402684886625,0.25653476557837385,0.2800500631770031],\"type\":\"violin\",\"xaxis\":\"x3\",\"yaxis\":\"y3\"},{\"line\":{\"color\":\"rgb(44, 160, 44)\"},\"showlegend\":false,\"spanmode\":\"hard\",\"x0\":23,\"y\":[0.2094845332118389,0.2815753672906458,0.2937834178995027,0.2924656751029646,0.2145835592290487,0.20366387008687126,0.12099960828525891,0.28869402684886625,0.25653476557837385,0.2800500631770031],\"type\":\"violin\",\"xaxis\":\"x3\",\"yaxis\":\"y3\"},{\"line\":{\"color\":\"rgb(214, 39, 40)\"},\"showlegend\":false,\"spanmode\":\"hard\",\"x0\":24,\"y\":[0.2094845332118389,0.2815753672906458,0.2937834178995027,0.2924656751029646,0.2145835592290487,0.20366387008687126,0.12099960828525891,0.28869402684886625,0.25653476557837385,0.2800500631770031],\"type\":\"violin\",\"xaxis\":\"x3\",\"yaxis\":\"y3\"},{\"line\":{\"color\":\"rgb(148, 103, 189)\"},\"showlegend\":false,\"spanmode\":\"hard\",\"x0\":25,\"y\":[0.2094845332118389,0.2815753672906458,0.2937834178995027,0.2924656751029646,0.2145835592290487,0.20366387008687126,0.12099960828525891,0.28869402684886625,0.25653476557837385,0.2800500631770031],\"type\":\"violin\",\"xaxis\":\"x3\",\"yaxis\":\"y3\"},{\"line\":{\"color\":\"rgb(140, 86, 75)\"},\"showlegend\":false,\"spanmode\":\"hard\",\"x0\":26,\"y\":[0.2094845332118389,0.2815753672906458,0.2937834178995027,0.2924656751029646,0.2145835592290487,0.20366387008687126,0.12099960828525891,0.28869402684886625,0.25653476557837385,0.2800500631770031],\"type\":\"violin\",\"xaxis\":\"x3\",\"yaxis\":\"y3\"},{\"line\":{\"color\":\"rgb(227, 119, 194)\"},\"showlegend\":false,\"spanmode\":\"hard\",\"x0\":27,\"y\":[0.2094845332118389,0.2815753672906458,0.2937834178995027,0.2924656751029646,0.2145835592290487,0.20366387008687126,0.12099960828525891,0.28869402684886625,0.25653476557837385,0.2800500631770031],\"type\":\"violin\",\"xaxis\":\"x3\",\"yaxis\":\"y3\"}],                        {\"template\":{\"data\":{\"histogram2dcontour\":[{\"type\":\"histogram2dcontour\",\"colorbar\":{\"outlinewidth\":0,\"ticks\":\"\"},\"colorscale\":[[0.0,\"#0d0887\"],[0.1111111111111111,\"#46039f\"],[0.2222222222222222,\"#7201a8\"],[0.3333333333333333,\"#9c179e\"],[0.4444444444444444,\"#bd3786\"],[0.5555555555555556,\"#d8576b\"],[0.6666666666666666,\"#ed7953\"],[0.7777777777777778,\"#fb9f3a\"],[0.8888888888888888,\"#fdca26\"],[1.0,\"#f0f921\"]]}],\"choropleth\":[{\"type\":\"choropleth\",\"colorbar\":{\"outlinewidth\":0,\"ticks\":\"\"}}],\"histogram2d\":[{\"type\":\"histogram2d\",\"colorbar\":{\"outlinewidth\":0,\"ticks\":\"\"},\"colorscale\":[[0.0,\"#0d0887\"],[0.1111111111111111,\"#46039f\"],[0.2222222222222222,\"#7201a8\"],[0.3333333333333333,\"#9c179e\"],[0.4444444444444444,\"#bd3786\"],[0.5555555555555556,\"#d8576b\"],[0.6666666666666666,\"#ed7953\"],[0.7777777777777778,\"#fb9f3a\"],[0.8888888888888888,\"#fdca26\"],[1.0,\"#f0f921\"]]}],\"heatmap\":[{\"type\":\"heatmap\",\"colorbar\":{\"outlinewidth\":0,\"ticks\":\"\"},\"colorscale\":[[0.0,\"#0d0887\"],[0.1111111111111111,\"#46039f\"],[0.2222222222222222,\"#7201a8\"],[0.3333333333333333,\"#9c179e\"],[0.4444444444444444,\"#bd3786\"],[0.5555555555555556,\"#d8576b\"],[0.6666666666666666,\"#ed7953\"],[0.7777777777777778,\"#fb9f3a\"],[0.8888888888888888,\"#fdca26\"],[1.0,\"#f0f921\"]]}],\"heatmapgl\":[{\"type\":\"heatmapgl\",\"colorbar\":{\"outlinewidth\":0,\"ticks\":\"\"},\"colorscale\":[[0.0,\"#0d0887\"],[0.1111111111111111,\"#46039f\"],[0.2222222222222222,\"#7201a8\"],[0.3333333333333333,\"#9c179e\"],[0.4444444444444444,\"#bd3786\"],[0.5555555555555556,\"#d8576b\"],[0.6666666666666666,\"#ed7953\"],[0.7777777777777778,\"#fb9f3a\"],[0.8888888888888888,\"#fdca26\"],[1.0,\"#f0f921\"]]}],\"contourcarpet\":[{\"type\":\"contourcarpet\",\"colorbar\":{\"outlinewidth\":0,\"ticks\":\"\"}}],\"contour\":[{\"type\":\"contour\",\"colorbar\":{\"outlinewidth\":0,\"ticks\":\"\"},\"colorscale\":[[0.0,\"#0d0887\"],[0.1111111111111111,\"#46039f\"],[0.2222222222222222,\"#7201a8\"],[0.3333333333333333,\"#9c179e\"],[0.4444444444444444,\"#bd3786\"],[0.5555555555555556,\"#d8576b\"],[0.6666666666666666,\"#ed7953\"],[0.7777777777777778,\"#fb9f3a\"],[0.8888888888888888,\"#fdca26\"],[1.0,\"#f0f921\"]]}],\"surface\":[{\"type\":\"surface\",\"colorbar\":{\"outlinewidth\":0,\"ticks\":\"\"},\"colorscale\":[[0.0,\"#0d0887\"],[0.1111111111111111,\"#46039f\"],[0.2222222222222222,\"#7201a8\"],[0.3333333333333333,\"#9c179e\"],[0.4444444444444444,\"#bd3786\"],[0.5555555555555556,\"#d8576b\"],[0.6666666666666666,\"#ed7953\"],[0.7777777777777778,\"#fb9f3a\"],[0.8888888888888888,\"#fdca26\"],[1.0,\"#f0f921\"]]}],\"mesh3d\":[{\"type\":\"mesh3d\",\"colorbar\":{\"outlinewidth\":0,\"ticks\":\"\"}}],\"scatter\":[{\"fillpattern\":{\"fillmode\":\"overlay\",\"size\":10,\"solidity\":0.2},\"type\":\"scatter\"}],\"parcoords\":[{\"type\":\"parcoords\",\"line\":{\"colorbar\":{\"outlinewidth\":0,\"ticks\":\"\"}}}],\"scatterpolargl\":[{\"type\":\"scatterpolargl\",\"marker\":{\"colorbar\":{\"outlinewidth\":0,\"ticks\":\"\"}}}],\"bar\":[{\"error_x\":{\"color\":\"#2a3f5f\"},\"error_y\":{\"color\":\"#2a3f5f\"},\"marker\":{\"line\":{\"color\":\"#E5ECF6\",\"width\":0.5},\"pattern\":{\"fillmode\":\"overlay\",\"size\":10,\"solidity\":0.2}},\"type\":\"bar\"}],\"scattergeo\":[{\"type\":\"scattergeo\",\"marker\":{\"colorbar\":{\"outlinewidth\":0,\"ticks\":\"\"}}}],\"scatterpolar\":[{\"type\":\"scatterpolar\",\"marker\":{\"colorbar\":{\"outlinewidth\":0,\"ticks\":\"\"}}}],\"histogram\":[{\"marker\":{\"pattern\":{\"fillmode\":\"overlay\",\"size\":10,\"solidity\":0.2}},\"type\":\"histogram\"}],\"scattergl\":[{\"type\":\"scattergl\",\"marker\":{\"colorbar\":{\"outlinewidth\":0,\"ticks\":\"\"}}}],\"scatter3d\":[{\"type\":\"scatter3d\",\"line\":{\"colorbar\":{\"outlinewidth\":0,\"ticks\":\"\"}},\"marker\":{\"colorbar\":{\"outlinewidth\":0,\"ticks\":\"\"}}}],\"scattermapbox\":[{\"type\":\"scattermapbox\",\"marker\":{\"colorbar\":{\"outlinewidth\":0,\"ticks\":\"\"}}}],\"scatterternary\":[{\"type\":\"scatterternary\",\"marker\":{\"colorbar\":{\"outlinewidth\":0,\"ticks\":\"\"}}}],\"scattercarpet\":[{\"type\":\"scattercarpet\",\"marker\":{\"colorbar\":{\"outlinewidth\":0,\"ticks\":\"\"}}}],\"carpet\":[{\"aaxis\":{\"endlinecolor\":\"#2a3f5f\",\"gridcolor\":\"white\",\"linecolor\":\"white\",\"minorgridcolor\":\"white\",\"startlinecolor\":\"#2a3f5f\"},\"baxis\":{\"endlinecolor\":\"#2a3f5f\",\"gridcolor\":\"white\",\"linecolor\":\"white\",\"minorgridcolor\":\"white\",\"startlinecolor\":\"#2a3f5f\"},\"type\":\"carpet\"}],\"table\":[{\"cells\":{\"fill\":{\"color\":\"#EBF0F8\"},\"line\":{\"color\":\"white\"}},\"header\":{\"fill\":{\"color\":\"#C8D4E3\"},\"line\":{\"color\":\"white\"}},\"type\":\"table\"}],\"barpolar\":[{\"marker\":{\"line\":{\"color\":\"#E5ECF6\",\"width\":0.5},\"pattern\":{\"fillmode\":\"overlay\",\"size\":10,\"solidity\":0.2}},\"type\":\"barpolar\"}],\"pie\":[{\"automargin\":true,\"type\":\"pie\"}]},\"layout\":{\"autotypenumbers\":\"strict\",\"colorway\":[\"#636efa\",\"#EF553B\",\"#00cc96\",\"#ab63fa\",\"#FFA15A\",\"#19d3f3\",\"#FF6692\",\"#B6E880\",\"#FF97FF\",\"#FECB52\"],\"font\":{\"color\":\"#2a3f5f\"},\"hovermode\":\"closest\",\"hoverlabel\":{\"align\":\"left\"},\"paper_bgcolor\":\"white\",\"plot_bgcolor\":\"#E5ECF6\",\"polar\":{\"bgcolor\":\"#E5ECF6\",\"angularaxis\":{\"gridcolor\":\"white\",\"linecolor\":\"white\",\"ticks\":\"\"},\"radialaxis\":{\"gridcolor\":\"white\",\"linecolor\":\"white\",\"ticks\":\"\"}},\"ternary\":{\"bgcolor\":\"#E5ECF6\",\"aaxis\":{\"gridcolor\":\"white\",\"linecolor\":\"white\",\"ticks\":\"\"},\"baxis\":{\"gridcolor\":\"white\",\"linecolor\":\"white\",\"ticks\":\"\"},\"caxis\":{\"gridcolor\":\"white\",\"linecolor\":\"white\",\"ticks\":\"\"}},\"coloraxis\":{\"colorbar\":{\"outlinewidth\":0,\"ticks\":\"\"}},\"colorscale\":{\"sequential\":[[0.0,\"#0d0887\"],[0.1111111111111111,\"#46039f\"],[0.2222222222222222,\"#7201a8\"],[0.3333333333333333,\"#9c179e\"],[0.4444444444444444,\"#bd3786\"],[0.5555555555555556,\"#d8576b\"],[0.6666666666666666,\"#ed7953\"],[0.7777777777777778,\"#fb9f3a\"],[0.8888888888888888,\"#fdca26\"],[1.0,\"#f0f921\"]],\"sequentialminus\":[[0.0,\"#0d0887\"],[0.1111111111111111,\"#46039f\"],[0.2222222222222222,\"#7201a8\"],[0.3333333333333333,\"#9c179e\"],[0.4444444444444444,\"#bd3786\"],[0.5555555555555556,\"#d8576b\"],[0.6666666666666666,\"#ed7953\"],[0.7777777777777778,\"#fb9f3a\"],[0.8888888888888888,\"#fdca26\"],[1.0,\"#f0f921\"]],\"diverging\":[[0,\"#8e0152\"],[0.1,\"#c51b7d\"],[0.2,\"#de77ae\"],[0.3,\"#f1b6da\"],[0.4,\"#fde0ef\"],[0.5,\"#f7f7f7\"],[0.6,\"#e6f5d0\"],[0.7,\"#b8e186\"],[0.8,\"#7fbc41\"],[0.9,\"#4d9221\"],[1,\"#276419\"]]},\"xaxis\":{\"gridcolor\":\"white\",\"linecolor\":\"white\",\"ticks\":\"\",\"title\":{\"standoff\":15},\"zerolinecolor\":\"white\",\"automargin\":true,\"zerolinewidth\":2},\"yaxis\":{\"gridcolor\":\"white\",\"linecolor\":\"white\",\"ticks\":\"\",\"title\":{\"standoff\":15},\"zerolinecolor\":\"white\",\"automargin\":true,\"zerolinewidth\":2},\"scene\":{\"xaxis\":{\"backgroundcolor\":\"#E5ECF6\",\"gridcolor\":\"white\",\"linecolor\":\"white\",\"showbackground\":true,\"ticks\":\"\",\"zerolinecolor\":\"white\",\"gridwidth\":2},\"yaxis\":{\"backgroundcolor\":\"#E5ECF6\",\"gridcolor\":\"white\",\"linecolor\":\"white\",\"showbackground\":true,\"ticks\":\"\",\"zerolinecolor\":\"white\",\"gridwidth\":2},\"zaxis\":{\"backgroundcolor\":\"#E5ECF6\",\"gridcolor\":\"white\",\"linecolor\":\"white\",\"showbackground\":true,\"ticks\":\"\",\"zerolinecolor\":\"white\",\"gridwidth\":2}},\"shapedefaults\":{\"line\":{\"color\":\"#2a3f5f\"}},\"annotationdefaults\":{\"arrowcolor\":\"#2a3f5f\",\"arrowhead\":0,\"arrowwidth\":1},\"geo\":{\"bgcolor\":\"white\",\"landcolor\":\"#E5ECF6\",\"subunitcolor\":\"white\",\"showland\":true,\"showlakes\":true,\"lakecolor\":\"white\"},\"title\":{\"x\":0.05},\"mapbox\":{\"style\":\"light\"}}},\"xaxis\":{\"anchor\":\"y\",\"domain\":[0.0,1.0],\"range\":[-0.5,27.5],\"tickvals\":[-0.5,0,1,2,3,4,5,6,7,8,9,10,11,12,13,14,15,16,17,18,19,20,21,22,23,24,25,26,27,27.5],\"ticktext\":[\"\",\"base\",\"mPointCP\",\"mIntCP\",\"mNCP\",\"PointCP\",\"IntCP\",\"NCP\",\"base\",\"mPointCP\",\"mIntCP\",\"mNCP\",\"PointCP\",\"IntCP\",\"NCP\",\"base\",\"mPointCP\",\"mIntCP\",\"mNCP\",\"PointCP\",\"IntCP\",\"NCP\",\"base\",\"mPointCP\",\"mIntCP\",\"mNCP\",\"PointCP\",\"IntCP\",\"NCP\",\"\"],\"showticklabels\":false},\"yaxis\":{\"anchor\":\"x\",\"domain\":[0.7777777777777778,1.0]},\"xaxis2\":{\"anchor\":\"y2\",\"domain\":[0.0,1.0],\"range\":[-0.5,27.5],\"tickvals\":[-0.5,0,1,2,3,4,5,6,7,8,9,10,11,12,13,14,15,16,17,18,19,20,21,22,23,24,25,26,27,27.5],\"ticktext\":[\"\",\"base\",\"mPointCP\",\"mIntCP\",\"mNCP\",\"PointCP\",\"IntCP\",\"NCP\",\"base\",\"mPointCP\",\"mIntCP\",\"mNCP\",\"PointCP\",\"IntCP\",\"NCP\",\"base\",\"mPointCP\",\"mIntCP\",\"mNCP\",\"PointCP\",\"IntCP\",\"NCP\",\"base\",\"mPointCP\",\"mIntCP\",\"mNCP\",\"PointCP\",\"IntCP\",\"NCP\",\"\"],\"showticklabels\":false},\"yaxis2\":{\"anchor\":\"x2\",\"domain\":[0.3888888888888889,0.6111111111111112]},\"xaxis3\":{\"anchor\":\"y3\",\"domain\":[0.0,1.0],\"tickangle\":45,\"range\":[-0.5,27.5],\"tickvals\":[-0.5,0,1,2,3,4,5,6,7,8,9,10,11,12,13,14,15,16,17,18,19,20,21,22,23,24,25,26,27,27.5],\"ticktext\":[\"\",\"base\",\"mPointCP\",\"mIntCP\",\"mNCP\",\"PointCP\",\"IntCP\",\"NCP\",\"base\",\"mPointCP\",\"mIntCP\",\"mNCP\",\"PointCP\",\"IntCP\",\"NCP\",\"base\",\"mPointCP\",\"mIntCP\",\"mNCP\",\"PointCP\",\"IntCP\",\"NCP\",\"base\",\"mPointCP\",\"mIntCP\",\"mNCP\",\"PointCP\",\"IntCP\",\"NCP\",\"\"]},\"yaxis3\":{\"anchor\":\"x3\",\"domain\":[0.0,0.22222222222222224]},\"annotations\":[{\"font\":{\"size\":16},\"showarrow\":false,\"text\":\"Low variance\",\"x\":0.5,\"xanchor\":\"center\",\"xref\":\"paper\",\"y\":1.0,\"yanchor\":\"bottom\",\"yref\":\"paper\"},{\"font\":{\"size\":16},\"showarrow\":false,\"text\":\"Medium variance\",\"x\":0.5,\"xanchor\":\"center\",\"xref\":\"paper\",\"y\":0.6111111111111112,\"yanchor\":\"bottom\",\"yref\":\"paper\"},{\"font\":{\"size\":16},\"showarrow\":false,\"text\":\"High variance\",\"x\":0.5,\"xanchor\":\"center\",\"xref\":\"paper\",\"y\":0.22222222222222224,\"yanchor\":\"bottom\",\"yref\":\"paper\"}],\"shapes\":[{\"fillcolor\":\"rgb(179,226,205)\",\"layer\":\"below\",\"line\":{\"width\":0},\"opacity\":0.5,\"type\":\"rect\",\"x0\":-0.5,\"x1\":6.5,\"xref\":\"x\",\"y0\":0,\"y1\":1,\"yref\":\"y domain\"},{\"fillcolor\":\"rgb(253,205,172)\",\"layer\":\"below\",\"line\":{\"width\":0},\"opacity\":0.5,\"type\":\"rect\",\"x0\":6.5,\"x1\":13.5,\"xref\":\"x\",\"y0\":0,\"y1\":1,\"yref\":\"y domain\"},{\"fillcolor\":\"rgb(203,213,232)\",\"layer\":\"below\",\"line\":{\"width\":0},\"opacity\":0.5,\"type\":\"rect\",\"x0\":13.5,\"x1\":20.5,\"xref\":\"x\",\"y0\":0,\"y1\":1,\"yref\":\"y domain\"},{\"fillcolor\":\"rgb(244,202,228)\",\"layer\":\"below\",\"line\":{\"width\":0},\"opacity\":0.5,\"type\":\"rect\",\"x0\":20.5,\"x1\":27.5,\"xref\":\"x\",\"y0\":0,\"y1\":1,\"yref\":\"y domain\"},{\"fillcolor\":\"rgb(179,226,205)\",\"layer\":\"below\",\"line\":{\"width\":0},\"opacity\":0.5,\"type\":\"rect\",\"x0\":-0.5,\"x1\":6.5,\"xref\":\"x2\",\"y0\":0,\"y1\":1,\"yref\":\"y2 domain\"},{\"fillcolor\":\"rgb(253,205,172)\",\"layer\":\"below\",\"line\":{\"width\":0},\"opacity\":0.5,\"type\":\"rect\",\"x0\":6.5,\"x1\":13.5,\"xref\":\"x2\",\"y0\":0,\"y1\":1,\"yref\":\"y2 domain\"},{\"fillcolor\":\"rgb(203,213,232)\",\"layer\":\"below\",\"line\":{\"width\":0},\"opacity\":0.5,\"type\":\"rect\",\"x0\":13.5,\"x1\":20.5,\"xref\":\"x2\",\"y0\":0,\"y1\":1,\"yref\":\"y2 domain\"},{\"fillcolor\":\"rgb(244,202,228)\",\"layer\":\"below\",\"line\":{\"width\":0},\"opacity\":0.5,\"type\":\"rect\",\"x0\":20.5,\"x1\":27.5,\"xref\":\"x2\",\"y0\":0,\"y1\":1,\"yref\":\"y2 domain\"},{\"fillcolor\":\"rgb(179,226,205)\",\"layer\":\"below\",\"line\":{\"width\":0},\"opacity\":0.5,\"type\":\"rect\",\"x0\":-0.5,\"x1\":6.5,\"xref\":\"x3\",\"y0\":0,\"y1\":1,\"yref\":\"y3 domain\"},{\"fillcolor\":\"rgb(253,205,172)\",\"layer\":\"below\",\"line\":{\"width\":0},\"opacity\":0.5,\"type\":\"rect\",\"x0\":6.5,\"x1\":13.5,\"xref\":\"x3\",\"y0\":0,\"y1\":1,\"yref\":\"y3 domain\"},{\"fillcolor\":\"rgb(203,213,232)\",\"layer\":\"below\",\"line\":{\"width\":0},\"opacity\":0.5,\"type\":\"rect\",\"x0\":13.5,\"x1\":20.5,\"xref\":\"x3\",\"y0\":0,\"y1\":1,\"yref\":\"y3 domain\"},{\"fillcolor\":\"rgb(244,202,228)\",\"layer\":\"below\",\"line\":{\"width\":0},\"opacity\":0.5,\"type\":\"rect\",\"x0\":20.5,\"x1\":27.5,\"xref\":\"x3\",\"y0\":0,\"y1\":1,\"yref\":\"y3 domain\"}],\"margin\":{\"l\":0,\"r\":0,\"t\":70,\"b\":0},\"width\":1000,\"title\":{\"text\":\"$\\\\text{Conditional }R^2\\\\text{-value}$\"}},                        {\"responsive\": true}                    ).then(function(){\n",
       "                            \n",
       "var gd = document.getElementById('195edc08-000f-40e5-9df5-fe5a9bb7c462');\n",
       "var x = new MutationObserver(function (mutations, observer) {{\n",
       "        var display = window.getComputedStyle(gd).display;\n",
       "        if (!display || display === 'none') {{\n",
       "            console.log([gd, 'removed!']);\n",
       "            Plotly.purge(gd);\n",
       "            observer.disconnect();\n",
       "        }}\n",
       "}});\n",
       "\n",
       "// Listen for the removal of the full notebook cells\n",
       "var notebookContainer = gd.closest('#notebook-container');\n",
       "if (notebookContainer) {{\n",
       "    x.observe(notebookContainer, {childList: true});\n",
       "}}\n",
       "\n",
       "// Listen for the clearing of the current output cell\n",
       "var outputEl = gd.closest('.output');\n",
       "if (outputEl) {{\n",
       "    x.observe(outputEl, {childList: true});\n",
       "}}\n",
       "\n",
       "                        })                };                });            </script>        </div>"
      ]
     },
     "metadata": {},
     "output_type": "display_data"
    },
    {
     "data": {
      "application/vnd.plotly.v1+json": {
       "config": {
        "plotlyServerURL": "https://plot.ly"
       },
       "data": [
        {
         "line": {
          "color": "rgb(31, 119, 180)"
         },
         "showlegend": false,
         "spanmode": "hard",
         "type": "violin",
         "x0": 0,
         "xaxis": "x",
         "y": [
          0.5542794489957672,
          0.5542794489957672,
          0.1420399860432911,
          0.6456855543668968,
          0.5542794489957672,
          0.0728755349848819,
          0.895939965729947,
          0.6918089913272908,
          0.1420399860432911,
          0.5996400157984552
         ],
         "yaxis": "y"
        },
        {
         "marker": {
          "color": "rgb(179,226,205)",
          "size": 7,
          "symbol": "square"
         },
         "mode": "markers",
         "name": "QR",
         "type": "scatter",
         "x": [
          null
         ],
         "xaxis": "x",
         "y": [
          null
         ],
         "yaxis": "y"
        },
        {
         "line": {
          "color": "rgb(255, 127, 14)"
         },
         "showlegend": false,
         "spanmode": "hard",
         "type": "violin",
         "x0": 1,
         "xaxis": "x",
         "y": [
          0.000013552626952458285,
          0.012869264096705708,
          0.1420399860432911,
          0.0012796226530887077,
          0.0728755349848819,
          0.000003411334026605933,
          0.0728755349848819,
          0.004285072170032219,
          0.0003426406415622263,
          0.006257574896942421
         ],
         "yaxis": "y"
        },
        {
         "line": {
          "color": "rgb(44, 160, 44)"
         },
         "showlegend": false,
         "spanmode": "hard",
         "type": "violin",
         "x0": 2,
         "xaxis": "x",
         "y": [
          0.05463322611698384,
          0.040466157088330144,
          0.16084701747608968,
          0.42677034188169855,
          0.42677034188169855,
          0.00010512810928454432,
          0.5542794489957672,
          0.040466157088330144,
          0.6456855543668968,
          0.388128833019525
         ],
         "yaxis": "y"
        },
        {
         "line": {
          "color": "rgb(31, 119, 180)"
         },
         "showlegend": false,
         "spanmode": "hard",
         "type": "violin",
         "x0": 3,
         "xaxis": "x",
         "y": [
          0.3176132850499866,
          0.5101014451910241,
          0.9959894907615372,
          0.18158521082673107,
          0.05463322611698384,
          0.3176132850499866,
          0.03466929960145149,
          0.04709006021866281,
          0.20436320136601055,
          0.2858511828975217
         ],
         "yaxis": "y"
        },
        {
         "marker": {
          "color": "rgb(253,205,172)",
          "size": 7,
          "symbol": "square"
         },
         "mode": "markers",
         "name": "QRF",
         "type": "scatter",
         "x": [
          null
         ],
         "xaxis": "x",
         "y": [
          null
         ],
         "yaxis": "y"
        },
        {
         "line": {
          "color": "rgb(255, 127, 14)"
         },
         "showlegend": false,
         "spanmode": "hard",
         "type": "violin",
         "x0": 4,
         "xaxis": "x",
         "y": [
          0.0028990579131217354,
          0.009028250991067568,
          0.010795292883072691,
          0.0019377565579456787,
          0.06319380660372209,
          0.01812420833701988,
          0.05463322611698384,
          0.18158521082673107,
          0.003529916022695721,
          0.0000386770087792904
         ],
         "yaxis": "y"
        },
        {
         "line": {
          "color": "rgb(44, 160, 44)"
         },
         "showlegend": false,
         "spanmode": "hard",
         "type": "violin",
         "x0": 5,
         "xaxis": "x",
         "y": [
          0.7372956792484384,
          0.20436320136601055,
          0.3176132850499866,
          0.7372956792484384,
          0.5542794489957672,
          0.895939965729947,
          0.3176132850499866,
          0.42677034188169855,
          0.9497843994368272,
          0.1097563799766779
         ],
         "yaxis": "y"
        },
        {
         "line": {
          "color": "rgb(31, 119, 180)"
         },
         "showlegend": false,
         "spanmode": "hard",
         "type": "violin",
         "x0": 6,
         "xaxis": "x",
         "y": [
          0.12504922125896778,
          0.0728755349848819,
          0.5101014451910241,
          0.16084701747608968,
          0.2564205189175265,
          0.6918089913272908,
          0.16084701747608968,
          0.7372956792484384,
          0.1097563799766779,
          0.2858511828975217
         ],
         "yaxis": "y"
        },
        {
         "marker": {
          "color": "rgb(203,213,232)",
          "size": 7,
          "symbol": "square"
         },
         "mode": "markers",
         "name": "MV",
         "type": "scatter",
         "x": [
          null
         ],
         "xaxis": "x",
         "y": [
          null
         ],
         "yaxis": "y"
        },
        {
         "line": {
          "color": "rgb(255, 127, 14)"
         },
         "showlegend": false,
         "spanmode": "hard",
         "type": "violin",
         "x0": 7,
         "xaxis": "x",
         "y": [
          6.616882798460191e-13,
          0.000003411334026605933,
          0.00013396222443752952,
          0.0000025652157444162726,
          3.17371226697134e-9,
          1.7671662611791092e-8,
          0.00002303486514181447,
          0.00008224976240420089,
          1.7322888876244014e-10,
          3.17371226697134e-9
         ],
         "yaxis": "y"
        },
        {
         "line": {
          "color": "rgb(44, 160, 44)"
         },
         "showlegend": false,
         "spanmode": "hard",
         "type": "violin",
         "x0": 8,
         "xaxis": "x",
         "y": [
          0.0015770600253178935,
          0.388128833019525,
          0.09604196819912614,
          0.5101014451910241,
          0.00001769565798973828,
          0.0005380903375383628,
          0.5996400157984552,
          0.005186072408487753,
          0.04709006021866281,
          0.1420399860432911
         ],
         "yaxis": "y"
        },
        {
         "line": {
          "color": "rgb(31, 119, 180)"
         },
         "showlegend": false,
         "spanmode": "hard",
         "type": "violin",
         "x0": 9,
         "xaxis": "x",
         "y": [
          0.4674991333728504,
          0.0728755349848819,
          0.006257574896942421,
          0.09604196819912614,
          0.021411432419374366,
          0.7372956792484384,
          0.004285072170032219,
          0.0019377565579456787,
          0.9497843994368272,
          0.1097563799766779
         ],
         "yaxis": "y"
        },
        {
         "marker": {
          "color": "rgb(244,202,228)",
          "size": 7,
          "symbol": "square"
         },
         "mode": "markers",
         "name": "MVE",
         "type": "scatter",
         "x": [
          null
         ],
         "xaxis": "x",
         "y": [
          null
         ],
         "yaxis": "y"
        },
        {
         "line": {
          "color": "rgb(255, 127, 14)"
         },
         "showlegend": false,
         "spanmode": "hard",
         "type": "violin",
         "x0": 10,
         "xaxis": "x",
         "y": [
          2.468321994968307e-8,
          3.437072025251567e-8,
          0.0010351419024046953,
          0.000007877021858270137,
          0.00043003715655357504,
          0.000001070906508019734,
          4.349204865576027e-7,
          0.0000386770087792904,
          2.5439007184716423e-11,
          0.000029893783678017364
         ],
         "yaxis": "y"
        },
        {
         "line": {
          "color": "rgb(44, 160, 44)"
         },
         "showlegend": false,
         "spanmode": "hard",
         "type": "violin",
         "x0": 11,
         "xaxis": "x",
         "y": [
          0.0837872068380118,
          0.4674991333728504,
          0.16084701747608968,
          0.3176132850499866,
          0.6918089913272908,
          0.1420399860432911,
          0.42677034188169855,
          0.5542794489957672,
          0.01812420833701988,
          0.4674991333728504
         ],
         "yaxis": "y"
        },
        {
         "line": {
          "color": "rgb(31, 119, 180)"
         },
         "showlegend": false,
         "spanmode": "hard",
         "type": "violin",
         "x0": 0,
         "xaxis": "x2",
         "y": [
          0.05931450269585065,
          0.22435994441569518,
          0.054721947295244,
          0.07976832120578514,
          0.0940753137164479,
          0.010106431914508496,
          0.2635150559770053,
          0.01883710437068322,
          0.1966729329059792,
          0.29764058377614144
         ],
         "yaxis": "y2"
        },
        {
         "line": {
          "color": "rgb(255, 127, 14)"
         },
         "showlegend": false,
         "spanmode": "hard",
         "type": "violin",
         "x0": 1,
         "xaxis": "x2",
         "y": [
          0.00038662829149177584,
          2.7770636689222826e-7,
          0.001430416544609398,
          0.019782628235073083,
          0.0007536234856948122,
          0.027436579345507677,
          0.00007325720924510129,
          0.0001930131369552783,
          0.000044316023782429484,
          0.001429411276016562
         ],
         "yaxis": "y2"
        },
        {
         "line": {
          "color": "rgb(44, 160, 44)"
         },
         "showlegend": false,
         "spanmode": "hard",
         "type": "violin",
         "x0": 2,
         "xaxis": "x2",
         "y": [
          0.6918811281399188,
          0.12042936607482689,
          0.4133307912662419,
          0.7986085522705225,
          0.6641585002277047,
          0.5976798157295922,
          0.44147788162321594,
          0.5681711429311223,
          0.6786444403975956,
          0.0227962847222876
         ],
         "yaxis": "y2"
        },
        {
         "line": {
          "color": "rgb(31, 119, 180)"
         },
         "showlegend": false,
         "spanmode": "hard",
         "type": "violin",
         "x0": 3,
         "xaxis": "x2",
         "y": [
          0.0011685895785301487,
          0.07437191068422842,
          0.24362779120048897,
          0.6238498752313637,
          0.5805115690050096,
          0.9353980421935938,
          0.051669765383816464,
          0.3373331170074009,
          0.5956149335647574,
          0.002404220761479036
         ],
         "yaxis": "y2"
        },
        {
         "line": {
          "color": "rgb(255, 127, 14)"
         },
         "showlegend": false,
         "spanmode": "hard",
         "type": "violin",
         "x0": 4,
         "xaxis": "x2",
         "y": [
          0.014092897879741042,
          0.0006051251608774236,
          0.0026461827593143527,
          0.000026484147873913847,
          0.027436579346389066,
          0.004749922727262799,
          0.0017587247028796108,
          0.006898719555375423,
          0.000034311078173600626,
          0.006897788760523825
         ],
         "yaxis": "y2"
        },
        {
         "line": {
          "color": "rgb(44, 160, 44)"
         },
         "showlegend": false,
         "spanmode": "hard",
         "type": "violin",
         "x0": 5,
         "xaxis": "x2",
         "y": [
          0.11914747143528855,
          0.7151954684020373,
          0.45279599115296354,
          0.19860469802442207,
          0.9742733596382078,
          0.4358354559215505,
          0.8517340938266496,
          0.7432742957470792,
          0.32931648812485076,
          0.12625119449607175
         ],
         "yaxis": "y2"
        },
        {
         "line": {
          "color": "rgb(31, 119, 180)"
         },
         "showlegend": false,
         "spanmode": "hard",
         "type": "violin",
         "x0": 6,
         "xaxis": "x2",
         "y": [
          0.09851981458565436,
          0.5608251979205464,
          0.5864316122575011,
          0.15659756697269303,
          0.060881987517767425,
          0.8879710782940268,
          0.2561010432335783,
          0.014549859561574294,
          0.1967219017435864,
          0.5790130083829362
         ],
         "yaxis": "y2"
        },
        {
         "line": {
          "color": "rgb(255, 127, 14)"
         },
         "showlegend": false,
         "spanmode": "hard",
         "type": "violin",
         "x0": 7,
         "xaxis": "x2",
         "y": [
          2.132152672445491e-11,
          1.5302474188305053e-13,
          1.4867623931656458e-7,
          3.0872931283153716e-10,
          1.0801811772491067e-8,
          1.4455536196293809e-11,
          4.3233585891257684e-12,
          0.0000022458245311537834,
          3.1935574719548326e-20,
          6.82931314210316e-11
         ],
         "yaxis": "y2"
        },
        {
         "line": {
          "color": "rgb(44, 160, 44)"
         },
         "showlegend": false,
         "spanmode": "hard",
         "type": "violin",
         "x0": 8,
         "xaxis": "x2",
         "y": [
          0.08973139437913717,
          0.0009131320186793588,
          0.14741994930741048,
          0.21410730957480598,
          0.20214222220361694,
          0.034105185859813196,
          0.1473326064356645,
          0.9664447934374687,
          0.0003061186215519875,
          0.006578759194178376
         ],
         "yaxis": "y2"
        },
        {
         "line": {
          "color": "rgb(31, 119, 180)"
         },
         "showlegend": false,
         "spanmode": "hard",
         "type": "violin",
         "x0": 9,
         "xaxis": "x2",
         "y": [
          0.0007163079513912148,
          0.7355652823980134,
          0.4379888507154083,
          0.14238126927673636,
          0.6412963366431027,
          0.1336521882045169,
          0.541597247026301,
          0.06586911570357899,
          0.05360681989050571,
          0.22927253252204355
         ],
         "yaxis": "y2"
        },
        {
         "line": {
          "color": "rgb(255, 127, 14)"
         },
         "showlegend": false,
         "spanmode": "hard",
         "type": "violin",
         "x0": 10,
         "xaxis": "x2",
         "y": [
          0.000020380516443353748,
          1.910732980619998e-12,
          9.265047451465312e-10,
          1.898059805471869e-9,
          1.712510840019088e-14,
          0.0000017466228565371428,
          8.339769262964922e-13,
          2.119330453263365e-8,
          2.8786452471232065e-12,
          2.132152672445491e-11
         ],
         "yaxis": "y2"
        },
        {
         "line": {
          "color": "rgb(44, 160, 44)"
         },
         "showlegend": false,
         "spanmode": "hard",
         "type": "violin",
         "x0": 11,
         "xaxis": "x2",
         "y": [
          0.07800865661198522,
          0.08901752190462282,
          0.12606951667577407,
          0.8075444211116165,
          0.005907313938255263,
          0.16044475102908373,
          0.14697853391984822,
          0.15140322640152287,
          0.7926120679062642,
          0.19587499319956847
         ],
         "yaxis": "y2"
        },
        {
         "line": {
          "color": "rgb(31, 119, 180)"
         },
         "showlegend": false,
         "spanmode": "hard",
         "type": "violin",
         "x0": 0,
         "xaxis": "x3",
         "y": [
          0.005727190775950831,
          0.59615340189324,
          0.0035814003050779067,
          0.013090910101426018,
          0.015525357583645394,
          0.22320846985774692,
          0.05755410108286984,
          0.00464113807316838,
          0.0014537017775986493,
          0.06779907245399024
         ],
         "yaxis": "y3"
        },
        {
         "line": {
          "color": "rgb(255, 127, 14)"
         },
         "showlegend": false,
         "spanmode": "hard",
         "type": "violin",
         "x0": 1,
         "xaxis": "x3",
         "y": [
          3.607421479515806e-13,
          1.1147858401137199e-15,
          3.7779829001365915e-7,
          1.0828554092931295e-7,
          2.1193304532632758e-8,
          5.691503167600409e-8,
          1.898059805471869e-9,
          3.840651801334885e-9,
          4.323358589125787e-12,
          2.7041323908592636e-9
         ],
         "yaxis": "y3"
        },
        {
         "line": {
          "color": "rgb(44, 160, 44)"
         },
         "showlegend": false,
         "spanmode": "hard",
         "type": "violin",
         "x0": 2,
         "xaxis": "x3",
         "y": [
          0.0016280827824523582,
          0.0009332367943049104,
          0.03751329173095235,
          0.40276660801383407,
          0.016677656902987063,
          0.004933085794141109,
          0.035567028776055706,
          0.01175293035806231,
          0.30633062182610427,
          0.0003846588798135451
         ],
         "yaxis": "y3"
        },
        {
         "line": {
          "color": "rgb(31, 119, 180)"
         },
         "showlegend": false,
         "spanmode": "hard",
         "type": "violin",
         "x0": 3,
         "xaxis": "x3",
         "y": [
          7.373610392541448e-7,
          0.08642411728924963,
          0.3028535401046105,
          0.22662333597275158,
          0.015544908627456807,
          0.30817395155816696,
          0.00019030724762174705,
          0.005735922981321591,
          0.08231152073382927,
          0.011958884893407127
         ],
         "yaxis": "y3"
        },
        {
         "line": {
          "color": "rgb(255, 127, 14)"
         },
         "showlegend": false,
         "spanmode": "hard",
         "type": "violin",
         "x0": 4,
         "xaxis": "x3",
         "y": [
          0.0000022458245311535297,
          2.777062805347496e-7,
          6.443205778890727e-10,
          2.8786452451385745e-12,
          0.00002038051644335682,
          5.6915032423141067e-8,
          2.777062755165095e-7,
          0.000002990513294829321,
          6.432811567872667e-14,
          1.8980598169225746e-9
         ],
         "yaxis": "y3"
        },
        {
         "line": {
          "color": "rgb(44, 160, 44)"
         },
         "showlegend": false,
         "spanmode": "hard",
         "type": "violin",
         "x0": 5,
         "xaxis": "x3",
         "y": [
          0.1586080376212762,
          0.663597685446012,
          0.13017495795102552,
          0.5559726317130408,
          0.36812007050638457,
          0.20981346850589053,
          0.14858442792800206,
          0.7676131435649781,
          0.5473516924165545,
          0.3025782638620824
         ],
         "yaxis": "y3"
        },
        {
         "line": {
          "color": "rgb(31, 119, 180)"
         },
         "showlegend": false,
         "spanmode": "hard",
         "type": "violin",
         "x0": 6,
         "xaxis": "x3",
         "y": [
          0.09018728101220384,
          0.5365570858503311,
          0.34538060795993036,
          0.00031968468675852373,
          0.8221652416383971,
          0.9404804427163412,
          0.0005207177730237467,
          0.052720816879102454,
          0.38632486490409396,
          0.18260859435198482
         ],
         "yaxis": "y3"
        },
        {
         "line": {
          "color": "rgb(255, 127, 14)"
         },
         "showlegend": false,
         "spanmode": "hard",
         "type": "violin",
         "x0": 7,
         "xaxis": "x3",
         "y": [
          3.8277417215028573e-34,
          4.823380821762889e-32,
          3.3568557214475488e-18,
          2.3807679904255814e-24,
          1.062501220452364e-26,
          1.550144710890513e-33,
          2.6723483233787785e-30,
          5.483967381354105e-13,
          1.6224729122472485e-50,
          1.8924629092888824e-34
         ],
         "yaxis": "y3"
        },
        {
         "line": {
          "color": "rgb(44, 160, 44)"
         },
         "showlegend": false,
         "spanmode": "hard",
         "type": "violin",
         "x0": 8,
         "xaxis": "x3",
         "y": [
          0.0000022064360192869863,
          0.00009852200181195865,
          0.0010805527813884496,
          0.00828314281966447,
          2.7475226539819056e-7,
          1.8084665320386224e-8,
          0.04379773074019297,
          0.005700230751291695,
          2.8279854057606098e-8,
          0.00019162620261857881
         ],
         "yaxis": "y3"
        },
        {
         "line": {
          "color": "rgb(31, 119, 180)"
         },
         "showlegend": false,
         "spanmode": "hard",
         "type": "violin",
         "x0": 9,
         "xaxis": "x3",
         "y": [
          0.0008904844472306091,
          0.004829085299151118,
          0.0013324234234944731,
          0.00023958378245325003,
          0.06081113538930518,
          0.08998338966112783,
          0.0001428814948574696,
          0.000001804486074334121,
          0.02898107881329758,
          0.027481996827702967
         ],
         "yaxis": "y3"
        },
        {
         "line": {
          "color": "rgb(255, 127, 14)"
         },
         "showlegend": false,
         "spanmode": "hard",
         "type": "violin",
         "x0": 10,
         "xaxis": "x3",
         "y": [
          7.142191871811856e-22,
          5.313481755216979e-36,
          3.3568557214475488e-18,
          1.335003198381018e-22,
          9.496700906848707e-32,
          6.3881466867566954e-21,
          2.48440488434134e-28,
          3.193557471952356e-20,
          7.715967174966732e-34,
          3.6190595254099546e-26
         ],
         "yaxis": "y3"
        },
        {
         "line": {
          "color": "rgb(44, 160, 44)"
         },
         "showlegend": false,
         "spanmode": "hard",
         "type": "violin",
         "x0": 11,
         "xaxis": "x3",
         "y": [
          0.19071965325230097,
          0.00828375358896625,
          0.21304877741573439,
          0.13222219490611842,
          0.006839911978069119,
          0.0034703798378152464,
          0.21415275832629802,
          0.08983782510467865,
          0.007321997458467921,
          0.011366506416703632
         ],
         "yaxis": "y3"
        }
       ],
       "layout": {
        "annotations": [
         {
          "font": {
           "size": 16
          },
          "showarrow": false,
          "text": "Low - Medium",
          "x": 0.5,
          "xanchor": "center",
          "xref": "paper",
          "y": 1,
          "yanchor": "bottom",
          "yref": "paper"
         },
         {
          "font": {
           "size": 16
          },
          "showarrow": false,
          "text": "Medium - High",
          "x": 0.5,
          "xanchor": "center",
          "xref": "paper",
          "y": 0.6111111111111112,
          "yanchor": "bottom",
          "yref": "paper"
         },
         {
          "font": {
           "size": 16
          },
          "showarrow": false,
          "text": "Low - High",
          "x": 0.5,
          "xanchor": "center",
          "xref": "paper",
          "y": 0.22222222222222224,
          "yanchor": "bottom",
          "yref": "paper"
         }
        ],
        "margin": {
         "b": 0,
         "l": 0,
         "r": 0,
         "t": 50
        },
        "shapes": [
         {
          "fillcolor": "rgb(179,226,205)",
          "layer": "below",
          "line": {
           "width": 0
          },
          "opacity": 0.5,
          "type": "rect",
          "x0": -0.5,
          "x1": 2.5,
          "xref": "x",
          "y0": 0,
          "y1": 1,
          "yref": "y domain"
         },
         {
          "fillcolor": "rgb(253,205,172)",
          "layer": "below",
          "line": {
           "width": 0
          },
          "opacity": 0.5,
          "type": "rect",
          "x0": 2.5,
          "x1": 5.5,
          "xref": "x",
          "y0": 0,
          "y1": 1,
          "yref": "y domain"
         },
         {
          "fillcolor": "rgb(203,213,232)",
          "layer": "below",
          "line": {
           "width": 0
          },
          "opacity": 0.5,
          "type": "rect",
          "x0": 5.5,
          "x1": 8.5,
          "xref": "x",
          "y0": 0,
          "y1": 1,
          "yref": "y domain"
         },
         {
          "fillcolor": "rgb(244,202,228)",
          "layer": "below",
          "line": {
           "width": 0
          },
          "opacity": 0.5,
          "type": "rect",
          "x0": 8.5,
          "x1": 11.5,
          "xref": "x",
          "y0": 0,
          "y1": 1,
          "yref": "y domain"
         },
         {
          "fillcolor": "rgb(179,226,205)",
          "layer": "below",
          "line": {
           "width": 0
          },
          "opacity": 0.5,
          "type": "rect",
          "x0": -0.5,
          "x1": 2.5,
          "xref": "x",
          "y0": 0,
          "y1": 1,
          "yref": "y domain"
         },
         {
          "fillcolor": "rgb(179,226,205)",
          "layer": "below",
          "line": {
           "width": 0
          },
          "opacity": 0.5,
          "type": "rect",
          "x0": -0.5,
          "x1": 2.5,
          "xref": "x2",
          "y0": 0,
          "y1": 1,
          "yref": "y2 domain"
         },
         {
          "fillcolor": "rgb(253,205,172)",
          "layer": "below",
          "line": {
           "width": 0
          },
          "opacity": 0.5,
          "type": "rect",
          "x0": 2.5,
          "x1": 5.5,
          "xref": "x",
          "y0": 0,
          "y1": 1,
          "yref": "y domain"
         },
         {
          "fillcolor": "rgb(253,205,172)",
          "layer": "below",
          "line": {
           "width": 0
          },
          "opacity": 0.5,
          "type": "rect",
          "x0": 2.5,
          "x1": 5.5,
          "xref": "x2",
          "y0": 0,
          "y1": 1,
          "yref": "y2 domain"
         },
         {
          "fillcolor": "rgb(203,213,232)",
          "layer": "below",
          "line": {
           "width": 0
          },
          "opacity": 0.5,
          "type": "rect",
          "x0": 5.5,
          "x1": 8.5,
          "xref": "x",
          "y0": 0,
          "y1": 1,
          "yref": "y domain"
         },
         {
          "fillcolor": "rgb(203,213,232)",
          "layer": "below",
          "line": {
           "width": 0
          },
          "opacity": 0.5,
          "type": "rect",
          "x0": 5.5,
          "x1": 8.5,
          "xref": "x2",
          "y0": 0,
          "y1": 1,
          "yref": "y2 domain"
         },
         {
          "fillcolor": "rgb(244,202,228)",
          "layer": "below",
          "line": {
           "width": 0
          },
          "opacity": 0.5,
          "type": "rect",
          "x0": 8.5,
          "x1": 11.5,
          "xref": "x",
          "y0": 0,
          "y1": 1,
          "yref": "y domain"
         },
         {
          "fillcolor": "rgb(244,202,228)",
          "layer": "below",
          "line": {
           "width": 0
          },
          "opacity": 0.5,
          "type": "rect",
          "x0": 8.5,
          "x1": 11.5,
          "xref": "x2",
          "y0": 0,
          "y1": 1,
          "yref": "y2 domain"
         },
         {
          "fillcolor": "rgb(179,226,205)",
          "layer": "below",
          "line": {
           "width": 0
          },
          "opacity": 0.5,
          "type": "rect",
          "x0": -0.5,
          "x1": 2.5,
          "xref": "x",
          "y0": 0,
          "y1": 1,
          "yref": "y domain"
         },
         {
          "fillcolor": "rgb(179,226,205)",
          "layer": "below",
          "line": {
           "width": 0
          },
          "opacity": 0.5,
          "type": "rect",
          "x0": -0.5,
          "x1": 2.5,
          "xref": "x2",
          "y0": 0,
          "y1": 1,
          "yref": "y2 domain"
         },
         {
          "fillcolor": "rgb(179,226,205)",
          "layer": "below",
          "line": {
           "width": 0
          },
          "opacity": 0.5,
          "type": "rect",
          "x0": -0.5,
          "x1": 2.5,
          "xref": "x3",
          "y0": 0,
          "y1": 1,
          "yref": "y3 domain"
         },
         {
          "fillcolor": "rgb(253,205,172)",
          "layer": "below",
          "line": {
           "width": 0
          },
          "opacity": 0.5,
          "type": "rect",
          "x0": 2.5,
          "x1": 5.5,
          "xref": "x",
          "y0": 0,
          "y1": 1,
          "yref": "y domain"
         },
         {
          "fillcolor": "rgb(253,205,172)",
          "layer": "below",
          "line": {
           "width": 0
          },
          "opacity": 0.5,
          "type": "rect",
          "x0": 2.5,
          "x1": 5.5,
          "xref": "x2",
          "y0": 0,
          "y1": 1,
          "yref": "y2 domain"
         },
         {
          "fillcolor": "rgb(253,205,172)",
          "layer": "below",
          "line": {
           "width": 0
          },
          "opacity": 0.5,
          "type": "rect",
          "x0": 2.5,
          "x1": 5.5,
          "xref": "x3",
          "y0": 0,
          "y1": 1,
          "yref": "y3 domain"
         },
         {
          "fillcolor": "rgb(203,213,232)",
          "layer": "below",
          "line": {
           "width": 0
          },
          "opacity": 0.5,
          "type": "rect",
          "x0": 5.5,
          "x1": 8.5,
          "xref": "x",
          "y0": 0,
          "y1": 1,
          "yref": "y domain"
         },
         {
          "fillcolor": "rgb(203,213,232)",
          "layer": "below",
          "line": {
           "width": 0
          },
          "opacity": 0.5,
          "type": "rect",
          "x0": 5.5,
          "x1": 8.5,
          "xref": "x2",
          "y0": 0,
          "y1": 1,
          "yref": "y2 domain"
         },
         {
          "fillcolor": "rgb(203,213,232)",
          "layer": "below",
          "line": {
           "width": 0
          },
          "opacity": 0.5,
          "type": "rect",
          "x0": 5.5,
          "x1": 8.5,
          "xref": "x3",
          "y0": 0,
          "y1": 1,
          "yref": "y3 domain"
         },
         {
          "fillcolor": "rgb(244,202,228)",
          "layer": "below",
          "line": {
           "width": 0
          },
          "opacity": 0.5,
          "type": "rect",
          "x0": 8.5,
          "x1": 11.5,
          "xref": "x",
          "y0": 0,
          "y1": 1,
          "yref": "y domain"
         },
         {
          "fillcolor": "rgb(244,202,228)",
          "layer": "below",
          "line": {
           "width": 0
          },
          "opacity": 0.5,
          "type": "rect",
          "x0": 8.5,
          "x1": 11.5,
          "xref": "x2",
          "y0": 0,
          "y1": 1,
          "yref": "y2 domain"
         },
         {
          "fillcolor": "rgb(244,202,228)",
          "layer": "below",
          "line": {
           "width": 0
          },
          "opacity": 0.5,
          "type": "rect",
          "x0": 8.5,
          "x1": 11.5,
          "xref": "x3",
          "y0": 0,
          "y1": 1,
          "yref": "y3 domain"
         }
        ],
        "template": {
         "data": {
          "bar": [
           {
            "error_x": {
             "color": "#2a3f5f"
            },
            "error_y": {
             "color": "#2a3f5f"
            },
            "marker": {
             "line": {
              "color": "#E5ECF6",
              "width": 0.5
             },
             "pattern": {
              "fillmode": "overlay",
              "size": 10,
              "solidity": 0.2
             }
            },
            "type": "bar"
           }
          ],
          "barpolar": [
           {
            "marker": {
             "line": {
              "color": "#E5ECF6",
              "width": 0.5
             },
             "pattern": {
              "fillmode": "overlay",
              "size": 10,
              "solidity": 0.2
             }
            },
            "type": "barpolar"
           }
          ],
          "carpet": [
           {
            "aaxis": {
             "endlinecolor": "#2a3f5f",
             "gridcolor": "white",
             "linecolor": "white",
             "minorgridcolor": "white",
             "startlinecolor": "#2a3f5f"
            },
            "baxis": {
             "endlinecolor": "#2a3f5f",
             "gridcolor": "white",
             "linecolor": "white",
             "minorgridcolor": "white",
             "startlinecolor": "#2a3f5f"
            },
            "type": "carpet"
           }
          ],
          "choropleth": [
           {
            "colorbar": {
             "outlinewidth": 0,
             "ticks": ""
            },
            "type": "choropleth"
           }
          ],
          "contour": [
           {
            "colorbar": {
             "outlinewidth": 0,
             "ticks": ""
            },
            "colorscale": [
             [
              0,
              "#0d0887"
             ],
             [
              0.1111111111111111,
              "#46039f"
             ],
             [
              0.2222222222222222,
              "#7201a8"
             ],
             [
              0.3333333333333333,
              "#9c179e"
             ],
             [
              0.4444444444444444,
              "#bd3786"
             ],
             [
              0.5555555555555556,
              "#d8576b"
             ],
             [
              0.6666666666666666,
              "#ed7953"
             ],
             [
              0.7777777777777778,
              "#fb9f3a"
             ],
             [
              0.8888888888888888,
              "#fdca26"
             ],
             [
              1,
              "#f0f921"
             ]
            ],
            "type": "contour"
           }
          ],
          "contourcarpet": [
           {
            "colorbar": {
             "outlinewidth": 0,
             "ticks": ""
            },
            "type": "contourcarpet"
           }
          ],
          "heatmap": [
           {
            "colorbar": {
             "outlinewidth": 0,
             "ticks": ""
            },
            "colorscale": [
             [
              0,
              "#0d0887"
             ],
             [
              0.1111111111111111,
              "#46039f"
             ],
             [
              0.2222222222222222,
              "#7201a8"
             ],
             [
              0.3333333333333333,
              "#9c179e"
             ],
             [
              0.4444444444444444,
              "#bd3786"
             ],
             [
              0.5555555555555556,
              "#d8576b"
             ],
             [
              0.6666666666666666,
              "#ed7953"
             ],
             [
              0.7777777777777778,
              "#fb9f3a"
             ],
             [
              0.8888888888888888,
              "#fdca26"
             ],
             [
              1,
              "#f0f921"
             ]
            ],
            "type": "heatmap"
           }
          ],
          "heatmapgl": [
           {
            "colorbar": {
             "outlinewidth": 0,
             "ticks": ""
            },
            "colorscale": [
             [
              0,
              "#0d0887"
             ],
             [
              0.1111111111111111,
              "#46039f"
             ],
             [
              0.2222222222222222,
              "#7201a8"
             ],
             [
              0.3333333333333333,
              "#9c179e"
             ],
             [
              0.4444444444444444,
              "#bd3786"
             ],
             [
              0.5555555555555556,
              "#d8576b"
             ],
             [
              0.6666666666666666,
              "#ed7953"
             ],
             [
              0.7777777777777778,
              "#fb9f3a"
             ],
             [
              0.8888888888888888,
              "#fdca26"
             ],
             [
              1,
              "#f0f921"
             ]
            ],
            "type": "heatmapgl"
           }
          ],
          "histogram": [
           {
            "marker": {
             "pattern": {
              "fillmode": "overlay",
              "size": 10,
              "solidity": 0.2
             }
            },
            "type": "histogram"
           }
          ],
          "histogram2d": [
           {
            "colorbar": {
             "outlinewidth": 0,
             "ticks": ""
            },
            "colorscale": [
             [
              0,
              "#0d0887"
             ],
             [
              0.1111111111111111,
              "#46039f"
             ],
             [
              0.2222222222222222,
              "#7201a8"
             ],
             [
              0.3333333333333333,
              "#9c179e"
             ],
             [
              0.4444444444444444,
              "#bd3786"
             ],
             [
              0.5555555555555556,
              "#d8576b"
             ],
             [
              0.6666666666666666,
              "#ed7953"
             ],
             [
              0.7777777777777778,
              "#fb9f3a"
             ],
             [
              0.8888888888888888,
              "#fdca26"
             ],
             [
              1,
              "#f0f921"
             ]
            ],
            "type": "histogram2d"
           }
          ],
          "histogram2dcontour": [
           {
            "colorbar": {
             "outlinewidth": 0,
             "ticks": ""
            },
            "colorscale": [
             [
              0,
              "#0d0887"
             ],
             [
              0.1111111111111111,
              "#46039f"
             ],
             [
              0.2222222222222222,
              "#7201a8"
             ],
             [
              0.3333333333333333,
              "#9c179e"
             ],
             [
              0.4444444444444444,
              "#bd3786"
             ],
             [
              0.5555555555555556,
              "#d8576b"
             ],
             [
              0.6666666666666666,
              "#ed7953"
             ],
             [
              0.7777777777777778,
              "#fb9f3a"
             ],
             [
              0.8888888888888888,
              "#fdca26"
             ],
             [
              1,
              "#f0f921"
             ]
            ],
            "type": "histogram2dcontour"
           }
          ],
          "mesh3d": [
           {
            "colorbar": {
             "outlinewidth": 0,
             "ticks": ""
            },
            "type": "mesh3d"
           }
          ],
          "parcoords": [
           {
            "line": {
             "colorbar": {
              "outlinewidth": 0,
              "ticks": ""
             }
            },
            "type": "parcoords"
           }
          ],
          "pie": [
           {
            "automargin": true,
            "type": "pie"
           }
          ],
          "scatter": [
           {
            "fillpattern": {
             "fillmode": "overlay",
             "size": 10,
             "solidity": 0.2
            },
            "type": "scatter"
           }
          ],
          "scatter3d": [
           {
            "line": {
             "colorbar": {
              "outlinewidth": 0,
              "ticks": ""
             }
            },
            "marker": {
             "colorbar": {
              "outlinewidth": 0,
              "ticks": ""
             }
            },
            "type": "scatter3d"
           }
          ],
          "scattercarpet": [
           {
            "marker": {
             "colorbar": {
              "outlinewidth": 0,
              "ticks": ""
             }
            },
            "type": "scattercarpet"
           }
          ],
          "scattergeo": [
           {
            "marker": {
             "colorbar": {
              "outlinewidth": 0,
              "ticks": ""
             }
            },
            "type": "scattergeo"
           }
          ],
          "scattergl": [
           {
            "marker": {
             "colorbar": {
              "outlinewidth": 0,
              "ticks": ""
             }
            },
            "type": "scattergl"
           }
          ],
          "scattermapbox": [
           {
            "marker": {
             "colorbar": {
              "outlinewidth": 0,
              "ticks": ""
             }
            },
            "type": "scattermapbox"
           }
          ],
          "scatterpolar": [
           {
            "marker": {
             "colorbar": {
              "outlinewidth": 0,
              "ticks": ""
             }
            },
            "type": "scatterpolar"
           }
          ],
          "scatterpolargl": [
           {
            "marker": {
             "colorbar": {
              "outlinewidth": 0,
              "ticks": ""
             }
            },
            "type": "scatterpolargl"
           }
          ],
          "scatterternary": [
           {
            "marker": {
             "colorbar": {
              "outlinewidth": 0,
              "ticks": ""
             }
            },
            "type": "scatterternary"
           }
          ],
          "surface": [
           {
            "colorbar": {
             "outlinewidth": 0,
             "ticks": ""
            },
            "colorscale": [
             [
              0,
              "#0d0887"
             ],
             [
              0.1111111111111111,
              "#46039f"
             ],
             [
              0.2222222222222222,
              "#7201a8"
             ],
             [
              0.3333333333333333,
              "#9c179e"
             ],
             [
              0.4444444444444444,
              "#bd3786"
             ],
             [
              0.5555555555555556,
              "#d8576b"
             ],
             [
              0.6666666666666666,
              "#ed7953"
             ],
             [
              0.7777777777777778,
              "#fb9f3a"
             ],
             [
              0.8888888888888888,
              "#fdca26"
             ],
             [
              1,
              "#f0f921"
             ]
            ],
            "type": "surface"
           }
          ],
          "table": [
           {
            "cells": {
             "fill": {
              "color": "#EBF0F8"
             },
             "line": {
              "color": "white"
             }
            },
            "header": {
             "fill": {
              "color": "#C8D4E3"
             },
             "line": {
              "color": "white"
             }
            },
            "type": "table"
           }
          ]
         },
         "layout": {
          "annotationdefaults": {
           "arrowcolor": "#2a3f5f",
           "arrowhead": 0,
           "arrowwidth": 1
          },
          "autotypenumbers": "strict",
          "coloraxis": {
           "colorbar": {
            "outlinewidth": 0,
            "ticks": ""
           }
          },
          "colorscale": {
           "diverging": [
            [
             0,
             "#8e0152"
            ],
            [
             0.1,
             "#c51b7d"
            ],
            [
             0.2,
             "#de77ae"
            ],
            [
             0.3,
             "#f1b6da"
            ],
            [
             0.4,
             "#fde0ef"
            ],
            [
             0.5,
             "#f7f7f7"
            ],
            [
             0.6,
             "#e6f5d0"
            ],
            [
             0.7,
             "#b8e186"
            ],
            [
             0.8,
             "#7fbc41"
            ],
            [
             0.9,
             "#4d9221"
            ],
            [
             1,
             "#276419"
            ]
           ],
           "sequential": [
            [
             0,
             "#0d0887"
            ],
            [
             0.1111111111111111,
             "#46039f"
            ],
            [
             0.2222222222222222,
             "#7201a8"
            ],
            [
             0.3333333333333333,
             "#9c179e"
            ],
            [
             0.4444444444444444,
             "#bd3786"
            ],
            [
             0.5555555555555556,
             "#d8576b"
            ],
            [
             0.6666666666666666,
             "#ed7953"
            ],
            [
             0.7777777777777778,
             "#fb9f3a"
            ],
            [
             0.8888888888888888,
             "#fdca26"
            ],
            [
             1,
             "#f0f921"
            ]
           ],
           "sequentialminus": [
            [
             0,
             "#0d0887"
            ],
            [
             0.1111111111111111,
             "#46039f"
            ],
            [
             0.2222222222222222,
             "#7201a8"
            ],
            [
             0.3333333333333333,
             "#9c179e"
            ],
            [
             0.4444444444444444,
             "#bd3786"
            ],
            [
             0.5555555555555556,
             "#d8576b"
            ],
            [
             0.6666666666666666,
             "#ed7953"
            ],
            [
             0.7777777777777778,
             "#fb9f3a"
            ],
            [
             0.8888888888888888,
             "#fdca26"
            ],
            [
             1,
             "#f0f921"
            ]
           ]
          },
          "colorway": [
           "#636efa",
           "#EF553B",
           "#00cc96",
           "#ab63fa",
           "#FFA15A",
           "#19d3f3",
           "#FF6692",
           "#B6E880",
           "#FF97FF",
           "#FECB52"
          ],
          "font": {
           "color": "#2a3f5f"
          },
          "geo": {
           "bgcolor": "white",
           "lakecolor": "white",
           "landcolor": "#E5ECF6",
           "showlakes": true,
           "showland": true,
           "subunitcolor": "white"
          },
          "hoverlabel": {
           "align": "left"
          },
          "hovermode": "closest",
          "mapbox": {
           "style": "light"
          },
          "paper_bgcolor": "white",
          "plot_bgcolor": "#E5ECF6",
          "polar": {
           "angularaxis": {
            "gridcolor": "white",
            "linecolor": "white",
            "ticks": ""
           },
           "bgcolor": "#E5ECF6",
           "radialaxis": {
            "gridcolor": "white",
            "linecolor": "white",
            "ticks": ""
           }
          },
          "scene": {
           "xaxis": {
            "backgroundcolor": "#E5ECF6",
            "gridcolor": "white",
            "gridwidth": 2,
            "linecolor": "white",
            "showbackground": true,
            "ticks": "",
            "zerolinecolor": "white"
           },
           "yaxis": {
            "backgroundcolor": "#E5ECF6",
            "gridcolor": "white",
            "gridwidth": 2,
            "linecolor": "white",
            "showbackground": true,
            "ticks": "",
            "zerolinecolor": "white"
           },
           "zaxis": {
            "backgroundcolor": "#E5ECF6",
            "gridcolor": "white",
            "gridwidth": 2,
            "linecolor": "white",
            "showbackground": true,
            "ticks": "",
            "zerolinecolor": "white"
           }
          },
          "shapedefaults": {
           "line": {
            "color": "#2a3f5f"
           }
          },
          "ternary": {
           "aaxis": {
            "gridcolor": "white",
            "linecolor": "white",
            "ticks": ""
           },
           "baxis": {
            "gridcolor": "white",
            "linecolor": "white",
            "ticks": ""
           },
           "bgcolor": "#E5ECF6",
           "caxis": {
            "gridcolor": "white",
            "linecolor": "white",
            "ticks": ""
           }
          },
          "title": {
           "x": 0.05
          },
          "xaxis": {
           "automargin": true,
           "gridcolor": "white",
           "linecolor": "white",
           "ticks": "",
           "title": {
            "standoff": 15
           },
           "zerolinecolor": "white",
           "zerolinewidth": 2
          },
          "yaxis": {
           "automargin": true,
           "gridcolor": "white",
           "linecolor": "white",
           "ticks": "",
           "title": {
            "standoff": 15
           },
           "zerolinecolor": "white",
           "zerolinewidth": 2
          }
         }
        },
        "title": {
         "text": "$\\text{KS statistic}$"
        },
        "width": 900,
        "xaxis": {
         "anchor": "y",
         "domain": [
          0,
          1
         ],
         "range": [
          -0.5,
          11.5
         ],
         "showticklabels": false,
         "ticktext": [
          "",
          "mPointCP",
          "mIntCP",
          "mNCP",
          "mPointCP",
          "mIntCP",
          "mNCP",
          "mPointCP",
          "mIntCP",
          "mNCP",
          "mPointCP",
          "mIntCP",
          "mNCP",
          ""
         ],
         "tickvals": [
          -0.5,
          0,
          1,
          2,
          3,
          4,
          5,
          6,
          7,
          8,
          9,
          10,
          11,
          11.5
         ]
        },
        "xaxis2": {
         "anchor": "y2",
         "domain": [
          0,
          1
         ],
         "range": [
          -0.5,
          11.5
         ],
         "showticklabels": false,
         "ticktext": [
          "",
          "mPointCP",
          "mIntCP",
          "mNCP",
          "mPointCP",
          "mIntCP",
          "mNCP",
          "mPointCP",
          "mIntCP",
          "mNCP",
          "mPointCP",
          "mIntCP",
          "mNCP",
          ""
         ],
         "tickvals": [
          -0.5,
          0,
          1,
          2,
          3,
          4,
          5,
          6,
          7,
          8,
          9,
          10,
          11,
          11.5
         ]
        },
        "xaxis3": {
         "anchor": "y3",
         "domain": [
          0,
          1
         ],
         "range": [
          -0.5,
          11.5
         ],
         "tickangle": 45,
         "ticktext": [
          "",
          "mPointCP",
          "mIntCP",
          "mNCP",
          "mPointCP",
          "mIntCP",
          "mNCP",
          "mPointCP",
          "mIntCP",
          "mNCP",
          "mPointCP",
          "mIntCP",
          "mNCP",
          ""
         ],
         "tickvals": [
          -0.5,
          0,
          1,
          2,
          3,
          4,
          5,
          6,
          7,
          8,
          9,
          10,
          11,
          11.5
         ]
        },
        "yaxis": {
         "anchor": "x",
         "domain": [
          0.7777777777777778,
          1
         ],
         "range": [
          0,
          1
         ]
        },
        "yaxis2": {
         "anchor": "x2",
         "domain": [
          0.3888888888888889,
          0.6111111111111112
         ],
         "range": [
          0,
          1
         ]
        },
        "yaxis3": {
         "anchor": "x3",
         "domain": [
          0,
          0.22222222222222224
         ]
        }
       }
      },
      "text/html": [
       "<div>                            <div id=\"0d2daf48-d8ab-456c-b1e0-17e86b5672c4\" class=\"plotly-graph-div\" style=\"height:525px; width:900px;\"></div>            <script type=\"text/javascript\">                require([\"plotly\"], function(Plotly) {                    window.PLOTLYENV=window.PLOTLYENV || {};                                    if (document.getElementById(\"0d2daf48-d8ab-456c-b1e0-17e86b5672c4\")) {                    Plotly.newPlot(                        \"0d2daf48-d8ab-456c-b1e0-17e86b5672c4\",                        [{\"line\":{\"color\":\"rgb(31, 119, 180)\"},\"showlegend\":false,\"spanmode\":\"hard\",\"x0\":0,\"y\":[0.5542794489957672,0.5542794489957672,0.1420399860432911,0.6456855543668968,0.5542794489957672,0.0728755349848819,0.895939965729947,0.6918089913272908,0.1420399860432911,0.5996400157984552],\"type\":\"violin\",\"xaxis\":\"x\",\"yaxis\":\"y\"},{\"marker\":{\"color\":\"rgb(179,226,205)\",\"size\":7,\"symbol\":\"square\"},\"mode\":\"markers\",\"name\":\"QR\",\"x\":[null],\"y\":[null],\"type\":\"scatter\",\"xaxis\":\"x\",\"yaxis\":\"y\"},{\"line\":{\"color\":\"rgb(255, 127, 14)\"},\"showlegend\":false,\"spanmode\":\"hard\",\"x0\":1,\"y\":[1.3552626952458285e-05,0.012869264096705708,0.1420399860432911,0.0012796226530887077,0.0728755349848819,3.411334026605933e-06,0.0728755349848819,0.004285072170032219,0.0003426406415622263,0.006257574896942421],\"type\":\"violin\",\"xaxis\":\"x\",\"yaxis\":\"y\"},{\"line\":{\"color\":\"rgb(44, 160, 44)\"},\"showlegend\":false,\"spanmode\":\"hard\",\"x0\":2,\"y\":[0.05463322611698384,0.040466157088330144,0.16084701747608968,0.42677034188169855,0.42677034188169855,0.00010512810928454432,0.5542794489957672,0.040466157088330144,0.6456855543668968,0.388128833019525],\"type\":\"violin\",\"xaxis\":\"x\",\"yaxis\":\"y\"},{\"line\":{\"color\":\"rgb(31, 119, 180)\"},\"showlegend\":false,\"spanmode\":\"hard\",\"x0\":3,\"y\":[0.3176132850499866,0.5101014451910241,0.9959894907615372,0.18158521082673107,0.05463322611698384,0.3176132850499866,0.03466929960145149,0.04709006021866281,0.20436320136601055,0.2858511828975217],\"type\":\"violin\",\"xaxis\":\"x\",\"yaxis\":\"y\"},{\"marker\":{\"color\":\"rgb(253,205,172)\",\"size\":7,\"symbol\":\"square\"},\"mode\":\"markers\",\"name\":\"QRF\",\"x\":[null],\"y\":[null],\"type\":\"scatter\",\"xaxis\":\"x\",\"yaxis\":\"y\"},{\"line\":{\"color\":\"rgb(255, 127, 14)\"},\"showlegend\":false,\"spanmode\":\"hard\",\"x0\":4,\"y\":[0.0028990579131217354,0.009028250991067568,0.010795292883072691,0.0019377565579456787,0.06319380660372209,0.01812420833701988,0.05463322611698384,0.18158521082673107,0.003529916022695721,3.86770087792904e-05],\"type\":\"violin\",\"xaxis\":\"x\",\"yaxis\":\"y\"},{\"line\":{\"color\":\"rgb(44, 160, 44)\"},\"showlegend\":false,\"spanmode\":\"hard\",\"x0\":5,\"y\":[0.7372956792484384,0.20436320136601055,0.3176132850499866,0.7372956792484384,0.5542794489957672,0.895939965729947,0.3176132850499866,0.42677034188169855,0.9497843994368272,0.1097563799766779],\"type\":\"violin\",\"xaxis\":\"x\",\"yaxis\":\"y\"},{\"line\":{\"color\":\"rgb(31, 119, 180)\"},\"showlegend\":false,\"spanmode\":\"hard\",\"x0\":6,\"y\":[0.12504922125896778,0.0728755349848819,0.5101014451910241,0.16084701747608968,0.2564205189175265,0.6918089913272908,0.16084701747608968,0.7372956792484384,0.1097563799766779,0.2858511828975217],\"type\":\"violin\",\"xaxis\":\"x\",\"yaxis\":\"y\"},{\"marker\":{\"color\":\"rgb(203,213,232)\",\"size\":7,\"symbol\":\"square\"},\"mode\":\"markers\",\"name\":\"MV\",\"x\":[null],\"y\":[null],\"type\":\"scatter\",\"xaxis\":\"x\",\"yaxis\":\"y\"},{\"line\":{\"color\":\"rgb(255, 127, 14)\"},\"showlegend\":false,\"spanmode\":\"hard\",\"x0\":7,\"y\":[6.616882798460191e-13,3.411334026605933e-06,0.00013396222443752952,2.5652157444162726e-06,3.17371226697134e-09,1.7671662611791092e-08,2.303486514181447e-05,8.224976240420089e-05,1.7322888876244014e-10,3.17371226697134e-09],\"type\":\"violin\",\"xaxis\":\"x\",\"yaxis\":\"y\"},{\"line\":{\"color\":\"rgb(44, 160, 44)\"},\"showlegend\":false,\"spanmode\":\"hard\",\"x0\":8,\"y\":[0.0015770600253178935,0.388128833019525,0.09604196819912614,0.5101014451910241,1.769565798973828e-05,0.0005380903375383628,0.5996400157984552,0.005186072408487753,0.04709006021866281,0.1420399860432911],\"type\":\"violin\",\"xaxis\":\"x\",\"yaxis\":\"y\"},{\"line\":{\"color\":\"rgb(31, 119, 180)\"},\"showlegend\":false,\"spanmode\":\"hard\",\"x0\":9,\"y\":[0.4674991333728504,0.0728755349848819,0.006257574896942421,0.09604196819912614,0.021411432419374366,0.7372956792484384,0.004285072170032219,0.0019377565579456787,0.9497843994368272,0.1097563799766779],\"type\":\"violin\",\"xaxis\":\"x\",\"yaxis\":\"y\"},{\"marker\":{\"color\":\"rgb(244,202,228)\",\"size\":7,\"symbol\":\"square\"},\"mode\":\"markers\",\"name\":\"MVE\",\"x\":[null],\"y\":[null],\"type\":\"scatter\",\"xaxis\":\"x\",\"yaxis\":\"y\"},{\"line\":{\"color\":\"rgb(255, 127, 14)\"},\"showlegend\":false,\"spanmode\":\"hard\",\"x0\":10,\"y\":[2.468321994968307e-08,3.437072025251567e-08,0.0010351419024046953,7.877021858270137e-06,0.00043003715655357504,1.070906508019734e-06,4.349204865576027e-07,3.86770087792904e-05,2.5439007184716423e-11,2.9893783678017364e-05],\"type\":\"violin\",\"xaxis\":\"x\",\"yaxis\":\"y\"},{\"line\":{\"color\":\"rgb(44, 160, 44)\"},\"showlegend\":false,\"spanmode\":\"hard\",\"x0\":11,\"y\":[0.0837872068380118,0.4674991333728504,0.16084701747608968,0.3176132850499866,0.6918089913272908,0.1420399860432911,0.42677034188169855,0.5542794489957672,0.01812420833701988,0.4674991333728504],\"type\":\"violin\",\"xaxis\":\"x\",\"yaxis\":\"y\"},{\"line\":{\"color\":\"rgb(31, 119, 180)\"},\"showlegend\":false,\"spanmode\":\"hard\",\"x0\":0,\"y\":[0.05931450269585065,0.22435994441569518,0.054721947295244,0.07976832120578514,0.0940753137164479,0.010106431914508496,0.2635150559770053,0.01883710437068322,0.1966729329059792,0.29764058377614144],\"type\":\"violin\",\"xaxis\":\"x2\",\"yaxis\":\"y2\"},{\"line\":{\"color\":\"rgb(255, 127, 14)\"},\"showlegend\":false,\"spanmode\":\"hard\",\"x0\":1,\"y\":[0.00038662829149177584,2.7770636689222826e-07,0.001430416544609398,0.019782628235073083,0.0007536234856948122,0.027436579345507677,7.325720924510129e-05,0.0001930131369552783,4.4316023782429484e-05,0.001429411276016562],\"type\":\"violin\",\"xaxis\":\"x2\",\"yaxis\":\"y2\"},{\"line\":{\"color\":\"rgb(44, 160, 44)\"},\"showlegend\":false,\"spanmode\":\"hard\",\"x0\":2,\"y\":[0.6918811281399188,0.12042936607482689,0.4133307912662419,0.7986085522705225,0.6641585002277047,0.5976798157295922,0.44147788162321594,0.5681711429311223,0.6786444403975956,0.0227962847222876],\"type\":\"violin\",\"xaxis\":\"x2\",\"yaxis\":\"y2\"},{\"line\":{\"color\":\"rgb(31, 119, 180)\"},\"showlegend\":false,\"spanmode\":\"hard\",\"x0\":3,\"y\":[0.0011685895785301487,0.07437191068422842,0.24362779120048897,0.6238498752313637,0.5805115690050096,0.9353980421935938,0.051669765383816464,0.3373331170074009,0.5956149335647574,0.002404220761479036],\"type\":\"violin\",\"xaxis\":\"x2\",\"yaxis\":\"y2\"},{\"line\":{\"color\":\"rgb(255, 127, 14)\"},\"showlegend\":false,\"spanmode\":\"hard\",\"x0\":4,\"y\":[0.014092897879741042,0.0006051251608774236,0.0026461827593143527,2.6484147873913847e-05,0.027436579346389066,0.004749922727262799,0.0017587247028796108,0.006898719555375423,3.4311078173600626e-05,0.006897788760523825],\"type\":\"violin\",\"xaxis\":\"x2\",\"yaxis\":\"y2\"},{\"line\":{\"color\":\"rgb(44, 160, 44)\"},\"showlegend\":false,\"spanmode\":\"hard\",\"x0\":5,\"y\":[0.11914747143528855,0.7151954684020373,0.45279599115296354,0.19860469802442207,0.9742733596382078,0.4358354559215505,0.8517340938266496,0.7432742957470792,0.32931648812485076,0.12625119449607175],\"type\":\"violin\",\"xaxis\":\"x2\",\"yaxis\":\"y2\"},{\"line\":{\"color\":\"rgb(31, 119, 180)\"},\"showlegend\":false,\"spanmode\":\"hard\",\"x0\":6,\"y\":[0.09851981458565436,0.5608251979205464,0.5864316122575011,0.15659756697269303,0.060881987517767425,0.8879710782940268,0.2561010432335783,0.014549859561574294,0.1967219017435864,0.5790130083829362],\"type\":\"violin\",\"xaxis\":\"x2\",\"yaxis\":\"y2\"},{\"line\":{\"color\":\"rgb(255, 127, 14)\"},\"showlegend\":false,\"spanmode\":\"hard\",\"x0\":7,\"y\":[2.132152672445491e-11,1.5302474188305053e-13,1.4867623931656458e-07,3.0872931283153716e-10,1.0801811772491067e-08,1.4455536196293809e-11,4.3233585891257684e-12,2.2458245311537834e-06,3.1935574719548326e-20,6.82931314210316e-11],\"type\":\"violin\",\"xaxis\":\"x2\",\"yaxis\":\"y2\"},{\"line\":{\"color\":\"rgb(44, 160, 44)\"},\"showlegend\":false,\"spanmode\":\"hard\",\"x0\":8,\"y\":[0.08973139437913717,0.0009131320186793588,0.14741994930741048,0.21410730957480598,0.20214222220361694,0.034105185859813196,0.1473326064356645,0.9664447934374687,0.0003061186215519875,0.006578759194178376],\"type\":\"violin\",\"xaxis\":\"x2\",\"yaxis\":\"y2\"},{\"line\":{\"color\":\"rgb(31, 119, 180)\"},\"showlegend\":false,\"spanmode\":\"hard\",\"x0\":9,\"y\":[0.0007163079513912148,0.7355652823980134,0.4379888507154083,0.14238126927673636,0.6412963366431027,0.1336521882045169,0.541597247026301,0.06586911570357899,0.05360681989050571,0.22927253252204355],\"type\":\"violin\",\"xaxis\":\"x2\",\"yaxis\":\"y2\"},{\"line\":{\"color\":\"rgb(255, 127, 14)\"},\"showlegend\":false,\"spanmode\":\"hard\",\"x0\":10,\"y\":[2.0380516443353748e-05,1.910732980619998e-12,9.265047451465312e-10,1.898059805471869e-09,1.712510840019088e-14,1.7466228565371428e-06,8.339769262964922e-13,2.119330453263365e-08,2.8786452471232065e-12,2.132152672445491e-11],\"type\":\"violin\",\"xaxis\":\"x2\",\"yaxis\":\"y2\"},{\"line\":{\"color\":\"rgb(44, 160, 44)\"},\"showlegend\":false,\"spanmode\":\"hard\",\"x0\":11,\"y\":[0.07800865661198522,0.08901752190462282,0.12606951667577407,0.8075444211116165,0.005907313938255263,0.16044475102908373,0.14697853391984822,0.15140322640152287,0.7926120679062642,0.19587499319956847],\"type\":\"violin\",\"xaxis\":\"x2\",\"yaxis\":\"y2\"},{\"line\":{\"color\":\"rgb(31, 119, 180)\"},\"showlegend\":false,\"spanmode\":\"hard\",\"x0\":0,\"y\":[0.005727190775950831,0.59615340189324,0.0035814003050779067,0.013090910101426018,0.015525357583645394,0.22320846985774692,0.05755410108286984,0.00464113807316838,0.0014537017775986493,0.06779907245399024],\"type\":\"violin\",\"xaxis\":\"x3\",\"yaxis\":\"y3\"},{\"line\":{\"color\":\"rgb(255, 127, 14)\"},\"showlegend\":false,\"spanmode\":\"hard\",\"x0\":1,\"y\":[3.607421479515806e-13,1.1147858401137199e-15,3.7779829001365915e-07,1.0828554092931295e-07,2.1193304532632758e-08,5.691503167600409e-08,1.898059805471869e-09,3.840651801334885e-09,4.323358589125787e-12,2.7041323908592636e-09],\"type\":\"violin\",\"xaxis\":\"x3\",\"yaxis\":\"y3\"},{\"line\":{\"color\":\"rgb(44, 160, 44)\"},\"showlegend\":false,\"spanmode\":\"hard\",\"x0\":2,\"y\":[0.0016280827824523582,0.0009332367943049104,0.03751329173095235,0.40276660801383407,0.016677656902987063,0.004933085794141109,0.035567028776055706,0.01175293035806231,0.30633062182610427,0.0003846588798135451],\"type\":\"violin\",\"xaxis\":\"x3\",\"yaxis\":\"y3\"},{\"line\":{\"color\":\"rgb(31, 119, 180)\"},\"showlegend\":false,\"spanmode\":\"hard\",\"x0\":3,\"y\":[7.373610392541448e-07,0.08642411728924963,0.3028535401046105,0.22662333597275158,0.015544908627456807,0.30817395155816696,0.00019030724762174705,0.005735922981321591,0.08231152073382927,0.011958884893407127],\"type\":\"violin\",\"xaxis\":\"x3\",\"yaxis\":\"y3\"},{\"line\":{\"color\":\"rgb(255, 127, 14)\"},\"showlegend\":false,\"spanmode\":\"hard\",\"x0\":4,\"y\":[2.2458245311535297e-06,2.777062805347496e-07,6.443205778890727e-10,2.8786452451385745e-12,2.038051644335682e-05,5.6915032423141067e-08,2.777062755165095e-07,2.990513294829321e-06,6.432811567872667e-14,1.8980598169225746e-09],\"type\":\"violin\",\"xaxis\":\"x3\",\"yaxis\":\"y3\"},{\"line\":{\"color\":\"rgb(44, 160, 44)\"},\"showlegend\":false,\"spanmode\":\"hard\",\"x0\":5,\"y\":[0.1586080376212762,0.663597685446012,0.13017495795102552,0.5559726317130408,0.36812007050638457,0.20981346850589053,0.14858442792800206,0.7676131435649781,0.5473516924165545,0.3025782638620824],\"type\":\"violin\",\"xaxis\":\"x3\",\"yaxis\":\"y3\"},{\"line\":{\"color\":\"rgb(31, 119, 180)\"},\"showlegend\":false,\"spanmode\":\"hard\",\"x0\":6,\"y\":[0.09018728101220384,0.5365570858503311,0.34538060795993036,0.00031968468675852373,0.8221652416383971,0.9404804427163412,0.0005207177730237467,0.052720816879102454,0.38632486490409396,0.18260859435198482],\"type\":\"violin\",\"xaxis\":\"x3\",\"yaxis\":\"y3\"},{\"line\":{\"color\":\"rgb(255, 127, 14)\"},\"showlegend\":false,\"spanmode\":\"hard\",\"x0\":7,\"y\":[3.8277417215028573e-34,4.823380821762889e-32,3.3568557214475488e-18,2.3807679904255814e-24,1.062501220452364e-26,1.550144710890513e-33,2.6723483233787785e-30,5.483967381354105e-13,1.6224729122472485e-50,1.8924629092888824e-34],\"type\":\"violin\",\"xaxis\":\"x3\",\"yaxis\":\"y3\"},{\"line\":{\"color\":\"rgb(44, 160, 44)\"},\"showlegend\":false,\"spanmode\":\"hard\",\"x0\":8,\"y\":[2.2064360192869863e-06,9.852200181195865e-05,0.0010805527813884496,0.00828314281966447,2.7475226539819056e-07,1.8084665320386224e-08,0.04379773074019297,0.005700230751291695,2.8279854057606098e-08,0.00019162620261857881],\"type\":\"violin\",\"xaxis\":\"x3\",\"yaxis\":\"y3\"},{\"line\":{\"color\":\"rgb(31, 119, 180)\"},\"showlegend\":false,\"spanmode\":\"hard\",\"x0\":9,\"y\":[0.0008904844472306091,0.004829085299151118,0.0013324234234944731,0.00023958378245325003,0.06081113538930518,0.08998338966112783,0.0001428814948574696,1.804486074334121e-06,0.02898107881329758,0.027481996827702967],\"type\":\"violin\",\"xaxis\":\"x3\",\"yaxis\":\"y3\"},{\"line\":{\"color\":\"rgb(255, 127, 14)\"},\"showlegend\":false,\"spanmode\":\"hard\",\"x0\":10,\"y\":[7.142191871811856e-22,5.313481755216979e-36,3.3568557214475488e-18,1.335003198381018e-22,9.496700906848707e-32,6.3881466867566954e-21,2.48440488434134e-28,3.193557471952356e-20,7.715967174966732e-34,3.6190595254099546e-26],\"type\":\"violin\",\"xaxis\":\"x3\",\"yaxis\":\"y3\"},{\"line\":{\"color\":\"rgb(44, 160, 44)\"},\"showlegend\":false,\"spanmode\":\"hard\",\"x0\":11,\"y\":[0.19071965325230097,0.00828375358896625,0.21304877741573439,0.13222219490611842,0.006839911978069119,0.0034703798378152464,0.21415275832629802,0.08983782510467865,0.007321997458467921,0.011366506416703632],\"type\":\"violin\",\"xaxis\":\"x3\",\"yaxis\":\"y3\"}],                        {\"template\":{\"data\":{\"histogram2dcontour\":[{\"type\":\"histogram2dcontour\",\"colorbar\":{\"outlinewidth\":0,\"ticks\":\"\"},\"colorscale\":[[0.0,\"#0d0887\"],[0.1111111111111111,\"#46039f\"],[0.2222222222222222,\"#7201a8\"],[0.3333333333333333,\"#9c179e\"],[0.4444444444444444,\"#bd3786\"],[0.5555555555555556,\"#d8576b\"],[0.6666666666666666,\"#ed7953\"],[0.7777777777777778,\"#fb9f3a\"],[0.8888888888888888,\"#fdca26\"],[1.0,\"#f0f921\"]]}],\"choropleth\":[{\"type\":\"choropleth\",\"colorbar\":{\"outlinewidth\":0,\"ticks\":\"\"}}],\"histogram2d\":[{\"type\":\"histogram2d\",\"colorbar\":{\"outlinewidth\":0,\"ticks\":\"\"},\"colorscale\":[[0.0,\"#0d0887\"],[0.1111111111111111,\"#46039f\"],[0.2222222222222222,\"#7201a8\"],[0.3333333333333333,\"#9c179e\"],[0.4444444444444444,\"#bd3786\"],[0.5555555555555556,\"#d8576b\"],[0.6666666666666666,\"#ed7953\"],[0.7777777777777778,\"#fb9f3a\"],[0.8888888888888888,\"#fdca26\"],[1.0,\"#f0f921\"]]}],\"heatmap\":[{\"type\":\"heatmap\",\"colorbar\":{\"outlinewidth\":0,\"ticks\":\"\"},\"colorscale\":[[0.0,\"#0d0887\"],[0.1111111111111111,\"#46039f\"],[0.2222222222222222,\"#7201a8\"],[0.3333333333333333,\"#9c179e\"],[0.4444444444444444,\"#bd3786\"],[0.5555555555555556,\"#d8576b\"],[0.6666666666666666,\"#ed7953\"],[0.7777777777777778,\"#fb9f3a\"],[0.8888888888888888,\"#fdca26\"],[1.0,\"#f0f921\"]]}],\"heatmapgl\":[{\"type\":\"heatmapgl\",\"colorbar\":{\"outlinewidth\":0,\"ticks\":\"\"},\"colorscale\":[[0.0,\"#0d0887\"],[0.1111111111111111,\"#46039f\"],[0.2222222222222222,\"#7201a8\"],[0.3333333333333333,\"#9c179e\"],[0.4444444444444444,\"#bd3786\"],[0.5555555555555556,\"#d8576b\"],[0.6666666666666666,\"#ed7953\"],[0.7777777777777778,\"#fb9f3a\"],[0.8888888888888888,\"#fdca26\"],[1.0,\"#f0f921\"]]}],\"contourcarpet\":[{\"type\":\"contourcarpet\",\"colorbar\":{\"outlinewidth\":0,\"ticks\":\"\"}}],\"contour\":[{\"type\":\"contour\",\"colorbar\":{\"outlinewidth\":0,\"ticks\":\"\"},\"colorscale\":[[0.0,\"#0d0887\"],[0.1111111111111111,\"#46039f\"],[0.2222222222222222,\"#7201a8\"],[0.3333333333333333,\"#9c179e\"],[0.4444444444444444,\"#bd3786\"],[0.5555555555555556,\"#d8576b\"],[0.6666666666666666,\"#ed7953\"],[0.7777777777777778,\"#fb9f3a\"],[0.8888888888888888,\"#fdca26\"],[1.0,\"#f0f921\"]]}],\"surface\":[{\"type\":\"surface\",\"colorbar\":{\"outlinewidth\":0,\"ticks\":\"\"},\"colorscale\":[[0.0,\"#0d0887\"],[0.1111111111111111,\"#46039f\"],[0.2222222222222222,\"#7201a8\"],[0.3333333333333333,\"#9c179e\"],[0.4444444444444444,\"#bd3786\"],[0.5555555555555556,\"#d8576b\"],[0.6666666666666666,\"#ed7953\"],[0.7777777777777778,\"#fb9f3a\"],[0.8888888888888888,\"#fdca26\"],[1.0,\"#f0f921\"]]}],\"mesh3d\":[{\"type\":\"mesh3d\",\"colorbar\":{\"outlinewidth\":0,\"ticks\":\"\"}}],\"scatter\":[{\"fillpattern\":{\"fillmode\":\"overlay\",\"size\":10,\"solidity\":0.2},\"type\":\"scatter\"}],\"parcoords\":[{\"type\":\"parcoords\",\"line\":{\"colorbar\":{\"outlinewidth\":0,\"ticks\":\"\"}}}],\"scatterpolargl\":[{\"type\":\"scatterpolargl\",\"marker\":{\"colorbar\":{\"outlinewidth\":0,\"ticks\":\"\"}}}],\"bar\":[{\"error_x\":{\"color\":\"#2a3f5f\"},\"error_y\":{\"color\":\"#2a3f5f\"},\"marker\":{\"line\":{\"color\":\"#E5ECF6\",\"width\":0.5},\"pattern\":{\"fillmode\":\"overlay\",\"size\":10,\"solidity\":0.2}},\"type\":\"bar\"}],\"scattergeo\":[{\"type\":\"scattergeo\",\"marker\":{\"colorbar\":{\"outlinewidth\":0,\"ticks\":\"\"}}}],\"scatterpolar\":[{\"type\":\"scatterpolar\",\"marker\":{\"colorbar\":{\"outlinewidth\":0,\"ticks\":\"\"}}}],\"histogram\":[{\"marker\":{\"pattern\":{\"fillmode\":\"overlay\",\"size\":10,\"solidity\":0.2}},\"type\":\"histogram\"}],\"scattergl\":[{\"type\":\"scattergl\",\"marker\":{\"colorbar\":{\"outlinewidth\":0,\"ticks\":\"\"}}}],\"scatter3d\":[{\"type\":\"scatter3d\",\"line\":{\"colorbar\":{\"outlinewidth\":0,\"ticks\":\"\"}},\"marker\":{\"colorbar\":{\"outlinewidth\":0,\"ticks\":\"\"}}}],\"scattermapbox\":[{\"type\":\"scattermapbox\",\"marker\":{\"colorbar\":{\"outlinewidth\":0,\"ticks\":\"\"}}}],\"scatterternary\":[{\"type\":\"scatterternary\",\"marker\":{\"colorbar\":{\"outlinewidth\":0,\"ticks\":\"\"}}}],\"scattercarpet\":[{\"type\":\"scattercarpet\",\"marker\":{\"colorbar\":{\"outlinewidth\":0,\"ticks\":\"\"}}}],\"carpet\":[{\"aaxis\":{\"endlinecolor\":\"#2a3f5f\",\"gridcolor\":\"white\",\"linecolor\":\"white\",\"minorgridcolor\":\"white\",\"startlinecolor\":\"#2a3f5f\"},\"baxis\":{\"endlinecolor\":\"#2a3f5f\",\"gridcolor\":\"white\",\"linecolor\":\"white\",\"minorgridcolor\":\"white\",\"startlinecolor\":\"#2a3f5f\"},\"type\":\"carpet\"}],\"table\":[{\"cells\":{\"fill\":{\"color\":\"#EBF0F8\"},\"line\":{\"color\":\"white\"}},\"header\":{\"fill\":{\"color\":\"#C8D4E3\"},\"line\":{\"color\":\"white\"}},\"type\":\"table\"}],\"barpolar\":[{\"marker\":{\"line\":{\"color\":\"#E5ECF6\",\"width\":0.5},\"pattern\":{\"fillmode\":\"overlay\",\"size\":10,\"solidity\":0.2}},\"type\":\"barpolar\"}],\"pie\":[{\"automargin\":true,\"type\":\"pie\"}]},\"layout\":{\"autotypenumbers\":\"strict\",\"colorway\":[\"#636efa\",\"#EF553B\",\"#00cc96\",\"#ab63fa\",\"#FFA15A\",\"#19d3f3\",\"#FF6692\",\"#B6E880\",\"#FF97FF\",\"#FECB52\"],\"font\":{\"color\":\"#2a3f5f\"},\"hovermode\":\"closest\",\"hoverlabel\":{\"align\":\"left\"},\"paper_bgcolor\":\"white\",\"plot_bgcolor\":\"#E5ECF6\",\"polar\":{\"bgcolor\":\"#E5ECF6\",\"angularaxis\":{\"gridcolor\":\"white\",\"linecolor\":\"white\",\"ticks\":\"\"},\"radialaxis\":{\"gridcolor\":\"white\",\"linecolor\":\"white\",\"ticks\":\"\"}},\"ternary\":{\"bgcolor\":\"#E5ECF6\",\"aaxis\":{\"gridcolor\":\"white\",\"linecolor\":\"white\",\"ticks\":\"\"},\"baxis\":{\"gridcolor\":\"white\",\"linecolor\":\"white\",\"ticks\":\"\"},\"caxis\":{\"gridcolor\":\"white\",\"linecolor\":\"white\",\"ticks\":\"\"}},\"coloraxis\":{\"colorbar\":{\"outlinewidth\":0,\"ticks\":\"\"}},\"colorscale\":{\"sequential\":[[0.0,\"#0d0887\"],[0.1111111111111111,\"#46039f\"],[0.2222222222222222,\"#7201a8\"],[0.3333333333333333,\"#9c179e\"],[0.4444444444444444,\"#bd3786\"],[0.5555555555555556,\"#d8576b\"],[0.6666666666666666,\"#ed7953\"],[0.7777777777777778,\"#fb9f3a\"],[0.8888888888888888,\"#fdca26\"],[1.0,\"#f0f921\"]],\"sequentialminus\":[[0.0,\"#0d0887\"],[0.1111111111111111,\"#46039f\"],[0.2222222222222222,\"#7201a8\"],[0.3333333333333333,\"#9c179e\"],[0.4444444444444444,\"#bd3786\"],[0.5555555555555556,\"#d8576b\"],[0.6666666666666666,\"#ed7953\"],[0.7777777777777778,\"#fb9f3a\"],[0.8888888888888888,\"#fdca26\"],[1.0,\"#f0f921\"]],\"diverging\":[[0,\"#8e0152\"],[0.1,\"#c51b7d\"],[0.2,\"#de77ae\"],[0.3,\"#f1b6da\"],[0.4,\"#fde0ef\"],[0.5,\"#f7f7f7\"],[0.6,\"#e6f5d0\"],[0.7,\"#b8e186\"],[0.8,\"#7fbc41\"],[0.9,\"#4d9221\"],[1,\"#276419\"]]},\"xaxis\":{\"gridcolor\":\"white\",\"linecolor\":\"white\",\"ticks\":\"\",\"title\":{\"standoff\":15},\"zerolinecolor\":\"white\",\"automargin\":true,\"zerolinewidth\":2},\"yaxis\":{\"gridcolor\":\"white\",\"linecolor\":\"white\",\"ticks\":\"\",\"title\":{\"standoff\":15},\"zerolinecolor\":\"white\",\"automargin\":true,\"zerolinewidth\":2},\"scene\":{\"xaxis\":{\"backgroundcolor\":\"#E5ECF6\",\"gridcolor\":\"white\",\"linecolor\":\"white\",\"showbackground\":true,\"ticks\":\"\",\"zerolinecolor\":\"white\",\"gridwidth\":2},\"yaxis\":{\"backgroundcolor\":\"#E5ECF6\",\"gridcolor\":\"white\",\"linecolor\":\"white\",\"showbackground\":true,\"ticks\":\"\",\"zerolinecolor\":\"white\",\"gridwidth\":2},\"zaxis\":{\"backgroundcolor\":\"#E5ECF6\",\"gridcolor\":\"white\",\"linecolor\":\"white\",\"showbackground\":true,\"ticks\":\"\",\"zerolinecolor\":\"white\",\"gridwidth\":2}},\"shapedefaults\":{\"line\":{\"color\":\"#2a3f5f\"}},\"annotationdefaults\":{\"arrowcolor\":\"#2a3f5f\",\"arrowhead\":0,\"arrowwidth\":1},\"geo\":{\"bgcolor\":\"white\",\"landcolor\":\"#E5ECF6\",\"subunitcolor\":\"white\",\"showland\":true,\"showlakes\":true,\"lakecolor\":\"white\"},\"title\":{\"x\":0.05},\"mapbox\":{\"style\":\"light\"}}},\"xaxis\":{\"anchor\":\"y\",\"domain\":[0.0,1.0],\"range\":[-0.5,11.5],\"tickvals\":[-0.5,0,1,2,3,4,5,6,7,8,9,10,11,11.5],\"ticktext\":[\"\",\"mPointCP\",\"mIntCP\",\"mNCP\",\"mPointCP\",\"mIntCP\",\"mNCP\",\"mPointCP\",\"mIntCP\",\"mNCP\",\"mPointCP\",\"mIntCP\",\"mNCP\",\"\"],\"showticklabels\":false},\"yaxis\":{\"anchor\":\"x\",\"domain\":[0.7777777777777778,1.0],\"range\":[0.0,1.0]},\"xaxis2\":{\"anchor\":\"y2\",\"domain\":[0.0,1.0],\"range\":[-0.5,11.5],\"tickvals\":[-0.5,0,1,2,3,4,5,6,7,8,9,10,11,11.5],\"ticktext\":[\"\",\"mPointCP\",\"mIntCP\",\"mNCP\",\"mPointCP\",\"mIntCP\",\"mNCP\",\"mPointCP\",\"mIntCP\",\"mNCP\",\"mPointCP\",\"mIntCP\",\"mNCP\",\"\"],\"showticklabels\":false},\"yaxis2\":{\"anchor\":\"x2\",\"domain\":[0.3888888888888889,0.6111111111111112],\"range\":[0.0,1.0]},\"xaxis3\":{\"anchor\":\"y3\",\"domain\":[0.0,1.0],\"tickangle\":45,\"range\":[-0.5,11.5],\"tickvals\":[-0.5,0,1,2,3,4,5,6,7,8,9,10,11,11.5],\"ticktext\":[\"\",\"mPointCP\",\"mIntCP\",\"mNCP\",\"mPointCP\",\"mIntCP\",\"mNCP\",\"mPointCP\",\"mIntCP\",\"mNCP\",\"mPointCP\",\"mIntCP\",\"mNCP\",\"\"]},\"yaxis3\":{\"anchor\":\"x3\",\"domain\":[0.0,0.22222222222222224]},\"annotations\":[{\"font\":{\"size\":16},\"showarrow\":false,\"text\":\"Low - Medium\",\"x\":0.5,\"xanchor\":\"center\",\"xref\":\"paper\",\"y\":1.0,\"yanchor\":\"bottom\",\"yref\":\"paper\"},{\"font\":{\"size\":16},\"showarrow\":false,\"text\":\"Medium - High\",\"x\":0.5,\"xanchor\":\"center\",\"xref\":\"paper\",\"y\":0.6111111111111112,\"yanchor\":\"bottom\",\"yref\":\"paper\"},{\"font\":{\"size\":16},\"showarrow\":false,\"text\":\"Low - High\",\"x\":0.5,\"xanchor\":\"center\",\"xref\":\"paper\",\"y\":0.22222222222222224,\"yanchor\":\"bottom\",\"yref\":\"paper\"}],\"shapes\":[{\"fillcolor\":\"rgb(179,226,205)\",\"layer\":\"below\",\"line\":{\"width\":0},\"opacity\":0.5,\"type\":\"rect\",\"x0\":-0.5,\"x1\":2.5,\"xref\":\"x\",\"y0\":0,\"y1\":1,\"yref\":\"y domain\"},{\"fillcolor\":\"rgb(253,205,172)\",\"layer\":\"below\",\"line\":{\"width\":0},\"opacity\":0.5,\"type\":\"rect\",\"x0\":2.5,\"x1\":5.5,\"xref\":\"x\",\"y0\":0,\"y1\":1,\"yref\":\"y domain\"},{\"fillcolor\":\"rgb(203,213,232)\",\"layer\":\"below\",\"line\":{\"width\":0},\"opacity\":0.5,\"type\":\"rect\",\"x0\":5.5,\"x1\":8.5,\"xref\":\"x\",\"y0\":0,\"y1\":1,\"yref\":\"y domain\"},{\"fillcolor\":\"rgb(244,202,228)\",\"layer\":\"below\",\"line\":{\"width\":0},\"opacity\":0.5,\"type\":\"rect\",\"x0\":8.5,\"x1\":11.5,\"xref\":\"x\",\"y0\":0,\"y1\":1,\"yref\":\"y domain\"},{\"fillcolor\":\"rgb(179,226,205)\",\"layer\":\"below\",\"line\":{\"width\":0},\"opacity\":0.5,\"type\":\"rect\",\"x0\":-0.5,\"x1\":2.5,\"xref\":\"x\",\"y0\":0,\"y1\":1,\"yref\":\"y domain\"},{\"fillcolor\":\"rgb(179,226,205)\",\"layer\":\"below\",\"line\":{\"width\":0},\"opacity\":0.5,\"type\":\"rect\",\"x0\":-0.5,\"x1\":2.5,\"xref\":\"x2\",\"y0\":0,\"y1\":1,\"yref\":\"y2 domain\"},{\"fillcolor\":\"rgb(253,205,172)\",\"layer\":\"below\",\"line\":{\"width\":0},\"opacity\":0.5,\"type\":\"rect\",\"x0\":2.5,\"x1\":5.5,\"xref\":\"x\",\"y0\":0,\"y1\":1,\"yref\":\"y domain\"},{\"fillcolor\":\"rgb(253,205,172)\",\"layer\":\"below\",\"line\":{\"width\":0},\"opacity\":0.5,\"type\":\"rect\",\"x0\":2.5,\"x1\":5.5,\"xref\":\"x2\",\"y0\":0,\"y1\":1,\"yref\":\"y2 domain\"},{\"fillcolor\":\"rgb(203,213,232)\",\"layer\":\"below\",\"line\":{\"width\":0},\"opacity\":0.5,\"type\":\"rect\",\"x0\":5.5,\"x1\":8.5,\"xref\":\"x\",\"y0\":0,\"y1\":1,\"yref\":\"y domain\"},{\"fillcolor\":\"rgb(203,213,232)\",\"layer\":\"below\",\"line\":{\"width\":0},\"opacity\":0.5,\"type\":\"rect\",\"x0\":5.5,\"x1\":8.5,\"xref\":\"x2\",\"y0\":0,\"y1\":1,\"yref\":\"y2 domain\"},{\"fillcolor\":\"rgb(244,202,228)\",\"layer\":\"below\",\"line\":{\"width\":0},\"opacity\":0.5,\"type\":\"rect\",\"x0\":8.5,\"x1\":11.5,\"xref\":\"x\",\"y0\":0,\"y1\":1,\"yref\":\"y domain\"},{\"fillcolor\":\"rgb(244,202,228)\",\"layer\":\"below\",\"line\":{\"width\":0},\"opacity\":0.5,\"type\":\"rect\",\"x0\":8.5,\"x1\":11.5,\"xref\":\"x2\",\"y0\":0,\"y1\":1,\"yref\":\"y2 domain\"},{\"fillcolor\":\"rgb(179,226,205)\",\"layer\":\"below\",\"line\":{\"width\":0},\"opacity\":0.5,\"type\":\"rect\",\"x0\":-0.5,\"x1\":2.5,\"xref\":\"x\",\"y0\":0,\"y1\":1,\"yref\":\"y domain\"},{\"fillcolor\":\"rgb(179,226,205)\",\"layer\":\"below\",\"line\":{\"width\":0},\"opacity\":0.5,\"type\":\"rect\",\"x0\":-0.5,\"x1\":2.5,\"xref\":\"x2\",\"y0\":0,\"y1\":1,\"yref\":\"y2 domain\"},{\"fillcolor\":\"rgb(179,226,205)\",\"layer\":\"below\",\"line\":{\"width\":0},\"opacity\":0.5,\"type\":\"rect\",\"x0\":-0.5,\"x1\":2.5,\"xref\":\"x3\",\"y0\":0,\"y1\":1,\"yref\":\"y3 domain\"},{\"fillcolor\":\"rgb(253,205,172)\",\"layer\":\"below\",\"line\":{\"width\":0},\"opacity\":0.5,\"type\":\"rect\",\"x0\":2.5,\"x1\":5.5,\"xref\":\"x\",\"y0\":0,\"y1\":1,\"yref\":\"y domain\"},{\"fillcolor\":\"rgb(253,205,172)\",\"layer\":\"below\",\"line\":{\"width\":0},\"opacity\":0.5,\"type\":\"rect\",\"x0\":2.5,\"x1\":5.5,\"xref\":\"x2\",\"y0\":0,\"y1\":1,\"yref\":\"y2 domain\"},{\"fillcolor\":\"rgb(253,205,172)\",\"layer\":\"below\",\"line\":{\"width\":0},\"opacity\":0.5,\"type\":\"rect\",\"x0\":2.5,\"x1\":5.5,\"xref\":\"x3\",\"y0\":0,\"y1\":1,\"yref\":\"y3 domain\"},{\"fillcolor\":\"rgb(203,213,232)\",\"layer\":\"below\",\"line\":{\"width\":0},\"opacity\":0.5,\"type\":\"rect\",\"x0\":5.5,\"x1\":8.5,\"xref\":\"x\",\"y0\":0,\"y1\":1,\"yref\":\"y domain\"},{\"fillcolor\":\"rgb(203,213,232)\",\"layer\":\"below\",\"line\":{\"width\":0},\"opacity\":0.5,\"type\":\"rect\",\"x0\":5.5,\"x1\":8.5,\"xref\":\"x2\",\"y0\":0,\"y1\":1,\"yref\":\"y2 domain\"},{\"fillcolor\":\"rgb(203,213,232)\",\"layer\":\"below\",\"line\":{\"width\":0},\"opacity\":0.5,\"type\":\"rect\",\"x0\":5.5,\"x1\":8.5,\"xref\":\"x3\",\"y0\":0,\"y1\":1,\"yref\":\"y3 domain\"},{\"fillcolor\":\"rgb(244,202,228)\",\"layer\":\"below\",\"line\":{\"width\":0},\"opacity\":0.5,\"type\":\"rect\",\"x0\":8.5,\"x1\":11.5,\"xref\":\"x\",\"y0\":0,\"y1\":1,\"yref\":\"y domain\"},{\"fillcolor\":\"rgb(244,202,228)\",\"layer\":\"below\",\"line\":{\"width\":0},\"opacity\":0.5,\"type\":\"rect\",\"x0\":8.5,\"x1\":11.5,\"xref\":\"x2\",\"y0\":0,\"y1\":1,\"yref\":\"y2 domain\"},{\"fillcolor\":\"rgb(244,202,228)\",\"layer\":\"below\",\"line\":{\"width\":0},\"opacity\":0.5,\"type\":\"rect\",\"x0\":8.5,\"x1\":11.5,\"xref\":\"x3\",\"y0\":0,\"y1\":1,\"yref\":\"y3 domain\"}],\"margin\":{\"l\":0,\"r\":0,\"t\":50,\"b\":0},\"width\":900,\"title\":{\"text\":\"$\\\\text{KS statistic}$\"}},                        {\"responsive\": true}                    ).then(function(){\n",
       "                            \n",
       "var gd = document.getElementById('0d2daf48-d8ab-456c-b1e0-17e86b5672c4');\n",
       "var x = new MutationObserver(function (mutations, observer) {{\n",
       "        var display = window.getComputedStyle(gd).display;\n",
       "        if (!display || display === 'none') {{\n",
       "            console.log([gd, 'removed!']);\n",
       "            Plotly.purge(gd);\n",
       "            observer.disconnect();\n",
       "        }}\n",
       "}});\n",
       "\n",
       "// Listen for the removal of the full notebook cells\n",
       "var notebookContainer = gd.closest('#notebook-container');\n",
       "if (notebookContainer) {{\n",
       "    x.observe(notebookContainer, {childList: true});\n",
       "}}\n",
       "\n",
       "// Listen for the clearing of the current output cell\n",
       "var outputEl = gd.closest('.output');\n",
       "if (outputEl) {{\n",
       "    x.observe(outputEl, {childList: true});\n",
       "}}\n",
       "\n",
       "                        })                };                });            </script>        </div>"
      ]
     },
     "metadata": {},
     "output_type": "display_data"
    }
   ],
   "source": [
    "conditional_scores = 7\n",
    "\n",
    "fig = make_subplots(rows = var_bins, cols = 1, subplot_titles = [\"Low variance\", \"Medium variance\", \"High variance\"])\n",
    "fig2 = make_subplots(rows = var_bins, cols = 1, subplot_titles = [\"Low variance\", \"Medium variance\", \"High variance\"])\n",
    "fig3 = make_subplots(rows = var_bins, cols = 1, subplot_titles = [\"Low variance\", \"Medium variance\", \"High variance\"])\n",
    "fig_ks = make_subplots(rows = var_bins, cols = 1, subplot_titles = [\"Low - Medium\", \"Medium - High\", \"Low - High\"])\n",
    "\n",
    "index = []\n",
    "for j, name in enumerate(columns_conditional):\n",
    "    if name in [n + \"*-base\" for n in mergers] or(not \"*\" in name and name not in [n + \"-base\" for n in mergers]):\n",
    "        index.append(j)\n",
    "\n",
    "columns = [columns_conditional[i].replace(\"*\", \"\") for i in index]\n",
    "columntext = []\n",
    "for c in columns:\n",
    "    text = c.split(\"-\")\n",
    "    columntext.append((text[0], text[1]))\n",
    "\n",
    "r2s = r2s_conditional[:, index, :]\n",
    "coverages = coverages_conditional[:, index, :]\n",
    "widths = widths_conditional[:, index, :]\n",
    "\n",
    "text = [\"\"]\n",
    "text.extend([c[1] for c in columntext])\n",
    "text.append(\"\")\n",
    "vals = [-.5]\n",
    "vals.extend(range(len(columns)))\n",
    "vals.append(len(columns) - 0.5)\n",
    "\n",
    "for i in range(coverages.shape[-1]):\n",
    "\n",
    "    bg_colors = cycle(plotly.colors.qualitative.Pastel2)\n",
    "\n",
    "    r2_data = pd.DataFrame(r2s[:, :, i], columns = columns)\n",
    "    cov_data = pd.DataFrame(coverages[:, :, i], columns = columns)\n",
    "    width_data = pd.DataFrame(widths[:, :, i], columns = columns)\n",
    "\n",
    "    for j, model in enumerate(columns):\n",
    "\n",
    "        if j % conditional_scores == 0:\n",
    "            colors = cycle(plotly.colors.DEFAULT_PLOTLY_COLORS)\n",
    "        color = next(colors)\n",
    "\n",
    "        fig.add_trace(go.Violin(y = cov_data[model], x0 = j, spanmode = \"hard\", line_color = color, showlegend = False), row = i + 1, col = 1)\n",
    "        fig2.add_trace(go.Violin(y = width_data[model], x0 = j, spanmode = \"hard\", line_color = color, showlegend = False), row = i + 1, col = 1)\n",
    "        fig3.add_trace(go.Violin(y = r2_data[model], x0 = j, spanmode = \"hard\", line_color = color, showlegend = False), row = i + 1, col = 1)\n",
    "\n",
    "        if j % conditional_scores == 0:\n",
    "            bg_color = next(bg_colors)\n",
    "            fig.add_vrect(x0 = j-0.5, x1 = j+(conditional_scores-0.5), fillcolor = bg_color, layer = \"below\", line_width = 0, opacity = 0.5, row = i + 1, col = 1)\n",
    "            fig2.add_vrect(x0 = j-0.5, x1 = j+(conditional_scores-0.5), fillcolor = bg_color, layer = \"below\", line_width = 0, opacity = 0.5, row = i + 1, col = 1)\n",
    "            fig3.add_vrect(x0 = j-0.5, x1 = j+(conditional_scores-0.5), fillcolor = bg_color, layer = \"below\", line_width = 0, opacity = 0.5, row = i + 1, col = 1)\n",
    "\n",
    "            if i == 0:\n",
    "                fig.add_trace(go.Scatter(x=[None], y=[None], mode=\"markers\", name = columntext[j][0], marker = dict(size = 7, color = bg_color, symbol = 'square')), row = 1, col = 1)\n",
    "                fig2.add_trace(go.Scatter(x=[None], y=[None], mode=\"markers\", name = columntext[j][0], marker = dict(size = 7, color = bg_color, symbol = 'square')), row = 1, col = 1)\n",
    "                fig3.add_trace(go.Scatter(x=[None], y=[None], mode=\"markers\", name = columntext[j][0], marker = dict(size = 7, color = bg_color, symbol = 'square')), row = 1, col = 1)\n",
    "\n",
    "    fig.add_trace(go.Scatter(x = [-.5, len(columns)-.5], y = [1 - alpha, 1 - alpha], line = dict(dash = 'dot', color = \"red\"), name = \"Target coverage\", marker = {\"opacity\": 0}, showlegend = False), row = i+1, col = 1)\n",
    "\n",
    "figparams = {\"yaxis\" + str(i+1): {\"range\": [np.floor(np.min(coverages[:, :, i]) * 10) / 10, np.ceil(np.max(coverages[:, :, i]) * 10) / 10]} for i in range(var_bins)}\n",
    "figparams.update({\"xaxis\" + str(i+1): {\"range\": [vals[0], vals[-1]], \"tickvals\": vals, \"ticktext\": text, \"showticklabels\": False} for i in range(var_bins-1)})\n",
    "figparams.update({\"xaxis\" + str(var_bins): {\"tickangle\": 45, \"range\": [vals[0], vals[-1]], \"tickvals\": vals, \"ticktext\": text}})\n",
    "fig.update_layout(figparams)\n",
    "fig.update_layout(width = 1000, margin = dict(l = 0, r = 0, t = 70, b = 0), title = r'$\\text{Conditional PI coverage (}\\alpha=' + str(alpha) + r'\\text{)}$')\n",
    "\n",
    "fig.write_image(folder + datasource + \"_conditional_coverage-\" + str(alpha) + \".svg\", scale = 3)\n",
    "fig.write_image(folder + datasource + \"_conditional_coverage-\" + str(alpha) + \".png\", scale = 3)\n",
    "fig.show()\n",
    "\n",
    "figparams = {\"xaxis\" + str(i+1): {\"range\": [vals[0], vals[-1]], \"tickvals\": vals, \"ticktext\": text, \"showticklabels\": False} for i in range(var_bins-1)}\n",
    "figparams.update({\"xaxis\" + str(var_bins): {\"tickangle\": 45, \"range\": [vals[0], vals[-1]], \"tickvals\": vals, \"ticktext\": text}})\n",
    "fig2.update_layout(figparams)\n",
    "fig2.update_layout(width = 1000, margin = dict(l = 0, r = 0, t = 70, b = 0), title = r'$\\text{Conditional PI width (}\\alpha=' + str(alpha) + r'\\text{)}$')\n",
    "\n",
    "fig2.write_image(folder + datasource + \"_conditional_widths-\" + str(alpha) + \".svg\", scale = 3)\n",
    "fig2.write_image(folder + datasource + \"_conditional_widths-\" + str(alpha) + \".png\", scale = 3)\n",
    "fig2.show()\n",
    "\n",
    "fig3.update_layout(figparams)\n",
    "fig3.update_layout(width = 1000, margin = dict(l = 0, r = 0, t = 70, b = 0), title = r'$\\text{Conditional }R^2\\text{-value}$')\n",
    "\n",
    "fig3.write_image(folder + datasource + \"_conditional_r2s-\" + str(alpha) + \".svg\", scale = 3)\n",
    "fig3.write_image(folder + datasource + \"_conditional_r2s-\" + str(alpha) + \".png\", scale = 3)\n",
    "fig3.show()\n",
    "\n",
    "index = []\n",
    "for j, name in enumerate(ks_names):\n",
    "    if name in [n + \"*-base\" for n in mergers] or(not \"*\" in name and name not in [n + \"-base\" for n in mergers]):\n",
    "        index.append(j)\n",
    "\n",
    "columns = [ks_names[i].replace(\"*\", \"\") for i in index]\n",
    "columntext = []\n",
    "for c in columns:\n",
    "    text = c.split(\"-\")\n",
    "    columntext.append((text[0], text[1]))\n",
    "\n",
    "ks_ = ks[:, index, :]\n",
    "\n",
    "text = [\"\"]\n",
    "text.extend([c[1] for c in columntext])\n",
    "text.append(\"\")\n",
    "vals = [-.5]\n",
    "vals.extend(range(len(columns)))\n",
    "vals.append(len(columns) - 0.5)\n",
    "\n",
    "groups = len(text) // 4\n",
    "\n",
    "with open(folder + datasource + \"_ks.txt\", \"w+\") as file:\n",
    "\n",
    "    for i in range(ks.shape[-1]-1):\n",
    "\n",
    "        colors = cycle(plotly.colors.DEFAULT_PLOTLY_COLORS)\n",
    "        bg_colors = cycle(plotly.colors.qualitative.Pastel2)\n",
    "        ks_data = pd.DataFrame(ks_[:, :, i], columns = columns)\n",
    "\n",
    "        for j, model in enumerate(columns):\n",
    "\n",
    "            if j % 3 == 0:\n",
    "                colors = cycle(plotly.colors.DEFAULT_PLOTLY_COLORS)\n",
    "\n",
    "            color = next(colors)\n",
    "            fig_ks.add_trace(go.Violin(y = ks_data[model], x0 = j, spanmode = \"hard\", line_color = color, showlegend = False), row = i+1, col = 1)\n",
    "\n",
    "            if j % 3 == 0:\n",
    "                color = next(bg_colors)\n",
    "                fig_ks.add_vrect(x0 = j-0.5, x1 = j+(3-0.5), fillcolor = color, layer = \"below\", line_width = 0, opacity = 0.5)\n",
    "\n",
    "                if i == 0:\n",
    "                    fig_ks.add_trace(go.Scatter(x=[None], y=[None], mode=\"markers\", name = columntext[j][0], marker = dict(size = 7, color = color, symbol = 'square')), row = i+1, col = 1)\n",
    "\n",
    "            file.write(model + str(np.mean(ks_data[model] > 0.05)) + \"\\n\")\n",
    "    \n",
    "    colors = cycle(plotly.colors.DEFAULT_PLOTLY_COLORS)\n",
    "    bg_colors = cycle(plotly.colors.qualitative.Pastel2)\n",
    "    ks_data = pd.DataFrame(ks_[:, :, -1], columns = columns)\n",
    "\n",
    "    for j, model in enumerate(columns):\n",
    "\n",
    "        if j % 3 == 0:\n",
    "            colors = cycle(plotly.colors.DEFAULT_PLOTLY_COLORS)\n",
    "\n",
    "        color = next(colors)\n",
    "        fig_ks.add_trace(go.Violin(y = ks_data[model], x0 = j, spanmode = \"hard\", line_color = color, showlegend = False), row = ks.shape[-1], col = 1)\n",
    "\n",
    "        if j % 3 == 0:\n",
    "            color = next(bg_colors)\n",
    "            fig_ks.add_vrect(x0 = j-0.5, x1 = j+(3-0.5), fillcolor = color, layer = \"below\", line_width = 0, opacity = 0.5)\n",
    "\n",
    "        file.write(model + str(np.mean(ks_data[model] > 0.05)) + \"\\n\")\n",
    "\n",
    "figparams = {\"yaxis\" + str(i+1):{\"range\":[np.floor(np.min(ks[:, :, i]) * 10) / 10, np.ceil(np.max(ks[:, :, i]) * 10) / 10]} for i in range(var_bins-1)}\n",
    "figparams.update({\"xaxis\" + str(i+1):{\"range\": [vals[0], vals[-1]], \"tickvals\": vals, \"ticktext\": text, \"showticklabels\": False} for i in range(var_bins-1)})\n",
    "figparams.update({\"xaxis\" + str(var_bins): {\"tickangle\": 45, \"range\": [vals[0], vals[-1]], \"tickvals\": vals, \"ticktext\": text}})\n",
    "fig_ks.update_layout(figparams)\n",
    "fig_ks.update_layout(width = 300 * groups, margin = dict(l = 0, r = 0, t = 50, b = 0), title = r'$\\text{KS statistic}$')\n",
    "\n",
    "fig_ks.write_image(folder + datasource + \"_ks.svg\", scale = 3)\n",
    "fig_ks.write_image(folder + datasource + \"_ks.png\", scale = 3)\n",
    "fig_ks.show()"
   ]
  },
  {
   "cell_type": "code",
   "execution_count": null,
   "id": "d6171fde",
   "metadata": {},
   "outputs": [],
   "source": []
  }
 ],
 "metadata": {
  "kernelspec": {
   "display_name": "main",
   "language": "python",
   "name": "python3"
  },
  "language_info": {
   "codemirror_mode": {
    "name": "ipython",
    "version": 3
   },
   "file_extension": ".py",
   "mimetype": "text/x-python",
   "name": "python",
   "nbconvert_exporter": "python",
   "pygments_lexer": "ipython3",
   "version": "3.10.11"
  },
  "vscode": {
   "interpreter": {
    "hash": "e8e1ad7a0b4f0e1e85e724d1a6f3e82175b01d39b686051f3ce17a1c6f9ee225"
   }
  }
 },
 "nbformat": 4,
 "nbformat_minor": 5
}
